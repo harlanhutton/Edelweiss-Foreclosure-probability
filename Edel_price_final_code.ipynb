{
 "cells": [
  {
   "cell_type": "markdown",
   "metadata": {},
   "source": [
    "# LSTM Model"
   ]
  },
  {
   "cell_type": "code",
   "execution_count": 0,
   "metadata": {
    "colab": {},
    "colab_type": "code",
    "id": "FPckQkmrkXO5"
   },
   "outputs": [],
   "source": [
    "import gc\n",
    "import time\n",
    "import numpy as np\n",
    "import pandas as pd\n",
    "`\n",
    "from scipy.sparse import csr_matrix, hstack\n",
    "\n",
    "from sklearn.linear_model import Ridge\n",
    "from sklearn.feature_extraction.text import CountVectorizer, TfidfVectorizer\n",
    "from sklearn.preprocessing import LabelBinarizer\n",
    "from sklearn.model_selection import train_test_split, cross_val_score\n",
    "import lightgbm as lgb\n",
    "\n",
    "from sklearn.metrics import mean_squared_error\n",
    "from sklearn.model_selection import train_test_split\n",
    "from sklearn.metrics import (roc_curve, auc, accuracy_score)\n",
    "from sklearn.model_selection import GridSearchCV\n",
    "from math import sqrt\n",
    "from matplotlib import pyplot\n",
    "from sklearn.preprocessing import MinMaxScaler\n",
    "from sklearn.preprocessing import LabelEncoder\n",
    "from sklearn.metrics import mean_squared_error\n",
    "from keras.models import Sequential\n",
    "from keras.layers import Dense\n",
    "from keras.layers.core import Dense, Activation, Dropout\n",
    "from keras.layers import LSTM\n",
    "from random import random\n",
    "from keras.layers import TimeDistributed\n",
    "from keras.layers import Bidirectional\n",
    " "
   ]
  },
  {
   "cell_type": "code",
   "execution_count": 3,
   "metadata": {
    "colab": {
     "base_uri": "https://localhost:8080/",
     "height": 92
    },
    "colab_type": "code",
    "id": "0ZgCiRmIklfA",
    "outputId": "8bc05161-4251-4f01-8140-75480dd4071a"
   },
   "outputs": [
    {
     "name": "stderr",
     "output_type": "stream",
     "text": [
      "/usr/local/lib/python3.6/dist-packages/IPython/core/interactiveshell.py:2718: DtypeWarning: Columns (46) have mixed types. Specify dtype option on import or set low_memory=False.\n",
      "  interactivity=interactivity, compiler=compiler, result=result)\n"
     ]
    },
    {
     "name": "stdout",
     "output_type": "stream",
     "text": [
      "(1157424, 51)\n"
     ]
    }
   ],
   "source": [
    "import pandas as pd\n",
    "\n",
    "\n",
    "train1 =  pd.read_csv('D:/Prasanna/Edel/dataset/train/train1.csv')\n",
    "train2 =  pd.read_csv('D:/Prasanna/Edel/dataset/train/train2.csv')\n",
    "train3 =  pd.read_csv('D:/Prasanna/Edel/dataset/train/train3.csv')\n",
    "train = pd.concat([train1,train2,train3])\n",
    "print(train.shape)\n",
    "train.head()\n",
    "train.reset_index(inplace=True, drop=True)"
   ]
  },
  {
   "cell_type": "code",
   "execution_count": 0,
   "metadata": {
    "colab": {},
    "colab_type": "code",
    "id": "kuIjy0m4kpaf"
   },
   "outputs": [],
   "source": [
    "del train1,train2,train3"
   ]
  },
  {
   "cell_type": "code",
   "execution_count": 5,
   "metadata": {
    "colab": {
     "base_uri": "https://localhost:8080/",
     "height": 1018
    },
    "colab_type": "code",
    "collapsed": true,
    "id": "rrFgGUytku6M",
    "outputId": "83fec892-c791-483f-f0ee-99d61671cfcb"
   },
   "outputs": [
    {
     "name": "stderr",
     "output_type": "stream",
     "text": [
      "/usr/local/lib/python3.6/dist-packages/IPython/core/interactiveshell.py:2718: DtypeWarning: Columns (45) have mixed types. Specify dtype option on import or set low_memory=False.\n",
      "  interactivity=interactivity, compiler=compiler, result=result)\n"
     ]
    },
    {
     "name": "stdout",
     "output_type": "stream",
     "text": [
      "(423088, 50)\n"
     ]
    },
    {
     "data": {
      "text/plain": [
       "UID           object\n",
       "Date          object\n",
       "Time          object\n",
       "Symbol        object\n",
       "Feature1     float64\n",
       "Feature2     float64\n",
       "Feature3     float64\n",
       "Feature4     float64\n",
       "Feature5     float64\n",
       "Feature6     float64\n",
       "Feature7     float64\n",
       "Feature8     float64\n",
       "Feature9     float64\n",
       "Feature10    float64\n",
       "Feature11    float64\n",
       "Feature12    float64\n",
       "Feature13    float64\n",
       "Feature14    float64\n",
       "Feature15    float64\n",
       "Feature16    float64\n",
       "Feature17    float64\n",
       "Feature18    float64\n",
       "Feature19    float64\n",
       "Feature20    float64\n",
       "Feature21    float64\n",
       "Feature22    float64\n",
       "Feature23    float64\n",
       "Feature24    float64\n",
       "Feature25    float64\n",
       "Feature26    float64\n",
       "Feature27    float64\n",
       "Feature28    float64\n",
       "Feature29    float64\n",
       "Feature30    float64\n",
       "Feature31    float64\n",
       "Feature32    float64\n",
       "Feature33    float64\n",
       "Feature34    float64\n",
       "Feature35    float64\n",
       "Feature36    float64\n",
       "Feature37    float64\n",
       "Feature38    float64\n",
       "Feature39    float64\n",
       "Feature40    float64\n",
       "Feature41    float64\n",
       "Feature42     object\n",
       "Feature43    float64\n",
       "Feature44    float64\n",
       "Feature45    float64\n",
       "Feature46    float64\n",
       "dtype: object"
      ]
     },
     "execution_count": 5,
     "metadata": {
      "tags": []
     },
     "output_type": "execute_result"
    }
   ],
   "source": [
    "test1 = pd.read_csv('D:/Prasanna/Edel/dataset/test/test1.csv')\n",
    "test2 = pd.read_csv('D:/Prasanna/Edel/dataset/test/test2.csv')\n",
    "test3 = pd.read_csv('D:/Prasanna/Edel/dataset/test/test3.csv')\n",
    "\n",
    "test = pd.concat([test1,test2,test3])\n",
    "print(test.shape)\n",
    "test.dtypes"
   ]
  },
  {
   "cell_type": "code",
   "execution_count": 0,
   "metadata": {
    "colab": {},
    "colab_type": "code",
    "id": "PJq8qEd_k1wf"
   },
   "outputs": [],
   "source": [
    "test.reset_index(inplace=True, drop=True)\n",
    "del test1,test2,test3"
   ]
  },
  {
   "cell_type": "code",
   "execution_count": 0,
   "metadata": {
    "colab": {},
    "colab_type": "code",
    "id": "yLpWPANJk6Cx"
   },
   "outputs": [],
   "source": [
    "train[\"Feature42\"] = train[\"Feature42\"].str.replace(\"Inf\", \"inf\")\n",
    "train[\"Feature42\"] = train[\"Feature42\"].str.replace(\"#NAME?\", \"\")\n",
    "train[\"Feature42\"] = train[\"Feature42\"].str.replace(\"?\", \"\")\n",
    "train[\"Feature42\"] = pd.to_numeric(train[\"Feature42\"])"
   ]
  },
  {
   "cell_type": "code",
   "execution_count": 0,
   "metadata": {
    "colab": {},
    "colab_type": "code",
    "id": "Uh2Njb88k62L"
   },
   "outputs": [],
   "source": [
    "test[\"Feature42\"] = test[\"Feature42\"].str.replace(\"Inf\", \"inf\")\n",
    "test[\"Feature42\"] = test[\"Feature42\"].str.replace(\"#NAME?\", \"\")\n",
    "test[\"Feature42\"] = test[\"Feature42\"].str.replace(\"?\", \"\")\n",
    "test[\"Feature42\"] = pd.to_numeric(test[\"Feature42\"])"
   ]
  },
  {
   "cell_type": "code",
   "execution_count": 0,
   "metadata": {
    "colab": {},
    "colab_type": "code",
    "id": "0sH013Nqk_J3"
   },
   "outputs": [],
   "source": [
    "train = train.replace([np.inf, -np.inf], np.nan).fillna(method = 'bfill')\n",
    "train = train.replace([np.inf, -np.inf], np.nan).fillna(method = 'ffill')\n",
    "test  = test.replace([np.inf, -np.inf], np.nan).fillna(method = 'bfill')\n",
    "test  = test.replace([np.inf, -np.inf], np.nan).fillna(method = 'ffill')"
   ]
  },
  {
   "cell_type": "code",
   "execution_count": 10,
   "metadata": {
    "colab": {
     "base_uri": "https://localhost:8080/",
     "height": 55
    },
    "colab_type": "code",
    "collapsed": true,
    "id": "CZsDPxSGfqRc",
    "outputId": "dfbea923-af58-4bfb-fad8-881d3fa85ad3"
   },
   "outputs": [
    {
     "name": "stdout",
     "output_type": "stream",
     "text": [
      "['Feature1', 'Feature2', 'Feature3', 'Feature4', 'Feature5', 'Feature6', 'Feature7', 'Feature8', 'Feature9', 'Feature10', 'Feature11', 'Feature12', 'Feature13', 'Feature14', 'Feature15', 'Feature16', 'Feature17', 'Feature18', 'Feature19', 'Feature20', 'Feature21', 'Feature22', 'Feature23', 'Feature24', 'Feature25', 'Feature26', 'Feature27', 'Feature28', 'Feature29', 'Feature30', 'Feature31', 'Feature32', 'Feature33', 'Feature34', 'Feature35', 'Feature36', 'Feature37', 'Feature38', 'Feature39', 'Feature40', 'Feature41', 'Feature42', 'Feature43', 'Feature44', 'Feature45', 'Feature46']\n"
     ]
    }
   ],
   "source": [
    "num_cols = []\n",
    "\n",
    "for i in train.columns:\n",
    "    if i == 'MidPrice':\n",
    "         continue\n",
    "    if train.dtypes[i] == 'float64':\n",
    "        num_cols.append(i)\n",
    "    \n",
    "print(num_cols)"
   ]
  },
  {
   "cell_type": "code",
   "execution_count": 11,
   "metadata": {
    "colab": {
     "base_uri": "https://localhost:8080/",
     "height": 217
    },
    "colab_type": "code",
    "collapsed": true,
    "id": "Cb-5BCZMfx3W",
    "outputId": "17c8a79d-6bb5-4256-b488-31d546004a62"
   },
   "outputs": [
    {
     "name": "stdout",
     "output_type": "stream",
     "text": [
      "   Feature1  Feature2  Feature3  Feature4  Feature5  Feature6  Feature7  \\\n",
      "0  0.556213  0.504202  0.996146  0.993157  1.003206  0.995698  0.996728   \n",
      "\n",
      "   Feature8  Feature9  Feature10    ...      Feature37  Feature38  Feature39  \\\n",
      "0  0.996247 -0.308824  -0.302752    ...       1.016019   1.053254   0.942061   \n",
      "\n",
      "   Feature40  Feature41  Feature42  Feature43  Feature44  Feature45  Feature46  \n",
      "0    0.81177   0.735862   0.965035   0.901639   0.592593   0.463768   0.373913  \n",
      "\n",
      "[1 rows x 46 columns]\n"
     ]
    },
    {
     "data": {
      "text/plain": [
       "(1580512, 46)"
      ]
     },
     "execution_count": 11,
     "metadata": {
      "tags": []
     },
     "output_type": "execute_result"
    }
   ],
   "source": [
    "from sklearn.preprocessing import StandardScaler\n",
    "combined=pd.DataFrame()\n",
    "combined = train[num_cols].append(test[num_cols])\n",
    "print(combined.head(1))\n",
    "\n",
    "scaler = StandardScaler()\n",
    "combined = pd.DataFrame(scaler.fit_transform(combined))\n",
    "combined.columns = [num_cols]\n",
    "combined.head()\n",
    "combined.shape"
   ]
  },
  {
   "cell_type": "code",
   "execution_count": 12,
   "metadata": {
    "colab": {
     "base_uri": "https://localhost:8080/",
     "height": 1071
    },
    "colab_type": "code",
    "collapsed": true,
    "id": "H6lIv1HgQMlF",
    "outputId": "7c032695-bb20-4d58-fe67-6330e092eba3"
   },
   "outputs": [
    {
     "name": "stdout",
     "output_type": "stream",
     "text": [
      "                        UID        Date   Time  MidPrice   Symbol  Feature1  \\\n",
      "0  04-01-2015 09:20 und_109  04-01-2015  09:20   1701.00  und_109  0.556213   \n",
      "1  04-01-2015 09:25 und_109  04-01-2015  09:25   1696.55  und_109  0.551020   \n",
      "2  04-01-2015 09:30 und_109  04-01-2015  09:30   1699.65  und_109  0.611111   \n",
      "3  04-01-2015 09:35 und_109  04-01-2015  09:35   1697.05  und_109  0.538462   \n",
      "4  04-01-2015 09:40 und_109  04-01-2015  09:40   1695.40  und_109  0.598086   \n",
      "\n",
      "   Feature2  Feature3  Feature4  Feature5    ...      Feature37  Feature38  \\\n",
      "0  0.504202  0.996146  0.993157  1.003206    ...       1.016019   1.053254   \n",
      "1  0.450704  0.997270  0.993206  0.999403    ...       1.016547   1.051948   \n",
      "2  0.520548  0.995962  0.993040  1.001903    ...       1.016253   1.005376   \n",
      "3  0.441558  0.996669  0.995334  1.005164    ...       1.017669   1.028846   \n",
      "4  0.506410  0.994673  0.991444  1.002091    ...       1.015709   0.966139   \n",
      "\n",
      "   Feature39  Feature40  Feature41  Feature42  Feature43  Feature44  \\\n",
      "0   0.942061   0.811770   0.735862   0.965035   0.901639   0.592593   \n",
      "1   0.860435   0.890110   0.728061   0.965035   1.064024   0.500000   \n",
      "2   0.853699   0.850242   0.724241   0.965035   1.240418   0.750000   \n",
      "3   0.843867   0.777778   0.637807   0.965035   1.291815   0.500000   \n",
      "4   0.818047   0.777512   0.658333   0.965035   1.589147   0.575758   \n",
      "\n",
      "   Feature45  Feature46  \n",
      "0   0.463768   0.373913  \n",
      "1   0.410959   0.445255  \n",
      "2   0.594203   0.517730  \n",
      "3   0.426667   0.344595  \n",
      "4   0.554054   0.410596  \n",
      "\n",
      "[5 rows x 51 columns]\n",
      "                        UID        Date   Time  MidPrice   Symbol  Feature1  \\\n",
      "0  04-01-2015 09:20 und_109  04-01-2015  09:20   1701.00  und_109 -0.462697   \n",
      "1  04-01-2015 09:25 und_109  04-01-2015  09:25   1696.55  und_109 -0.472306   \n",
      "2  04-01-2015 09:30 und_109  04-01-2015  09:30   1699.65  und_109 -0.361113   \n",
      "3  04-01-2015 09:35 und_109  04-01-2015  09:35   1697.05  und_109 -0.495545   \n",
      "4  04-01-2015 09:40 und_109  04-01-2015  09:40   1695.40  und_109 -0.385215   \n",
      "\n",
      "   Feature2  Feature3  Feature4  Feature5    ...      Feature37  Feature38  \\\n",
      "0 -0.625944 -0.163031 -0.837737  0.169524    ...      -0.139836   0.136232   \n",
      "1 -0.769571 -0.078644 -0.828365  0.003509    ...      -0.063545   0.133315   \n",
      "2 -0.582059 -0.176807 -0.859965  0.112641    ...      -0.106026   0.029304   \n",
      "3 -0.794125 -0.123734 -0.422721  0.255002    ...       0.098693   0.081720   \n",
      "4 -0.620015 -0.273585 -1.164309  0.120844    ...      -0.184698  -0.058326   \n",
      "\n",
      "   Feature39  Feature40  Feature41  Feature42  Feature43  Feature44  \\\n",
      "0   0.178120  -0.245788  -0.293775  -0.054503  -0.191911  -0.428877   \n",
      "1  -0.158844  -0.052912  -0.309895  -0.054503  -0.148765  -0.640764   \n",
      "2  -0.186654  -0.151070  -0.317788  -0.054503  -0.101896  -0.068668   \n",
      "3  -0.227240  -0.329479  -0.496383  -0.054503  -0.088240  -0.640764   \n",
      "4  -0.333828  -0.330134  -0.453969  -0.054503  -0.009238  -0.467402   \n",
      "\n",
      "   Feature45  Feature46  \n",
      "0  -0.698008  -0.960954  \n",
      "1  -0.835532  -0.769929  \n",
      "2  -0.358335  -0.575872  \n",
      "3  -0.794626  -1.039457  \n",
      "4  -0.462889  -0.862733  \n",
      "\n",
      "[5 rows x 51 columns]\n"
     ]
    }
   ],
   "source": [
    "combined.shape\n",
    "print(train.head())\n",
    "train[num_cols] = combined.iloc[:train.shape[0],:]\n",
    "print(train.head())\n",
    "test[num_cols] = combined.iloc[train.shape[0]:,:].reset_index(drop = True)"
   ]
  },
  {
   "cell_type": "code",
   "execution_count": 0,
   "metadata": {
    "colab": {},
    "colab_type": "code",
    "id": "MTO17wyWZIvs"
   },
   "outputs": [],
   "source": [
    "train = train.sort_values(['Symbol', 'Date','Time'], ascending=[True,True,True])\n",
    "test = test.sort_values(['Symbol', 'Date','Time'], ascending=[True,True,True])"
   ]
  },
  {
   "cell_type": "code",
   "execution_count": 0,
   "metadata": {
    "colab": {},
    "colab_type": "code",
    "id": "W4pg7aiqkKWt"
   },
   "outputs": [],
   "source": [
    "test['F1lag']=test['Feature1'].shift(-1)\n",
    "test['F2lag']=test['Feature2'].shift(-1)\n",
    "test['F3lag']=test['Feature3'].shift(-1)\n",
    "test['F4lag']=test['Feature4'].shift(-1)\n",
    "test['F5lag']=test['Feature5'].shift(-1)\n",
    "test['F6lag']=test['Feature6'].shift(-1)\n",
    "test['F7lag']=test['Feature7'].shift(-1)\n",
    "test['F8lag']=test['Feature8'].shift(-1)\n",
    "test['F9lag']=test['Feature9'].shift(-1)\n",
    "test['F10lag']=test['Feature10'].shift(-1)\n",
    "test['F11lag']=test['Feature11'].shift(-1)\n",
    "test['F12lag']=test['Feature12'].shift(-1)\n",
    "test['F13lag']=test['Feature13'].shift(-1)\n",
    "test['F14lag']=test['Feature14'].shift(-1)\n",
    "test['F15lag']=test['Feature15'].shift(-1)\n",
    "test['F16lag']=test['Feature16'].shift(-1)\n",
    "test['F17lag']=test['Feature17'].shift(-1)\n",
    "test['F18lag']=test['Feature18'].shift(-1)\n",
    "test['F19lag']=test['Feature19'].shift(-1)\n",
    "test['F20lag']=test['Feature20'].shift(-1)\n",
    "test['F21lag']=test['Feature21'].shift(-1)\n",
    "test['F22lag']=test['Feature22'].shift(-1)\n",
    "test['F23lag']=test['Feature23'].shift(-1)\n",
    "test['F24lag']=test['Feature24'].shift(-1)\n",
    "test['F25lag']=test['Feature25'].shift(-1)\n",
    "test['F26lag']=test['Feature26'].shift(-1)\n",
    "test['F27lag']=test['Feature27'].shift(-1)\n",
    "test['F28lag']=test['Feature28'].shift(-1)\n",
    "test['F29lag']=test['Feature29'].shift(-1)\n",
    "test['F30lag']=test['Feature30'].shift(-1)\n",
    "test['F31lag']=test['Feature31'].shift(-1)\n",
    "test['F32lag']=test['Feature32'].shift(-1)\n",
    "test['F33lag']=test['Feature33'].shift(-1)\n",
    "test['F34lag']=test['Feature34'].shift(-1)\n",
    "test['F35lag']=test['Feature35'].shift(-1)\n",
    "test['F36lag']=test['Feature36'].shift(-1)\n",
    "test['F37lag']=test['Feature37'].shift(-1)\n",
    "test['F38lag']=test['Feature38'].shift(-1)\n",
    "test['F39lag']=test['Feature39'].shift(-1)\n",
    "test['F40lag']=test['Feature40'].shift(-1)\n",
    "test['F41lag']=test['Feature41'].shift(-1)\n",
    "test['F42lag']=test['Feature42'].shift(-1)\n",
    "test['F43lag']=test['Feature43'].shift(-1)\n",
    "test['F44lag']=test['Feature44'].shift(-1)\n",
    "test['F45lag']=test['Feature45'].shift(-1)\n",
    "test['F46lag']=test['Feature46'].shift(-1)\n",
    "\n",
    "test['F1lagf']=test['Feature1'].shift(-3)\n",
    "test['F2lagf']=test['Feature2'].shift(-3)\n",
    "test['F3lagf']=test['Feature3'].shift(-3)\n",
    "test['F4lagf']=test['Feature4'].shift(-3)\n",
    "test['F5lagf']=test['Feature5'].shift(-3)\n",
    "test['F6lagf']=test['Feature6'].shift(-3)\n",
    "test['F7lagf']=test['Feature7'].shift(-3)\n",
    "test['F8lagf']=test['Feature8'].shift(-3)\n",
    "test['F9lagf']=test['Feature9'].shift(-3)\n",
    "test['F10lagf']=test['Feature10'].shift(-3)\n",
    "test['F11lagf']=test['Feature11'].shift(-3)\n",
    "test['F12lagf']=test['Feature12'].shift(-3)\n",
    "test['F13lagf']=test['Feature13'].shift(-3)\n",
    "test['F14lagf']=test['Feature14'].shift(-3)\n",
    "test['F15lagf']=test['Feature15'].shift(-3)\n",
    "test['F16lagf']=test['Feature16'].shift(-3)\n",
    "test['F17lagf']=test['Feature17'].shift(-3)\n",
    "test['F18lagf']=test['Feature18'].shift(-3)\n",
    "test['F19lagf']=test['Feature19'].shift(-3)\n",
    "test['F20lagf']=test['Feature20'].shift(-3)\n",
    "test['F21lagf']=test['Feature21'].shift(-3)\n",
    "test['F22lagf']=test['Feature22'].shift(-3)\n",
    "test['F23lagf']=test['Feature23'].shift(-3)\n",
    "test['F24lagf']=test['Feature24'].shift(-3)\n",
    "test['F25lagf']=test['Feature25'].shift(-3)\n",
    "test['F26lagf']=test['Feature26'].shift(-3)\n",
    "test['F27lagf']=test['Feature27'].shift(-3)\n",
    "test['F28lagf']=test['Feature28'].shift(-3)\n",
    "test['F29lagf']=test['Feature29'].shift(-3)\n",
    "test['F30lagf']=test['Feature30'].shift(-3)\n",
    "test['F31lagf']=test['Feature31'].shift(-3)\n",
    "test['F32lagf']=test['Feature32'].shift(-3)\n",
    "test['F33lagf']=test['Feature33'].shift(-3)\n",
    "test['F34lagf']=test['Feature34'].shift(-3)\n",
    "test['F35lagf']=test['Feature35'].shift(-3)\n",
    "test['F36lagf']=test['Feature36'].shift(-3)\n",
    "test['F37lagf']=test['Feature37'].shift(-3)\n",
    "test['F38lagf']=test['Feature38'].shift(-3)\n",
    "test['F39lagf']=test['Feature39'].shift(-3)\n",
    "test['F40lagf']=test['Feature40'].shift(-3)\n",
    "test['F41lagf']=test['Feature41'].shift(-3)\n",
    "test['F42lagf']=test['Feature42'].shift(-3)\n",
    "test['F43lagf']=test['Feature43'].shift(-3)\n",
    "test['F44lagf']=test['Feature44'].shift(-3)\n",
    "test['F45lagf']=test['Feature45'].shift(-3)\n",
    "test['F46lagf']=test['Feature46'].shift(-3)\n"
   ]
  },
  {
   "cell_type": "code",
   "execution_count": 0,
   "metadata": {
    "colab": {},
    "colab_type": "code",
    "id": "AH0mxkUZkdID"
   },
   "outputs": [],
   "source": [
    "train['F1lag']=train['Feature1'].shift(-1)\n",
    "train['F2lag']=train['Feature2'].shift(-1)\n",
    "train['F3lag']=train['Feature3'].shift(-1)\n",
    "train['F4lag']=train['Feature4'].shift(-1)\n",
    "train['F5lag']=train['Feature5'].shift(-1)\n",
    "train['F6lag']=train['Feature6'].shift(-1)\n",
    "train['F7lag']=train['Feature7'].shift(-1)\n",
    "train['F8lag']=train['Feature8'].shift(-1)\n",
    "train['F9lag']=train['Feature9'].shift(-1)\n",
    "train['F10lag']=train['Feature10'].shift(-1)\n",
    "train['F11lag']=train['Feature11'].shift(-1)\n",
    "train['F12lag']=train['Feature12'].shift(-1)\n",
    "train['F13lag']=train['Feature13'].shift(-1)\n",
    "train['F14lag']=train['Feature14'].shift(-1)\n",
    "train['F15lag']=train['Feature15'].shift(-1)\n",
    "train['F16lag']=train['Feature16'].shift(-1)\n",
    "train['F17lag']=train['Feature17'].shift(-1)\n",
    "train['F18lag']=train['Feature18'].shift(-1)\n",
    "train['F19lag']=train['Feature19'].shift(-1)\n",
    "train['F20lag']=train['Feature20'].shift(-1)\n",
    "train['F21lag']=train['Feature21'].shift(-1)\n",
    "train['F22lag']=train['Feature22'].shift(-1)\n",
    "train['F23lag']=train['Feature23'].shift(-1)\n",
    "train['F24lag']=train['Feature24'].shift(-1)\n",
    "train['F25lag']=train['Feature25'].shift(-1)\n",
    "train['F26lag']=train['Feature26'].shift(-1)\n",
    "train['F27lag']=train['Feature27'].shift(-1)\n",
    "train['F28lag']=train['Feature28'].shift(-1)\n",
    "train['F29lag']=train['Feature29'].shift(-1)\n",
    "train['F30lag']=train['Feature30'].shift(-1)\n",
    "train['F31lag']=train['Feature31'].shift(-1)\n",
    "train['F32lag']=train['Feature32'].shift(-1)\n",
    "train['F33lag']=train['Feature33'].shift(-1)\n",
    "train['F34lag']=train['Feature34'].shift(-1)\n",
    "train['F35lag']=train['Feature35'].shift(-1)\n",
    "train['F36lag']=train['Feature36'].shift(-1)\n",
    "train['F37lag']=train['Feature37'].shift(-1)\n",
    "train['F38lag']=train['Feature38'].shift(-1)\n",
    "train['F39lag']=train['Feature39'].shift(-1)\n",
    "train['F40lag']=train['Feature40'].shift(-1)\n",
    "train['F41lag']=train['Feature41'].shift(-1)\n",
    "train['F42lag']=train['Feature42'].shift(-1)\n",
    "train['F43lag']=train['Feature43'].shift(-1)\n",
    "train['F44lag']=train['Feature44'].shift(-1)\n",
    "train['F45lag']=train['Feature45'].shift(-1)\n",
    "train['F46lag']=train['Feature46'].shift(-1)\n",
    "\n",
    "train['F1lagf']=train['Feature1'].shift(-3)\n",
    "train['F2lagf']=train['Feature2'].shift(-3)\n",
    "train['F3lagf']=train['Feature3'].shift(-3)\n",
    "train['F4lagf']=train['Feature4'].shift(-3)\n",
    "train['F5lagf']=train['Feature5'].shift(-3)\n",
    "train['F6lagf']=train['Feature6'].shift(-3)\n",
    "train['F7lagf']=train['Feature7'].shift(-3)\n",
    "train['F8lagf']=train['Feature8'].shift(-3)\n",
    "train['F9lagf']=train['Feature9'].shift(-3)\n",
    "train['F10lagf']=train['Feature10'].shift(-3)\n",
    "train['F11lagf']=train['Feature11'].shift(-3)\n",
    "train['F12lagf']=train['Feature12'].shift(-3)\n",
    "train['F13lagf']=train['Feature13'].shift(-3)\n",
    "train['F14lagf']=train['Feature14'].shift(-3)\n",
    "train['F15lagf']=train['Feature15'].shift(-3)\n",
    "train['F16lagf']=train['Feature16'].shift(-3)\n",
    "train['F17lagf']=train['Feature17'].shift(-3)\n",
    "train['F18lagf']=train['Feature18'].shift(-3)\n",
    "train['F19lagf']=train['Feature19'].shift(-3)\n",
    "train['F20lagf']=train['Feature20'].shift(-3)\n",
    "train['F21lagf']=train['Feature21'].shift(-3)\n",
    "train['F22lagf']=train['Feature22'].shift(-3)\n",
    "train['F23lagf']=train['Feature23'].shift(-3)\n",
    "train['F24lagf']=train['Feature24'].shift(-3)\n",
    "train['F25lagf']=train['Feature25'].shift(-3)\n",
    "train['F26lagf']=train['Feature26'].shift(-3)\n",
    "train['F27lagf']=train['Feature27'].shift(-3)\n",
    "train['F28lagf']=train['Feature28'].shift(-3)\n",
    "train['F29lagf']=train['Feature29'].shift(-3)\n",
    "train['F30lagf']=train['Feature30'].shift(-3)\n",
    "train['F31lagf']=train['Feature31'].shift(-3)\n",
    "train['F32lagf']=train['Feature32'].shift(-3)\n",
    "train['F33lagf']=train['Feature33'].shift(-3)\n",
    "train['F34lagf']=train['Feature34'].shift(-3)\n",
    "train['F35lagf']=train['Feature35'].shift(-3)\n",
    "train['F36lagf']=train['Feature36'].shift(-3)\n",
    "train['F37lagf']=train['Feature37'].shift(-3)\n",
    "train['F38lagf']=train['Feature38'].shift(-3)\n",
    "train['F39lagf']=train['Feature39'].shift(-3)\n",
    "train['F40lagf']=train['Feature40'].shift(-3)\n",
    "train['F41lagf']=train['Feature41'].shift(-3)\n",
    "train['F42lagf']=train['Feature42'].shift(-3)\n",
    "train['F43lagf']=train['Feature43'].shift(-3)\n",
    "train['F44lagf']=train['Feature44'].shift(-3)\n",
    "train['F45lagf']=train['Feature45'].shift(-3)\n",
    "train['F46lagf']=train['Feature46'].shift(-3)\n",
    "\n"
   ]
  },
  {
   "cell_type": "code",
   "execution_count": null,
   "metadata": {
    "colab": {
     "base_uri": "https://localhost:8080/",
     "height": 11383
    },
    "colab_type": "code",
    "id": "e6LTYaB6lztl",
    "outputId": "ad8ba6cb-f30b-4884-c8a9-31e5817717a6"
   },
   "outputs": [],
   "source": [
    "ustocks = test['Symbol'].unique()\n",
    "\n",
    "test_pred = pd.DataFrame()\n",
    "for stock in ustocks:\n",
    "    if stock == 'und_70':\n",
    "        continue\n",
    "    print(stock)\n",
    "    newtrain = train[train['Symbol'] == stock]\n",
    "    newtrain = newtrain.sort_values(['Symbol', 'Date','Time'], ascending=[True,True,True])\n",
    "    print(newtrain.shape)\n",
    "    newtest = test[test['Symbol'] == stock]\n",
    "    newtest = newtest.sort_values(['Symbol', 'Date','Time'], ascending=[True,True,True])\n",
    "    print(newtest.shape)\n",
    "    # load dataset\n",
    "    dataset = newtrain.iloc[:,[3] + list(range(5,143))]\n",
    "    print(dataset.head(1))\n",
    "    # dataset = dataset.select_dtypes(['number']) \n",
    "    values = dataset.values\n",
    "    # integer encode direction\n",
    "#     encoder = LabelEncoder()\n",
    "#     values[:,1] = encoder.fit_transform(values[:,1])\n",
    "    # ensure all data is float\n",
    "    values = values.astype('float32')\n",
    "    X, y = values[:,1:],np.log1p(values[:,0])\n",
    "    train_X, test_X, train_y, test_y = train_test_split(X, y, test_size = 0.1, random_state = 11)\n",
    "    # reshape input to be 3D [samples, timesteps, features]\n",
    "    train_X = train_X.reshape((train_X.shape[0], 3, 46))\n",
    "    test_X = test_X.reshape((test_X.shape[0], 3,46))\n",
    "    print(train_X.shape, train_y.shape, test_X.shape, test_y.shape)\n",
    "\n",
    "    # design network\n",
    "    model = Sequential()\n",
    "    model.add(LSTM(80, return_sequences=True, input_shape=(3,46)))\n",
    "    model.add(Dropout(0.2))\n",
    "    model.add(LSTM(50,return_sequences=True))\n",
    "    model.add(Dropout(0.2))\n",
    "    model.add(LSTM(30))\n",
    "    model.add(Dropout(0.2))\n",
    "    model.add(Dense(1))\n",
    "    model.compile(loss='mae', optimizer='adam')\n",
    "    # fit network\n",
    "    history = model.fit(train_X, train_y, epochs=400, batch_size=100, validation_data=(test_X, test_y), verbose=0, shuffle=False)\n",
    "    # plot history\n",
    "    pyplot.plot(history.history['loss'], label='train')\n",
    "    pyplot.plot(history.history['val_loss'], label='test')\n",
    "    pyplot.ylim(0, 0.05)\n",
    "    pyplot.legend()\n",
    "    pyplot.show()\n",
    "\n",
    "    newtest1 = newtest.iloc[:,range(4,142)]\n",
    "    test_values = newtest1.values\n",
    "    test_values = test_values.astype('float32')\n",
    "\n",
    "    test_X = test_values\n",
    "\n",
    "    test_X = test_X.reshape((test_X.shape[0],3,46))\n",
    "    yhat = model.predict(test_X)\n",
    "    test_X = test_X.reshape((test_X.shape[0],138))\n",
    "    # invert scaling for forecast\n",
    "    yhat = concatenate((np.expm1(yhat), newtest.iloc[:,range(4)]), axis=1)\n",
    "    test_pred1 = pd.DataFrame(yhat)\n",
    "    test_pred1['final_loss'] = history.history['val_loss'][-1]\n",
    "    test_pred = test_pred.append(test_pred1)\n",
    "    print(test_pred.shape,test_pred.tail(2))\n",
    "\n",
    "test_pred.to_csv(\"D:/Prasanna/Edel/dataset/pred_lstm_scaled_2lag_3layers.csv\")"
   ]
  },
  {
   "cell_type": "markdown",
   "metadata": {},
   "source": [
    "# LGBM Model "
   ]
  },
  {
   "cell_type": "code",
   "execution_count": 0,
   "metadata": {
    "colab": {},
    "colab_type": "code",
    "id": "haViA_exIjZF"
   },
   "outputs": [],
   "source": [
    "import gc\n",
    "import time\n",
    "import numpy as np\n",
    "import pandas as pd\n",
    "\n",
    "from scipy.sparse import csr_matrix, hstack\n",
    "\n",
    "from sklearn.linear_model import Ridge\n",
    "from sklearn.feature_extraction.text import CountVectorizer, TfidfVectorizer\n",
    "from sklearn.preprocessing import LabelBinarizer\n",
    "from sklearn.model_selection import train_test_split, cross_val_score\n",
    "import lightgbm as lgb\n",
    "\n",
    "from sklearn.metrics import mean_squared_error\n",
    "from sklearn.model_selection import train_test_split\n",
    "from sklearn.metrics import (roc_curve, auc, accuracy_score)\n",
    "from sklearn.model_selection import GridSearchCV"
   ]
  },
  {
   "cell_type": "code",
   "execution_count": null,
   "metadata": {
    "colab": {
     "base_uri": "https://localhost:8080/",
     "height": 550
    },
    "colab_type": "code",
    "id": "sUwKlhUbIjZJ",
    "outputId": "64c849f1-0aeb-459a-942e-92bef1e29410"
   },
   "outputs": [],
   "source": [
    "import pandas as pd\n",
    "\n",
    "train1 =  pd.read_csv('D:/Prasanna/Edel/dataset/train/train1.csv')\n",
    "train2 =  pd.read_csv('D:/Prasanna/Edel/dataset/train/train2.csv')\n",
    "train3 =  pd.read_csv('D:/Prasanna/Edel/dataset/train/train3.csv')\n",
    "train = pd.concat([train1,train2,train3])\n",
    "print(train.shape)\n",
    "train.head()\n",
    "train.reset_index(inplace=True, drop=True)\n"
   ]
  },
  {
   "cell_type": "code",
   "execution_count": 0,
   "metadata": {
    "colab": {
     "base_uri": "https://localhost:8080/",
     "height": 924
    },
    "colab_type": "code",
    "collapsed": true,
    "id": "6_G-iGPxIjZN",
    "outputId": "3de16f1d-fe74-4f3d-df4c-a461b956bc2b"
   },
   "outputs": [
    {
     "name": "stderr",
     "output_type": "stream",
     "text": [
      "/usr/local/lib/python3.6/dist-packages/IPython/core/interactiveshell.py:2718: DtypeWarning: Columns (45) have mixed types. Specify dtype option on import or set low_memory=False.\n",
      "  interactivity=interactivity, compiler=compiler, result=result)\n"
     ]
    },
    {
     "name": "stdout",
     "output_type": "stream",
     "text": [
      "(423088, 50)\n"
     ]
    },
    {
     "data": {
      "text/plain": [
       "UID           object\n",
       "Date          object\n",
       "Time          object\n",
       "Symbol        object\n",
       "Feature1     float64\n",
       "Feature2     float64\n",
       "Feature3     float64\n",
       "Feature4     float64\n",
       "Feature5     float64\n",
       "Feature6     float64\n",
       "Feature7     float64\n",
       "Feature8     float64\n",
       "Feature9     float64\n",
       "Feature10    float64\n",
       "Feature11    float64\n",
       "Feature12    float64\n",
       "Feature13    float64\n",
       "Feature14    float64\n",
       "Feature15    float64\n",
       "Feature16    float64\n",
       "Feature17    float64\n",
       "Feature18    float64\n",
       "Feature19    float64\n",
       "Feature20    float64\n",
       "Feature21    float64\n",
       "Feature22    float64\n",
       "Feature23    float64\n",
       "Feature24    float64\n",
       "Feature25    float64\n",
       "Feature26    float64\n",
       "Feature27    float64\n",
       "Feature28    float64\n",
       "Feature29    float64\n",
       "Feature30    float64\n",
       "Feature31    float64\n",
       "Feature32    float64\n",
       "Feature33    float64\n",
       "Feature34    float64\n",
       "Feature35    float64\n",
       "Feature36    float64\n",
       "Feature37    float64\n",
       "Feature38    float64\n",
       "Feature39    float64\n",
       "Feature40    float64\n",
       "Feature41    float64\n",
       "Feature42     object\n",
       "Feature43    float64\n",
       "Feature44    float64\n",
       "Feature45    float64\n",
       "Feature46    float64\n",
       "dtype: object"
      ]
     },
     "execution_count": 6,
     "metadata": {
      "tags": []
     },
     "output_type": "execute_result"
    }
   ],
   "source": [
    "test1 = pd.read_csv('D:/Prasanna/Edel/dataset/test/test1.csv')\n",
    "test2 = pd.read_csv('D:/Prasanna/Edel/dataset/test/test2.csv')\n",
    "test3 = pd.read_csv('D:/Prasanna/Edel/dataset/test/test3.csv')\n",
    "\n",
    "test = pd.concat([test1,test2,test3])\n",
    "print(test.shape)\n",
    "test.dtypes"
   ]
  },
  {
   "cell_type": "code",
   "execution_count": 0,
   "metadata": {
    "colab": {
     "base_uri": "https://localhost:8080/",
     "height": 333
    },
    "colab_type": "code",
    "collapsed": true,
    "id": "yxESuVwZIjZQ",
    "outputId": "02efb3e1-46d6-40e7-cf37-3978c9b53778"
   },
   "outputs": [
    {
     "data": {
      "text/html": [
       "<div>\n",
       "<style scoped>\n",
       "    .dataframe tbody tr th:only-of-type {\n",
       "        vertical-align: middle;\n",
       "    }\n",
       "\n",
       "    .dataframe tbody tr th {\n",
       "        vertical-align: top;\n",
       "    }\n",
       "\n",
       "    .dataframe thead th {\n",
       "        text-align: right;\n",
       "    }\n",
       "</style>\n",
       "<table border=\"1\" class=\"dataframe\">\n",
       "  <thead>\n",
       "    <tr style=\"text-align: right;\">\n",
       "      <th></th>\n",
       "      <th>MidPrice</th>\n",
       "      <th>Feature1</th>\n",
       "      <th>Feature2</th>\n",
       "      <th>Feature3</th>\n",
       "      <th>Feature4</th>\n",
       "      <th>Feature5</th>\n",
       "      <th>Feature6</th>\n",
       "      <th>Feature7</th>\n",
       "      <th>Feature8</th>\n",
       "      <th>Feature9</th>\n",
       "      <th>...</th>\n",
       "      <th>Feature36</th>\n",
       "      <th>Feature37</th>\n",
       "      <th>Feature38</th>\n",
       "      <th>Feature39</th>\n",
       "      <th>Feature40</th>\n",
       "      <th>Feature41</th>\n",
       "      <th>Feature43</th>\n",
       "      <th>Feature44</th>\n",
       "      <th>Feature45</th>\n",
       "      <th>Feature46</th>\n",
       "    </tr>\n",
       "  </thead>\n",
       "  <tbody>\n",
       "    <tr>\n",
       "      <th>count</th>\n",
       "      <td>378226.000000</td>\n",
       "      <td>378226.000000</td>\n",
       "      <td>378226.000000</td>\n",
       "      <td>378226.000000</td>\n",
       "      <td>378226.000000</td>\n",
       "      <td>378226.000000</td>\n",
       "      <td>378226.000000</td>\n",
       "      <td>378226.000000</td>\n",
       "      <td>378226.000000</td>\n",
       "      <td>378226.000000</td>\n",
       "      <td>...</td>\n",
       "      <td>378226.000000</td>\n",
       "      <td>378226.000000</td>\n",
       "      <td>378226.000000</td>\n",
       "      <td>378226.000000</td>\n",
       "      <td>378226.000000</td>\n",
       "      <td>378226.000000</td>\n",
       "      <td>3.782120e+05</td>\n",
       "      <td>378226.000000</td>\n",
       "      <td>378226.000000</td>\n",
       "      <td>378226.000000</td>\n",
       "    </tr>\n",
       "    <tr>\n",
       "      <th>mean</th>\n",
       "      <td>4867.942376</td>\n",
       "      <td>0.799533</td>\n",
       "      <td>0.734593</td>\n",
       "      <td>0.998087</td>\n",
       "      <td>0.997487</td>\n",
       "      <td>0.998893</td>\n",
       "      <td>0.996943</td>\n",
       "      <td>1.002219</td>\n",
       "      <td>0.995459</td>\n",
       "      <td>-0.127162</td>\n",
       "      <td>...</td>\n",
       "      <td>1.027367</td>\n",
       "      <td>1.017250</td>\n",
       "      <td>0.989356</td>\n",
       "      <td>0.897790</td>\n",
       "      <td>0.911469</td>\n",
       "      <td>0.887341</td>\n",
       "      <td>inf</td>\n",
       "      <td>0.778259</td>\n",
       "      <td>0.732536</td>\n",
       "      <td>0.731501</td>\n",
       "    </tr>\n",
       "    <tr>\n",
       "      <th>std</th>\n",
       "      <td>20563.177219</td>\n",
       "      <td>0.555451</td>\n",
       "      <td>0.348981</td>\n",
       "      <td>0.015733</td>\n",
       "      <td>0.005321</td>\n",
       "      <td>0.024837</td>\n",
       "      <td>0.008931</td>\n",
       "      <td>0.037617</td>\n",
       "      <td>0.017411</td>\n",
       "      <td>0.163183</td>\n",
       "      <td>...</td>\n",
       "      <td>0.020088</td>\n",
       "      <td>0.006710</td>\n",
       "      <td>0.483621</td>\n",
       "      <td>0.234581</td>\n",
       "      <td>0.332249</td>\n",
       "      <td>0.416419</td>\n",
       "      <td>NaN</td>\n",
       "      <td>0.407124</td>\n",
       "      <td>0.357991</td>\n",
       "      <td>0.353139</td>\n",
       "    </tr>\n",
       "    <tr>\n",
       "      <th>min</th>\n",
       "      <td>17.250000</td>\n",
       "      <td>0.006337</td>\n",
       "      <td>0.005190</td>\n",
       "      <td>0.731555</td>\n",
       "      <td>0.783917</td>\n",
       "      <td>0.606809</td>\n",
       "      <td>0.732790</td>\n",
       "      <td>0.452197</td>\n",
       "      <td>0.567836</td>\n",
       "      <td>-0.963801</td>\n",
       "      <td>...</td>\n",
       "      <td>1.000435</td>\n",
       "      <td>1.000301</td>\n",
       "      <td>0.051009</td>\n",
       "      <td>0.058475</td>\n",
       "      <td>0.034953</td>\n",
       "      <td>0.009094</td>\n",
       "      <td>0.000000e+00</td>\n",
       "      <td>0.004292</td>\n",
       "      <td>0.005102</td>\n",
       "      <td>0.005495</td>\n",
       "    </tr>\n",
       "    <tr>\n",
       "      <th>25%</th>\n",
       "      <td>386.750000</td>\n",
       "      <td>0.551546</td>\n",
       "      <td>0.510204</td>\n",
       "      <td>0.994040</td>\n",
       "      <td>0.994730</td>\n",
       "      <td>0.992654</td>\n",
       "      <td>0.991904</td>\n",
       "      <td>0.980645</td>\n",
       "      <td>0.987216</td>\n",
       "      <td>-0.238095</td>\n",
       "      <td>...</td>\n",
       "      <td>1.018183</td>\n",
       "      <td>1.012904</td>\n",
       "      <td>0.802476</td>\n",
       "      <td>0.757431</td>\n",
       "      <td>0.744347</td>\n",
       "      <td>0.659712</td>\n",
       "      <td>7.922078e-01</td>\n",
       "      <td>0.535714</td>\n",
       "      <td>0.502262</td>\n",
       "      <td>0.502513</td>\n",
       "    </tr>\n",
       "    <tr>\n",
       "      <th>50%</th>\n",
       "      <td>957.800000</td>\n",
       "      <td>0.713846</td>\n",
       "      <td>0.675497</td>\n",
       "      <td>0.998019</td>\n",
       "      <td>0.997815</td>\n",
       "      <td>0.998798</td>\n",
       "      <td>0.997142</td>\n",
       "      <td>1.002258</td>\n",
       "      <td>0.996042</td>\n",
       "      <td>-0.133758</td>\n",
       "      <td>...</td>\n",
       "      <td>1.022923</td>\n",
       "      <td>1.016146</td>\n",
       "      <td>0.944016</td>\n",
       "      <td>0.881092</td>\n",
       "      <td>0.879121</td>\n",
       "      <td>0.822336</td>\n",
       "      <td>1.222222e+00</td>\n",
       "      <td>0.707317</td>\n",
       "      <td>0.669065</td>\n",
       "      <td>0.669065</td>\n",
       "    </tr>\n",
       "    <tr>\n",
       "      <th>75%</th>\n",
       "      <td>2182.437500</td>\n",
       "      <td>0.906863</td>\n",
       "      <td>0.882979</td>\n",
       "      <td>1.001663</td>\n",
       "      <td>1.000582</td>\n",
       "      <td>1.004443</td>\n",
       "      <td>1.002298</td>\n",
       "      <td>1.022507</td>\n",
       "      <td>1.004347</td>\n",
       "      <td>-0.022996</td>\n",
       "      <td>...</td>\n",
       "      <td>1.028617</td>\n",
       "      <td>1.020311</td>\n",
       "      <td>1.075929</td>\n",
       "      <td>1.008655</td>\n",
       "      <td>1.022472</td>\n",
       "      <td>1.012792</td>\n",
       "      <td>1.881633e+00</td>\n",
       "      <td>0.931818</td>\n",
       "      <td>0.882883</td>\n",
       "      <td>0.882845</td>\n",
       "    </tr>\n",
       "    <tr>\n",
       "      <th>max</th>\n",
       "      <td>162885.700000</td>\n",
       "      <td>52.315789</td>\n",
       "      <td>34.285714</td>\n",
       "      <td>2.029825</td>\n",
       "      <td>1.086592</td>\n",
       "      <td>2.023259</td>\n",
       "      <td>1.135834</td>\n",
       "      <td>1.721222</td>\n",
       "      <td>1.527688</td>\n",
       "      <td>0.884058</td>\n",
       "      <td>...</td>\n",
       "      <td>2.032600</td>\n",
       "      <td>1.244737</td>\n",
       "      <td>33.920455</td>\n",
       "      <td>16.005089</td>\n",
       "      <td>24.570384</td>\n",
       "      <td>44.873684</td>\n",
       "      <td>inf</td>\n",
       "      <td>64.000000</td>\n",
       "      <td>31.400000</td>\n",
       "      <td>33.000000</td>\n",
       "    </tr>\n",
       "  </tbody>\n",
       "</table>\n",
       "<p>8 rows × 46 columns</p>\n",
       "</div>"
      ],
      "text/plain": [
       "            MidPrice       Feature1       Feature2       Feature3  \\\n",
       "count  378226.000000  378226.000000  378226.000000  378226.000000   \n",
       "mean     4867.942376       0.799533       0.734593       0.998087   \n",
       "std     20563.177219       0.555451       0.348981       0.015733   \n",
       "min        17.250000       0.006337       0.005190       0.731555   \n",
       "25%       386.750000       0.551546       0.510204       0.994040   \n",
       "50%       957.800000       0.713846       0.675497       0.998019   \n",
       "75%      2182.437500       0.906863       0.882979       1.001663   \n",
       "max    162885.700000      52.315789      34.285714       2.029825   \n",
       "\n",
       "            Feature4       Feature5       Feature6       Feature7  \\\n",
       "count  378226.000000  378226.000000  378226.000000  378226.000000   \n",
       "mean        0.997487       0.998893       0.996943       1.002219   \n",
       "std         0.005321       0.024837       0.008931       0.037617   \n",
       "min         0.783917       0.606809       0.732790       0.452197   \n",
       "25%         0.994730       0.992654       0.991904       0.980645   \n",
       "50%         0.997815       0.998798       0.997142       1.002258   \n",
       "75%         1.000582       1.004443       1.002298       1.022507   \n",
       "max         1.086592       2.023259       1.135834       1.721222   \n",
       "\n",
       "            Feature8       Feature9      ...            Feature36  \\\n",
       "count  378226.000000  378226.000000      ...        378226.000000   \n",
       "mean        0.995459      -0.127162      ...             1.027367   \n",
       "std         0.017411       0.163183      ...             0.020088   \n",
       "min         0.567836      -0.963801      ...             1.000435   \n",
       "25%         0.987216      -0.238095      ...             1.018183   \n",
       "50%         0.996042      -0.133758      ...             1.022923   \n",
       "75%         1.004347      -0.022996      ...             1.028617   \n",
       "max         1.527688       0.884058      ...             2.032600   \n",
       "\n",
       "           Feature37      Feature38      Feature39      Feature40  \\\n",
       "count  378226.000000  378226.000000  378226.000000  378226.000000   \n",
       "mean        1.017250       0.989356       0.897790       0.911469   \n",
       "std         0.006710       0.483621       0.234581       0.332249   \n",
       "min         1.000301       0.051009       0.058475       0.034953   \n",
       "25%         1.012904       0.802476       0.757431       0.744347   \n",
       "50%         1.016146       0.944016       0.881092       0.879121   \n",
       "75%         1.020311       1.075929       1.008655       1.022472   \n",
       "max         1.244737      33.920455      16.005089      24.570384   \n",
       "\n",
       "           Feature41     Feature43      Feature44      Feature45  \\\n",
       "count  378226.000000  3.782120e+05  378226.000000  378226.000000   \n",
       "mean        0.887341           inf       0.778259       0.732536   \n",
       "std         0.416419           NaN       0.407124       0.357991   \n",
       "min         0.009094  0.000000e+00       0.004292       0.005102   \n",
       "25%         0.659712  7.922078e-01       0.535714       0.502262   \n",
       "50%         0.822336  1.222222e+00       0.707317       0.669065   \n",
       "75%         1.012792  1.881633e+00       0.931818       0.882883   \n",
       "max        44.873684           inf      64.000000      31.400000   \n",
       "\n",
       "           Feature46  \n",
       "count  378226.000000  \n",
       "mean        0.731501  \n",
       "std         0.353139  \n",
       "min         0.005495  \n",
       "25%         0.502513  \n",
       "50%         0.669065  \n",
       "75%         0.882845  \n",
       "max        33.000000  \n",
       "\n",
       "[8 rows x 46 columns]"
      ]
     },
     "execution_count": 7,
     "metadata": {
      "tags": []
     },
     "output_type": "execute_result"
    }
   ],
   "source": [
    "train.describe()"
   ]
  },
  {
   "cell_type": "code",
   "execution_count": 0,
   "metadata": {
    "colab": {},
    "colab_type": "code",
    "id": "5JidL9b4IjZU"
   },
   "outputs": [],
   "source": [
    "train[\"Feature42\"] = train[\"Feature42\"].str.replace(\"Inf\", \"inf\")\n",
    "train[\"Feature42\"] = train[\"Feature42\"].str.replace(\"#NAME?\", \"\")\n",
    "train[\"Feature42\"] = train[\"Feature42\"].str.replace(\"?\", \"\")\n",
    "train[\"Feature42\"] = pd.to_numeric(train[\"Feature42\"])\n"
   ]
  },
  {
   "cell_type": "code",
   "execution_count": 0,
   "metadata": {
    "colab": {},
    "colab_type": "code",
    "id": "IlR1QOvNIjZW"
   },
   "outputs": [],
   "source": [
    "test[\"Feature42\"] = test[\"Feature42\"].str.replace(\"Inf\", \"inf\")\n",
    "test[\"Feature42\"] = test[\"Feature42\"].str.replace(\"#NAME?\", \"\")\n",
    "test[\"Feature42\"] = test[\"Feature42\"].str.replace(\"?\", \"\")\n",
    "test[\"Feature42\"] = pd.to_numeric(test[\"Feature42\"])"
   ]
  },
  {
   "cell_type": "code",
   "execution_count": 0,
   "metadata": {
    "colab": {
     "base_uri": "https://localhost:8080/",
     "height": 235
    },
    "colab_type": "code",
    "collapsed": true,
    "id": "Ku0KMMXFIjZc",
    "outputId": "0cdff167-7707-455c-9d64-13c00dc9b550"
   },
   "outputs": [
    {
     "name": "stdout",
     "output_type": "stream",
     "text": [
      "75\n",
      "[['09:20' '09:25' '09:30' '09:35' '09:40' '09:45' '09:50' '09:55' '10:00'\n",
      "  '10:05' '10:10' '10:15' '10:20' '10:25' '10:30' '10:35' '10:40' '10:45'\n",
      "  '10:50' '10:55' '11:00' '11:05' '11:10' '11:15' '11:20' '11:25' '11:30'\n",
      "  '11:35' '11:40' '11:45' '11:50' '11:55' '12:00' '12:05' '12:10' '12:15'\n",
      "  '12:20' '12:25' '12:30' '12:35' '12:40' '12:45' '12:50' '12:55' '13:00'\n",
      "  '13:05' '13:10' '13:15' '13:20' '13:25' '13:30' '13:35' '13:40' '13:45'\n",
      "  '13:50' '13:55' '14:00' '14:05' '14:10' '14:15' '14:20' '14:25' '14:30'\n",
      "  '14:35' '14:40' '14:45' '14:50' '14:55' '15:00' '15:05' '15:10' '15:15'\n",
      "  '15:20' '15:25' '15:30']\n",
      " [1 2 3 4 5 6 7 8 9 10 11 12 13 14 15 16 17 18 19 20 21 22 23 24 25 26 27\n",
      "  28 29 30 31 32 33 34 35 36 37 38 39 40 41 42 43 44 45 46 47 48 49 50 51\n",
      "  52 53 54 55 56 57 58 59 60 61 62 63 64 65 66 67 68 69 70 71 72 73 74 75]]\n"
     ]
    }
   ],
   "source": [
    "a = np.array(test['Time'].unique())\n",
    "a = np.sort(a)\n",
    "print(len(a))\n",
    "b = np.arange(1,76)\n",
    "c = np.vstack((a,b))\n",
    "print(c)\n",
    "d = pd.DataFrame(data = c).transpose()\n",
    "\n",
    "d.columns = ['Time','Time_Rank']"
   ]
  },
  {
   "cell_type": "code",
   "execution_count": 0,
   "metadata": {
    "colab": {
     "base_uri": "https://localhost:8080/",
     "height": 1025
    },
    "colab_type": "code",
    "collapsed": true,
    "id": "TIqM4xsM2xG3",
    "outputId": "ecda4c9c-1ea1-4a96-ae26-878abff801a5"
   },
   "outputs": [
    {
     "name": "stdout",
     "output_type": "stream",
     "text": [
      "                        UID        Date   Time  MidPrice   Symbol  Feature1  \\\n",
      "0  04-01-2015 09:20 und_109  04-01-2015  09:20   1701.00  und_109  0.556213   \n",
      "1  04-01-2015 09:25 und_109  04-01-2015  09:25   1696.55  und_109  0.551020   \n",
      "2  04-01-2015 09:30 und_109  04-01-2015  09:30   1699.65  und_109  0.611111   \n",
      "3  04-01-2015 09:35 und_109  04-01-2015  09:35   1697.05  und_109  0.538462   \n",
      "4  04-01-2015 09:40 und_109  04-01-2015  09:40   1695.40  und_109  0.598086   \n",
      "\n",
      "   Feature2  Feature3  Feature4  Feature5    ...      Feature38  Feature39  \\\n",
      "0  0.504202  0.996146  0.993157  1.003206    ...       1.053254   0.942061   \n",
      "1  0.450704  0.997270  0.993206  0.999403    ...       1.051948   0.860435   \n",
      "2  0.520548  0.995962  0.993040  1.001903    ...       1.005376   0.853699   \n",
      "3  0.441558  0.996669  0.995334  1.005164    ...       1.028846   0.843867   \n",
      "4  0.506410  0.994673  0.991444  1.002091    ...       0.966139   0.818047   \n",
      "\n",
      "   Feature40  Feature41  Feature42  Feature43  Feature44  Feature45  \\\n",
      "0   0.811770   0.735862        NaN   0.901639   0.592593   0.463768   \n",
      "1   0.890110   0.728061        NaN   1.064024   0.500000   0.410959   \n",
      "2   0.850242   0.724241        NaN   1.240418   0.750000   0.594203   \n",
      "3   0.777778   0.637807        NaN   1.291815   0.500000   0.426667   \n",
      "4   0.777512   0.658333        NaN   1.589147   0.575758   0.554054   \n",
      "\n",
      "   Feature46  Time_Rank  \n",
      "0   0.373913          1  \n",
      "1   0.445255          2  \n",
      "2   0.517730          3  \n",
      "3   0.344595          4  \n",
      "4   0.410596          5  \n",
      "\n",
      "[5 rows x 52 columns] \n",
      " (1157424, 52)\n",
      "                        UID        Date   Time   Symbol  Feature1  Feature2  \\\n",
      "0  01-06-2015 09:20 und_109  01-06-2015  09:20  und_109  1.047619  0.838235   \n",
      "1  01-06-2015 09:25 und_109  01-06-2015  09:25  und_109  0.538961  0.400000   \n",
      "2  01-06-2015 09:30 und_109  01-06-2015  09:30  und_109  1.164384  0.991935   \n",
      "3  01-06-2015 09:35 und_109  01-06-2015  09:35  und_109  1.082278  0.940741   \n",
      "4  01-06-2015 09:40 und_109  01-06-2015  09:40  und_109  1.040936  0.897260   \n",
      "\n",
      "   Feature3  Feature4  Feature5  Feature6    ...      Feature38  Feature39  \\\n",
      "0  0.995017  0.994663  1.007941  0.992888    ...       1.425926   1.127282   \n",
      "1  0.994234  0.991318  1.000569  0.988476    ...       1.442513   1.081481   \n",
      "2  0.997802  0.999094  0.997504  0.993885    ...       1.307938   1.128754   \n",
      "3  1.002913  1.002629  1.002901  0.998327    ...       1.292722   1.119157   \n",
      "4  0.998457  0.998693  0.998132  0.992841    ...       1.294497   1.128811   \n",
      "\n",
      "   Feature40  Feature41  Feature42  Feature43  Feature44  Feature45  \\\n",
      "0   0.892416   0.714052        NaN   2.213974   0.888889   0.638298   \n",
      "1   0.995005   0.738462        NaN   2.153846   0.500000   0.333333   \n",
      "2   1.060883   0.903763        NaN   1.946429   0.647059   0.972973   \n",
      "3   1.031940   0.896985        NaN   1.582090   0.609756   0.890244   \n",
      "4   1.179727   1.016895        NaN   1.936842   1.000000   0.951807   \n",
      "\n",
      "   Feature46  Time_Rank  \n",
      "0   0.833333          1  \n",
      "1   0.421488          2  \n",
      "2   0.983333          3  \n",
      "3   0.944882          4  \n",
      "4   0.933824          5  \n",
      "\n",
      "[5 rows x 51 columns] \n",
      " (423088, 51)\n"
     ]
    }
   ],
   "source": [
    "train = train.join(d.set_index('Time'), on='Time')\n",
    "print(train.head(),'\\n',train.shape)\n",
    "\n",
    "test = test.join(d.set_index('Time'), on='Time')\n",
    "print(test.head(),'\\n',test.shape)"
   ]
  },
  {
   "cell_type": "code",
   "execution_count": 0,
   "metadata": {
    "colab": {},
    "colab_type": "code",
    "id": "8b3JjDPA218Y"
   },
   "outputs": [],
   "source": [
    "train = train.sort_values(['Symbol', 'Date','Time_Rank'], ascending=[True,True,True])\n",
    "# train.head()\n",
    "test = test.sort_values(['Symbol', 'Date','Time_Rank'], ascending=[True,True,True])\n",
    "# test.head()"
   ]
  },
  {
   "cell_type": "code",
   "execution_count": null,
   "metadata": {
    "colab": {
     "base_uri": "https://localhost:8080/",
     "height": 513
    },
    "colab_type": "code",
    "id": "uKIupYQi2-WL",
    "outputId": "a7fc406f-e932-4e87-8205-90f7fef1a52b"
   },
   "outputs": [],
   "source": [
    "print(train.shape)\n",
    "train['F1lag']=train['Feature1'].shift(-1)\n",
    "train['F2lag']=train['Feature2'].shift(-1)\n",
    "train['F3lag']=train['Feature3'].shift(-1)\n",
    "train['F4lag']=train['Feature4'].shift(-1)\n",
    "train['F5lag']=train['Feature5'].shift(-1)\n",
    "train['F6lag']=train['Feature6'].shift(-1)\n",
    "train['F7lag']=train['Feature7'].shift(-1)\n",
    "train['F8lag']=train['Feature8'].shift(-1)\n",
    "train['F9lag']=train['Feature9'].shift(-1)\n",
    "train['F10lag']=train['Feature10'].shift(-1)\n",
    "train['F11lag']=train['Feature11'].shift(-1)\n",
    "train['F12lag']=train['Feature12'].shift(-1)\n",
    "train['F13lag']=train['Feature13'].shift(-1)\n",
    "train['F14lag']=train['Feature14'].shift(-1)\n",
    "train['F15lag']=train['Feature15'].shift(-1)\n",
    "train['F16lag']=train['Feature16'].shift(-1)\n",
    "train['F17lag']=train['Feature17'].shift(-1)\n",
    "train['F18lag']=train['Feature18'].shift(-1)\n",
    "train['F19lag']=train['Feature19'].shift(-1)\n",
    "train['F20lag']=train['Feature20'].shift(-1)\n",
    "train['F21lag']=train['Feature21'].shift(-1)\n",
    "train['F22lag']=train['Feature22'].shift(-1)\n",
    "train['F23lag']=train['Feature23'].shift(-1)\n",
    "train['F24lag']=train['Feature24'].shift(-1)\n",
    "train['F25lag']=train['Feature25'].shift(-1)\n",
    "train['F26lag']=train['Feature26'].shift(-1)\n",
    "train['F27lag']=train['Feature27'].shift(-1)\n",
    "train['F28lag']=train['Feature28'].shift(-1)\n",
    "train['F29lag']=train['Feature29'].shift(-1)\n",
    "train['F30lag']=train['Feature30'].shift(-1)\n",
    "train['F31lag']=train['Feature31'].shift(-1)\n",
    "train['F32lag']=train['Feature32'].shift(-1)\n",
    "train['F33lag']=train['Feature33'].shift(-1)\n",
    "train['F34lag']=train['Feature34'].shift(-1)\n",
    "train['F35lag']=train['Feature35'].shift(-1)\n",
    "train['F36lag']=train['Feature36'].shift(-1)\n",
    "train['F37lag']=train['Feature37'].shift(-1)\n",
    "train['F38lag']=train['Feature38'].shift(-1)\n",
    "train['F39lag']=train['Feature39'].shift(-1)\n",
    "train['F40lag']=train['Feature40'].shift(-1)\n",
    "train['F41lag']=train['Feature41'].shift(-1)\n",
    "train['F42lag']=train['Feature42'].shift(-1)\n",
    "train['F43lag']=train['Feature43'].shift(-1)\n",
    "train['F44lag']=train['Feature44'].shift(-1)\n",
    "train['F45lag']=train['Feature45'].shift(-1)\n",
    "train['F46lag']=train['Feature46'].shift(-1)\n",
    "\n",
    "train.tail()"
   ]
  },
  {
   "cell_type": "code",
   "execution_count": null,
   "metadata": {
    "colab": {
     "base_uri": "https://localhost:8080/",
     "height": 504
    },
    "colab_type": "code",
    "id": "O6fytGCx3GyV",
    "outputId": "8905dbf3-1c28-46af-d357-e730aa8cd685"
   },
   "outputs": [],
   "source": [
    "test['F1lag']=test['Feature1'].shift(-1)\n",
    "test['F2lag']=test['Feature2'].shift(-1)\n",
    "test['F3lag']=test['Feature3'].shift(-1)\n",
    "test['F4lag']=test['Feature4'].shift(-1)\n",
    "test['F5lag']=test['Feature5'].shift(-1)\n",
    "test['F6lag']=test['Feature6'].shift(-1)\n",
    "test['F7lag']=test['Feature7'].shift(-1)\n",
    "test['F8lag']=test['Feature8'].shift(-1)\n",
    "test['F9lag']=test['Feature9'].shift(-1)\n",
    "test['F10lag']=test['Feature10'].shift(-1)\n",
    "test['F11lag']=test['Feature11'].shift(-1)\n",
    "test['F12lag']=test['Feature12'].shift(-1)\n",
    "test['F13lag']=test['Feature13'].shift(-1)\n",
    "test['F14lag']=test['Feature14'].shift(-1)\n",
    "test['F15lag']=test['Feature15'].shift(-1)\n",
    "test['F16lag']=test['Feature16'].shift(-1)\n",
    "test['F17lag']=test['Feature17'].shift(-1)\n",
    "test['F18lag']=test['Feature18'].shift(-1)\n",
    "test['F19lag']=test['Feature19'].shift(-1)\n",
    "test['F20lag']=test['Feature20'].shift(-1)\n",
    "test['F21lag']=test['Feature21'].shift(-1)\n",
    "test['F22lag']=test['Feature22'].shift(-1)\n",
    "test['F23lag']=test['Feature23'].shift(-1)\n",
    "test['F24lag']=test['Feature24'].shift(-1)\n",
    "test['F25lag']=test['Feature25'].shift(-1)\n",
    "test['F26lag']=test['Feature26'].shift(-1)\n",
    "test['F27lag']=test['Feature27'].shift(-1)\n",
    "test['F28lag']=test['Feature28'].shift(-1)\n",
    "test['F29lag']=test['Feature29'].shift(-1)\n",
    "test['F30lag']=test['Feature30'].shift(-1)\n",
    "test['F31lag']=test['Feature31'].shift(-1)\n",
    "test['F32lag']=test['Feature32'].shift(-1)\n",
    "test['F33lag']=test['Feature33'].shift(-1)\n",
    "test['F34lag']=test['Feature34'].shift(-1)\n",
    "test['F35lag']=test['Feature35'].shift(-1)\n",
    "test['F36lag']=test['Feature36'].shift(-1)\n",
    "test['F37lag']=test['Feature37'].shift(-1)\n",
    "test['F38lag']=test['Feature38'].shift(-1)\n",
    "test['F39lag']=test['Feature39'].shift(-1)\n",
    "test['F40lag']=test['Feature40'].shift(-1)\n",
    "test['F41lag']=test['Feature41'].shift(-1)\n",
    "test['F42lag']=test['Feature42'].shift(-1)\n",
    "test['F43lag']=test['Feature43'].shift(-1)\n",
    "test['F44lag']=test['Feature44'].shift(-1)\n",
    "test['F45lag']=test['Feature45'].shift(-1)\n",
    "test['F46lag']=test['Feature46'].shift(-1)\n",
    "\n",
    "print(test.tail())"
   ]
  },
  {
   "cell_type": "code",
   "execution_count": null,
   "metadata": {
    "colab": {
     "base_uri": "https://localhost:8080/",
     "height": 7594
    },
    "colab_type": "code",
    "id": "-nK5Qvg3CoWY",
    "outputId": "de5c4b40-0779-4e51-8d50-61ff98d3a7da"
   },
   "outputs": [],
   "source": [
    "ustocks = test['Symbol'].unique()\n",
    "# del train['Time_Rank'],test['Time_Rank']\n",
    "for col in [\"Symbol\",\"Time\"]: \n",
    "     train[col] = train[col].astype('category') \n",
    "     test[col] = test[col].astype('category') \n",
    "      \n",
    "test_pred = pd.DataFrame()\n",
    "for stock in ustocks:\n",
    "    \n",
    "    if stock == 'und_70':\n",
    "        continue\n",
    "    print(stock)\n",
    "    newtrain = train[train['Symbol'] == stock]\n",
    "    newtrain.reset_index(inplace=True, drop=True)\n",
    "    print(newtrain.shape)\n",
    "    newtest = test[test['Symbol'] == stock]\n",
    "    newtrain.reset_index(inplace=True, drop=True)\n",
    "    print(newtest.shape)\n",
    "\n",
    "    X = newtrain.iloc[:,[2] + list(range(5,97))].copy()\n",
    "    print(X.columns)\n",
    "    y = np.log1p(newtrain['MidPrice'])\n",
    "#     X.head()\n",
    "    X_test = newtest.iloc[:,[2] + list(range(4,96))]\n",
    "    print(X_test.columns)\n",
    "    dev_X, val_X, dev_y, val_y = train_test_split(X, y, test_size = 0.1, random_state = 21)\n",
    "    d_train = lgb.Dataset(X, label=y)\n",
    "    params = {\n",
    "                'learning_rate': 0.01,\n",
    "                'application': 'regression',\n",
    "                'boostin_type':'dart',\n",
    "                 'nthread':3,\n",
    "                'bagging_fraction' : 0.9,\n",
    "                'feature_fraction' : 0.6,\n",
    "                'bagging_frequency' : 6,\n",
    "                 'max_depth': -1,\n",
    "                'num_leaves': 100,\n",
    "                'verbosity': -1,\n",
    "                'metric': 'RMSE',\n",
    "            }\n",
    "    lgtrain = lgb.Dataset(dev_X, label=dev_y)\n",
    "    lgval = lgb.Dataset(val_X, label=val_y)\n",
    "    evals_result = {}\n",
    "    model1 = lgb.train(params, lgtrain, 5000, \n",
    "                      valid_sets=[lgval], \n",
    "                      early_stopping_rounds=100, \n",
    "                      verbose_eval=1000, \n",
    "                      evals_result=evals_result)\n",
    "#     model1 = lgb.train(params, train_set=d_train, num_boost_round=3200, verbose_eval=100) \n",
    "    preds = model1.predict(X_test)\n",
    "    sub = np.expm1(preds)\n",
    "    sub=pd.DataFrame(sub,columns = ['pred'])\n",
    "    newtest.index=np.arange(0,newtest.shape[0])\n",
    "    sub = pd.concat([sub,newtest.iloc[:,0:4]],axis=1)\n",
    "    test_pred = test_pred.append(sub)\n",
    "\n",
    "# #     print('The rmse of prediction is:', mean_squared_error(sub, newtrain['MidPrice']) ** 0.5)\n",
    "\n",
    "test_pred.to_csv(\"D:/Prasanna/Edel/dataset/pred_4_lgbm.csv\")"
   ]
  },
  {
   "cell_type": "markdown",
   "metadata": {},
   "source": [
    "#  Averaged prediction from both lstm and lgbm is now used (Averaging done in excel)"
   ]
  },
  {
   "cell_type": "code",
   "execution_count": 0,
   "metadata": {
    "colab": {},
    "colab_type": "code",
    "id": "eZCC5ZhfRGLD"
   },
   "outputs": [],
   "source": [
    "test_pred = pd.read_csv('D:/Prasanna/Edel/dataset/avg_pred_lgbm_lstm')"
   ]
  },
  {
   "cell_type": "code",
   "execution_count": 87,
   "metadata": {
    "colab": {
     "base_uri": "https://localhost:8080/",
     "height": 53
    },
    "colab_type": "code",
    "id": "-D92HPAnIjZm",
    "outputId": "011bdb87-7c84-41e9-d0d8-20b06ff2fc65",
    "scrolled": true
   },
   "outputs": [
    {
     "name": "stdout",
     "output_type": "stream",
     "text": [
      "(394547, 5)\n",
      "(394547, 5)\n"
     ]
    }
   ],
   "source": [
    "# removing the times when buy/sell is now possible\n",
    "test_pred['Time'].unique()\n",
    "\n",
    "a = ['09:20','09:25','15:15', '15:20', '15:25','15:30']\n",
    "\n",
    "print(test_pred.shape)\n",
    "test_pred = test_pred[~test_pred['Time'].isin(a)]\n",
    "print(test_pred.shape)\n"
   ]
  },
  {
   "cell_type": "code",
   "execution_count": 89,
   "metadata": {
    "colab": {
     "base_uri": "https://localhost:8080/",
     "height": 217
    },
    "colab_type": "code",
    "collapsed": true,
    "id": "jSGAo1z4IjZs",
    "outputId": "f0fca9b8-3f07-4d83-c7da-5f218794e31c"
   },
   "outputs": [
    {
     "name": "stdout",
     "output_type": "stream",
     "text": [
      "[['09:30' '09:35' '09:40' '09:45' '09:50' '09:55' '10:00' '10:05' '10:10'\n",
      "  '10:15' '10:20' '10:25' '10:30' '10:35' '10:40' '10:45' '10:50' '10:55'\n",
      "  '11:00' '11:05' '11:10' '11:15' '11:20' '11:25' '11:30' '11:35' '11:40'\n",
      "  '11:45' '11:50' '11:55' '12:00' '12:05' '12:10' '12:15' '12:20' '12:25'\n",
      "  '12:30' '12:35' '12:40' '12:45' '12:50' '12:55' '13:00' '13:05' '13:10'\n",
      "  '13:15' '13:20' '13:25' '13:30' '13:35' '13:40' '13:45' '13:50' '13:55'\n",
      "  '14:00' '14:05' '14:10' '14:15' '14:20' '14:25' '14:30' '14:35' '14:40'\n",
      "  '14:45' '14:50' '14:55' '15:00' '15:05' '15:10']\n",
      " [1 2 3 4 5 6 7 8 9 10 11 12 13 14 15 16 17 18 19 20 21 22 23 24 25 26 27\n",
      "  28 29 30 31 32 33 34 35 36 37 38 39 40 41 42 43 44 45 46 47 48 49 50 51\n",
      "  52 53 54 55 56 57 58 59 60 61 62 63 64 65 66 67 68 69]]\n"
     ]
    }
   ],
   "source": [
    "a = np.array(test_pred['Time'].unique())\n",
    "a = np.sort(a)\n",
    "b = np.arange(1,70)\n",
    "c = np.vstack((a,b))\n",
    "print(c)\n",
    "d = pd.DataFrame(data = c).transpose()\n",
    "\n",
    "d.columns = ['Time','Time_Rank']\n",
    "# print(d)"
   ]
  },
  {
   "cell_type": "code",
   "execution_count": null,
   "metadata": {
    "colab": {
     "base_uri": "https://localhost:8080/",
     "height": 271
    },
    "colab_type": "code",
    "id": "XZuYPUZbIjZv",
    "outputId": "55ffb5a7-2fa3-42e0-a853-ffcd010eb474"
   },
   "outputs": [],
   "source": [
    "test_pred = test_pred.join(d.set_index('Time'), on='Time')\n",
    "print(test_pred.head(),'\\n',test_pred.shape)"
   ]
  },
  {
   "cell_type": "markdown",
   "metadata": {},
   "source": [
    "#  Custom function created to give buysell decisions which takes an array of prices and number of transactions allowed as input"
   ]
  },
  {
   "cell_type": "code",
   "execution_count": 0,
   "metadata": {
    "colab": {},
    "colab_type": "code",
    "id": "dElWkpdf4glB"
   },
   "outputs": [],
   "source": [
    "def max_profit(prices, K):\n",
    "    prices = round(prices,3)\n",
    "    prices = list(prices)\n",
    "    if K == 0 or prices == []:\n",
    "        print(0)\n",
    "\n",
    "    days = len(prices)\n",
    "    num_transactions = K + 1\n",
    "\n",
    "    T = [[0 for _ in range(len(prices))] for _ in range(num_transactions)]\n",
    "\n",
    "    for transaction in range(1, num_transactions):\n",
    "        for day in range(1, days):\n",
    "            # This maximum value of either\n",
    "            # a) No Transaction on the day. We pick the value from day - 1\n",
    "            # b) Max profit made by selling on the day plus the cost of the previous transaction, considered over m days\n",
    "            T[transaction][day] = round(max(T[transaction][day - 1],\n",
    "                                      max([(prices[day] - prices[m+1] + T[transaction - 1][m]) for m in range(day)]),\n",
    "                                     max([(-prices[day] + prices[m+1] + T[transaction - 1][m]) for m in range(day)])),3)\n",
    "\n",
    "#     print(T)\n",
    "    transaction = len(T) - 1\n",
    "    day = len(T[0]) - 1\n",
    "    stack = []\n",
    "\n",
    "    while True:\n",
    "        if transaction == 0 or day == 0:\n",
    "            break\n",
    "\n",
    "        if T[transaction][day] == T[transaction][day - 1]:  # Didn't sell\n",
    "            day -= 1\n",
    "        else:\n",
    "            stack.append(day)          # sold\n",
    "            max_diff = round(T[transaction][day] - round(prices[day],3),3)\n",
    "            max_diff2 = round(T[transaction][day] + round(prices[day],3),3)\n",
    "            for k in range(day - 1, -1, -1):\n",
    "\n",
    "                if round(T[transaction - 1][k-1] - prices[k],3) == max_diff:\n",
    "                    stack.append(k)  # bought\n",
    "                    day=k-1\n",
    "                    transaction -= 1\n",
    "                    break\n",
    "                if round(T[transaction - 1][k-1] + prices[k],3) == max_diff2:\n",
    "                    stack.append(-k)  # bought\n",
    "                    transaction -= 1\n",
    "                    day=k-1\n",
    "                    break\n",
    "\n",
    "#     print('\\n',prices,'\\n',stack)\n",
    "\n",
    "    start =0\n",
    "    dec = []\n",
    "    for i  in range(len(prices)):\n",
    "        if i in stack and start ==0 :\n",
    "            dec.append(1)\n",
    "            start=1\n",
    "        elif  start ==1 and i in stack :\n",
    "            dec.append(0)\n",
    "            start=0\n",
    "        elif -i in stack and start ==0:\n",
    "            dec.append(-1)\n",
    "            start=-1\n",
    "        elif i in stack and start == -1 :\n",
    "            dec.append(0)\n",
    "            start=0\n",
    "        elif start == -1 or start == 1:\n",
    "            dec.append(start)\n",
    "        else:\n",
    "            dec.append(0)\n",
    "\n",
    "#     profit=[]\n",
    "#     for i in range(stack):\n",
    "#       if i=0:\n",
    "#         profit.append(0)\n",
    "#       if stack[i] < 0:\n",
    "#         profit = price[i]\n",
    "#       if stack[i-1] == stack[i] and ent !=0:\n",
    "#         profit\n",
    "        \n",
    "\n",
    "    return dec"
   ]
  },
  {
   "cell_type": "code",
   "execution_count": null,
   "metadata": {
    "colab": {
     "base_uri": "https://localhost:8080/",
     "height": 5830
    },
    "colab_type": "code",
    "id": "K3TdPpnv2eYX",
    "outputId": "3917d920-3953-4af9-94e8-1e84872737c9"
   },
   "outputs": [],
   "source": [
    "ustocks = test_pred['Symbol'].unique()\n",
    "test_pred_3 = pd.DataFrame()\n",
    "\n",
    "for stock in ustocks:\n",
    "    if stock == 'und_70':\n",
    "        continue\n",
    "    print(stock)\n",
    "    newtest = test_pred[test_pred_2['Symbol'] == stock]\n",
    "    newtest.reset_index(inplace=True, drop=True)\n",
    "    udays = newtest['Date'].unique()\n",
    "    print(newtest.shape)\n",
    "    for day in udays:\n",
    "        newtest1 = newtest[newtest['Date'] == day]\n",
    "#         print(newtest1.shape)\n",
    "        newtest1 = newtest1.sort_values(['Symbol', 'Date','Time_Rank'], ascending=[True,True,True])\n",
    "        newtest1.reset_index(inplace=True, drop=True)\n",
    "# possible decision using 3,4,5,6 transactions per day\n",
    "        newtest1['dec3'] = max_profit(newtest1['pred'],3)\n",
    "        newtest1['dec4'] = max_profit(newtest1['pred'],4)\n",
    "        newtest1['dec5'] = max_profit(newtest1['pred'],5)\n",
    "        newtest1['dec6'] = max_profit(newtest1['pred'],6)\n",
    "        test_pred_3 = test_pred_3.append(newtest1)\n"
   ]
  },
  {
   "cell_type": "code",
   "execution_count": 93,
   "metadata": {
    "colab": {
     "base_uri": "https://localhost:8080/",
     "height": 35
    },
    "colab_type": "code",
    "collapsed": true,
    "id": "29C7ujJx6Niz",
    "outputId": "dd85359d-48f1-44cf-ccc8-5f84aed2acab"
   },
   "outputs": [
    {
     "name": "stdout",
     "output_type": "stream",
     "text": [
      "(394661, 3) (394661, 16)\n"
     ]
    }
   ],
   "source": [
    "import pandas as pd\n",
    "sub = pd.read_csv(\"D:/Prasanna/Edel/dataset/sample.csv\")\n",
    "\n",
    "sub1 = pd.merge(sub,test_pred_3,left_on = \"UID\",right_on = \"UID\",how = \"left\")\n",
    "sub1.head()\n",
    "print(sub.shape,sub1.shape)"
   ]
  },
  {
   "cell_type": "code",
   "execution_count": 0,
   "metadata": {
    "colab": {},
    "colab_type": "code",
    "id": "kQqtELGUIjaF"
   },
   "outputs": [],
   "source": [
    "# sub1 = sub1[['UID','dec3_x','dec3_y']]\n",
    "sub1.to_csv(\"D:/Prasanna/Edel/dataset/sub_avg_21.csv\",index=False)"
   ]
  }
 ],
 "metadata": {
  "accelerator": "GPU",
  "colab": {
   "collapsed_sections": [],
   "name": "Copy of Edel_Price_kbuysell.ipynb",
   "provenance": [],
   "version": "0.3.2"
  },
  "kernelspec": {
   "display_name": "Python 3",
   "language": "python",
   "name": "python3"
  },
  "language_info": {
   "codemirror_mode": {
    "name": "ipython",
    "version": 3
   },
   "file_extension": ".py",
   "mimetype": "text/x-python",
   "name": "python",
   "nbconvert_exporter": "python",
   "pygments_lexer": "ipython3",
   "version": "3.6.5"
  }
 },
 "nbformat": 4,
 "nbformat_minor": 1
}
