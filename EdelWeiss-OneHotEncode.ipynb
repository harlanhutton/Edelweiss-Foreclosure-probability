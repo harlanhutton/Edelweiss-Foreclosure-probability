{
 "cells": [
  {
   "cell_type": "code",
   "execution_count": 1,
   "metadata": {},
   "outputs": [],
   "source": [
    "import pandas as pd\n",
    "import matplotlib.pyplot as plt\n",
    "import numpy as np\n",
    "import warnings\n",
    "warnings.filterwarnings('ignore')"
   ]
  },
  {
   "cell_type": "markdown",
   "metadata": {},
   "source": [
    "# Customer Data Pre Processing"
   ]
  },
  {
   "cell_type": "code",
   "execution_count": 2,
   "metadata": {},
   "outputs": [],
   "source": [
    "cust_data=pd.read_csv(\"C:/Users/Vikas/Machine Learning/DSL/93fe009c-2-Foreclosure-Prediction-Dataset_/Customers_31JAN2019.csv\")"
   ]
  },
  {
   "cell_type": "code",
   "execution_count": 3,
   "metadata": {},
   "outputs": [
    {
     "data": {
      "text/html": [
       "<div>\n",
       "<style scoped>\n",
       "    .dataframe tbody tr th:only-of-type {\n",
       "        vertical-align: middle;\n",
       "    }\n",
       "\n",
       "    .dataframe tbody tr th {\n",
       "        vertical-align: top;\n",
       "    }\n",
       "\n",
       "    .dataframe thead th {\n",
       "        text-align: right;\n",
       "    }\n",
       "</style>\n",
       "<table border=\"1\" class=\"dataframe\">\n",
       "  <thead>\n",
       "    <tr style=\"text-align: right;\">\n",
       "      <th></th>\n",
       "      <th>CUSTOMERID</th>\n",
       "      <th>CUST_CONSTTYPE_ID</th>\n",
       "      <th>CUST_CATEGORYID</th>\n",
       "      <th>PROFESSION</th>\n",
       "      <th>AGE</th>\n",
       "      <th>SEX</th>\n",
       "      <th>MARITAL_STATUS</th>\n",
       "      <th>QUALIFICATION</th>\n",
       "      <th>NO_OF_DEPENDENT</th>\n",
       "      <th>OCCUPATION</th>\n",
       "      <th>POSITION</th>\n",
       "      <th>GROSS_INCOME</th>\n",
       "      <th>PRE_JOBYEARS</th>\n",
       "      <th>NETTAKEHOMEINCOME</th>\n",
       "      <th>BRANCH_PINCODE</th>\n",
       "    </tr>\n",
       "  </thead>\n",
       "  <tbody>\n",
       "    <tr>\n",
       "      <th>0</th>\n",
       "      <td>12001000</td>\n",
       "      <td>1</td>\n",
       "      <td>5</td>\n",
       "      <td>NaN</td>\n",
       "      <td>33.0</td>\n",
       "      <td>M</td>\n",
       "      <td>M</td>\n",
       "      <td>POSTGRAD</td>\n",
       "      <td>0.0</td>\n",
       "      <td>NaN</td>\n",
       "      <td>NaN</td>\n",
       "      <td>198375.2218</td>\n",
       "      <td>8.0</td>\n",
       "      <td>198375.2218</td>\n",
       "      <td>400070.0</td>\n",
       "    </tr>\n",
       "    <tr>\n",
       "      <th>1</th>\n",
       "      <td>12001001</td>\n",
       "      <td>1</td>\n",
       "      <td>5</td>\n",
       "      <td>NaN</td>\n",
       "      <td>44.0</td>\n",
       "      <td>M</td>\n",
       "      <td>M</td>\n",
       "      <td>POSTGRAD</td>\n",
       "      <td>0.0</td>\n",
       "      <td>NaN</td>\n",
       "      <td>NaN</td>\n",
       "      <td>242703.9829</td>\n",
       "      <td>10.0</td>\n",
       "      <td>242703.9829</td>\n",
       "      <td>400070.0</td>\n",
       "    </tr>\n",
       "    <tr>\n",
       "      <th>2</th>\n",
       "      <td>12001002</td>\n",
       "      <td>1</td>\n",
       "      <td>7</td>\n",
       "      <td>NaN</td>\n",
       "      <td>50.0</td>\n",
       "      <td>M</td>\n",
       "      <td>M</td>\n",
       "      <td>GRAD</td>\n",
       "      <td>0.0</td>\n",
       "      <td>NaN</td>\n",
       "      <td>NaN</td>\n",
       "      <td>0.0000</td>\n",
       "      <td>NaN</td>\n",
       "      <td>0.0000</td>\n",
       "      <td>400070.0</td>\n",
       "    </tr>\n",
       "    <tr>\n",
       "      <th>3</th>\n",
       "      <td>12001003</td>\n",
       "      <td>3</td>\n",
       "      <td>4</td>\n",
       "      <td>NaN</td>\n",
       "      <td>40.0</td>\n",
       "      <td>M</td>\n",
       "      <td>M</td>\n",
       "      <td>GRAD</td>\n",
       "      <td>0.0</td>\n",
       "      <td>NaN</td>\n",
       "      <td>NaN</td>\n",
       "      <td>365263.5116</td>\n",
       "      <td>NaN</td>\n",
       "      <td>365263.5161</td>\n",
       "      <td>400070.0</td>\n",
       "    </tr>\n",
       "    <tr>\n",
       "      <th>4</th>\n",
       "      <td>12001004</td>\n",
       "      <td>3</td>\n",
       "      <td>4</td>\n",
       "      <td>NaN</td>\n",
       "      <td>27.0</td>\n",
       "      <td>M</td>\n",
       "      <td>M</td>\n",
       "      <td>GRAD</td>\n",
       "      <td>0.0</td>\n",
       "      <td>NaN</td>\n",
       "      <td>NaN</td>\n",
       "      <td>187342.1990</td>\n",
       "      <td>NaN</td>\n",
       "      <td>187342.1990</td>\n",
       "      <td>400070.0</td>\n",
       "    </tr>\n",
       "  </tbody>\n",
       "</table>\n",
       "</div>"
      ],
      "text/plain": [
       "   CUSTOMERID  CUST_CONSTTYPE_ID  CUST_CATEGORYID  PROFESSION   AGE SEX  \\\n",
       "0    12001000                  1                5         NaN  33.0   M   \n",
       "1    12001001                  1                5         NaN  44.0   M   \n",
       "2    12001002                  1                7         NaN  50.0   M   \n",
       "3    12001003                  3                4         NaN  40.0   M   \n",
       "4    12001004                  3                4         NaN  27.0   M   \n",
       "\n",
       "  MARITAL_STATUS QUALIFICATION  NO_OF_DEPENDENT  OCCUPATION POSITION  \\\n",
       "0              M      POSTGRAD              0.0         NaN      NaN   \n",
       "1              M      POSTGRAD              0.0         NaN      NaN   \n",
       "2              M          GRAD              0.0         NaN      NaN   \n",
       "3              M          GRAD              0.0         NaN      NaN   \n",
       "4              M          GRAD              0.0         NaN      NaN   \n",
       "\n",
       "   GROSS_INCOME  PRE_JOBYEARS  NETTAKEHOMEINCOME  BRANCH_PINCODE  \n",
       "0   198375.2218           8.0        198375.2218        400070.0  \n",
       "1   242703.9829          10.0        242703.9829        400070.0  \n",
       "2        0.0000           NaN             0.0000        400070.0  \n",
       "3   365263.5116           NaN        365263.5161        400070.0  \n",
       "4   187342.1990           NaN        187342.1990        400070.0  "
      ]
     },
     "execution_count": 3,
     "metadata": {},
     "output_type": "execute_result"
    }
   ],
   "source": [
    "cust_data.head()"
   ]
  },
  {
   "cell_type": "code",
   "execution_count": 4,
   "metadata": {},
   "outputs": [
    {
     "data": {
      "text/plain": [
       "Index(['CUSTOMERID', 'CUST_CONSTTYPE_ID', 'CUST_CATEGORYID', 'PROFESSION',\n",
       "       'AGE', 'SEX', 'MARITAL_STATUS', 'QUALIFICATION', 'NO_OF_DEPENDENT',\n",
       "       'OCCUPATION', 'POSITION', 'GROSS_INCOME', 'PRE_JOBYEARS',\n",
       "       'NETTAKEHOMEINCOME', 'BRANCH_PINCODE'],\n",
       "      dtype='object')"
      ]
     },
     "execution_count": 4,
     "metadata": {},
     "output_type": "execute_result"
    }
   ],
   "source": [
    "cust_data.columns"
   ]
  },
  {
   "cell_type": "code",
   "execution_count": 5,
   "metadata": {},
   "outputs": [],
   "source": [
    "#All values are NA\n",
    "del cust_data['PROFESSION']\n",
    "del cust_data['OCCUPATION']"
   ]
  },
  {
   "cell_type": "code",
   "execution_count": 6,
   "metadata": {},
   "outputs": [],
   "source": [
    "#more than 76% values are NA\n",
    "del cust_data['POSITION']\n",
    "del cust_data['PRE_JOBYEARS']"
   ]
  },
  {
   "cell_type": "code",
   "execution_count": 7,
   "metadata": {},
   "outputs": [
    {
     "data": {
      "text/plain": [
       "Index(['CUSTOMERID', 'CUST_CONSTTYPE_ID', 'CUST_CATEGORYID', 'AGE', 'SEX',\n",
       "       'MARITAL_STATUS', 'QUALIFICATION', 'NO_OF_DEPENDENT', 'GROSS_INCOME',\n",
       "       'NETTAKEHOMEINCOME', 'BRANCH_PINCODE'],\n",
       "      dtype='object')"
      ]
     },
     "execution_count": 7,
     "metadata": {},
     "output_type": "execute_result"
    }
   ],
   "source": [
    "cust_data.columns"
   ]
  },
  {
   "cell_type": "code",
   "execution_count": 8,
   "metadata": {},
   "outputs": [],
   "source": [
    "#Filling NA with mode values\n",
    "cust_data['SEX']=cust_data['SEX'].fillna('M')"
   ]
  },
  {
   "cell_type": "code",
   "execution_count": 9,
   "metadata": {},
   "outputs": [],
   "source": [
    "#Filling NA with mode values\n",
    "cust_data['MARITAL_STATUS']=cust_data['MARITAL_STATUS'].fillna('M')"
   ]
  },
  {
   "cell_type": "code",
   "execution_count": 10,
   "metadata": {},
   "outputs": [],
   "source": [
    "#Filling NA with mode values\n",
    "cust_data['NO_OF_DEPENDENT']=cust_data['NO_OF_DEPENDENT'].fillna(0.0)"
   ]
  },
  {
   "cell_type": "code",
   "execution_count": 11,
   "metadata": {},
   "outputs": [
    {
     "data": {
      "text/plain": [
       "0    34.0\n",
       "dtype: float64"
      ]
     },
     "execution_count": 11,
     "metadata": {},
     "output_type": "execute_result"
    }
   ],
   "source": [
    "cust_data['AGE'].mode()"
   ]
  },
  {
   "cell_type": "code",
   "execution_count": 12,
   "metadata": {},
   "outputs": [],
   "source": [
    "#Filling NA with mode values\n",
    "cust_data['AGE']=cust_data['AGE'].fillna('34.0')"
   ]
  },
  {
   "cell_type": "code",
   "execution_count": 13,
   "metadata": {},
   "outputs": [],
   "source": [
    "cust_knn_data=cust_data.copy()"
   ]
  },
  {
   "cell_type": "markdown",
   "metadata": {},
   "source": [
    "# #Using KNN to impute Qualification NA Values"
   ]
  },
  {
   "cell_type": "code",
   "execution_count": 14,
   "metadata": {},
   "outputs": [],
   "source": [
    "del cust_knn_data['CUSTOMERID']\n",
    "del cust_knn_data['CUST_CONSTTYPE_ID']\n",
    "del cust_knn_data['CUST_CATEGORYID']\n",
    "del cust_knn_data['AGE']\n",
    "del cust_knn_data['MARITAL_STATUS']\n",
    "del cust_knn_data['NO_OF_DEPENDENT']\n",
    "del cust_knn_data['BRANCH_PINCODE']"
   ]
  },
  {
   "cell_type": "code",
   "execution_count": 15,
   "metadata": {},
   "outputs": [],
   "source": [
    "test=cust_knn_data[cust_knn_data['QUALIFICATION'].isnull()]\n",
    "train=cust_knn_data[-cust_knn_data['QUALIFICATION'].isnull()]"
   ]
  },
  {
   "cell_type": "code",
   "execution_count": 16,
   "metadata": {},
   "outputs": [
    {
     "data": {
      "text/plain": [
       "QUALIFICATION\n",
       "DOCTRATE    118062.813219\n",
       "ENG         154885.715125\n",
       "GRAD        238110.161236\n",
       "MAT          72369.246953\n",
       "OTHERS      102848.588674\n",
       "POSTGRAD    202388.843907\n",
       "PRF         347811.654857\n",
       "UG           89866.523718\n",
       "Name: GROSS_INCOME, dtype: float64"
      ]
     },
     "execution_count": 16,
     "metadata": {},
     "output_type": "execute_result"
    }
   ],
   "source": [
    "train['GROSS_INCOME'].groupby(train['QUALIFICATION']).mean()"
   ]
  },
  {
   "cell_type": "code",
   "execution_count": 17,
   "metadata": {},
   "outputs": [
    {
     "data": {
      "text/plain": [
       "SEX                  0\n",
       "QUALIFICATION        0\n",
       "GROSS_INCOME         0\n",
       "NETTAKEHOMEINCOME    0\n",
       "dtype: int64"
      ]
     },
     "execution_count": 17,
     "metadata": {},
     "output_type": "execute_result"
    }
   ],
   "source": [
    "msng_vals=train.isnull().sum()\n",
    "msng_vals"
   ]
  },
  {
   "cell_type": "code",
   "execution_count": 18,
   "metadata": {},
   "outputs": [
    {
     "data": {
      "text/plain": [
       "SEX                    0\n",
       "QUALIFICATION        603\n",
       "GROSS_INCOME           0\n",
       "NETTAKEHOMEINCOME      0\n",
       "dtype: int64"
      ]
     },
     "execution_count": 18,
     "metadata": {},
     "output_type": "execute_result"
    }
   ],
   "source": [
    "msng_vals=test.isnull().sum()\n",
    "msng_vals"
   ]
  },
  {
   "cell_type": "code",
   "execution_count": 19,
   "metadata": {},
   "outputs": [
    {
     "data": {
      "text/plain": [
       "(603, 4)"
      ]
     },
     "execution_count": 19,
     "metadata": {},
     "output_type": "execute_result"
    }
   ],
   "source": [
    "test.shape"
   ]
  },
  {
   "cell_type": "code",
   "execution_count": 20,
   "metadata": {},
   "outputs": [
    {
     "data": {
      "text/plain": [
       "(9397, 4)"
      ]
     },
     "execution_count": 20,
     "metadata": {},
     "output_type": "execute_result"
    }
   ],
   "source": [
    "train.shape"
   ]
  },
  {
   "cell_type": "code",
   "execution_count": 21,
   "metadata": {},
   "outputs": [
    {
     "data": {
      "text/html": [
       "<div>\n",
       "<style scoped>\n",
       "    .dataframe tbody tr th:only-of-type {\n",
       "        vertical-align: middle;\n",
       "    }\n",
       "\n",
       "    .dataframe tbody tr th {\n",
       "        vertical-align: top;\n",
       "    }\n",
       "\n",
       "    .dataframe thead th {\n",
       "        text-align: right;\n",
       "    }\n",
       "</style>\n",
       "<table border=\"1\" class=\"dataframe\">\n",
       "  <thead>\n",
       "    <tr style=\"text-align: right;\">\n",
       "      <th></th>\n",
       "      <th>SEX</th>\n",
       "      <th>QUALIFICATION</th>\n",
       "      <th>GROSS_INCOME</th>\n",
       "      <th>NETTAKEHOMEINCOME</th>\n",
       "    </tr>\n",
       "  </thead>\n",
       "  <tbody>\n",
       "    <tr>\n",
       "      <th>0</th>\n",
       "      <td>M</td>\n",
       "      <td>POSTGRAD</td>\n",
       "      <td>198375.2218</td>\n",
       "      <td>198375.2218</td>\n",
       "    </tr>\n",
       "    <tr>\n",
       "      <th>1</th>\n",
       "      <td>M</td>\n",
       "      <td>POSTGRAD</td>\n",
       "      <td>242703.9829</td>\n",
       "      <td>242703.9829</td>\n",
       "    </tr>\n",
       "    <tr>\n",
       "      <th>2</th>\n",
       "      <td>M</td>\n",
       "      <td>GRAD</td>\n",
       "      <td>0.0000</td>\n",
       "      <td>0.0000</td>\n",
       "    </tr>\n",
       "    <tr>\n",
       "      <th>3</th>\n",
       "      <td>M</td>\n",
       "      <td>GRAD</td>\n",
       "      <td>365263.5116</td>\n",
       "      <td>365263.5161</td>\n",
       "    </tr>\n",
       "    <tr>\n",
       "      <th>4</th>\n",
       "      <td>M</td>\n",
       "      <td>GRAD</td>\n",
       "      <td>187342.1990</td>\n",
       "      <td>187342.1990</td>\n",
       "    </tr>\n",
       "  </tbody>\n",
       "</table>\n",
       "</div>"
      ],
      "text/plain": [
       "  SEX QUALIFICATION  GROSS_INCOME  NETTAKEHOMEINCOME\n",
       "0   M      POSTGRAD   198375.2218        198375.2218\n",
       "1   M      POSTGRAD   242703.9829        242703.9829\n",
       "2   M          GRAD        0.0000             0.0000\n",
       "3   M          GRAD   365263.5116        365263.5161\n",
       "4   M          GRAD   187342.1990        187342.1990"
      ]
     },
     "execution_count": 21,
     "metadata": {},
     "output_type": "execute_result"
    }
   ],
   "source": [
    "train.head()"
   ]
  },
  {
   "cell_type": "code",
   "execution_count": 22,
   "metadata": {},
   "outputs": [
    {
     "data": {
      "text/html": [
       "<div>\n",
       "<style scoped>\n",
       "    .dataframe tbody tr th:only-of-type {\n",
       "        vertical-align: middle;\n",
       "    }\n",
       "\n",
       "    .dataframe tbody tr th {\n",
       "        vertical-align: top;\n",
       "    }\n",
       "\n",
       "    .dataframe thead th {\n",
       "        text-align: right;\n",
       "    }\n",
       "</style>\n",
       "<table border=\"1\" class=\"dataframe\">\n",
       "  <thead>\n",
       "    <tr style=\"text-align: right;\">\n",
       "      <th></th>\n",
       "      <th>SEX</th>\n",
       "      <th>QUALIFICATION</th>\n",
       "      <th>GROSS_INCOME</th>\n",
       "      <th>NETTAKEHOMEINCOME</th>\n",
       "    </tr>\n",
       "  </thead>\n",
       "  <tbody>\n",
       "    <tr>\n",
       "      <th>31</th>\n",
       "      <td>M</td>\n",
       "      <td>NaN</td>\n",
       "      <td>1.206504e+06</td>\n",
       "      <td>1.206504e+06</td>\n",
       "    </tr>\n",
       "    <tr>\n",
       "      <th>37</th>\n",
       "      <td>M</td>\n",
       "      <td>NaN</td>\n",
       "      <td>0.000000e+00</td>\n",
       "      <td>0.000000e+00</td>\n",
       "    </tr>\n",
       "    <tr>\n",
       "      <th>60</th>\n",
       "      <td>M</td>\n",
       "      <td>NaN</td>\n",
       "      <td>2.948650e+05</td>\n",
       "      <td>2.948650e+05</td>\n",
       "    </tr>\n",
       "    <tr>\n",
       "      <th>61</th>\n",
       "      <td>M</td>\n",
       "      <td>NaN</td>\n",
       "      <td>1.576361e+05</td>\n",
       "      <td>1.576361e+05</td>\n",
       "    </tr>\n",
       "    <tr>\n",
       "      <th>63</th>\n",
       "      <td>M</td>\n",
       "      <td>NaN</td>\n",
       "      <td>0.000000e+00</td>\n",
       "      <td>0.000000e+00</td>\n",
       "    </tr>\n",
       "  </tbody>\n",
       "</table>\n",
       "</div>"
      ],
      "text/plain": [
       "   SEX QUALIFICATION  GROSS_INCOME  NETTAKEHOMEINCOME\n",
       "31   M           NaN  1.206504e+06       1.206504e+06\n",
       "37   M           NaN  0.000000e+00       0.000000e+00\n",
       "60   M           NaN  2.948650e+05       2.948650e+05\n",
       "61   M           NaN  1.576361e+05       1.576361e+05\n",
       "63   M           NaN  0.000000e+00       0.000000e+00"
      ]
     },
     "execution_count": 22,
     "metadata": {},
     "output_type": "execute_result"
    }
   ],
   "source": [
    "test.head()"
   ]
  },
  {
   "cell_type": "code",
   "execution_count": 23,
   "metadata": {},
   "outputs": [],
   "source": [
    "train.index=np.arange(0,train.shape[0])\n",
    "test.index=np.arange(0,test.shape[0])"
   ]
  },
  {
   "cell_type": "code",
   "execution_count": 24,
   "metadata": {},
   "outputs": [],
   "source": [
    "from sklearn.preprocessing import LabelEncoder\n",
    "le=LabelEncoder()\n",
    "le.fit(train['SEX'])\n",
    "train['SEX']=le.transform(train['SEX'])\n",
    "test['SEX']=le.transform(test['SEX'])"
   ]
  },
  {
   "cell_type": "code",
   "execution_count": 25,
   "metadata": {},
   "outputs": [],
   "source": [
    "from sklearn.preprocessing import LabelEncoder\n",
    "le1=LabelEncoder()\n",
    "le1.fit(train['QUALIFICATION'])\n",
    "train['QUALIFICATION']=le1.transform(train['QUALIFICATION'])"
   ]
  },
  {
   "cell_type": "code",
   "execution_count": 26,
   "metadata": {},
   "outputs": [
    {
     "data": {
      "text/plain": [
       "KNeighborsClassifier(algorithm='auto', leaf_size=30, metric='minkowski',\n",
       "           metric_params=None, n_jobs=None, n_neighbors=2, p=2,\n",
       "           weights='uniform')"
      ]
     },
     "execution_count": 26,
     "metadata": {},
     "output_type": "execute_result"
    }
   ],
   "source": [
    "#Nearest Neighbour is 2(gives more better distribution)\n",
    "from sklearn.neighbors import KNeighborsClassifier\n",
    "neigh = KNeighborsClassifier(n_neighbors=2)\n",
    "neigh.fit(train.loc[:,['GROSS_INCOME','NETTAKEHOMEINCOME']], train['QUALIFICATION'])"
   ]
  },
  {
   "cell_type": "code",
   "execution_count": 27,
   "metadata": {},
   "outputs": [],
   "source": [
    "test['QUALIFICATION']=le1.inverse_transform(neigh.predict(test.loc[:,['GROSS_INCOME','NETTAKEHOMEINCOME']]))"
   ]
  },
  {
   "cell_type": "code",
   "execution_count": 28,
   "metadata": {},
   "outputs": [
    {
     "data": {
      "text/plain": [
       "QUALIFICATION\n",
       "DOCTRATE    131087.144100\n",
       "GRAD        142415.327866\n",
       "MAT          81820.621100\n",
       "OTHERS        1303.760204\n",
       "POSTGRAD     68633.631005\n",
       "PRF         120771.097209\n",
       "UG           94843.351831\n",
       "Name: GROSS_INCOME, dtype: float64"
      ]
     },
     "execution_count": 28,
     "metadata": {},
     "output_type": "execute_result"
    }
   ],
   "source": [
    "test['GROSS_INCOME'].groupby(test['QUALIFICATION']).mean()"
   ]
  },
  {
   "cell_type": "code",
   "execution_count": 29,
   "metadata": {},
   "outputs": [],
   "source": [
    "cust_knn_data['QUALIFICATION']=cust_knn_data['QUALIFICATION'].fillna(test['QUALIFICATION'])"
   ]
  },
  {
   "cell_type": "code",
   "execution_count": 30,
   "metadata": {},
   "outputs": [
    {
     "data": {
      "text/plain": [
       "SEX                    0\n",
       "QUALIFICATION        553\n",
       "GROSS_INCOME           0\n",
       "NETTAKEHOMEINCOME      0\n",
       "dtype: int64"
      ]
     },
     "execution_count": 30,
     "metadata": {},
     "output_type": "execute_result"
    }
   ],
   "source": [
    "msng_vals=cust_knn_data.isnull().sum()\n",
    "msng_vals"
   ]
  },
  {
   "cell_type": "code",
   "execution_count": 31,
   "metadata": {},
   "outputs": [
    {
     "data": {
      "text/plain": [
       "(10000, 4)"
      ]
     },
     "execution_count": 31,
     "metadata": {},
     "output_type": "execute_result"
    }
   ],
   "source": [
    "cust_knn_data.shape"
   ]
  },
  {
   "cell_type": "code",
   "execution_count": 32,
   "metadata": {},
   "outputs": [
    {
     "data": {
      "text/plain": [
       "0    POSTGRAD\n",
       "1    POSTGRAD\n",
       "2        GRAD\n",
       "3        GRAD\n",
       "4        GRAD\n",
       "Name: QUALIFICATION, dtype: object"
      ]
     },
     "execution_count": 32,
     "metadata": {},
     "output_type": "execute_result"
    }
   ],
   "source": [
    "cust_data['QUALIFICATION'].head()"
   ]
  },
  {
   "cell_type": "code",
   "execution_count": 33,
   "metadata": {},
   "outputs": [
    {
     "data": {
      "text/plain": [
       "0    POSTGRAD\n",
       "1    POSTGRAD\n",
       "2        GRAD\n",
       "3        GRAD\n",
       "4        GRAD\n",
       "Name: QUALIFICATION, dtype: object"
      ]
     },
     "execution_count": 33,
     "metadata": {},
     "output_type": "execute_result"
    }
   ],
   "source": [
    "cust_knn_data['QUALIFICATION'].head()"
   ]
  },
  {
   "cell_type": "markdown",
   "metadata": {},
   "source": [
    "# Copying predicted values to main dataset"
   ]
  },
  {
   "cell_type": "code",
   "execution_count": 34,
   "metadata": {},
   "outputs": [],
   "source": [
    "cust_data['QUALIFICATION']=cust_knn_data['QUALIFICATION'].copy()"
   ]
  },
  {
   "cell_type": "code",
   "execution_count": 35,
   "metadata": {},
   "outputs": [],
   "source": [
    "#fill NA values with mode of Branch code\n",
    "cust_data['BRANCH_PINCODE']=cust_data['BRANCH_PINCODE'].fillna(400070.0)"
   ]
  },
  {
   "cell_type": "code",
   "execution_count": 36,
   "metadata": {},
   "outputs": [
    {
     "data": {
      "text/plain": [
       "CUSTOMERID             0\n",
       "CUST_CONSTTYPE_ID      0\n",
       "CUST_CATEGORYID        0\n",
       "AGE                    0\n",
       "SEX                    0\n",
       "MARITAL_STATUS         0\n",
       "QUALIFICATION        553\n",
       "NO_OF_DEPENDENT        0\n",
       "GROSS_INCOME           0\n",
       "NETTAKEHOMEINCOME      0\n",
       "BRANCH_PINCODE         0\n",
       "dtype: int64"
      ]
     },
     "execution_count": 36,
     "metadata": {},
     "output_type": "execute_result"
    }
   ],
   "source": [
    "msng_vals=cust_data.isnull().sum()\n",
    "msng_vals"
   ]
  },
  {
   "cell_type": "markdown",
   "metadata": {},
   "source": [
    "# Agreement Data Pre Processing"
   ]
  },
  {
   "cell_type": "code",
   "execution_count": 37,
   "metadata": {},
   "outputs": [],
   "source": [
    "agree_data=pd.read_csv(\"C:/Users/Vikas/Machine Learning/DSL/93fe009c-2-Foreclosure-Prediction-Dataset_/LMS_31JAN2019.csv\")"
   ]
  },
  {
   "cell_type": "code",
   "execution_count": 38,
   "metadata": {},
   "outputs": [],
   "source": [
    "#agree_data['AGREEMENTID'].value_counts()"
   ]
  },
  {
   "cell_type": "code",
   "execution_count": 39,
   "metadata": {},
   "outputs": [
    {
     "data": {
      "text/html": [
       "<div>\n",
       "<style scoped>\n",
       "    .dataframe tbody tr th:only-of-type {\n",
       "        vertical-align: middle;\n",
       "    }\n",
       "\n",
       "    .dataframe tbody tr th {\n",
       "        vertical-align: top;\n",
       "    }\n",
       "\n",
       "    .dataframe thead th {\n",
       "        text-align: right;\n",
       "    }\n",
       "</style>\n",
       "<table border=\"1\" class=\"dataframe\">\n",
       "  <thead>\n",
       "    <tr style=\"text-align: right;\">\n",
       "      <th></th>\n",
       "      <th>AGREEMENTID</th>\n",
       "      <th>CUSTOMERID</th>\n",
       "      <th>LOAN_AMT</th>\n",
       "      <th>NET_DISBURSED_AMT</th>\n",
       "      <th>INTEREST_START_DATE</th>\n",
       "      <th>CURRENT_ROI</th>\n",
       "      <th>ORIGNAL_ROI</th>\n",
       "      <th>CURRENT_TENOR</th>\n",
       "      <th>ORIGNAL_TENOR</th>\n",
       "      <th>DUEDAY</th>\n",
       "      <th>...</th>\n",
       "      <th>NET_LTV</th>\n",
       "      <th>COMPLETED_TENURE</th>\n",
       "      <th>BALANCE_TENURE</th>\n",
       "      <th>DPD</th>\n",
       "      <th>FOIR</th>\n",
       "      <th>PRODUCT</th>\n",
       "      <th>SCHEMEID</th>\n",
       "      <th>NPA_IN_LAST_MONTH</th>\n",
       "      <th>NPA_IN_CURRENT_MONTH</th>\n",
       "      <th>MOB</th>\n",
       "    </tr>\n",
       "  </thead>\n",
       "  <tbody>\n",
       "    <tr>\n",
       "      <th>0</th>\n",
       "      <td>11220001</td>\n",
       "      <td>12001000.0</td>\n",
       "      <td>11710107.24</td>\n",
       "      <td>11710107.24</td>\n",
       "      <td>30-08-2010</td>\n",
       "      <td>13.7</td>\n",
       "      <td>10.6</td>\n",
       "      <td>58.0</td>\n",
       "      <td>120</td>\n",
       "      <td>1</td>\n",
       "      <td>...</td>\n",
       "      <td>40.06</td>\n",
       "      <td>39</td>\n",
       "      <td>19.0</td>\n",
       "      <td>0.0</td>\n",
       "      <td>0.6000</td>\n",
       "      <td>HL</td>\n",
       "      <td>10901100.0</td>\n",
       "      <td>NaN</td>\n",
       "      <td>NaN</td>\n",
       "      <td>39</td>\n",
       "    </tr>\n",
       "    <tr>\n",
       "      <th>1</th>\n",
       "      <td>11220002</td>\n",
       "      <td>12001001.0</td>\n",
       "      <td>19290253.32</td>\n",
       "      <td>19290253.32</td>\n",
       "      <td>15-09-2010</td>\n",
       "      <td>13.7</td>\n",
       "      <td>10.6</td>\n",
       "      <td>137.0</td>\n",
       "      <td>180</td>\n",
       "      <td>1</td>\n",
       "      <td>...</td>\n",
       "      <td>84.31</td>\n",
       "      <td>38</td>\n",
       "      <td>99.0</td>\n",
       "      <td>0.0</td>\n",
       "      <td>0.6000</td>\n",
       "      <td>HL</td>\n",
       "      <td>10901100.0</td>\n",
       "      <td>NaN</td>\n",
       "      <td>NaN</td>\n",
       "      <td>38</td>\n",
       "    </tr>\n",
       "    <tr>\n",
       "      <th>2</th>\n",
       "      <td>11220003</td>\n",
       "      <td>12001002.0</td>\n",
       "      <td>4053498.66</td>\n",
       "      <td>4053498.66</td>\n",
       "      <td>06-09-2010</td>\n",
       "      <td>17.2</td>\n",
       "      <td>12.5</td>\n",
       "      <td>360.0</td>\n",
       "      <td>180</td>\n",
       "      <td>5</td>\n",
       "      <td>...</td>\n",
       "      <td>79.34</td>\n",
       "      <td>38</td>\n",
       "      <td>322.0</td>\n",
       "      <td>0.0</td>\n",
       "      <td>0.9100</td>\n",
       "      <td>HL</td>\n",
       "      <td>10901101.0</td>\n",
       "      <td>NaN</td>\n",
       "      <td>NaN</td>\n",
       "      <td>38</td>\n",
       "    </tr>\n",
       "    <tr>\n",
       "      <th>3</th>\n",
       "      <td>11220004</td>\n",
       "      <td>12001003.0</td>\n",
       "      <td>13257031.92</td>\n",
       "      <td>13257031.92</td>\n",
       "      <td>29-09-2010</td>\n",
       "      <td>15.6</td>\n",
       "      <td>10.9</td>\n",
       "      <td>198.0</td>\n",
       "      <td>180</td>\n",
       "      <td>5</td>\n",
       "      <td>...</td>\n",
       "      <td>86.86</td>\n",
       "      <td>37</td>\n",
       "      <td>161.0</td>\n",
       "      <td>0.0</td>\n",
       "      <td>0.9686</td>\n",
       "      <td>HL</td>\n",
       "      <td>10901101.0</td>\n",
       "      <td>NaN</td>\n",
       "      <td>NaN</td>\n",
       "      <td>38</td>\n",
       "    </tr>\n",
       "    <tr>\n",
       "      <th>4</th>\n",
       "      <td>11220005</td>\n",
       "      <td>12001004.0</td>\n",
       "      <td>13211403.04</td>\n",
       "      <td>13211403.04</td>\n",
       "      <td>06-09-2010</td>\n",
       "      <td>16.5</td>\n",
       "      <td>11.9</td>\n",
       "      <td>142.0</td>\n",
       "      <td>180</td>\n",
       "      <td>5</td>\n",
       "      <td>...</td>\n",
       "      <td>40.93</td>\n",
       "      <td>38</td>\n",
       "      <td>104.0</td>\n",
       "      <td>0.0</td>\n",
       "      <td>0.7300</td>\n",
       "      <td>HL</td>\n",
       "      <td>10901101.0</td>\n",
       "      <td>NaN</td>\n",
       "      <td>NaN</td>\n",
       "      <td>38</td>\n",
       "    </tr>\n",
       "  </tbody>\n",
       "</table>\n",
       "<p>5 rows × 38 columns</p>\n",
       "</div>"
      ],
      "text/plain": [
       "   AGREEMENTID  CUSTOMERID     LOAN_AMT  NET_DISBURSED_AMT  \\\n",
       "0     11220001  12001000.0  11710107.24        11710107.24   \n",
       "1     11220002  12001001.0  19290253.32        19290253.32   \n",
       "2     11220003  12001002.0   4053498.66         4053498.66   \n",
       "3     11220004  12001003.0  13257031.92        13257031.92   \n",
       "4     11220005  12001004.0  13211403.04        13211403.04   \n",
       "\n",
       "  INTEREST_START_DATE  CURRENT_ROI  ORIGNAL_ROI  CURRENT_TENOR  ORIGNAL_TENOR  \\\n",
       "0          30-08-2010         13.7         10.6           58.0            120   \n",
       "1          15-09-2010         13.7         10.6          137.0            180   \n",
       "2          06-09-2010         17.2         12.5          360.0            180   \n",
       "3          29-09-2010         15.6         10.9          198.0            180   \n",
       "4          06-09-2010         16.5         11.9          142.0            180   \n",
       "\n",
       "   DUEDAY ...  NET_LTV COMPLETED_TENURE  BALANCE_TENURE  DPD    FOIR  PRODUCT  \\\n",
       "0       1 ...    40.06               39            19.0  0.0  0.6000       HL   \n",
       "1       1 ...    84.31               38            99.0  0.0  0.6000       HL   \n",
       "2       5 ...    79.34               38           322.0  0.0  0.9100       HL   \n",
       "3       5 ...    86.86               37           161.0  0.0  0.9686       HL   \n",
       "4       5 ...    40.93               38           104.0  0.0  0.7300       HL   \n",
       "\n",
       "     SCHEMEID  NPA_IN_LAST_MONTH  NPA_IN_CURRENT_MONTH  MOB  \n",
       "0  10901100.0                NaN                   NaN   39  \n",
       "1  10901100.0                NaN                   NaN   38  \n",
       "2  10901101.0                NaN                   NaN   38  \n",
       "3  10901101.0                NaN                   NaN   38  \n",
       "4  10901101.0                NaN                   NaN   38  \n",
       "\n",
       "[5 rows x 38 columns]"
      ]
     },
     "execution_count": 39,
     "metadata": {},
     "output_type": "execute_result"
    }
   ],
   "source": [
    "agree_data.head()"
   ]
  },
  {
   "cell_type": "code",
   "execution_count": 40,
   "metadata": {},
   "outputs": [
    {
     "data": {
      "text/plain": [
       "(624250, 38)"
      ]
     },
     "execution_count": 40,
     "metadata": {},
     "output_type": "execute_result"
    }
   ],
   "source": [
    "agree_data.shape"
   ]
  },
  {
   "cell_type": "code",
   "execution_count": 41,
   "metadata": {},
   "outputs": [
    {
     "data": {
      "text/html": [
       "<div>\n",
       "<style scoped>\n",
       "    .dataframe tbody tr th:only-of-type {\n",
       "        vertical-align: middle;\n",
       "    }\n",
       "\n",
       "    .dataframe tbody tr th {\n",
       "        vertical-align: top;\n",
       "    }\n",
       "\n",
       "    .dataframe thead th {\n",
       "        text-align: right;\n",
       "    }\n",
       "</style>\n",
       "<table border=\"1\" class=\"dataframe\">\n",
       "  <thead>\n",
       "    <tr style=\"text-align: right;\">\n",
       "      <th></th>\n",
       "      <th>AGREEMENTID</th>\n",
       "      <th>CUSTOMERID</th>\n",
       "      <th>LOAN_AMT</th>\n",
       "      <th>NET_DISBURSED_AMT</th>\n",
       "      <th>INTEREST_START_DATE</th>\n",
       "      <th>CURRENT_ROI</th>\n",
       "      <th>ORIGNAL_ROI</th>\n",
       "      <th>CURRENT_TENOR</th>\n",
       "      <th>ORIGNAL_TENOR</th>\n",
       "      <th>DUEDAY</th>\n",
       "      <th>...</th>\n",
       "      <th>NET_LTV</th>\n",
       "      <th>COMPLETED_TENURE</th>\n",
       "      <th>BALANCE_TENURE</th>\n",
       "      <th>DPD</th>\n",
       "      <th>FOIR</th>\n",
       "      <th>PRODUCT</th>\n",
       "      <th>SCHEMEID</th>\n",
       "      <th>NPA_IN_LAST_MONTH</th>\n",
       "      <th>NPA_IN_CURRENT_MONTH</th>\n",
       "      <th>MOB</th>\n",
       "    </tr>\n",
       "  </thead>\n",
       "  <tbody>\n",
       "    <tr>\n",
       "      <th>286771</th>\n",
       "      <td>11233980</td>\n",
       "      <td>12014979.0</td>\n",
       "      <td>1544872.41</td>\n",
       "      <td>1544872.41</td>\n",
       "      <td>30-04-2017</td>\n",
       "      <td>15.0</td>\n",
       "      <td>15.0</td>\n",
       "      <td>NaN</td>\n",
       "      <td>180</td>\n",
       "      <td>5</td>\n",
       "      <td>...</td>\n",
       "      <td>34.01</td>\n",
       "      <td>0</td>\n",
       "      <td>NaN</td>\n",
       "      <td>0.0</td>\n",
       "      <td>0.39</td>\n",
       "      <td>STHL</td>\n",
       "      <td>10901298.0</td>\n",
       "      <td>0</td>\n",
       "      <td>0</td>\n",
       "      <td>5</td>\n",
       "    </tr>\n",
       "    <tr>\n",
       "      <th>286772</th>\n",
       "      <td>11234225</td>\n",
       "      <td>12015224.0</td>\n",
       "      <td>1216235.76</td>\n",
       "      <td>1216235.76</td>\n",
       "      <td>12-05-2017</td>\n",
       "      <td>15.0</td>\n",
       "      <td>15.0</td>\n",
       "      <td>NaN</td>\n",
       "      <td>240</td>\n",
       "      <td>5</td>\n",
       "      <td>...</td>\n",
       "      <td>46.48</td>\n",
       "      <td>0</td>\n",
       "      <td>NaN</td>\n",
       "      <td>0.0</td>\n",
       "      <td>0.40</td>\n",
       "      <td>STHL</td>\n",
       "      <td>10901298.0</td>\n",
       "      <td>0</td>\n",
       "      <td>0</td>\n",
       "      <td>4</td>\n",
       "    </tr>\n",
       "    <tr>\n",
       "      <th>416329</th>\n",
       "      <td>11235058</td>\n",
       "      <td>12016057.0</td>\n",
       "      <td>1157499.06</td>\n",
       "      <td>1157499.06</td>\n",
       "      <td>28-06-2017</td>\n",
       "      <td>13.7</td>\n",
       "      <td>13.7</td>\n",
       "      <td>NaN</td>\n",
       "      <td>180</td>\n",
       "      <td>5</td>\n",
       "      <td>...</td>\n",
       "      <td>62.76</td>\n",
       "      <td>0</td>\n",
       "      <td>NaN</td>\n",
       "      <td>0.0</td>\n",
       "      <td>0.35</td>\n",
       "      <td>STHL</td>\n",
       "      <td>10901285.0</td>\n",
       "      <td>NaN</td>\n",
       "      <td>NaN</td>\n",
       "      <td>11</td>\n",
       "    </tr>\n",
       "    <tr>\n",
       "      <th>416997</th>\n",
       "      <td>11238278</td>\n",
       "      <td>12019277.0</td>\n",
       "      <td>1201036.64</td>\n",
       "      <td>1201036.64</td>\n",
       "      <td>13-11-2017</td>\n",
       "      <td>17.4</td>\n",
       "      <td>17.4</td>\n",
       "      <td>NaN</td>\n",
       "      <td>180</td>\n",
       "      <td>5</td>\n",
       "      <td>...</td>\n",
       "      <td>20.41</td>\n",
       "      <td>0</td>\n",
       "      <td>NaN</td>\n",
       "      <td>0.0</td>\n",
       "      <td>0.35</td>\n",
       "      <td>STHL</td>\n",
       "      <td>10901291.0</td>\n",
       "      <td>NaN</td>\n",
       "      <td>NaN</td>\n",
       "      <td>6</td>\n",
       "    </tr>\n",
       "    <tr>\n",
       "      <th>537704</th>\n",
       "      <td>11243831</td>\n",
       "      <td>12024830.0</td>\n",
       "      <td>3738226.54</td>\n",
       "      <td>3738226.54</td>\n",
       "      <td>28-03-2018</td>\n",
       "      <td>16.2</td>\n",
       "      <td>16.2</td>\n",
       "      <td>NaN</td>\n",
       "      <td>240</td>\n",
       "      <td>5</td>\n",
       "      <td>...</td>\n",
       "      <td>83.52</td>\n",
       "      <td>0</td>\n",
       "      <td>NaN</td>\n",
       "      <td>0.0</td>\n",
       "      <td>0.56</td>\n",
       "      <td>STHL</td>\n",
       "      <td>10901291.0</td>\n",
       "      <td>NaN</td>\n",
       "      <td>NaN</td>\n",
       "      <td>7</td>\n",
       "    </tr>\n",
       "  </tbody>\n",
       "</table>\n",
       "<p>5 rows × 38 columns</p>\n",
       "</div>"
      ],
      "text/plain": [
       "        AGREEMENTID  CUSTOMERID    LOAN_AMT  NET_DISBURSED_AMT  \\\n",
       "286771     11233980  12014979.0  1544872.41         1544872.41   \n",
       "286772     11234225  12015224.0  1216235.76         1216235.76   \n",
       "416329     11235058  12016057.0  1157499.06         1157499.06   \n",
       "416997     11238278  12019277.0  1201036.64         1201036.64   \n",
       "537704     11243831  12024830.0  3738226.54         3738226.54   \n",
       "\n",
       "       INTEREST_START_DATE  CURRENT_ROI  ORIGNAL_ROI  CURRENT_TENOR  \\\n",
       "286771          30-04-2017         15.0         15.0            NaN   \n",
       "286772          12-05-2017         15.0         15.0            NaN   \n",
       "416329          28-06-2017         13.7         13.7            NaN   \n",
       "416997          13-11-2017         17.4         17.4            NaN   \n",
       "537704          28-03-2018         16.2         16.2            NaN   \n",
       "\n",
       "        ORIGNAL_TENOR  DUEDAY ...  NET_LTV COMPLETED_TENURE  BALANCE_TENURE  \\\n",
       "286771            180       5 ...    34.01                0             NaN   \n",
       "286772            240       5 ...    46.48                0             NaN   \n",
       "416329            180       5 ...    62.76                0             NaN   \n",
       "416997            180       5 ...    20.41                0             NaN   \n",
       "537704            240       5 ...    83.52                0             NaN   \n",
       "\n",
       "        DPD  FOIR  PRODUCT    SCHEMEID  NPA_IN_LAST_MONTH  \\\n",
       "286771  0.0  0.39     STHL  10901298.0                  0   \n",
       "286772  0.0  0.40     STHL  10901298.0                  0   \n",
       "416329  0.0  0.35     STHL  10901285.0                NaN   \n",
       "416997  0.0  0.35     STHL  10901291.0                NaN   \n",
       "537704  0.0  0.56     STHL  10901291.0                NaN   \n",
       "\n",
       "        NPA_IN_CURRENT_MONTH  MOB  \n",
       "286771                     0    5  \n",
       "286772                     0    4  \n",
       "416329                   NaN   11  \n",
       "416997                   NaN    6  \n",
       "537704                   NaN    7  \n",
       "\n",
       "[5 rows x 38 columns]"
      ]
     },
     "execution_count": 41,
     "metadata": {},
     "output_type": "execute_result"
    }
   ],
   "source": [
    "agree_data[agree_data['CURRENT_TENOR'].isnull()]"
   ]
  },
  {
   "cell_type": "code",
   "execution_count": 42,
   "metadata": {},
   "outputs": [
    {
     "name": "stdout",
     "output_type": "stream",
     "text": [
      "nan\n",
      "nan\n",
      "nan\n",
      "nan\n",
      "nan\n"
     ]
    }
   ],
   "source": [
    "#Completed Tenure is 0 so Current Tenure is same as original tenure\n",
    "print(agree_data.loc[286771,'CURRENT_TENOR'])\n",
    "print(agree_data.loc[286772,'CURRENT_TENOR'])\n",
    "print(agree_data.loc[416329,'CURRENT_TENOR'])\n",
    "print(agree_data.loc[416997,'CURRENT_TENOR'])\n",
    "print(agree_data.loc[537704,'CURRENT_TENOR'])"
   ]
  },
  {
   "cell_type": "code",
   "execution_count": 43,
   "metadata": {},
   "outputs": [],
   "source": [
    "agree_data.loc[286771,'CURRENT_TENOR']=agree_data.loc[286771,'ORIGNAL_TENOR']\n",
    "agree_data.loc[286772,'CURRENT_TENOR']=agree_data.loc[286772,'ORIGNAL_TENOR']\n",
    "agree_data.loc[416329,'CURRENT_TENOR']=agree_data.loc[416329,'ORIGNAL_TENOR']\n",
    "agree_data.loc[416997,'CURRENT_TENOR']=agree_data.loc[416997,'ORIGNAL_TENOR']\n",
    "agree_data.loc[537704,'CURRENT_TENOR']=agree_data.loc[537704,'ORIGNAL_TENOR']"
   ]
  },
  {
   "cell_type": "code",
   "execution_count": 44,
   "metadata": {},
   "outputs": [
    {
     "data": {
      "text/plain": [
       "0    MUMBAI\n",
       "dtype: object"
      ]
     },
     "execution_count": 44,
     "metadata": {},
     "output_type": "execute_result"
    }
   ],
   "source": [
    "agree_data['CITY'].mode()"
   ]
  },
  {
   "cell_type": "code",
   "execution_count": 45,
   "metadata": {},
   "outputs": [],
   "source": [
    "#filling CITY NA values with mode\n",
    "agree_data['CITY']=agree_data['CITY'].fillna('MUMBAI')"
   ]
  },
  {
   "cell_type": "code",
   "execution_count": 46,
   "metadata": {},
   "outputs": [],
   "source": [
    "#Completed Tenure is 0 so Balance Tenure is same as Original Tenure\n",
    "agree_data.loc[286771,'BALANCE_TENURE']=agree_data.loc[286771,'ORIGNAL_TENOR']\n",
    "agree_data.loc[286772,'BALANCE_TENURE']=agree_data.loc[286772,'ORIGNAL_TENOR']\n",
    "agree_data.loc[416329,'BALANCE_TENURE']=agree_data.loc[416329,'ORIGNAL_TENOR']\n",
    "agree_data.loc[416997,'BALANCE_TENURE']=agree_data.loc[416997,'ORIGNAL_TENOR']\n",
    "agree_data.loc[537704,'BALANCE_TENURE']=agree_data.loc[537704,'ORIGNAL_TENOR']"
   ]
  },
  {
   "cell_type": "code",
   "execution_count": 47,
   "metadata": {},
   "outputs": [],
   "source": [
    "nagree_data=agree_data.copy()"
   ]
  },
  {
   "cell_type": "code",
   "execution_count": 48,
   "metadata": {},
   "outputs": [
    {
     "data": {
      "text/plain": [
       "(624250, 38)"
      ]
     },
     "execution_count": 48,
     "metadata": {},
     "output_type": "execute_result"
    }
   ],
   "source": [
    "nagree_data.shape"
   ]
  },
  {
   "cell_type": "code",
   "execution_count": 49,
   "metadata": {},
   "outputs": [],
   "source": [
    "#Filling NA values of Last receipt date by authorization date as completed tenure is 0\n",
    "for i in nagree_data[nagree_data['LAST_RECEIPT_DATE'].isnull()].index:\n",
    "    nagree_data.loc[i,'LAST_RECEIPT_DATE']=nagree_data.loc[i,'AUTHORIZATIONDATE']"
   ]
  },
  {
   "cell_type": "code",
   "execution_count": 50,
   "metadata": {},
   "outputs": [
    {
     "data": {
      "text/html": [
       "<div>\n",
       "<style scoped>\n",
       "    .dataframe tbody tr th:only-of-type {\n",
       "        vertical-align: middle;\n",
       "    }\n",
       "\n",
       "    .dataframe tbody tr th {\n",
       "        vertical-align: top;\n",
       "    }\n",
       "\n",
       "    .dataframe thead th {\n",
       "        text-align: right;\n",
       "    }\n",
       "</style>\n",
       "<table border=\"1\" class=\"dataframe\">\n",
       "  <thead>\n",
       "    <tr style=\"text-align: right;\">\n",
       "      <th></th>\n",
       "      <th>INTEREST_START_DATE</th>\n",
       "      <th>AUTHORIZATIONDATE</th>\n",
       "      <th>LAST_RECEIPT_DATE</th>\n",
       "    </tr>\n",
       "  </thead>\n",
       "  <tbody>\n",
       "    <tr>\n",
       "      <th>0</th>\n",
       "      <td>30-08-2010</td>\n",
       "      <td>29-08-2010</td>\n",
       "      <td>01-11-2013</td>\n",
       "    </tr>\n",
       "    <tr>\n",
       "      <th>1</th>\n",
       "      <td>15-09-2010</td>\n",
       "      <td>15-09-2010</td>\n",
       "      <td>01-11-2013</td>\n",
       "    </tr>\n",
       "    <tr>\n",
       "      <th>2</th>\n",
       "      <td>06-09-2010</td>\n",
       "      <td>06-09-2010</td>\n",
       "      <td>05-11-2013</td>\n",
       "    </tr>\n",
       "    <tr>\n",
       "      <th>3</th>\n",
       "      <td>29-09-2010</td>\n",
       "      <td>29-09-2010</td>\n",
       "      <td>05-11-2013</td>\n",
       "    </tr>\n",
       "    <tr>\n",
       "      <th>4</th>\n",
       "      <td>06-09-2010</td>\n",
       "      <td>06-09-2010</td>\n",
       "      <td>05-11-2013</td>\n",
       "    </tr>\n",
       "  </tbody>\n",
       "</table>\n",
       "</div>"
      ],
      "text/plain": [
       "  INTEREST_START_DATE AUTHORIZATIONDATE LAST_RECEIPT_DATE\n",
       "0          30-08-2010        29-08-2010        01-11-2013\n",
       "1          15-09-2010        15-09-2010        01-11-2013\n",
       "2          06-09-2010        06-09-2010        05-11-2013\n",
       "3          29-09-2010        29-09-2010        05-11-2013\n",
       "4          06-09-2010        06-09-2010        05-11-2013"
      ]
     },
     "execution_count": 50,
     "metadata": {},
     "output_type": "execute_result"
    }
   ],
   "source": [
    "nagree_data.loc[:,['INTEREST_START_DATE','AUTHORIZATIONDATE','LAST_RECEIPT_DATE']].head()"
   ]
  },
  {
   "cell_type": "code",
   "execution_count": 51,
   "metadata": {},
   "outputs": [
    {
     "data": {
      "text/html": [
       "<div>\n",
       "<style scoped>\n",
       "    .dataframe tbody tr th:only-of-type {\n",
       "        vertical-align: middle;\n",
       "    }\n",
       "\n",
       "    .dataframe tbody tr th {\n",
       "        vertical-align: top;\n",
       "    }\n",
       "\n",
       "    .dataframe thead th {\n",
       "        text-align: right;\n",
       "    }\n",
       "</style>\n",
       "<table border=\"1\" class=\"dataframe\">\n",
       "  <thead>\n",
       "    <tr style=\"text-align: right;\">\n",
       "      <th></th>\n",
       "      <th>LOAN_AMT</th>\n",
       "      <th>NET_DISBURSED_AMT</th>\n",
       "      <th>PRE_EMI_DUEAMT</th>\n",
       "      <th>PRE_EMI_RECEIVED_AMT</th>\n",
       "      <th>EMI_OS_AMOUNT</th>\n",
       "      <th>EXCESS_AVAILABLE</th>\n",
       "      <th>EXCESS_ADJUSTED_AMT</th>\n",
       "      <th>BALANCE_EXCESS</th>\n",
       "      <th>NET_RECEIVABLE</th>\n",
       "      <th>OUTSTANDING_PRINCIPAL</th>\n",
       "      <th>PAID_PRINCIPAL</th>\n",
       "      <th>PAID_INTEREST</th>\n",
       "      <th>MONTHOPENING</th>\n",
       "      <th>LAST_RECEIPT_AMOUNT</th>\n",
       "    </tr>\n",
       "  </thead>\n",
       "  <tbody>\n",
       "    <tr>\n",
       "      <th>0</th>\n",
       "      <td>11710107.24</td>\n",
       "      <td>11710107.24</td>\n",
       "      <td>7994.273589</td>\n",
       "      <td>7994.273589</td>\n",
       "      <td>184544.3966</td>\n",
       "      <td>29042.45880</td>\n",
       "      <td>29042.4588</td>\n",
       "      <td>0.00000</td>\n",
       "      <td>184544.39660</td>\n",
       "      <td>2.262177e+06</td>\n",
       "      <td>9.447930e+06</td>\n",
       "      <td>2617476.019</td>\n",
       "      <td>9.338009e+06</td>\n",
       "      <td>83559.0</td>\n",
       "    </tr>\n",
       "    <tr>\n",
       "      <th>1</th>\n",
       "      <td>19290253.32</td>\n",
       "      <td>19290253.32</td>\n",
       "      <td>100504.575900</td>\n",
       "      <td>100504.575900</td>\n",
       "      <td>279448.0846</td>\n",
       "      <td>0.00000</td>\n",
       "      <td>0.0000</td>\n",
       "      <td>0.00000</td>\n",
       "      <td>279448.08460</td>\n",
       "      <td>1.234760e+07</td>\n",
       "      <td>6.942656e+06</td>\n",
       "      <td>4945153.591</td>\n",
       "      <td>1.713861e+07</td>\n",
       "      <td>126530.0</td>\n",
       "    </tr>\n",
       "    <tr>\n",
       "      <th>2</th>\n",
       "      <td>4053498.66</td>\n",
       "      <td>4053498.66</td>\n",
       "      <td>0.000000</td>\n",
       "      <td>0.000000</td>\n",
       "      <td>0.0000</td>\n",
       "      <td>0.44171</td>\n",
       "      <td>0.0000</td>\n",
       "      <td>0.44171</td>\n",
       "      <td>-0.44171</td>\n",
       "      <td>3.944954e+06</td>\n",
       "      <td>1.085444e+05</td>\n",
       "      <td>1549566.273</td>\n",
       "      <td>3.944954e+06</td>\n",
       "      <td>30898.0</td>\n",
       "    </tr>\n",
       "    <tr>\n",
       "      <th>3</th>\n",
       "      <td>13257031.92</td>\n",
       "      <td>13257031.92</td>\n",
       "      <td>28441.732660</td>\n",
       "      <td>28441.732660</td>\n",
       "      <td>0.0000</td>\n",
       "      <td>0.00000</td>\n",
       "      <td>0.0000</td>\n",
       "      <td>0.00000</td>\n",
       "      <td>0.00000</td>\n",
       "      <td>1.030278e+07</td>\n",
       "      <td>2.954253e+06</td>\n",
       "      <td>4219463.668</td>\n",
       "      <td>1.255472e+07</td>\n",
       "      <td>88256.0</td>\n",
       "    </tr>\n",
       "    <tr>\n",
       "      <th>4</th>\n",
       "      <td>13211403.04</td>\n",
       "      <td>13211403.04</td>\n",
       "      <td>0.000000</td>\n",
       "      <td>0.000000</td>\n",
       "      <td>0.0000</td>\n",
       "      <td>0.00000</td>\n",
       "      <td>0.0000</td>\n",
       "      <td>0.00000</td>\n",
       "      <td>0.00000</td>\n",
       "      <td>8.479158e+06</td>\n",
       "      <td>4.732245e+06</td>\n",
       "      <td>3812974.258</td>\n",
       "      <td>1.178201e+07</td>\n",
       "      <td>91892.0</td>\n",
       "    </tr>\n",
       "  </tbody>\n",
       "</table>\n",
       "</div>"
      ],
      "text/plain": [
       "      LOAN_AMT  NET_DISBURSED_AMT  PRE_EMI_DUEAMT  PRE_EMI_RECEIVED_AMT  \\\n",
       "0  11710107.24        11710107.24     7994.273589           7994.273589   \n",
       "1  19290253.32        19290253.32   100504.575900         100504.575900   \n",
       "2   4053498.66         4053498.66        0.000000              0.000000   \n",
       "3  13257031.92        13257031.92    28441.732660          28441.732660   \n",
       "4  13211403.04        13211403.04        0.000000              0.000000   \n",
       "\n",
       "   EMI_OS_AMOUNT  EXCESS_AVAILABLE  EXCESS_ADJUSTED_AMT  BALANCE_EXCESS  \\\n",
       "0    184544.3966       29042.45880           29042.4588         0.00000   \n",
       "1    279448.0846           0.00000               0.0000         0.00000   \n",
       "2         0.0000           0.44171               0.0000         0.44171   \n",
       "3         0.0000           0.00000               0.0000         0.00000   \n",
       "4         0.0000           0.00000               0.0000         0.00000   \n",
       "\n",
       "   NET_RECEIVABLE  OUTSTANDING_PRINCIPAL  PAID_PRINCIPAL  PAID_INTEREST  \\\n",
       "0    184544.39660           2.262177e+06    9.447930e+06    2617476.019   \n",
       "1    279448.08460           1.234760e+07    6.942656e+06    4945153.591   \n",
       "2        -0.44171           3.944954e+06    1.085444e+05    1549566.273   \n",
       "3         0.00000           1.030278e+07    2.954253e+06    4219463.668   \n",
       "4         0.00000           8.479158e+06    4.732245e+06    3812974.258   \n",
       "\n",
       "   MONTHOPENING  LAST_RECEIPT_AMOUNT  \n",
       "0  9.338009e+06              83559.0  \n",
       "1  1.713861e+07             126530.0  \n",
       "2  3.944954e+06              30898.0  \n",
       "3  1.255472e+07              88256.0  \n",
       "4  1.178201e+07              91892.0  "
      ]
     },
     "execution_count": 51,
     "metadata": {},
     "output_type": "execute_result"
    }
   ],
   "source": [
    "nagree_data.loc[:,['LOAN_AMT','NET_DISBURSED_AMT','PRE_EMI_DUEAMT','PRE_EMI_RECEIVED_AMT','EMI_OS_AMOUNT', 'EXCESS_AVAILABLE',\n",
    "       'EXCESS_ADJUSTED_AMT', 'BALANCE_EXCESS', 'NET_RECEIVABLE',\n",
    "       'OUTSTANDING_PRINCIPAL', 'PAID_PRINCIPAL', 'PAID_INTEREST',\n",
    "       'MONTHOPENING','LAST_RECEIPT_AMOUNT']].head()"
   ]
  },
  {
   "cell_type": "code",
   "execution_count": 52,
   "metadata": {},
   "outputs": [],
   "source": [
    "#Filling NA values of Last receipt amoount by pre emi received amount as completed tenure is 0\n",
    "for i in nagree_data[nagree_data['LAST_RECEIPT_AMOUNT'].isnull()].index:\n",
    "    nagree_data.loc[i,'LAST_RECEIPT_AMOUNT']=nagree_data.loc[i,'PRE_EMI_RECEIVED_AMT']"
   ]
  },
  {
   "cell_type": "code",
   "execution_count": 53,
   "metadata": {},
   "outputs": [
    {
     "data": {
      "text/plain": [
       "(624250, 38)"
      ]
     },
     "execution_count": 53,
     "metadata": {},
     "output_type": "execute_result"
    }
   ],
   "source": [
    "nagree_data.shape"
   ]
  },
  {
   "cell_type": "code",
   "execution_count": 54,
   "metadata": {},
   "outputs": [
    {
     "data": {
      "text/plain": [
       "0    0.0\n",
       "dtype: float64"
      ]
     },
     "execution_count": 54,
     "metadata": {},
     "output_type": "execute_result"
    }
   ],
   "source": [
    "nagree_data['DPD'].mode()"
   ]
  },
  {
   "cell_type": "code",
   "execution_count": 55,
   "metadata": {},
   "outputs": [],
   "source": [
    "#filling DPD NA values with mode\n",
    "nagree_data['DPD']=agree_data['DPD'].fillna(0.0)"
   ]
  },
  {
   "cell_type": "code",
   "execution_count": 56,
   "metadata": {},
   "outputs": [
    {
     "data": {
      "text/plain": [
       "AGREEMENTID                   0\n",
       "CUSTOMERID                  516\n",
       "LOAN_AMT                      0\n",
       "NET_DISBURSED_AMT             0\n",
       "INTEREST_START_DATE           0\n",
       "CURRENT_ROI                   0\n",
       "ORIGNAL_ROI                   0\n",
       "CURRENT_TENOR                 0\n",
       "ORIGNAL_TENOR                 0\n",
       "DUEDAY                        0\n",
       "AUTHORIZATIONDATE             0\n",
       "CITY                          0\n",
       "PRE_EMI_DUEAMT                0\n",
       "PRE_EMI_RECEIVED_AMT          0\n",
       "PRE_EMI_OS_AMOUNT             0\n",
       "EMI_DUEAMT                    0\n",
       "EMI_RECEIVED_AMT              0\n",
       "EMI_OS_AMOUNT                 0\n",
       "EXCESS_AVAILABLE              0\n",
       "EXCESS_ADJUSTED_AMT           0\n",
       "BALANCE_EXCESS                0\n",
       "NET_RECEIVABLE                0\n",
       "OUTSTANDING_PRINCIPAL         0\n",
       "PAID_PRINCIPAL                0\n",
       "PAID_INTEREST                 0\n",
       "MONTHOPENING                  0\n",
       "LAST_RECEIPT_DATE             0\n",
       "LAST_RECEIPT_AMOUNT           0\n",
       "NET_LTV                       0\n",
       "COMPLETED_TENURE              0\n",
       "BALANCE_TENURE                0\n",
       "DPD                           0\n",
       "FOIR                          0\n",
       "PRODUCT                       0\n",
       "SCHEMEID                    516\n",
       "NPA_IN_LAST_MONTH        610891\n",
       "NPA_IN_CURRENT_MONTH     610814\n",
       "MOB                           0\n",
       "dtype: int64"
      ]
     },
     "execution_count": 56,
     "metadata": {},
     "output_type": "execute_result"
    }
   ],
   "source": [
    "agree_vals=nagree_data.isnull().sum()\n",
    "agree_vals"
   ]
  },
  {
   "cell_type": "markdown",
   "metadata": {},
   "source": [
    "# Master Dataset"
   ]
  },
  {
   "cell_type": "code",
   "execution_count": 57,
   "metadata": {},
   "outputs": [],
   "source": [
    "master_data=nagree_data.copy()"
   ]
  },
  {
   "cell_type": "code",
   "execution_count": 58,
   "metadata": {},
   "outputs": [
    {
     "data": {
      "text/plain": [
       "Index(['AGREEMENTID', 'CUSTOMERID', 'LOAN_AMT', 'NET_DISBURSED_AMT',\n",
       "       'INTEREST_START_DATE', 'CURRENT_ROI', 'ORIGNAL_ROI', 'CURRENT_TENOR',\n",
       "       'ORIGNAL_TENOR', 'DUEDAY', 'AUTHORIZATIONDATE', 'CITY',\n",
       "       'PRE_EMI_DUEAMT', 'PRE_EMI_RECEIVED_AMT', 'PRE_EMI_OS_AMOUNT',\n",
       "       'EMI_DUEAMT', 'EMI_RECEIVED_AMT', 'EMI_OS_AMOUNT', 'EXCESS_AVAILABLE',\n",
       "       'EXCESS_ADJUSTED_AMT', 'BALANCE_EXCESS', 'NET_RECEIVABLE',\n",
       "       'OUTSTANDING_PRINCIPAL', 'PAID_PRINCIPAL', 'PAID_INTEREST',\n",
       "       'MONTHOPENING', 'LAST_RECEIPT_DATE', 'LAST_RECEIPT_AMOUNT', 'NET_LTV',\n",
       "       'COMPLETED_TENURE', 'BALANCE_TENURE', 'DPD', 'FOIR', 'PRODUCT',\n",
       "       'SCHEMEID', 'NPA_IN_LAST_MONTH', 'NPA_IN_CURRENT_MONTH', 'MOB'],\n",
       "      dtype='object')"
      ]
     },
     "execution_count": 58,
     "metadata": {},
     "output_type": "execute_result"
    }
   ],
   "source": [
    "master_data.columns"
   ]
  },
  {
   "cell_type": "code",
   "execution_count": 59,
   "metadata": {},
   "outputs": [
    {
     "data": {
      "text/plain": [
       "Index(['CUSTOMERID', 'CUST_CONSTTYPE_ID', 'CUST_CATEGORYID', 'AGE', 'SEX',\n",
       "       'MARITAL_STATUS', 'QUALIFICATION', 'NO_OF_DEPENDENT', 'GROSS_INCOME',\n",
       "       'NETTAKEHOMEINCOME', 'BRANCH_PINCODE'],\n",
       "      dtype='object')"
      ]
     },
     "execution_count": 59,
     "metadata": {},
     "output_type": "execute_result"
    }
   ],
   "source": [
    "cust_data.columns"
   ]
  },
  {
   "cell_type": "code",
   "execution_count": 60,
   "metadata": {},
   "outputs": [],
   "source": [
    "master_data=master_data.sort_values(['AGREEMENTID','MOB'])"
   ]
  },
  {
   "cell_type": "code",
   "execution_count": 61,
   "metadata": {},
   "outputs": [
    {
     "data": {
      "text/html": [
       "<div>\n",
       "<style scoped>\n",
       "    .dataframe tbody tr th:only-of-type {\n",
       "        vertical-align: middle;\n",
       "    }\n",
       "\n",
       "    .dataframe tbody tr th {\n",
       "        vertical-align: top;\n",
       "    }\n",
       "\n",
       "    .dataframe thead th {\n",
       "        text-align: right;\n",
       "    }\n",
       "</style>\n",
       "<table border=\"1\" class=\"dataframe\">\n",
       "  <thead>\n",
       "    <tr style=\"text-align: right;\">\n",
       "      <th></th>\n",
       "      <th>AGREEMENTID</th>\n",
       "      <th>CUSTOMERID</th>\n",
       "      <th>LOAN_AMT</th>\n",
       "      <th>NET_DISBURSED_AMT</th>\n",
       "      <th>INTEREST_START_DATE</th>\n",
       "      <th>CURRENT_ROI</th>\n",
       "      <th>ORIGNAL_ROI</th>\n",
       "      <th>CURRENT_TENOR</th>\n",
       "      <th>ORIGNAL_TENOR</th>\n",
       "      <th>DUEDAY</th>\n",
       "      <th>...</th>\n",
       "      <th>NET_LTV</th>\n",
       "      <th>COMPLETED_TENURE</th>\n",
       "      <th>BALANCE_TENURE</th>\n",
       "      <th>DPD</th>\n",
       "      <th>FOIR</th>\n",
       "      <th>PRODUCT</th>\n",
       "      <th>SCHEMEID</th>\n",
       "      <th>NPA_IN_LAST_MONTH</th>\n",
       "      <th>NPA_IN_CURRENT_MONTH</th>\n",
       "      <th>MOB</th>\n",
       "    </tr>\n",
       "  </thead>\n",
       "  <tbody>\n",
       "    <tr>\n",
       "      <th>0</th>\n",
       "      <td>11220001</td>\n",
       "      <td>12001000.0</td>\n",
       "      <td>11710107.24</td>\n",
       "      <td>11710107.24</td>\n",
       "      <td>30-08-2010</td>\n",
       "      <td>13.7</td>\n",
       "      <td>10.6</td>\n",
       "      <td>58.0</td>\n",
       "      <td>120</td>\n",
       "      <td>1</td>\n",
       "      <td>...</td>\n",
       "      <td>40.06</td>\n",
       "      <td>39</td>\n",
       "      <td>19.0</td>\n",
       "      <td>0.0</td>\n",
       "      <td>0.60</td>\n",
       "      <td>HL</td>\n",
       "      <td>10901100.0</td>\n",
       "      <td>NaN</td>\n",
       "      <td>NaN</td>\n",
       "      <td>39</td>\n",
       "    </tr>\n",
       "    <tr>\n",
       "      <th>2855</th>\n",
       "      <td>11220001</td>\n",
       "      <td>12001000.0</td>\n",
       "      <td>11710107.24</td>\n",
       "      <td>11710107.24</td>\n",
       "      <td>30-08-2010</td>\n",
       "      <td>13.7</td>\n",
       "      <td>10.6</td>\n",
       "      <td>58.0</td>\n",
       "      <td>120</td>\n",
       "      <td>1</td>\n",
       "      <td>...</td>\n",
       "      <td>40.06</td>\n",
       "      <td>40</td>\n",
       "      <td>18.0</td>\n",
       "      <td>0.0</td>\n",
       "      <td>0.60</td>\n",
       "      <td>HL</td>\n",
       "      <td>10901100.0</td>\n",
       "      <td>NaN</td>\n",
       "      <td>NaN</td>\n",
       "      <td>40</td>\n",
       "    </tr>\n",
       "    <tr>\n",
       "      <th>5825</th>\n",
       "      <td>11220001</td>\n",
       "      <td>12001000.0</td>\n",
       "      <td>11710107.24</td>\n",
       "      <td>11710107.24</td>\n",
       "      <td>30-08-2010</td>\n",
       "      <td>13.4</td>\n",
       "      <td>10.6</td>\n",
       "      <td>58.0</td>\n",
       "      <td>120</td>\n",
       "      <td>1</td>\n",
       "      <td>...</td>\n",
       "      <td>40.06</td>\n",
       "      <td>41</td>\n",
       "      <td>17.0</td>\n",
       "      <td>0.0</td>\n",
       "      <td>0.60</td>\n",
       "      <td>HL</td>\n",
       "      <td>10901100.0</td>\n",
       "      <td>NaN</td>\n",
       "      <td>NaN</td>\n",
       "      <td>41</td>\n",
       "    </tr>\n",
       "    <tr>\n",
       "      <th>8928</th>\n",
       "      <td>11220001</td>\n",
       "      <td>12001000.0</td>\n",
       "      <td>11710107.24</td>\n",
       "      <td>11710107.24</td>\n",
       "      <td>30-08-2010</td>\n",
       "      <td>13.4</td>\n",
       "      <td>10.6</td>\n",
       "      <td>58.0</td>\n",
       "      <td>120</td>\n",
       "      <td>1</td>\n",
       "      <td>...</td>\n",
       "      <td>40.06</td>\n",
       "      <td>41</td>\n",
       "      <td>17.0</td>\n",
       "      <td>0.0</td>\n",
       "      <td>0.60</td>\n",
       "      <td>HL</td>\n",
       "      <td>10901100.0</td>\n",
       "      <td>NaN</td>\n",
       "      <td>NaN</td>\n",
       "      <td>42</td>\n",
       "    </tr>\n",
       "    <tr>\n",
       "      <th>12193</th>\n",
       "      <td>11220001</td>\n",
       "      <td>12001000.0</td>\n",
       "      <td>11710107.24</td>\n",
       "      <td>11710107.24</td>\n",
       "      <td>30-08-2010</td>\n",
       "      <td>13.4</td>\n",
       "      <td>10.6</td>\n",
       "      <td>58.0</td>\n",
       "      <td>120</td>\n",
       "      <td>1</td>\n",
       "      <td>...</td>\n",
       "      <td>40.06</td>\n",
       "      <td>43</td>\n",
       "      <td>15.0</td>\n",
       "      <td>0.0</td>\n",
       "      <td>0.60</td>\n",
       "      <td>HL</td>\n",
       "      <td>10901100.0</td>\n",
       "      <td>NaN</td>\n",
       "      <td>NaN</td>\n",
       "      <td>43</td>\n",
       "    </tr>\n",
       "    <tr>\n",
       "      <th>15534</th>\n",
       "      <td>11220001</td>\n",
       "      <td>12001000.0</td>\n",
       "      <td>11710107.24</td>\n",
       "      <td>11710107.24</td>\n",
       "      <td>30-08-2010</td>\n",
       "      <td>13.4</td>\n",
       "      <td>10.6</td>\n",
       "      <td>58.0</td>\n",
       "      <td>120</td>\n",
       "      <td>1</td>\n",
       "      <td>...</td>\n",
       "      <td>40.06</td>\n",
       "      <td>44</td>\n",
       "      <td>14.0</td>\n",
       "      <td>0.0</td>\n",
       "      <td>0.60</td>\n",
       "      <td>HL</td>\n",
       "      <td>10901100.0</td>\n",
       "      <td>NaN</td>\n",
       "      <td>NaN</td>\n",
       "      <td>44</td>\n",
       "    </tr>\n",
       "    <tr>\n",
       "      <th>18931</th>\n",
       "      <td>11220001</td>\n",
       "      <td>12001000.0</td>\n",
       "      <td>11710107.24</td>\n",
       "      <td>11710107.24</td>\n",
       "      <td>30-08-2010</td>\n",
       "      <td>13.4</td>\n",
       "      <td>10.6</td>\n",
       "      <td>45.0</td>\n",
       "      <td>120</td>\n",
       "      <td>1</td>\n",
       "      <td>...</td>\n",
       "      <td>40.06</td>\n",
       "      <td>45</td>\n",
       "      <td>0.0</td>\n",
       "      <td>0.0</td>\n",
       "      <td>0.60</td>\n",
       "      <td>HL</td>\n",
       "      <td>10901100.0</td>\n",
       "      <td>NaN</td>\n",
       "      <td>NaN</td>\n",
       "      <td>45</td>\n",
       "    </tr>\n",
       "    <tr>\n",
       "      <th>1</th>\n",
       "      <td>11220002</td>\n",
       "      <td>12001001.0</td>\n",
       "      <td>19290253.32</td>\n",
       "      <td>19290253.32</td>\n",
       "      <td>15-09-2010</td>\n",
       "      <td>13.7</td>\n",
       "      <td>10.6</td>\n",
       "      <td>137.0</td>\n",
       "      <td>180</td>\n",
       "      <td>1</td>\n",
       "      <td>...</td>\n",
       "      <td>84.31</td>\n",
       "      <td>38</td>\n",
       "      <td>99.0</td>\n",
       "      <td>0.0</td>\n",
       "      <td>0.60</td>\n",
       "      <td>HL</td>\n",
       "      <td>10901100.0</td>\n",
       "      <td>NaN</td>\n",
       "      <td>NaN</td>\n",
       "      <td>38</td>\n",
       "    </tr>\n",
       "    <tr>\n",
       "      <th>2</th>\n",
       "      <td>11220003</td>\n",
       "      <td>12001002.0</td>\n",
       "      <td>4053498.66</td>\n",
       "      <td>4053498.66</td>\n",
       "      <td>06-09-2010</td>\n",
       "      <td>17.2</td>\n",
       "      <td>12.5</td>\n",
       "      <td>360.0</td>\n",
       "      <td>180</td>\n",
       "      <td>5</td>\n",
       "      <td>...</td>\n",
       "      <td>79.34</td>\n",
       "      <td>38</td>\n",
       "      <td>322.0</td>\n",
       "      <td>0.0</td>\n",
       "      <td>0.91</td>\n",
       "      <td>HL</td>\n",
       "      <td>10901101.0</td>\n",
       "      <td>NaN</td>\n",
       "      <td>NaN</td>\n",
       "      <td>38</td>\n",
       "    </tr>\n",
       "    <tr>\n",
       "      <th>2856</th>\n",
       "      <td>11220003</td>\n",
       "      <td>12001002.0</td>\n",
       "      <td>4053498.66</td>\n",
       "      <td>4053498.66</td>\n",
       "      <td>06-09-2010</td>\n",
       "      <td>17.2</td>\n",
       "      <td>12.5</td>\n",
       "      <td>360.0</td>\n",
       "      <td>180</td>\n",
       "      <td>5</td>\n",
       "      <td>...</td>\n",
       "      <td>79.34</td>\n",
       "      <td>39</td>\n",
       "      <td>321.0</td>\n",
       "      <td>0.0</td>\n",
       "      <td>0.91</td>\n",
       "      <td>HL</td>\n",
       "      <td>10901101.0</td>\n",
       "      <td>NaN</td>\n",
       "      <td>NaN</td>\n",
       "      <td>39</td>\n",
       "    </tr>\n",
       "  </tbody>\n",
       "</table>\n",
       "<p>10 rows × 38 columns</p>\n",
       "</div>"
      ],
      "text/plain": [
       "       AGREEMENTID  CUSTOMERID     LOAN_AMT  NET_DISBURSED_AMT  \\\n",
       "0         11220001  12001000.0  11710107.24        11710107.24   \n",
       "2855      11220001  12001000.0  11710107.24        11710107.24   \n",
       "5825      11220001  12001000.0  11710107.24        11710107.24   \n",
       "8928      11220001  12001000.0  11710107.24        11710107.24   \n",
       "12193     11220001  12001000.0  11710107.24        11710107.24   \n",
       "15534     11220001  12001000.0  11710107.24        11710107.24   \n",
       "18931     11220001  12001000.0  11710107.24        11710107.24   \n",
       "1         11220002  12001001.0  19290253.32        19290253.32   \n",
       "2         11220003  12001002.0   4053498.66         4053498.66   \n",
       "2856      11220003  12001002.0   4053498.66         4053498.66   \n",
       "\n",
       "      INTEREST_START_DATE  CURRENT_ROI  ORIGNAL_ROI  CURRENT_TENOR  \\\n",
       "0              30-08-2010         13.7         10.6           58.0   \n",
       "2855           30-08-2010         13.7         10.6           58.0   \n",
       "5825           30-08-2010         13.4         10.6           58.0   \n",
       "8928           30-08-2010         13.4         10.6           58.0   \n",
       "12193          30-08-2010         13.4         10.6           58.0   \n",
       "15534          30-08-2010         13.4         10.6           58.0   \n",
       "18931          30-08-2010         13.4         10.6           45.0   \n",
       "1              15-09-2010         13.7         10.6          137.0   \n",
       "2              06-09-2010         17.2         12.5          360.0   \n",
       "2856           06-09-2010         17.2         12.5          360.0   \n",
       "\n",
       "       ORIGNAL_TENOR  DUEDAY ...  NET_LTV COMPLETED_TENURE  BALANCE_TENURE  \\\n",
       "0                120       1 ...    40.06               39            19.0   \n",
       "2855             120       1 ...    40.06               40            18.0   \n",
       "5825             120       1 ...    40.06               41            17.0   \n",
       "8928             120       1 ...    40.06               41            17.0   \n",
       "12193            120       1 ...    40.06               43            15.0   \n",
       "15534            120       1 ...    40.06               44            14.0   \n",
       "18931            120       1 ...    40.06               45             0.0   \n",
       "1                180       1 ...    84.31               38            99.0   \n",
       "2                180       5 ...    79.34               38           322.0   \n",
       "2856             180       5 ...    79.34               39           321.0   \n",
       "\n",
       "       DPD  FOIR  PRODUCT    SCHEMEID  NPA_IN_LAST_MONTH  \\\n",
       "0      0.0  0.60       HL  10901100.0                NaN   \n",
       "2855   0.0  0.60       HL  10901100.0                NaN   \n",
       "5825   0.0  0.60       HL  10901100.0                NaN   \n",
       "8928   0.0  0.60       HL  10901100.0                NaN   \n",
       "12193  0.0  0.60       HL  10901100.0                NaN   \n",
       "15534  0.0  0.60       HL  10901100.0                NaN   \n",
       "18931  0.0  0.60       HL  10901100.0                NaN   \n",
       "1      0.0  0.60       HL  10901100.0                NaN   \n",
       "2      0.0  0.91       HL  10901101.0                NaN   \n",
       "2856   0.0  0.91       HL  10901101.0                NaN   \n",
       "\n",
       "       NPA_IN_CURRENT_MONTH  MOB  \n",
       "0                       NaN   39  \n",
       "2855                    NaN   40  \n",
       "5825                    NaN   41  \n",
       "8928                    NaN   42  \n",
       "12193                   NaN   43  \n",
       "15534                   NaN   44  \n",
       "18931                   NaN   45  \n",
       "1                       NaN   38  \n",
       "2                       NaN   38  \n",
       "2856                    NaN   39  \n",
       "\n",
       "[10 rows x 38 columns]"
      ]
     },
     "execution_count": 61,
     "metadata": {},
     "output_type": "execute_result"
    }
   ],
   "source": [
    "master_data.head(10)"
   ]
  },
  {
   "cell_type": "code",
   "execution_count": 62,
   "metadata": {},
   "outputs": [
    {
     "data": {
      "text/plain": [
       "624250"
      ]
     },
     "execution_count": 62,
     "metadata": {},
     "output_type": "execute_result"
    }
   ],
   "source": [
    "master_data.shape[0]"
   ]
  },
  {
   "cell_type": "code",
   "execution_count": 63,
   "metadata": {},
   "outputs": [],
   "source": [
    "master_data.index=np.arange(0,master_data.shape[0])"
   ]
  },
  {
   "cell_type": "code",
   "execution_count": 64,
   "metadata": {},
   "outputs": [
    {
     "data": {
      "text/html": [
       "<div>\n",
       "<style scoped>\n",
       "    .dataframe tbody tr th:only-of-type {\n",
       "        vertical-align: middle;\n",
       "    }\n",
       "\n",
       "    .dataframe tbody tr th {\n",
       "        vertical-align: top;\n",
       "    }\n",
       "\n",
       "    .dataframe thead th {\n",
       "        text-align: right;\n",
       "    }\n",
       "</style>\n",
       "<table border=\"1\" class=\"dataframe\">\n",
       "  <thead>\n",
       "    <tr style=\"text-align: right;\">\n",
       "      <th></th>\n",
       "      <th>AGREEMENTID</th>\n",
       "      <th>CUSTOMERID</th>\n",
       "      <th>LOAN_AMT</th>\n",
       "      <th>NET_DISBURSED_AMT</th>\n",
       "      <th>INTEREST_START_DATE</th>\n",
       "      <th>CURRENT_ROI</th>\n",
       "      <th>ORIGNAL_ROI</th>\n",
       "      <th>CURRENT_TENOR</th>\n",
       "      <th>ORIGNAL_TENOR</th>\n",
       "      <th>DUEDAY</th>\n",
       "      <th>...</th>\n",
       "      <th>NET_LTV</th>\n",
       "      <th>COMPLETED_TENURE</th>\n",
       "      <th>BALANCE_TENURE</th>\n",
       "      <th>DPD</th>\n",
       "      <th>FOIR</th>\n",
       "      <th>PRODUCT</th>\n",
       "      <th>SCHEMEID</th>\n",
       "      <th>NPA_IN_LAST_MONTH</th>\n",
       "      <th>NPA_IN_CURRENT_MONTH</th>\n",
       "      <th>MOB</th>\n",
       "    </tr>\n",
       "  </thead>\n",
       "  <tbody>\n",
       "    <tr>\n",
       "      <th>0</th>\n",
       "      <td>11220001</td>\n",
       "      <td>12001000.0</td>\n",
       "      <td>11710107.24</td>\n",
       "      <td>11710107.24</td>\n",
       "      <td>30-08-2010</td>\n",
       "      <td>13.7</td>\n",
       "      <td>10.6</td>\n",
       "      <td>58.0</td>\n",
       "      <td>120</td>\n",
       "      <td>1</td>\n",
       "      <td>...</td>\n",
       "      <td>40.06</td>\n",
       "      <td>39</td>\n",
       "      <td>19.0</td>\n",
       "      <td>0.0</td>\n",
       "      <td>0.60</td>\n",
       "      <td>HL</td>\n",
       "      <td>10901100.0</td>\n",
       "      <td>NaN</td>\n",
       "      <td>NaN</td>\n",
       "      <td>39</td>\n",
       "    </tr>\n",
       "    <tr>\n",
       "      <th>1</th>\n",
       "      <td>11220001</td>\n",
       "      <td>12001000.0</td>\n",
       "      <td>11710107.24</td>\n",
       "      <td>11710107.24</td>\n",
       "      <td>30-08-2010</td>\n",
       "      <td>13.7</td>\n",
       "      <td>10.6</td>\n",
       "      <td>58.0</td>\n",
       "      <td>120</td>\n",
       "      <td>1</td>\n",
       "      <td>...</td>\n",
       "      <td>40.06</td>\n",
       "      <td>40</td>\n",
       "      <td>18.0</td>\n",
       "      <td>0.0</td>\n",
       "      <td>0.60</td>\n",
       "      <td>HL</td>\n",
       "      <td>10901100.0</td>\n",
       "      <td>NaN</td>\n",
       "      <td>NaN</td>\n",
       "      <td>40</td>\n",
       "    </tr>\n",
       "    <tr>\n",
       "      <th>2</th>\n",
       "      <td>11220001</td>\n",
       "      <td>12001000.0</td>\n",
       "      <td>11710107.24</td>\n",
       "      <td>11710107.24</td>\n",
       "      <td>30-08-2010</td>\n",
       "      <td>13.4</td>\n",
       "      <td>10.6</td>\n",
       "      <td>58.0</td>\n",
       "      <td>120</td>\n",
       "      <td>1</td>\n",
       "      <td>...</td>\n",
       "      <td>40.06</td>\n",
       "      <td>41</td>\n",
       "      <td>17.0</td>\n",
       "      <td>0.0</td>\n",
       "      <td>0.60</td>\n",
       "      <td>HL</td>\n",
       "      <td>10901100.0</td>\n",
       "      <td>NaN</td>\n",
       "      <td>NaN</td>\n",
       "      <td>41</td>\n",
       "    </tr>\n",
       "    <tr>\n",
       "      <th>3</th>\n",
       "      <td>11220001</td>\n",
       "      <td>12001000.0</td>\n",
       "      <td>11710107.24</td>\n",
       "      <td>11710107.24</td>\n",
       "      <td>30-08-2010</td>\n",
       "      <td>13.4</td>\n",
       "      <td>10.6</td>\n",
       "      <td>58.0</td>\n",
       "      <td>120</td>\n",
       "      <td>1</td>\n",
       "      <td>...</td>\n",
       "      <td>40.06</td>\n",
       "      <td>41</td>\n",
       "      <td>17.0</td>\n",
       "      <td>0.0</td>\n",
       "      <td>0.60</td>\n",
       "      <td>HL</td>\n",
       "      <td>10901100.0</td>\n",
       "      <td>NaN</td>\n",
       "      <td>NaN</td>\n",
       "      <td>42</td>\n",
       "    </tr>\n",
       "    <tr>\n",
       "      <th>4</th>\n",
       "      <td>11220001</td>\n",
       "      <td>12001000.0</td>\n",
       "      <td>11710107.24</td>\n",
       "      <td>11710107.24</td>\n",
       "      <td>30-08-2010</td>\n",
       "      <td>13.4</td>\n",
       "      <td>10.6</td>\n",
       "      <td>58.0</td>\n",
       "      <td>120</td>\n",
       "      <td>1</td>\n",
       "      <td>...</td>\n",
       "      <td>40.06</td>\n",
       "      <td>43</td>\n",
       "      <td>15.0</td>\n",
       "      <td>0.0</td>\n",
       "      <td>0.60</td>\n",
       "      <td>HL</td>\n",
       "      <td>10901100.0</td>\n",
       "      <td>NaN</td>\n",
       "      <td>NaN</td>\n",
       "      <td>43</td>\n",
       "    </tr>\n",
       "    <tr>\n",
       "      <th>5</th>\n",
       "      <td>11220001</td>\n",
       "      <td>12001000.0</td>\n",
       "      <td>11710107.24</td>\n",
       "      <td>11710107.24</td>\n",
       "      <td>30-08-2010</td>\n",
       "      <td>13.4</td>\n",
       "      <td>10.6</td>\n",
       "      <td>58.0</td>\n",
       "      <td>120</td>\n",
       "      <td>1</td>\n",
       "      <td>...</td>\n",
       "      <td>40.06</td>\n",
       "      <td>44</td>\n",
       "      <td>14.0</td>\n",
       "      <td>0.0</td>\n",
       "      <td>0.60</td>\n",
       "      <td>HL</td>\n",
       "      <td>10901100.0</td>\n",
       "      <td>NaN</td>\n",
       "      <td>NaN</td>\n",
       "      <td>44</td>\n",
       "    </tr>\n",
       "    <tr>\n",
       "      <th>6</th>\n",
       "      <td>11220001</td>\n",
       "      <td>12001000.0</td>\n",
       "      <td>11710107.24</td>\n",
       "      <td>11710107.24</td>\n",
       "      <td>30-08-2010</td>\n",
       "      <td>13.4</td>\n",
       "      <td>10.6</td>\n",
       "      <td>45.0</td>\n",
       "      <td>120</td>\n",
       "      <td>1</td>\n",
       "      <td>...</td>\n",
       "      <td>40.06</td>\n",
       "      <td>45</td>\n",
       "      <td>0.0</td>\n",
       "      <td>0.0</td>\n",
       "      <td>0.60</td>\n",
       "      <td>HL</td>\n",
       "      <td>10901100.0</td>\n",
       "      <td>NaN</td>\n",
       "      <td>NaN</td>\n",
       "      <td>45</td>\n",
       "    </tr>\n",
       "    <tr>\n",
       "      <th>7</th>\n",
       "      <td>11220002</td>\n",
       "      <td>12001001.0</td>\n",
       "      <td>19290253.32</td>\n",
       "      <td>19290253.32</td>\n",
       "      <td>15-09-2010</td>\n",
       "      <td>13.7</td>\n",
       "      <td>10.6</td>\n",
       "      <td>137.0</td>\n",
       "      <td>180</td>\n",
       "      <td>1</td>\n",
       "      <td>...</td>\n",
       "      <td>84.31</td>\n",
       "      <td>38</td>\n",
       "      <td>99.0</td>\n",
       "      <td>0.0</td>\n",
       "      <td>0.60</td>\n",
       "      <td>HL</td>\n",
       "      <td>10901100.0</td>\n",
       "      <td>NaN</td>\n",
       "      <td>NaN</td>\n",
       "      <td>38</td>\n",
       "    </tr>\n",
       "    <tr>\n",
       "      <th>8</th>\n",
       "      <td>11220003</td>\n",
       "      <td>12001002.0</td>\n",
       "      <td>4053498.66</td>\n",
       "      <td>4053498.66</td>\n",
       "      <td>06-09-2010</td>\n",
       "      <td>17.2</td>\n",
       "      <td>12.5</td>\n",
       "      <td>360.0</td>\n",
       "      <td>180</td>\n",
       "      <td>5</td>\n",
       "      <td>...</td>\n",
       "      <td>79.34</td>\n",
       "      <td>38</td>\n",
       "      <td>322.0</td>\n",
       "      <td>0.0</td>\n",
       "      <td>0.91</td>\n",
       "      <td>HL</td>\n",
       "      <td>10901101.0</td>\n",
       "      <td>NaN</td>\n",
       "      <td>NaN</td>\n",
       "      <td>38</td>\n",
       "    </tr>\n",
       "    <tr>\n",
       "      <th>9</th>\n",
       "      <td>11220003</td>\n",
       "      <td>12001002.0</td>\n",
       "      <td>4053498.66</td>\n",
       "      <td>4053498.66</td>\n",
       "      <td>06-09-2010</td>\n",
       "      <td>17.2</td>\n",
       "      <td>12.5</td>\n",
       "      <td>360.0</td>\n",
       "      <td>180</td>\n",
       "      <td>5</td>\n",
       "      <td>...</td>\n",
       "      <td>79.34</td>\n",
       "      <td>39</td>\n",
       "      <td>321.0</td>\n",
       "      <td>0.0</td>\n",
       "      <td>0.91</td>\n",
       "      <td>HL</td>\n",
       "      <td>10901101.0</td>\n",
       "      <td>NaN</td>\n",
       "      <td>NaN</td>\n",
       "      <td>39</td>\n",
       "    </tr>\n",
       "  </tbody>\n",
       "</table>\n",
       "<p>10 rows × 38 columns</p>\n",
       "</div>"
      ],
      "text/plain": [
       "   AGREEMENTID  CUSTOMERID     LOAN_AMT  NET_DISBURSED_AMT  \\\n",
       "0     11220001  12001000.0  11710107.24        11710107.24   \n",
       "1     11220001  12001000.0  11710107.24        11710107.24   \n",
       "2     11220001  12001000.0  11710107.24        11710107.24   \n",
       "3     11220001  12001000.0  11710107.24        11710107.24   \n",
       "4     11220001  12001000.0  11710107.24        11710107.24   \n",
       "5     11220001  12001000.0  11710107.24        11710107.24   \n",
       "6     11220001  12001000.0  11710107.24        11710107.24   \n",
       "7     11220002  12001001.0  19290253.32        19290253.32   \n",
       "8     11220003  12001002.0   4053498.66         4053498.66   \n",
       "9     11220003  12001002.0   4053498.66         4053498.66   \n",
       "\n",
       "  INTEREST_START_DATE  CURRENT_ROI  ORIGNAL_ROI  CURRENT_TENOR  ORIGNAL_TENOR  \\\n",
       "0          30-08-2010         13.7         10.6           58.0            120   \n",
       "1          30-08-2010         13.7         10.6           58.0            120   \n",
       "2          30-08-2010         13.4         10.6           58.0            120   \n",
       "3          30-08-2010         13.4         10.6           58.0            120   \n",
       "4          30-08-2010         13.4         10.6           58.0            120   \n",
       "5          30-08-2010         13.4         10.6           58.0            120   \n",
       "6          30-08-2010         13.4         10.6           45.0            120   \n",
       "7          15-09-2010         13.7         10.6          137.0            180   \n",
       "8          06-09-2010         17.2         12.5          360.0            180   \n",
       "9          06-09-2010         17.2         12.5          360.0            180   \n",
       "\n",
       "   DUEDAY ...  NET_LTV COMPLETED_TENURE  BALANCE_TENURE  DPD  FOIR  PRODUCT  \\\n",
       "0       1 ...    40.06               39            19.0  0.0  0.60       HL   \n",
       "1       1 ...    40.06               40            18.0  0.0  0.60       HL   \n",
       "2       1 ...    40.06               41            17.0  0.0  0.60       HL   \n",
       "3       1 ...    40.06               41            17.0  0.0  0.60       HL   \n",
       "4       1 ...    40.06               43            15.0  0.0  0.60       HL   \n",
       "5       1 ...    40.06               44            14.0  0.0  0.60       HL   \n",
       "6       1 ...    40.06               45             0.0  0.0  0.60       HL   \n",
       "7       1 ...    84.31               38            99.0  0.0  0.60       HL   \n",
       "8       5 ...    79.34               38           322.0  0.0  0.91       HL   \n",
       "9       5 ...    79.34               39           321.0  0.0  0.91       HL   \n",
       "\n",
       "     SCHEMEID  NPA_IN_LAST_MONTH  NPA_IN_CURRENT_MONTH  MOB  \n",
       "0  10901100.0                NaN                   NaN   39  \n",
       "1  10901100.0                NaN                   NaN   40  \n",
       "2  10901100.0                NaN                   NaN   41  \n",
       "3  10901100.0                NaN                   NaN   42  \n",
       "4  10901100.0                NaN                   NaN   43  \n",
       "5  10901100.0                NaN                   NaN   44  \n",
       "6  10901100.0                NaN                   NaN   45  \n",
       "7  10901100.0                NaN                   NaN   38  \n",
       "8  10901101.0                NaN                   NaN   38  \n",
       "9  10901101.0                NaN                   NaN   39  \n",
       "\n",
       "[10 rows x 38 columns]"
      ]
     },
     "execution_count": 64,
     "metadata": {},
     "output_type": "execute_result"
    }
   ],
   "source": [
    "master_data.head(10)"
   ]
  },
  {
   "cell_type": "code",
   "execution_count": 65,
   "metadata": {},
   "outputs": [],
   "source": [
    "master_data['RANK']=master_data.groupby('AGREEMENTID')['MOB'].rank(ascending=0,method='dense')\n",
    "master_data['PAYMENTTIMES']=master_data.groupby('AGREEMENTID')['MOB'].rank(ascending=1,method='dense')"
   ]
  },
  {
   "cell_type": "code",
   "execution_count": 66,
   "metadata": {},
   "outputs": [
    {
     "data": {
      "text/html": [
       "<div>\n",
       "<style scoped>\n",
       "    .dataframe tbody tr th:only-of-type {\n",
       "        vertical-align: middle;\n",
       "    }\n",
       "\n",
       "    .dataframe tbody tr th {\n",
       "        vertical-align: top;\n",
       "    }\n",
       "\n",
       "    .dataframe thead th {\n",
       "        text-align: right;\n",
       "    }\n",
       "</style>\n",
       "<table border=\"1\" class=\"dataframe\">\n",
       "  <thead>\n",
       "    <tr style=\"text-align: right;\">\n",
       "      <th></th>\n",
       "      <th>AGREEMENTID</th>\n",
       "      <th>CUSTOMERID</th>\n",
       "      <th>LOAN_AMT</th>\n",
       "      <th>NET_DISBURSED_AMT</th>\n",
       "      <th>INTEREST_START_DATE</th>\n",
       "      <th>CURRENT_ROI</th>\n",
       "      <th>ORIGNAL_ROI</th>\n",
       "      <th>CURRENT_TENOR</th>\n",
       "      <th>ORIGNAL_TENOR</th>\n",
       "      <th>DUEDAY</th>\n",
       "      <th>...</th>\n",
       "      <th>BALANCE_TENURE</th>\n",
       "      <th>DPD</th>\n",
       "      <th>FOIR</th>\n",
       "      <th>PRODUCT</th>\n",
       "      <th>SCHEMEID</th>\n",
       "      <th>NPA_IN_LAST_MONTH</th>\n",
       "      <th>NPA_IN_CURRENT_MONTH</th>\n",
       "      <th>MOB</th>\n",
       "      <th>RANK</th>\n",
       "      <th>PAYMENTTIMES</th>\n",
       "    </tr>\n",
       "  </thead>\n",
       "  <tbody>\n",
       "    <tr>\n",
       "      <th>0</th>\n",
       "      <td>11220001</td>\n",
       "      <td>12001000.0</td>\n",
       "      <td>11710107.24</td>\n",
       "      <td>11710107.24</td>\n",
       "      <td>30-08-2010</td>\n",
       "      <td>13.7</td>\n",
       "      <td>10.6</td>\n",
       "      <td>58.0</td>\n",
       "      <td>120</td>\n",
       "      <td>1</td>\n",
       "      <td>...</td>\n",
       "      <td>19.0</td>\n",
       "      <td>0.0</td>\n",
       "      <td>0.6</td>\n",
       "      <td>HL</td>\n",
       "      <td>10901100.0</td>\n",
       "      <td>NaN</td>\n",
       "      <td>NaN</td>\n",
       "      <td>39</td>\n",
       "      <td>7.0</td>\n",
       "      <td>1.0</td>\n",
       "    </tr>\n",
       "    <tr>\n",
       "      <th>1</th>\n",
       "      <td>11220001</td>\n",
       "      <td>12001000.0</td>\n",
       "      <td>11710107.24</td>\n",
       "      <td>11710107.24</td>\n",
       "      <td>30-08-2010</td>\n",
       "      <td>13.7</td>\n",
       "      <td>10.6</td>\n",
       "      <td>58.0</td>\n",
       "      <td>120</td>\n",
       "      <td>1</td>\n",
       "      <td>...</td>\n",
       "      <td>18.0</td>\n",
       "      <td>0.0</td>\n",
       "      <td>0.6</td>\n",
       "      <td>HL</td>\n",
       "      <td>10901100.0</td>\n",
       "      <td>NaN</td>\n",
       "      <td>NaN</td>\n",
       "      <td>40</td>\n",
       "      <td>6.0</td>\n",
       "      <td>2.0</td>\n",
       "    </tr>\n",
       "    <tr>\n",
       "      <th>2</th>\n",
       "      <td>11220001</td>\n",
       "      <td>12001000.0</td>\n",
       "      <td>11710107.24</td>\n",
       "      <td>11710107.24</td>\n",
       "      <td>30-08-2010</td>\n",
       "      <td>13.4</td>\n",
       "      <td>10.6</td>\n",
       "      <td>58.0</td>\n",
       "      <td>120</td>\n",
       "      <td>1</td>\n",
       "      <td>...</td>\n",
       "      <td>17.0</td>\n",
       "      <td>0.0</td>\n",
       "      <td>0.6</td>\n",
       "      <td>HL</td>\n",
       "      <td>10901100.0</td>\n",
       "      <td>NaN</td>\n",
       "      <td>NaN</td>\n",
       "      <td>41</td>\n",
       "      <td>5.0</td>\n",
       "      <td>3.0</td>\n",
       "    </tr>\n",
       "    <tr>\n",
       "      <th>3</th>\n",
       "      <td>11220001</td>\n",
       "      <td>12001000.0</td>\n",
       "      <td>11710107.24</td>\n",
       "      <td>11710107.24</td>\n",
       "      <td>30-08-2010</td>\n",
       "      <td>13.4</td>\n",
       "      <td>10.6</td>\n",
       "      <td>58.0</td>\n",
       "      <td>120</td>\n",
       "      <td>1</td>\n",
       "      <td>...</td>\n",
       "      <td>17.0</td>\n",
       "      <td>0.0</td>\n",
       "      <td>0.6</td>\n",
       "      <td>HL</td>\n",
       "      <td>10901100.0</td>\n",
       "      <td>NaN</td>\n",
       "      <td>NaN</td>\n",
       "      <td>42</td>\n",
       "      <td>4.0</td>\n",
       "      <td>4.0</td>\n",
       "    </tr>\n",
       "    <tr>\n",
       "      <th>4</th>\n",
       "      <td>11220001</td>\n",
       "      <td>12001000.0</td>\n",
       "      <td>11710107.24</td>\n",
       "      <td>11710107.24</td>\n",
       "      <td>30-08-2010</td>\n",
       "      <td>13.4</td>\n",
       "      <td>10.6</td>\n",
       "      <td>58.0</td>\n",
       "      <td>120</td>\n",
       "      <td>1</td>\n",
       "      <td>...</td>\n",
       "      <td>15.0</td>\n",
       "      <td>0.0</td>\n",
       "      <td>0.6</td>\n",
       "      <td>HL</td>\n",
       "      <td>10901100.0</td>\n",
       "      <td>NaN</td>\n",
       "      <td>NaN</td>\n",
       "      <td>43</td>\n",
       "      <td>3.0</td>\n",
       "      <td>5.0</td>\n",
       "    </tr>\n",
       "    <tr>\n",
       "      <th>5</th>\n",
       "      <td>11220001</td>\n",
       "      <td>12001000.0</td>\n",
       "      <td>11710107.24</td>\n",
       "      <td>11710107.24</td>\n",
       "      <td>30-08-2010</td>\n",
       "      <td>13.4</td>\n",
       "      <td>10.6</td>\n",
       "      <td>58.0</td>\n",
       "      <td>120</td>\n",
       "      <td>1</td>\n",
       "      <td>...</td>\n",
       "      <td>14.0</td>\n",
       "      <td>0.0</td>\n",
       "      <td>0.6</td>\n",
       "      <td>HL</td>\n",
       "      <td>10901100.0</td>\n",
       "      <td>NaN</td>\n",
       "      <td>NaN</td>\n",
       "      <td>44</td>\n",
       "      <td>2.0</td>\n",
       "      <td>6.0</td>\n",
       "    </tr>\n",
       "    <tr>\n",
       "      <th>6</th>\n",
       "      <td>11220001</td>\n",
       "      <td>12001000.0</td>\n",
       "      <td>11710107.24</td>\n",
       "      <td>11710107.24</td>\n",
       "      <td>30-08-2010</td>\n",
       "      <td>13.4</td>\n",
       "      <td>10.6</td>\n",
       "      <td>45.0</td>\n",
       "      <td>120</td>\n",
       "      <td>1</td>\n",
       "      <td>...</td>\n",
       "      <td>0.0</td>\n",
       "      <td>0.0</td>\n",
       "      <td>0.6</td>\n",
       "      <td>HL</td>\n",
       "      <td>10901100.0</td>\n",
       "      <td>NaN</td>\n",
       "      <td>NaN</td>\n",
       "      <td>45</td>\n",
       "      <td>1.0</td>\n",
       "      <td>7.0</td>\n",
       "    </tr>\n",
       "    <tr>\n",
       "      <th>7</th>\n",
       "      <td>11220002</td>\n",
       "      <td>12001001.0</td>\n",
       "      <td>19290253.32</td>\n",
       "      <td>19290253.32</td>\n",
       "      <td>15-09-2010</td>\n",
       "      <td>13.7</td>\n",
       "      <td>10.6</td>\n",
       "      <td>137.0</td>\n",
       "      <td>180</td>\n",
       "      <td>1</td>\n",
       "      <td>...</td>\n",
       "      <td>99.0</td>\n",
       "      <td>0.0</td>\n",
       "      <td>0.6</td>\n",
       "      <td>HL</td>\n",
       "      <td>10901100.0</td>\n",
       "      <td>NaN</td>\n",
       "      <td>NaN</td>\n",
       "      <td>38</td>\n",
       "      <td>1.0</td>\n",
       "      <td>1.0</td>\n",
       "    </tr>\n",
       "  </tbody>\n",
       "</table>\n",
       "<p>8 rows × 40 columns</p>\n",
       "</div>"
      ],
      "text/plain": [
       "   AGREEMENTID  CUSTOMERID     LOAN_AMT  NET_DISBURSED_AMT  \\\n",
       "0     11220001  12001000.0  11710107.24        11710107.24   \n",
       "1     11220001  12001000.0  11710107.24        11710107.24   \n",
       "2     11220001  12001000.0  11710107.24        11710107.24   \n",
       "3     11220001  12001000.0  11710107.24        11710107.24   \n",
       "4     11220001  12001000.0  11710107.24        11710107.24   \n",
       "5     11220001  12001000.0  11710107.24        11710107.24   \n",
       "6     11220001  12001000.0  11710107.24        11710107.24   \n",
       "7     11220002  12001001.0  19290253.32        19290253.32   \n",
       "\n",
       "  INTEREST_START_DATE  CURRENT_ROI  ORIGNAL_ROI  CURRENT_TENOR  ORIGNAL_TENOR  \\\n",
       "0          30-08-2010         13.7         10.6           58.0            120   \n",
       "1          30-08-2010         13.7         10.6           58.0            120   \n",
       "2          30-08-2010         13.4         10.6           58.0            120   \n",
       "3          30-08-2010         13.4         10.6           58.0            120   \n",
       "4          30-08-2010         13.4         10.6           58.0            120   \n",
       "5          30-08-2010         13.4         10.6           58.0            120   \n",
       "6          30-08-2010         13.4         10.6           45.0            120   \n",
       "7          15-09-2010         13.7         10.6          137.0            180   \n",
       "\n",
       "   DUEDAY      ...      BALANCE_TENURE  DPD  FOIR  PRODUCT    SCHEMEID  \\\n",
       "0       1      ...                19.0  0.0   0.6       HL  10901100.0   \n",
       "1       1      ...                18.0  0.0   0.6       HL  10901100.0   \n",
       "2       1      ...                17.0  0.0   0.6       HL  10901100.0   \n",
       "3       1      ...                17.0  0.0   0.6       HL  10901100.0   \n",
       "4       1      ...                15.0  0.0   0.6       HL  10901100.0   \n",
       "5       1      ...                14.0  0.0   0.6       HL  10901100.0   \n",
       "6       1      ...                 0.0  0.0   0.6       HL  10901100.0   \n",
       "7       1      ...                99.0  0.0   0.6       HL  10901100.0   \n",
       "\n",
       "   NPA_IN_LAST_MONTH  NPA_IN_CURRENT_MONTH  MOB  RANK  PAYMENTTIMES  \n",
       "0                NaN                   NaN   39   7.0           1.0  \n",
       "1                NaN                   NaN   40   6.0           2.0  \n",
       "2                NaN                   NaN   41   5.0           3.0  \n",
       "3                NaN                   NaN   42   4.0           4.0  \n",
       "4                NaN                   NaN   43   3.0           5.0  \n",
       "5                NaN                   NaN   44   2.0           6.0  \n",
       "6                NaN                   NaN   45   1.0           7.0  \n",
       "7                NaN                   NaN   38   1.0           1.0  \n",
       "\n",
       "[8 rows x 40 columns]"
      ]
     },
     "execution_count": 66,
     "metadata": {},
     "output_type": "execute_result"
    }
   ],
   "source": [
    "master_data.head(8)"
   ]
  },
  {
   "cell_type": "markdown",
   "metadata": {},
   "source": [
    "# Master Data by keeping latest Agreement Info"
   ]
  },
  {
   "cell_type": "code",
   "execution_count": 67,
   "metadata": {},
   "outputs": [],
   "source": [
    "fmaster_data=master_data[master_data['RANK']==1.0]"
   ]
  },
  {
   "cell_type": "code",
   "execution_count": 68,
   "metadata": {},
   "outputs": [
    {
     "data": {
      "text/plain": [
       "(33354, 40)"
      ]
     },
     "execution_count": 68,
     "metadata": {},
     "output_type": "execute_result"
    }
   ],
   "source": [
    "fmaster_data.shape"
   ]
  },
  {
   "cell_type": "code",
   "execution_count": 69,
   "metadata": {},
   "outputs": [],
   "source": [
    "fmaster_data.index=np.arange(0,fmaster_data.shape[0])"
   ]
  },
  {
   "cell_type": "code",
   "execution_count": 70,
   "metadata": {},
   "outputs": [
    {
     "data": {
      "text/plain": [
       "Index(['AGREEMENTID', 'CUSTOMERID', 'LOAN_AMT', 'NET_DISBURSED_AMT',\n",
       "       'INTEREST_START_DATE', 'CURRENT_ROI', 'ORIGNAL_ROI', 'CURRENT_TENOR',\n",
       "       'ORIGNAL_TENOR', 'DUEDAY', 'AUTHORIZATIONDATE', 'CITY',\n",
       "       'PRE_EMI_DUEAMT', 'PRE_EMI_RECEIVED_AMT', 'PRE_EMI_OS_AMOUNT',\n",
       "       'EMI_DUEAMT', 'EMI_RECEIVED_AMT', 'EMI_OS_AMOUNT', 'EXCESS_AVAILABLE',\n",
       "       'EXCESS_ADJUSTED_AMT', 'BALANCE_EXCESS', 'NET_RECEIVABLE',\n",
       "       'OUTSTANDING_PRINCIPAL', 'PAID_PRINCIPAL', 'PAID_INTEREST',\n",
       "       'MONTHOPENING', 'LAST_RECEIPT_DATE', 'LAST_RECEIPT_AMOUNT', 'NET_LTV',\n",
       "       'COMPLETED_TENURE', 'BALANCE_TENURE', 'DPD', 'FOIR', 'PRODUCT',\n",
       "       'SCHEMEID', 'NPA_IN_LAST_MONTH', 'NPA_IN_CURRENT_MONTH', 'MOB', 'RANK',\n",
       "       'PAYMENTTIMES'],\n",
       "      dtype='object')"
      ]
     },
     "execution_count": 70,
     "metadata": {},
     "output_type": "execute_result"
    }
   ],
   "source": [
    "fmaster_data.columns"
   ]
  },
  {
   "cell_type": "code",
   "execution_count": 71,
   "metadata": {},
   "outputs": [],
   "source": [
    "train=pd.read_csv(\"C:/Users/Vikas/Machine Learning/DSL/93fe009c-2-Foreclosure-Prediction-Dataset_/train_foreclosure.csv\")"
   ]
  },
  {
   "cell_type": "code",
   "execution_count": 72,
   "metadata": {},
   "outputs": [],
   "source": [
    "test=pd.read_csv(\"C:/Users/Vikas/Machine Learning/DSL/93fe009c-2-Foreclosure-Prediction-Dataset_/test_foreclosure.csv\")"
   ]
  },
  {
   "cell_type": "code",
   "execution_count": 73,
   "metadata": {},
   "outputs": [
    {
     "data": {
      "text/plain": [
       "(20012, 2)"
      ]
     },
     "execution_count": 73,
     "metadata": {},
     "output_type": "execute_result"
    }
   ],
   "source": [
    "train.shape"
   ]
  },
  {
   "cell_type": "code",
   "execution_count": 74,
   "metadata": {},
   "outputs": [
    {
     "data": {
      "text/plain": [
       "(13342, 2)"
      ]
     },
     "execution_count": 74,
     "metadata": {},
     "output_type": "execute_result"
    }
   ],
   "source": [
    "test.shape"
   ]
  },
  {
   "cell_type": "code",
   "execution_count": 75,
   "metadata": {},
   "outputs": [
    {
     "data": {
      "text/plain": [
       "(33354, 2)"
      ]
     },
     "execution_count": 75,
     "metadata": {},
     "output_type": "execute_result"
    }
   ],
   "source": [
    "#Appending train and test\n",
    "data=train.copy()\n",
    "data=data.append(test)\n",
    "data.shape"
   ]
  },
  {
   "cell_type": "code",
   "execution_count": 76,
   "metadata": {},
   "outputs": [],
   "source": [
    "#Merging Train and Test Foreclosure with Agreement\n",
    "fmaster_data=pd.merge(fmaster_data,data,how='left',on='AGREEMENTID')"
   ]
  },
  {
   "cell_type": "code",
   "execution_count": 77,
   "metadata": {},
   "outputs": [],
   "source": [
    "#Merging Cust_data with Agreement\n",
    "fmaster_data=pd.merge(fmaster_data,cust_data,how='left',on='CUSTOMERID')"
   ]
  },
  {
   "cell_type": "code",
   "execution_count": 78,
   "metadata": {},
   "outputs": [
    {
     "data": {
      "text/plain": [
       "Int64Index([    0,     1,     2,     3,     4,     5,     6,     7,     8,\n",
       "                9,\n",
       "            ...\n",
       "            33344, 33345, 33346, 33347, 33348, 33349, 33350, 33351, 33352,\n",
       "            33353],\n",
       "           dtype='int64', length=33354)"
      ]
     },
     "execution_count": 78,
     "metadata": {},
     "output_type": "execute_result"
    }
   ],
   "source": [
    "fmaster_data.index"
   ]
  },
  {
   "cell_type": "code",
   "execution_count": 79,
   "metadata": {},
   "outputs": [
    {
     "data": {
      "text/plain": [
       "(33354, 51)"
      ]
     },
     "execution_count": 79,
     "metadata": {},
     "output_type": "execute_result"
    }
   ],
   "source": [
    "fmaster_data.shape"
   ]
  },
  {
   "cell_type": "code",
   "execution_count": 80,
   "metadata": {},
   "outputs": [],
   "source": [
    "#Replacing Yes with 1 and #N/ with 0\n",
    "fmaster_data['NPA_IN_LAST_MONTH']=fmaster_data['NPA_IN_LAST_MONTH'].replace('Yes',1)\n",
    "fmaster_data['NPA_IN_LAST_MONTH']=fmaster_data['NPA_IN_LAST_MONTH'].replace('#N/',0)\n",
    "fmaster_data['NPA_IN_LAST_MONTH']=fmaster_data['NPA_IN_LAST_MONTH'].replace('0',0)"
   ]
  },
  {
   "cell_type": "code",
   "execution_count": 81,
   "metadata": {},
   "outputs": [],
   "source": [
    "#Filling NA values of NPA_IN_LAST_MONTH with mode values\n",
    "fmaster_data['NPA_IN_LAST_MONTH']=fmaster_data['NPA_IN_LAST_MONTH'].fillna(0)"
   ]
  },
  {
   "cell_type": "code",
   "execution_count": 82,
   "metadata": {},
   "outputs": [
    {
     "data": {
      "text/plain": [
       "0.0    33329\n",
       "1.0       25\n",
       "Name: NPA_IN_LAST_MONTH, dtype: int64"
      ]
     },
     "execution_count": 82,
     "metadata": {},
     "output_type": "execute_result"
    }
   ],
   "source": [
    "fmaster_data['NPA_IN_LAST_MONTH'].value_counts()"
   ]
  },
  {
   "cell_type": "code",
   "execution_count": 83,
   "metadata": {},
   "outputs": [],
   "source": [
    "#Replacing Yes with 1 and #N/ with 0\n",
    "fmaster_data['NPA_IN_CURRENT_MONTH']=fmaster_data['NPA_IN_CURRENT_MONTH'].replace('Yes',1)\n",
    "fmaster_data['NPA_IN_CURRENT_MONTH']=fmaster_data['NPA_IN_CURRENT_MONTH'].replace('0',0)"
   ]
  },
  {
   "cell_type": "code",
   "execution_count": 84,
   "metadata": {},
   "outputs": [],
   "source": [
    "#Filling NA values of NPA_IN_CURRENT_MONTH with mode values\n",
    "fmaster_data['NPA_IN_CURRENT_MONTH']=fmaster_data['NPA_IN_CURRENT_MONTH'].fillna(0)"
   ]
  },
  {
   "cell_type": "code",
   "execution_count": 85,
   "metadata": {},
   "outputs": [
    {
     "data": {
      "text/plain": [
       "0.0    33327\n",
       "1.0       27\n",
       "Name: NPA_IN_CURRENT_MONTH, dtype: int64"
      ]
     },
     "execution_count": 85,
     "metadata": {},
     "output_type": "execute_result"
    }
   ],
   "source": [
    "fmaster_data['NPA_IN_CURRENT_MONTH'].value_counts()"
   ]
  },
  {
   "cell_type": "code",
   "execution_count": 86,
   "metadata": {},
   "outputs": [
    {
     "data": {
      "text/plain": [
       "Index(['AGREEMENTID', 'CUSTOMERID', 'LOAN_AMT', 'NET_DISBURSED_AMT',\n",
       "       'INTEREST_START_DATE', 'CURRENT_ROI', 'ORIGNAL_ROI', 'CURRENT_TENOR',\n",
       "       'ORIGNAL_TENOR', 'DUEDAY', 'AUTHORIZATIONDATE', 'CITY',\n",
       "       'PRE_EMI_DUEAMT', 'PRE_EMI_RECEIVED_AMT', 'PRE_EMI_OS_AMOUNT',\n",
       "       'EMI_DUEAMT', 'EMI_RECEIVED_AMT', 'EMI_OS_AMOUNT', 'EXCESS_AVAILABLE',\n",
       "       'EXCESS_ADJUSTED_AMT', 'BALANCE_EXCESS', 'NET_RECEIVABLE',\n",
       "       'OUTSTANDING_PRINCIPAL', 'PAID_PRINCIPAL', 'PAID_INTEREST',\n",
       "       'MONTHOPENING', 'LAST_RECEIPT_DATE', 'LAST_RECEIPT_AMOUNT', 'NET_LTV',\n",
       "       'COMPLETED_TENURE', 'BALANCE_TENURE', 'DPD', 'FOIR', 'PRODUCT',\n",
       "       'SCHEMEID', 'NPA_IN_LAST_MONTH', 'NPA_IN_CURRENT_MONTH', 'MOB', 'RANK',\n",
       "       'PAYMENTTIMES', 'FORECLOSURE', 'CUST_CONSTTYPE_ID', 'CUST_CATEGORYID',\n",
       "       'AGE', 'SEX', 'MARITAL_STATUS', 'QUALIFICATION', 'NO_OF_DEPENDENT',\n",
       "       'GROSS_INCOME', 'NETTAKEHOMEINCOME', 'BRANCH_PINCODE'],\n",
       "      dtype='object')"
      ]
     },
     "execution_count": 86,
     "metadata": {},
     "output_type": "execute_result"
    }
   ],
   "source": [
    "fmaster_data.columns"
   ]
  },
  {
   "cell_type": "code",
   "execution_count": 87,
   "metadata": {},
   "outputs": [
    {
     "name": "stdout",
     "output_type": "stream",
     "text": [
      "<class 'pandas.core.frame.DataFrame'>\n",
      "Int64Index: 33354 entries, 0 to 33353\n",
      "Data columns (total 51 columns):\n",
      "AGREEMENTID              33354 non-null int64\n",
      "CUSTOMERID               32895 non-null float64\n",
      "LOAN_AMT                 33354 non-null float64\n",
      "NET_DISBURSED_AMT        33354 non-null float64\n",
      "INTEREST_START_DATE      33354 non-null object\n",
      "CURRENT_ROI              33354 non-null float64\n",
      "ORIGNAL_ROI              33354 non-null float64\n",
      "CURRENT_TENOR            33354 non-null float64\n",
      "ORIGNAL_TENOR            33354 non-null int64\n",
      "DUEDAY                   33354 non-null int64\n",
      "AUTHORIZATIONDATE        33354 non-null object\n",
      "CITY                     33354 non-null object\n",
      "PRE_EMI_DUEAMT           33354 non-null float64\n",
      "PRE_EMI_RECEIVED_AMT     33354 non-null float64\n",
      "PRE_EMI_OS_AMOUNT        33354 non-null float64\n",
      "EMI_DUEAMT               33354 non-null float64\n",
      "EMI_RECEIVED_AMT         33354 non-null float64\n",
      "EMI_OS_AMOUNT            33354 non-null float64\n",
      "EXCESS_AVAILABLE         33354 non-null float64\n",
      "EXCESS_ADJUSTED_AMT      33354 non-null float64\n",
      "BALANCE_EXCESS           33354 non-null float64\n",
      "NET_RECEIVABLE           33354 non-null float64\n",
      "OUTSTANDING_PRINCIPAL    33354 non-null float64\n",
      "PAID_PRINCIPAL           33354 non-null float64\n",
      "PAID_INTEREST            33354 non-null float64\n",
      "MONTHOPENING             33354 non-null float64\n",
      "LAST_RECEIPT_DATE        33354 non-null object\n",
      "LAST_RECEIPT_AMOUNT      33354 non-null float64\n",
      "NET_LTV                  33354 non-null float64\n",
      "COMPLETED_TENURE         33354 non-null int64\n",
      "BALANCE_TENURE           33354 non-null float64\n",
      "DPD                      33354 non-null float64\n",
      "FOIR                     33354 non-null float64\n",
      "PRODUCT                  33354 non-null object\n",
      "SCHEMEID                 32895 non-null float64\n",
      "NPA_IN_LAST_MONTH        33354 non-null float64\n",
      "NPA_IN_CURRENT_MONTH     33354 non-null float64\n",
      "MOB                      33354 non-null int64\n",
      "RANK                     33354 non-null float64\n",
      "PAYMENTTIMES             33354 non-null float64\n",
      "FORECLOSURE              20012 non-null float64\n",
      "CUST_CONSTTYPE_ID        10000 non-null float64\n",
      "CUST_CATEGORYID          10000 non-null float64\n",
      "AGE                      10000 non-null object\n",
      "SEX                      10000 non-null object\n",
      "MARITAL_STATUS           10000 non-null object\n",
      "QUALIFICATION            9447 non-null object\n",
      "NO_OF_DEPENDENT          10000 non-null float64\n",
      "GROSS_INCOME             10000 non-null float64\n",
      "NETTAKEHOMEINCOME        10000 non-null float64\n",
      "BRANCH_PINCODE           10000 non-null float64\n",
      "dtypes: float64(37), int64(5), object(9)\n",
      "memory usage: 13.2+ MB\n"
     ]
    }
   ],
   "source": [
    "fmaster_data.info()"
   ]
  },
  {
   "cell_type": "code",
   "execution_count": 88,
   "metadata": {},
   "outputs": [],
   "source": [
    "from sklearn.preprocessing import LabelEncoder\n",
    "le2=LabelEncoder()\n",
    "le2.fit(fmaster_data['CITY'])\n",
    "fmaster_data['CITY']=le2.transform(fmaster_data['CITY'])"
   ]
  },
  {
   "cell_type": "code",
   "execution_count": 89,
   "metadata": {},
   "outputs": [
    {
     "data": {
      "text/plain": [
       "4"
      ]
     },
     "execution_count": 89,
     "metadata": {},
     "output_type": "execute_result"
    }
   ],
   "source": [
    "fmaster_data['PRODUCT'].nunique()"
   ]
  },
  {
   "cell_type": "code",
   "execution_count": 90,
   "metadata": {},
   "outputs": [
    {
     "data": {
      "text/plain": [
       "(33354, 51)"
      ]
     },
     "execution_count": 90,
     "metadata": {},
     "output_type": "execute_result"
    }
   ],
   "source": [
    "fmaster_data.shape"
   ]
  },
  {
   "cell_type": "code",
   "execution_count": 91,
   "metadata": {},
   "outputs": [],
   "source": [
    "fmaster_data=pd.get_dummies(fmaster_data, prefix=['PRODUCT'], columns=['PRODUCT'])"
   ]
  },
  {
   "cell_type": "code",
   "execution_count": 92,
   "metadata": {},
   "outputs": [
    {
     "data": {
      "text/plain": [
       "(33354, 54)"
      ]
     },
     "execution_count": 92,
     "metadata": {},
     "output_type": "execute_result"
    }
   ],
   "source": [
    "fmaster_data.shape"
   ]
  },
  {
   "cell_type": "code",
   "execution_count": 93,
   "metadata": {},
   "outputs": [],
   "source": [
    "dtest=fmaster_data[fmaster_data['FORECLOSURE'].isnull()]\n",
    "dtrain=fmaster_data[-fmaster_data['FORECLOSURE'].isnull()]"
   ]
  },
  {
   "cell_type": "code",
   "execution_count": 94,
   "metadata": {},
   "outputs": [
    {
     "name": "stdout",
     "output_type": "stream",
     "text": [
      "(13342, 54)\n",
      "(20012, 54)\n"
     ]
    }
   ],
   "source": [
    "print(dtest.shape)\n",
    "print(dtrain.shape)"
   ]
  },
  {
   "cell_type": "markdown",
   "metadata": {},
   "source": [
    "# 2 types of final data one with only agreement info and other alongwith customer info"
   ]
  },
  {
   "cell_type": "code",
   "execution_count": 95,
   "metadata": {},
   "outputs": [],
   "source": [
    "train_wc=dtrain.copy()"
   ]
  },
  {
   "cell_type": "code",
   "execution_count": 96,
   "metadata": {},
   "outputs": [],
   "source": [
    "test_wc=dtest.copy()"
   ]
  },
  {
   "cell_type": "code",
   "execution_count": 97,
   "metadata": {},
   "outputs": [],
   "source": [
    "del train_wc['CUSTOMERID']\n",
    "del train_wc['SCHEMEID']\n",
    "del train_wc['CUST_CONSTTYPE_ID']\n",
    "del train_wc['CUST_CATEGORYID']\n",
    "del train_wc['AGE']\n",
    "del train_wc['SEX']\n",
    "del train_wc['MARITAL_STATUS']\n",
    "del train_wc['QUALIFICATION']\n",
    "del train_wc['NO_OF_DEPENDENT']\n",
    "del train_wc['GROSS_INCOME']\n",
    "del train_wc['NETTAKEHOMEINCOME']\n",
    "del train_wc['BRANCH_PINCODE']\n",
    "del test_wc['CUSTOMERID']\n",
    "del test_wc['SCHEMEID']\n",
    "del test_wc['CUST_CONSTTYPE_ID']\n",
    "del test_wc['CUST_CATEGORYID']\n",
    "del test_wc['AGE']\n",
    "del test_wc['SEX']\n",
    "del test_wc['MARITAL_STATUS']\n",
    "del test_wc['QUALIFICATION']\n",
    "del test_wc['NO_OF_DEPENDENT']\n",
    "del test_wc['GROSS_INCOME']\n",
    "del test_wc['NETTAKEHOMEINCOME']\n",
    "del test_wc['BRANCH_PINCODE']"
   ]
  },
  {
   "cell_type": "code",
   "execution_count": 98,
   "metadata": {},
   "outputs": [
    {
     "name": "stdout",
     "output_type": "stream",
     "text": [
      "(20012, 42)\n",
      "(13342, 42)\n"
     ]
    }
   ],
   "source": [
    "print(train_wc.shape)\n",
    "print(test_wc.shape)"
   ]
  },
  {
   "cell_type": "code",
   "execution_count": 99,
   "metadata": {},
   "outputs": [
    {
     "data": {
      "text/plain": [
       "Index(['AGREEMENTID', 'LOAN_AMT', 'NET_DISBURSED_AMT', 'INTEREST_START_DATE',\n",
       "       'CURRENT_ROI', 'ORIGNAL_ROI', 'CURRENT_TENOR', 'ORIGNAL_TENOR',\n",
       "       'DUEDAY', 'AUTHORIZATIONDATE', 'CITY', 'PRE_EMI_DUEAMT',\n",
       "       'PRE_EMI_RECEIVED_AMT', 'PRE_EMI_OS_AMOUNT', 'EMI_DUEAMT',\n",
       "       'EMI_RECEIVED_AMT', 'EMI_OS_AMOUNT', 'EXCESS_AVAILABLE',\n",
       "       'EXCESS_ADJUSTED_AMT', 'BALANCE_EXCESS', 'NET_RECEIVABLE',\n",
       "       'OUTSTANDING_PRINCIPAL', 'PAID_PRINCIPAL', 'PAID_INTEREST',\n",
       "       'MONTHOPENING', 'LAST_RECEIPT_DATE', 'LAST_RECEIPT_AMOUNT', 'NET_LTV',\n",
       "       'COMPLETED_TENURE', 'BALANCE_TENURE', 'DPD', 'FOIR',\n",
       "       'NPA_IN_LAST_MONTH', 'NPA_IN_CURRENT_MONTH', 'MOB', 'RANK',\n",
       "       'PAYMENTTIMES', 'FORECLOSURE', 'PRODUCT_HL', 'PRODUCT_LAP',\n",
       "       'PRODUCT_STHL', 'PRODUCT_STLAP'],\n",
       "      dtype='object')"
      ]
     },
     "execution_count": 99,
     "metadata": {},
     "output_type": "execute_result"
    }
   ],
   "source": [
    "train_wc.columns"
   ]
  },
  {
   "cell_type": "code",
   "execution_count": 100,
   "metadata": {},
   "outputs": [
    {
     "name": "stdout",
     "output_type": "stream",
     "text": [
      "(20012, 54)\n",
      "(13342, 54)\n"
     ]
    }
   ],
   "source": [
    "train_c=dtrain.copy()\n",
    "test_c=dtest.copy()\n",
    "print(train_c.shape)\n",
    "print(test_c.shape)"
   ]
  },
  {
   "cell_type": "code",
   "execution_count": 101,
   "metadata": {},
   "outputs": [
    {
     "name": "stdout",
     "output_type": "stream",
     "text": [
      "(5652, 54)\n"
     ]
    }
   ],
   "source": [
    "train_c=train_c.dropna()\n",
    "print(train_c.shape)"
   ]
  },
  {
   "cell_type": "code",
   "execution_count": 102,
   "metadata": {},
   "outputs": [],
   "source": [
    "del test_c['FORECLOSURE']\n",
    "test_c=test_c.dropna()"
   ]
  },
  {
   "cell_type": "code",
   "execution_count": 103,
   "metadata": {},
   "outputs": [
    {
     "name": "stdout",
     "output_type": "stream",
     "text": [
      "(3795, 53)\n"
     ]
    }
   ],
   "source": [
    "print(test_c.shape)"
   ]
  },
  {
   "cell_type": "code",
   "execution_count": 104,
   "metadata": {},
   "outputs": [
    {
     "data": {
      "text/plain": [
       "(5652, 54)"
      ]
     },
     "execution_count": 104,
     "metadata": {},
     "output_type": "execute_result"
    }
   ],
   "source": [
    "train_c.shape"
   ]
  },
  {
   "cell_type": "code",
   "execution_count": 105,
   "metadata": {},
   "outputs": [],
   "source": [
    "#Coverting to datetime format\n",
    "train_wc['INTEREST_START_DATE']=pd.to_datetime(train_wc['INTEREST_START_DATE'])\n",
    "train_wc['AUTHORIZATIONDATE']=pd.to_datetime(train_wc['AUTHORIZATIONDATE'])\n",
    "train_wc['LAST_RECEIPT_DATE']=pd.to_datetime(train_wc['LAST_RECEIPT_DATE'])\n",
    "\n",
    "test_wc['INTEREST_START_DATE']=pd.to_datetime(test_wc['INTEREST_START_DATE'])\n",
    "test_wc['AUTHORIZATIONDATE']=pd.to_datetime(test_wc['AUTHORIZATIONDATE'])\n",
    "test_wc['LAST_RECEIPT_DATE']=pd.to_datetime(test_wc['LAST_RECEIPT_DATE'])"
   ]
  },
  {
   "cell_type": "code",
   "execution_count": 106,
   "metadata": {},
   "outputs": [],
   "source": [
    "#Stripping date into year month and day\n",
    "train_wc['INTEREST_START_YEAR'] = train_wc['INTEREST_START_DATE'].dt.year\n",
    "train_wc['INTEREST_START_MONTH'] = train_wc['INTEREST_START_DATE'].dt.month\n",
    "train_wc['INTEREST_START_DAY'] = train_wc['INTEREST_START_DATE'].dt.day\n",
    "train_wc['AUTHORIZATION_YEAR'] = train_wc['AUTHORIZATIONDATE'].dt.year\n",
    "train_wc['AUTHORIZATION_MONTH'] = train_wc['AUTHORIZATIONDATE'].dt.month\n",
    "train_wc['AUTHORIZATION_DAY'] = train_wc['AUTHORIZATIONDATE'].dt.day\n",
    "train_wc['LAST_RECEIPT_YEAR'] = train_wc['LAST_RECEIPT_DATE'].dt.year\n",
    "train_wc['LAST_RECEIPT_MONTH'] = train_wc['LAST_RECEIPT_DATE'].dt.month\n",
    "train_wc['LAST_RECEIPT_DAY'] = train_wc['LAST_RECEIPT_DATE'].dt.day\n",
    "\n",
    "test_wc['INTEREST_START_YEAR'] = test_wc['INTEREST_START_DATE'].dt.year\n",
    "test_wc['INTEREST_START_MONTH'] = test_wc['INTEREST_START_DATE'].dt.month\n",
    "test_wc['INTEREST_START_DAY'] = test_wc['INTEREST_START_DATE'].dt.day\n",
    "test_wc['AUTHORIZATION_YEAR'] = test_wc['AUTHORIZATIONDATE'].dt.year\n",
    "test_wc['AUTHORIZATION_MONTH'] = test_wc['AUTHORIZATIONDATE'].dt.month\n",
    "test_wc['AUTHORIZATION_DAY'] = test_wc['AUTHORIZATIONDATE'].dt.day\n",
    "test_wc['LAST_RECEIPT_YEAR'] = test_wc['LAST_RECEIPT_DATE'].dt.year\n",
    "test_wc['LAST_RECEIPT_MONTH'] = test_wc['LAST_RECEIPT_DATE'].dt.month\n",
    "test_wc['LAST_RECEIPT_DAY'] = test_wc['LAST_RECEIPT_DATE'].dt.day"
   ]
  },
  {
   "cell_type": "code",
   "execution_count": 107,
   "metadata": {},
   "outputs": [],
   "source": [
    "train_wc['TARGET']=train_wc['FORECLOSURE']"
   ]
  },
  {
   "cell_type": "code",
   "execution_count": 108,
   "metadata": {},
   "outputs": [],
   "source": [
    "del train_wc['FORECLOSURE']"
   ]
  },
  {
   "cell_type": "code",
   "execution_count": 109,
   "metadata": {},
   "outputs": [],
   "source": [
    "del train_wc['INTEREST_START_DATE']\n",
    "del train_wc['AUTHORIZATIONDATE']\n",
    "del train_wc['LAST_RECEIPT_DATE']"
   ]
  },
  {
   "cell_type": "code",
   "execution_count": 110,
   "metadata": {},
   "outputs": [],
   "source": [
    "del test_wc['INTEREST_START_DATE']\n",
    "del test_wc['AUTHORIZATIONDATE']\n",
    "del test_wc['LAST_RECEIPT_DATE']"
   ]
  },
  {
   "cell_type": "code",
   "execution_count": 111,
   "metadata": {},
   "outputs": [],
   "source": [
    "del test_wc['FORECLOSURE']"
   ]
  },
  {
   "cell_type": "code",
   "execution_count": 112,
   "metadata": {},
   "outputs": [
    {
     "data": {
      "text/plain": [
       "Index(['AGREEMENTID', 'LOAN_AMT', 'NET_DISBURSED_AMT', 'CURRENT_ROI',\n",
       "       'ORIGNAL_ROI', 'CURRENT_TENOR', 'ORIGNAL_TENOR', 'DUEDAY', 'CITY',\n",
       "       'PRE_EMI_DUEAMT', 'PRE_EMI_RECEIVED_AMT', 'PRE_EMI_OS_AMOUNT',\n",
       "       'EMI_DUEAMT', 'EMI_RECEIVED_AMT', 'EMI_OS_AMOUNT', 'EXCESS_AVAILABLE',\n",
       "       'EXCESS_ADJUSTED_AMT', 'BALANCE_EXCESS', 'NET_RECEIVABLE',\n",
       "       'OUTSTANDING_PRINCIPAL', 'PAID_PRINCIPAL', 'PAID_INTEREST',\n",
       "       'MONTHOPENING', 'LAST_RECEIPT_AMOUNT', 'NET_LTV', 'COMPLETED_TENURE',\n",
       "       'BALANCE_TENURE', 'DPD', 'FOIR', 'NPA_IN_LAST_MONTH',\n",
       "       'NPA_IN_CURRENT_MONTH', 'MOB', 'RANK', 'PAYMENTTIMES', 'PRODUCT_HL',\n",
       "       'PRODUCT_LAP', 'PRODUCT_STHL', 'PRODUCT_STLAP', 'INTEREST_START_YEAR',\n",
       "       'INTEREST_START_MONTH', 'INTEREST_START_DAY', 'AUTHORIZATION_YEAR',\n",
       "       'AUTHORIZATION_MONTH', 'AUTHORIZATION_DAY', 'LAST_RECEIPT_YEAR',\n",
       "       'LAST_RECEIPT_MONTH', 'LAST_RECEIPT_DAY', 'TARGET'],\n",
       "      dtype='object')"
      ]
     },
     "execution_count": 112,
     "metadata": {},
     "output_type": "execute_result"
    }
   ],
   "source": [
    "train_wc.columns"
   ]
  },
  {
   "cell_type": "code",
   "execution_count": 113,
   "metadata": {},
   "outputs": [
    {
     "data": {
      "text/plain": [
       "Index(['AGREEMENTID', 'LOAN_AMT', 'NET_DISBURSED_AMT', 'CURRENT_ROI',\n",
       "       'ORIGNAL_ROI', 'CURRENT_TENOR', 'ORIGNAL_TENOR', 'DUEDAY', 'CITY',\n",
       "       'PRE_EMI_DUEAMT', 'PRE_EMI_RECEIVED_AMT', 'PRE_EMI_OS_AMOUNT',\n",
       "       'EMI_DUEAMT', 'EMI_RECEIVED_AMT', 'EMI_OS_AMOUNT', 'EXCESS_AVAILABLE',\n",
       "       'EXCESS_ADJUSTED_AMT', 'BALANCE_EXCESS', 'NET_RECEIVABLE',\n",
       "       'OUTSTANDING_PRINCIPAL', 'PAID_PRINCIPAL', 'PAID_INTEREST',\n",
       "       'MONTHOPENING', 'LAST_RECEIPT_AMOUNT', 'NET_LTV', 'COMPLETED_TENURE',\n",
       "       'BALANCE_TENURE', 'DPD', 'FOIR', 'NPA_IN_LAST_MONTH',\n",
       "       'NPA_IN_CURRENT_MONTH', 'MOB', 'RANK', 'PAYMENTTIMES', 'PRODUCT_HL',\n",
       "       'PRODUCT_LAP', 'PRODUCT_STHL', 'PRODUCT_STLAP', 'INTEREST_START_YEAR',\n",
       "       'INTEREST_START_MONTH', 'INTEREST_START_DAY', 'AUTHORIZATION_YEAR',\n",
       "       'AUTHORIZATION_MONTH', 'AUTHORIZATION_DAY', 'LAST_RECEIPT_YEAR',\n",
       "       'LAST_RECEIPT_MONTH', 'LAST_RECEIPT_DAY'],\n",
       "      dtype='object')"
      ]
     },
     "execution_count": 113,
     "metadata": {},
     "output_type": "execute_result"
    }
   ],
   "source": [
    "test_wc.columns"
   ]
  },
  {
   "cell_type": "code",
   "execution_count": 114,
   "metadata": {},
   "outputs": [
    {
     "name": "stdout",
     "output_type": "stream",
     "text": [
      "(20012, 48)\n",
      "(13342, 47)\n"
     ]
    }
   ],
   "source": [
    "print(train_wc.shape)\n",
    "print(test_wc.shape)"
   ]
  },
  {
   "cell_type": "code",
   "execution_count": 115,
   "metadata": {},
   "outputs": [
    {
     "data": {
      "text/plain": [
       "AGREEMENTID              0\n",
       "LOAN_AMT                 0\n",
       "NET_DISBURSED_AMT        0\n",
       "CURRENT_ROI              0\n",
       "ORIGNAL_ROI              0\n",
       "CURRENT_TENOR            0\n",
       "ORIGNAL_TENOR            0\n",
       "DUEDAY                   0\n",
       "CITY                     0\n",
       "PRE_EMI_DUEAMT           0\n",
       "PRE_EMI_RECEIVED_AMT     0\n",
       "PRE_EMI_OS_AMOUNT        0\n",
       "EMI_DUEAMT               0\n",
       "EMI_RECEIVED_AMT         0\n",
       "EMI_OS_AMOUNT            0\n",
       "EXCESS_AVAILABLE         0\n",
       "EXCESS_ADJUSTED_AMT      0\n",
       "BALANCE_EXCESS           0\n",
       "NET_RECEIVABLE           0\n",
       "OUTSTANDING_PRINCIPAL    0\n",
       "PAID_PRINCIPAL           0\n",
       "PAID_INTEREST            0\n",
       "MONTHOPENING             0\n",
       "LAST_RECEIPT_AMOUNT      0\n",
       "NET_LTV                  0\n",
       "COMPLETED_TENURE         0\n",
       "BALANCE_TENURE           0\n",
       "DPD                      0\n",
       "FOIR                     0\n",
       "NPA_IN_LAST_MONTH        0\n",
       "NPA_IN_CURRENT_MONTH     0\n",
       "MOB                      0\n",
       "RANK                     0\n",
       "PAYMENTTIMES             0\n",
       "PRODUCT_HL               0\n",
       "PRODUCT_LAP              0\n",
       "PRODUCT_STHL             0\n",
       "PRODUCT_STLAP            0\n",
       "INTEREST_START_YEAR      0\n",
       "INTEREST_START_MONTH     0\n",
       "INTEREST_START_DAY       0\n",
       "AUTHORIZATION_YEAR       0\n",
       "AUTHORIZATION_MONTH      0\n",
       "AUTHORIZATION_DAY        0\n",
       "LAST_RECEIPT_YEAR        0\n",
       "LAST_RECEIPT_MONTH       0\n",
       "LAST_RECEIPT_DAY         0\n",
       "dtype: int64"
      ]
     },
     "execution_count": 115,
     "metadata": {},
     "output_type": "execute_result"
    }
   ],
   "source": [
    "master_vals=test_wc.isnull().sum()\n",
    "master_vals"
   ]
  },
  {
   "cell_type": "code",
   "execution_count": 116,
   "metadata": {},
   "outputs": [
    {
     "name": "stderr",
     "output_type": "stream",
     "text": [
      "D:\\Users\\Vikas\\Anaconda3\\lib\\site-packages\\matplotlib\\axes\\_axes.py:6462: UserWarning: The 'normed' kwarg is deprecated, and has been replaced by the 'density' kwarg.\n",
      "  warnings.warn(\"The 'normed' kwarg is deprecated, and has been \"\n"
     ]
    },
    {
     "data": {
      "image/png": "[encoded data removed]",
      "text/plain": [
       "<Figure size 432x288 with 1 Axes>"
      ]
     },
     "metadata": {},
     "output_type": "display_data"
    },
    {
     "name": "stderr",
     "output_type": "stream",
     "text": [
      "D:\\Users\\Vikas\\Anaconda3\\lib\\site-packages\\matplotlib\\axes\\_axes.py:6462: UserWarning: The 'normed' kwarg is deprecated, and has been replaced by the 'density' kwarg.\n",
      "  warnings.warn(\"The 'normed' kwarg is deprecated, and has been \"\n"
     ]
    },
    {
     "data": {
      "image/png": "[encoded data removed]",
      "text/plain": [
       "<Figure size 432x288 with 1 Axes>"
      ]
     },
     "metadata": {},
     "output_type": "display_data"
    },
    {
     "name": "stderr",
     "output_type": "stream",
     "text": [
      "D:\\Users\\Vikas\\Anaconda3\\lib\\site-packages\\matplotlib\\axes\\_axes.py:6462: UserWarning: The 'normed' kwarg is deprecated, and has been replaced by the 'density' kwarg.\n",
      "  warnings.warn(\"The 'normed' kwarg is deprecated, and has been \"\n"
     ]
    },
    {
     "data": {
      "image/png": "[encoded data removed]",
      "text/plain": [
       "<Figure size 432x288 with 1 Axes>"
      ]
     },
     "metadata": {},
     "output_type": "display_data"
    },
    {
     "name": "stderr",
     "output_type": "stream",
     "text": [
      "D:\\Users\\Vikas\\Anaconda3\\lib\\site-packages\\matplotlib\\axes\\_axes.py:6462: UserWarning: The 'normed' kwarg is deprecated, and has been replaced by the 'density' kwarg.\n",
      "  warnings.warn(\"The 'normed' kwarg is deprecated, and has been \"\n"
     ]
    },
    {
     "data": {
      "image/png": "[encoded data removed]",
      "text/plain": [
       "<Figure size 432x288 with 1 Axes>"
      ]
     },
     "metadata": {},
     "output_type": "display_data"
    },
    {
     "name": "stderr",
     "output_type": "stream",
     "text": [
      "D:\\Users\\Vikas\\Anaconda3\\lib\\site-packages\\matplotlib\\axes\\_axes.py:6462: UserWarning: The 'normed' kwarg is deprecated, and has been replaced by the 'density' kwarg.\n",
      "  warnings.warn(\"The 'normed' kwarg is deprecated, and has been \"\n"
     ]
    },
    {
     "data": {
      "image/png": "[encoded data removed]",
      "text/plain": [
       "<Figure size 432x288 with 1 Axes>"
      ]
     },
     "metadata": {},
     "output_type": "display_data"
    },
    {
     "name": "stderr",
     "output_type": "stream",
     "text": [
      "D:\\Users\\Vikas\\Anaconda3\\lib\\site-packages\\matplotlib\\axes\\_axes.py:6462: UserWarning: The 'normed' kwarg is deprecated, and has been replaced by the 'density' kwarg.\n",
      "  warnings.warn(\"The 'normed' kwarg is deprecated, and has been \"\n"
     ]
    },
    {
     "data": {
      "image/png": "[encoded data removed]",
      "text/plain": [
       "<Figure size 432x288 with 1 Axes>"
      ]
     },
     "metadata": {},
     "output_type": "display_data"
    },
    {
     "name": "stderr",
     "output_type": "stream",
     "text": [
      "D:\\Users\\Vikas\\Anaconda3\\lib\\site-packages\\matplotlib\\axes\\_axes.py:6462: UserWarning: The 'normed' kwarg is deprecated, and has been replaced by the 'density' kwarg.\n",
      "  warnings.warn(\"The 'normed' kwarg is deprecated, and has been \"\n"
     ]
    },
    {
     "data": {
      "image/png": "[encoded data removed]",
      "text/plain": [
       "<Figure size 432x288 with 1 Axes>"
      ]
     },
     "metadata": {},
     "output_type": "display_data"
    },
    {
     "name": "stderr",
     "output_type": "stream",
     "text": [
      "D:\\Users\\Vikas\\Anaconda3\\lib\\site-packages\\matplotlib\\axes\\_axes.py:6462: UserWarning: The 'normed' kwarg is deprecated, and has been replaced by the 'density' kwarg.\n",
      "  warnings.warn(\"The 'normed' kwarg is deprecated, and has been \"\n"
     ]
    },
    {
     "data": {
      "image/png": "[encoded data removed]",
      "text/plain": [
       "<Figure size 432x288 with 1 Axes>"
      ]
     },
     "metadata": {},
     "output_type": "display_data"
    },
    {
     "name": "stderr",
     "output_type": "stream",
     "text": [
      "D:\\Users\\Vikas\\Anaconda3\\lib\\site-packages\\matplotlib\\axes\\_axes.py:6462: UserWarning: The 'normed' kwarg is deprecated, and has been replaced by the 'density' kwarg.\n",
      "  warnings.warn(\"The 'normed' kwarg is deprecated, and has been \"\n"
     ]
    },
    {
     "data": {
      "image/png": "[encoded data removed]",
      "text/plain": [
       "<Figure size 432x288 with 1 Axes>"
      ]
     },
     "metadata": {},
     "output_type": "display_data"
    },
    {
     "name": "stderr",
     "output_type": "stream",
     "text": [
      "D:\\Users\\Vikas\\Anaconda3\\lib\\site-packages\\matplotlib\\axes\\_axes.py:6462: UserWarning: The 'normed' kwarg is deprecated, and has been replaced by the 'density' kwarg.\n",
      "  warnings.warn(\"The 'normed' kwarg is deprecated, and has been \"\n"
     ]
    },
    {
     "data": {
      "image/png": "[encoded data removed]",
      "text/plain": [
       "<Figure size 432x288 with 1 Axes>"
      ]
     },
     "metadata": {},
     "output_type": "display_data"
    },
    {
     "name": "stderr",
     "output_type": "stream",
     "text": [
      "D:\\Users\\Vikas\\Anaconda3\\lib\\site-packages\\matplotlib\\axes\\_axes.py:6462: UserWarning: The 'normed' kwarg is deprecated, and has been replaced by the 'density' kwarg.\n",
      "  warnings.warn(\"The 'normed' kwarg is deprecated, and has been \"\n"
     ]
    },
    {
     "data": {
      "image/png": "[encoded data removed]",
      "text/plain": [
       "<Figure size 432x288 with 1 Axes>"
      ]
     },
     "metadata": {},
     "output_type": "display_data"
    },
    {
     "name": "stderr",
     "output_type": "stream",
     "text": [
      "D:\\Users\\Vikas\\Anaconda3\\lib\\site-packages\\matplotlib\\axes\\_axes.py:6462: UserWarning: The 'normed' kwarg is deprecated, and has been replaced by the 'density' kwarg.\n",
      "  warnings.warn(\"The 'normed' kwarg is deprecated, and has been \"\n"
     ]
    },
    {
     "data": {
      "image/png": "[encoded data removed]",
      "text/plain": [
       "<Figure size 432x288 with 1 Axes>"
      ]
     },
     "metadata": {},
     "output_type": "display_data"
    },
    {
     "name": "stderr",
     "output_type": "stream",
     "text": [
      "D:\\Users\\Vikas\\Anaconda3\\lib\\site-packages\\matplotlib\\axes\\_axes.py:6462: UserWarning: The 'normed' kwarg is deprecated, and has been replaced by the 'density' kwarg.\n",
      "  warnings.warn(\"The 'normed' kwarg is deprecated, and has been \"\n"
     ]
    },
    {
     "data": {
      "image/png": "[encoded data removed]",
      "text/plain": [
       "<Figure size 432x288 with 1 Axes>"
      ]
     },
     "metadata": {},
     "output_type": "display_data"
    },
    {
     "name": "stderr",
     "output_type": "stream",
     "text": [
      "D:\\Users\\Vikas\\Anaconda3\\lib\\site-packages\\matplotlib\\axes\\_axes.py:6462: UserWarning: The 'normed' kwarg is deprecated, and has been replaced by the 'density' kwarg.\n",
      "  warnings.warn(\"The 'normed' kwarg is deprecated, and has been \"\n"
     ]
    },
    {
     "data": {
      "image/png": "[encoded data removed]",
      "text/plain": [
       "<Figure size 432x288 with 1 Axes>"
      ]
     },
     "metadata": {},
     "output_type": "display_data"
    },
    {
     "name": "stderr",
     "output_type": "stream",
     "text": [
      "D:\\Users\\Vikas\\Anaconda3\\lib\\site-packages\\matplotlib\\axes\\_axes.py:6462: UserWarning: The 'normed' kwarg is deprecated, and has been replaced by the 'density' kwarg.\n",
      "  warnings.warn(\"The 'normed' kwarg is deprecated, and has been \"\n"
     ]
    },
    {
     "data": {
      "image/png": "[encoded data removed]",
      "text/plain": [
       "<Figure size 432x288 with 1 Axes>"
      ]
     },
     "metadata": {},
     "output_type": "display_data"
    },
    {
     "name": "stderr",
     "output_type": "stream",
     "text": [
      "D:\\Users\\Vikas\\Anaconda3\\lib\\site-packages\\matplotlib\\axes\\_axes.py:6462: UserWarning: The 'normed' kwarg is deprecated, and has been replaced by the 'density' kwarg.\n",
      "  warnings.warn(\"The 'normed' kwarg is deprecated, and has been \"\n"
     ]
    },
    {
     "data": {
      "image/png": "[encoded data removed]",
      "text/plain": [
       "<Figure size 432x288 with 1 Axes>"
      ]
     },
     "metadata": {},
     "output_type": "display_data"
    },
    {
     "name": "stderr",
     "output_type": "stream",
     "text": [
      "D:\\Users\\Vikas\\Anaconda3\\lib\\site-packages\\matplotlib\\axes\\_axes.py:6462: UserWarning: The 'normed' kwarg is deprecated, and has been replaced by the 'density' kwarg.\n",
      "  warnings.warn(\"The 'normed' kwarg is deprecated, and has been \"\n"
     ]
    },
    {
     "data": {
      "image/png": "[encoded data removed]",
      "text/plain": [
       "<Figure size 432x288 with 1 Axes>"
      ]
     },
     "metadata": {},
     "output_type": "display_data"
    },
    {
     "name": "stderr",
     "output_type": "stream",
     "text": [
      "D:\\Users\\Vikas\\Anaconda3\\lib\\site-packages\\matplotlib\\axes\\_axes.py:6462: UserWarning: The 'normed' kwarg is deprecated, and has been replaced by the 'density' kwarg.\n",
      "  warnings.warn(\"The 'normed' kwarg is deprecated, and has been \"\n"
     ]
    },
    {
     "data": {
      "image/png": "[encoded data removed]",
      "text/plain": [
       "<Figure size 432x288 with 1 Axes>"
      ]
     },
     "metadata": {},
     "output_type": "display_data"
    },
    {
     "name": "stderr",
     "output_type": "stream",
     "text": [
      "D:\\Users\\Vikas\\Anaconda3\\lib\\site-packages\\matplotlib\\axes\\_axes.py:6462: UserWarning: The 'normed' kwarg is deprecated, and has been replaced by the 'density' kwarg.\n",
      "  warnings.warn(\"The 'normed' kwarg is deprecated, and has been \"\n"
     ]
    },
    {
     "data": {
      "image/png": "[encoded data removed]",
      "text/plain": [
       "<Figure size 432x288 with 1 Axes>"
      ]
     },
     "metadata": {},
     "output_type": "display_data"
    },
    {
     "name": "stderr",
     "output_type": "stream",
     "text": [
      "D:\\Users\\Vikas\\Anaconda3\\lib\\site-packages\\matplotlib\\axes\\_axes.py:6462: UserWarning: The 'normed' kwarg is deprecated, and has been replaced by the 'density' kwarg.\n",
      "  warnings.warn(\"The 'normed' kwarg is deprecated, and has been \"\n"
     ]
    },
    {
     "data": {
      "image/png": "[encoded data removed]",
      "text/plain": [
       "<Figure size 432x288 with 1 Axes>"
      ]
     },
     "metadata": {},
     "output_type": "display_data"
    },
    {
     "name": "stderr",
     "output_type": "stream",
     "text": [
      "D:\\Users\\Vikas\\Anaconda3\\lib\\site-packages\\matplotlib\\axes\\_axes.py:6462: UserWarning: The 'normed' kwarg is deprecated, and has been replaced by the 'density' kwarg.\n",
      "  warnings.warn(\"The 'normed' kwarg is deprecated, and has been \"\n"
     ]
    },
    {
     "data": {
      "image/png": "[encoded data removed]",
      "text/plain": [
       "<Figure size 432x288 with 1 Axes>"
      ]
     },
     "metadata": {},
     "output_type": "display_data"
    },
    {
     "name": "stderr",
     "output_type": "stream",
     "text": [
      "D:\\Users\\Vikas\\Anaconda3\\lib\\site-packages\\matplotlib\\axes\\_axes.py:6462: UserWarning: The 'normed' kwarg is deprecated, and has been replaced by the 'density' kwarg.\n",
      "  warnings.warn(\"The 'normed' kwarg is deprecated, and has been \"\n"
     ]
    },
    {
     "data": {
      "image/png": "[encoded data removed]",
      "text/plain": [
       "<Figure size 432x288 with 1 Axes>"
      ]
     },
     "metadata": {},
     "output_type": "display_data"
    },
    {
     "name": "stderr",
     "output_type": "stream",
     "text": [
      "D:\\Users\\Vikas\\Anaconda3\\lib\\site-packages\\matplotlib\\axes\\_axes.py:6462: UserWarning: The 'normed' kwarg is deprecated, and has been replaced by the 'density' kwarg.\n",
      "  warnings.warn(\"The 'normed' kwarg is deprecated, and has been \"\n"
     ]
    },
    {
     "data": {
      "image/png": "[encoded data removed]",
      "text/plain": [
       "<Figure size 432x288 with 1 Axes>"
      ]
     },
     "metadata": {},
     "output_type": "display_data"
    },
    {
     "name": "stderr",
     "output_type": "stream",
     "text": [
      "D:\\Users\\Vikas\\Anaconda3\\lib\\site-packages\\matplotlib\\axes\\_axes.py:6462: UserWarning: The 'normed' kwarg is deprecated, and has been replaced by the 'density' kwarg.\n",
      "  warnings.warn(\"The 'normed' kwarg is deprecated, and has been \"\n"
     ]
    },
    {
     "data": {
      "image/png": "[encoded data removed]",
      "text/plain": [
       "<Figure size 432x288 with 1 Axes>"
      ]
     },
     "metadata": {},
     "output_type": "display_data"
    },
    {
     "name": "stderr",
     "output_type": "stream",
     "text": [
      "D:\\Users\\Vikas\\Anaconda3\\lib\\site-packages\\matplotlib\\axes\\_axes.py:6462: UserWarning: The 'normed' kwarg is deprecated, and has been replaced by the 'density' kwarg.\n",
      "  warnings.warn(\"The 'normed' kwarg is deprecated, and has been \"\n"
     ]
    },
    {
     "data": {
      "image/png": "[encoded data removed]",
      "text/plain": [
       "<Figure size 432x288 with 1 Axes>"
      ]
     },
     "metadata": {},
     "output_type": "display_data"
    },
    {
     "name": "stderr",
     "output_type": "stream",
     "text": [
      "D:\\Users\\Vikas\\Anaconda3\\lib\\site-packages\\matplotlib\\axes\\_axes.py:6462: UserWarning: The 'normed' kwarg is deprecated, and has been replaced by the 'density' kwarg.\n",
      "  warnings.warn(\"The 'normed' kwarg is deprecated, and has been \"\n"
     ]
    },
    {
     "data": {
      "image/png": "[encoded data removed]",
      "text/plain": [
       "<Figure size 432x288 with 1 Axes>"
      ]
     },
     "metadata": {},
     "output_type": "display_data"
    },
    {
     "name": "stderr",
     "output_type": "stream",
     "text": [
      "D:\\Users\\Vikas\\Anaconda3\\lib\\site-packages\\matplotlib\\axes\\_axes.py:6462: UserWarning: The 'normed' kwarg is deprecated, and has been replaced by the 'density' kwarg.\n",
      "  warnings.warn(\"The 'normed' kwarg is deprecated, and has been \"\n"
     ]
    },
    {
     "data": {
      "image/png": "[encoded data removed]",
      "text/plain": [
       "<Figure size 432x288 with 1 Axes>"
      ]
     },
     "metadata": {},
     "output_type": "display_data"
    },
    {
     "name": "stderr",
     "output_type": "stream",
     "text": [
      "D:\\Users\\Vikas\\Anaconda3\\lib\\site-packages\\matplotlib\\axes\\_axes.py:6462: UserWarning: The 'normed' kwarg is deprecated, and has been replaced by the 'density' kwarg.\n",
      "  warnings.warn(\"The 'normed' kwarg is deprecated, and has been \"\n"
     ]
    },
    {
     "data": {
      "image/png": "[encoded data removed]",
      "text/plain": [
       "<Figure size 432x288 with 1 Axes>"
      ]
     },
     "metadata": {},
     "output_type": "display_data"
    },
    {
     "name": "stderr",
     "output_type": "stream",
     "text": [
      "D:\\Users\\Vikas\\Anaconda3\\lib\\site-packages\\matplotlib\\axes\\_axes.py:6462: UserWarning: The 'normed' kwarg is deprecated, and has been replaced by the 'density' kwarg.\n",
      "  warnings.warn(\"The 'normed' kwarg is deprecated, and has been \"\n"
     ]
    },
    {
     "data": {
      "image/png": "[encoded data removed]",
      "text/plain": [
       "<Figure size 432x288 with 1 Axes>"
      ]
     },
     "metadata": {},
     "output_type": "display_data"
    },
    {
     "name": "stderr",
     "output_type": "stream",
     "text": [
      "D:\\Users\\Vikas\\Anaconda3\\lib\\site-packages\\matplotlib\\axes\\_axes.py:6462: UserWarning: The 'normed' kwarg is deprecated, and has been replaced by the 'density' kwarg.\n",
      "  warnings.warn(\"The 'normed' kwarg is deprecated, and has been \"\n"
     ]
    },
    {
     "data": {
      "image/png": "[encoded data removed]",
      "text/plain": [
       "<Figure size 432x288 with 1 Axes>"
      ]
     },
     "metadata": {},
     "output_type": "display_data"
    },
    {
     "name": "stderr",
     "output_type": "stream",
     "text": [
      "D:\\Users\\Vikas\\Anaconda3\\lib\\site-packages\\matplotlib\\axes\\_axes.py:6462: UserWarning: The 'normed' kwarg is deprecated, and has been replaced by the 'density' kwarg.\n",
      "  warnings.warn(\"The 'normed' kwarg is deprecated, and has been \"\n"
     ]
    },
    {
     "data": {
      "image/png": "[encoded data removed]",
      "text/plain": [
       "<Figure size 432x288 with 1 Axes>"
      ]
     },
     "metadata": {},
     "output_type": "display_data"
    },
    {
     "name": "stderr",
     "output_type": "stream",
     "text": [
      "D:\\Users\\Vikas\\Anaconda3\\lib\\site-packages\\matplotlib\\axes\\_axes.py:6462: UserWarning: The 'normed' kwarg is deprecated, and has been replaced by the 'density' kwarg.\n",
      "  warnings.warn(\"The 'normed' kwarg is deprecated, and has been \"\n"
     ]
    },
    {
     "data": {
      "image/png": "[encoded data removed]",
      "text/plain": [
       "<Figure size 432x288 with 1 Axes>"
      ]
     },
     "metadata": {},
     "output_type": "display_data"
    },
    {
     "name": "stderr",
     "output_type": "stream",
     "text": [
      "D:\\Users\\Vikas\\Anaconda3\\lib\\site-packages\\matplotlib\\axes\\_axes.py:6462: UserWarning: The 'normed' kwarg is deprecated, and has been replaced by the 'density' kwarg.\n",
      "  warnings.warn(\"The 'normed' kwarg is deprecated, and has been \"\n"
     ]
    },
    {
     "data": {
      "image/png": "[encoded data removed]",
      "text/plain": [
       "<Figure size 432x288 with 1 Axes>"
      ]
     },
     "metadata": {},
     "output_type": "display_data"
    },
    {
     "name": "stderr",
     "output_type": "stream",
     "text": [
      "D:\\Users\\Vikas\\Anaconda3\\lib\\site-packages\\matplotlib\\axes\\_axes.py:6462: UserWarning: The 'normed' kwarg is deprecated, and has been replaced by the 'density' kwarg.\n",
      "  warnings.warn(\"The 'normed' kwarg is deprecated, and has been \"\n"
     ]
    },
    {
     "data": {
      "image/png": "[encoded data removed]",
      "text/plain": [
       "<Figure size 432x288 with 1 Axes>"
      ]
     },
     "metadata": {},
     "output_type": "display_data"
    },
    {
     "name": "stderr",
     "output_type": "stream",
     "text": [
      "D:\\Users\\Vikas\\Anaconda3\\lib\\site-packages\\matplotlib\\axes\\_axes.py:6462: UserWarning: The 'normed' kwarg is deprecated, and has been replaced by the 'density' kwarg.\n",
      "  warnings.warn(\"The 'normed' kwarg is deprecated, and has been \"\n"
     ]
    },
    {
     "data": {
      "image/png": "[encoded data removed]",
      "text/plain": [
       "<Figure size 432x288 with 1 Axes>"
      ]
     },
     "metadata": {},
     "output_type": "display_data"
    },
    {
     "name": "stderr",
     "output_type": "stream",
     "text": [
      "D:\\Users\\Vikas\\Anaconda3\\lib\\site-packages\\matplotlib\\axes\\_axes.py:6462: UserWarning: The 'normed' kwarg is deprecated, and has been replaced by the 'density' kwarg.\n",
      "  warnings.warn(\"The 'normed' kwarg is deprecated, and has been \"\n"
     ]
    },
    {
     "data": {
      "image/png": "[encoded data removed]",
      "text/plain": [
       "<Figure size 432x288 with 1 Axes>"
      ]
     },
     "metadata": {},
     "output_type": "display_data"
    },
    {
     "name": "stderr",
     "output_type": "stream",
     "text": [
      "D:\\Users\\Vikas\\Anaconda3\\lib\\site-packages\\matplotlib\\axes\\_axes.py:6462: UserWarning: The 'normed' kwarg is deprecated, and has been replaced by the 'density' kwarg.\n",
      "  warnings.warn(\"The 'normed' kwarg is deprecated, and has been \"\n"
     ]
    },
    {
     "data": {
      "image/png": "[encoded data removed]",
      "text/plain": [
       "<Figure size 432x288 with 1 Axes>"
      ]
     },
     "metadata": {},
     "output_type": "display_data"
    },
    {
     "name": "stderr",
     "output_type": "stream",
     "text": [
      "D:\\Users\\Vikas\\Anaconda3\\lib\\site-packages\\matplotlib\\axes\\_axes.py:6462: UserWarning: The 'normed' kwarg is deprecated, and has been replaced by the 'density' kwarg.\n",
      "  warnings.warn(\"The 'normed' kwarg is deprecated, and has been \"\n"
     ]
    },
    {
     "data": {
      "image/png": "[encoded data removed]",
      "text/plain": [
       "<Figure size 432x288 with 1 Axes>"
      ]
     },
     "metadata": {},
     "output_type": "display_data"
    },
    {
     "name": "stderr",
     "output_type": "stream",
     "text": [
      "D:\\Users\\Vikas\\Anaconda3\\lib\\site-packages\\matplotlib\\axes\\_axes.py:6462: UserWarning: The 'normed' kwarg is deprecated, and has been replaced by the 'density' kwarg.\n",
      "  warnings.warn(\"The 'normed' kwarg is deprecated, and has been \"\n"
     ]
    },
    {
     "data": {
      "image/png": "[encoded data removed]",
      "text/plain": [
       "<Figure size 432x288 with 1 Axes>"
      ]
     },
     "metadata": {},
     "output_type": "display_data"
    },
    {
     "name": "stderr",
     "output_type": "stream",
     "text": [
      "D:\\Users\\Vikas\\Anaconda3\\lib\\site-packages\\matplotlib\\axes\\_axes.py:6462: UserWarning: The 'normed' kwarg is deprecated, and has been replaced by the 'density' kwarg.\n",
      "  warnings.warn(\"The 'normed' kwarg is deprecated, and has been \"\n"
     ]
    },
    {
     "data": {
      "image/png": "[encoded data removed]",
      "text/plain": [
       "<Figure size 432x288 with 1 Axes>"
      ]
     },
     "metadata": {},
     "output_type": "display_data"
    },
    {
     "name": "stderr",
     "output_type": "stream",
     "text": [
      "D:\\Users\\Vikas\\Anaconda3\\lib\\site-packages\\matplotlib\\axes\\_axes.py:6462: UserWarning: The 'normed' kwarg is deprecated, and has been replaced by the 'density' kwarg.\n",
      "  warnings.warn(\"The 'normed' kwarg is deprecated, and has been \"\n"
     ]
    },
    {
     "data": {
      "image/png": "[encoded data removed]",
      "text/plain": [
       "<Figure size 432x288 with 1 Axes>"
      ]
     },
     "metadata": {},
     "output_type": "display_data"
    },
    {
     "name": "stderr",
     "output_type": "stream",
     "text": [
      "D:\\Users\\Vikas\\Anaconda3\\lib\\site-packages\\matplotlib\\axes\\_axes.py:6462: UserWarning: The 'normed' kwarg is deprecated, and has been replaced by the 'density' kwarg.\n",
      "  warnings.warn(\"The 'normed' kwarg is deprecated, and has been \"\n"
     ]
    },
    {
     "data": {
      "image/png": "[encoded data removed]",
      "text/plain": [
       "<Figure size 432x288 with 1 Axes>"
      ]
     },
     "metadata": {},
     "output_type": "display_data"
    },
    {
     "name": "stderr",
     "output_type": "stream",
     "text": [
      "D:\\Users\\Vikas\\Anaconda3\\lib\\site-packages\\matplotlib\\axes\\_axes.py:6462: UserWarning: The 'normed' kwarg is deprecated, and has been replaced by the 'density' kwarg.\n",
      "  warnings.warn(\"The 'normed' kwarg is deprecated, and has been \"\n"
     ]
    },
    {
     "data": {
      "image/png": "[encoded data removed]",
      "text/plain": [
       "<Figure size 432x288 with 1 Axes>"
      ]
     },
     "metadata": {},
     "output_type": "display_data"
    }
   ],
   "source": [
    "#scatterplot\n",
    "import matplotlib.pyplot as plt\n",
    "import seaborn as sns\n",
    "for col in train_wc.iloc[:,1:44].columns:\n",
    "    sns.distplot(train_wc[col])\n",
    "    plt.show()"
   ]
  },
  {
   "cell_type": "code",
   "execution_count": 117,
   "metadata": {},
   "outputs": [
    {
     "data": {
      "text/plain": [
       "Index(['AGREEMENTID', 'LOAN_AMT', 'NET_DISBURSED_AMT', 'CURRENT_ROI',\n",
       "       'ORIGNAL_ROI', 'CURRENT_TENOR', 'ORIGNAL_TENOR', 'DUEDAY', 'CITY',\n",
       "       'PRE_EMI_DUEAMT', 'PRE_EMI_RECEIVED_AMT', 'PRE_EMI_OS_AMOUNT',\n",
       "       'EMI_DUEAMT', 'EMI_RECEIVED_AMT', 'EMI_OS_AMOUNT', 'EXCESS_AVAILABLE',\n",
       "       'EXCESS_ADJUSTED_AMT', 'BALANCE_EXCESS', 'NET_RECEIVABLE',\n",
       "       'OUTSTANDING_PRINCIPAL', 'PAID_PRINCIPAL', 'PAID_INTEREST',\n",
       "       'MONTHOPENING', 'LAST_RECEIPT_AMOUNT', 'NET_LTV', 'COMPLETED_TENURE',\n",
       "       'BALANCE_TENURE', 'DPD', 'FOIR', 'NPA_IN_LAST_MONTH',\n",
       "       'NPA_IN_CURRENT_MONTH', 'MOB', 'RANK', 'PAYMENTTIMES', 'PRODUCT_HL',\n",
       "       'PRODUCT_LAP', 'PRODUCT_STHL', 'PRODUCT_STLAP', 'INTEREST_START_YEAR',\n",
       "       'INTEREST_START_MONTH', 'INTEREST_START_DAY', 'AUTHORIZATION_YEAR',\n",
       "       'AUTHORIZATION_MONTH', 'AUTHORIZATION_DAY', 'LAST_RECEIPT_YEAR',\n",
       "       'LAST_RECEIPT_MONTH', 'LAST_RECEIPT_DAY', 'TARGET'],\n",
       "      dtype='object')"
      ]
     },
     "execution_count": 117,
     "metadata": {},
     "output_type": "execute_result"
    }
   ],
   "source": [
    "train_wc.columns"
   ]
  },
  {
   "cell_type": "code",
   "execution_count": 118,
   "metadata": {},
   "outputs": [
    {
     "data": {
      "text/plain": [
       "Index(['AGREEMENTID', 'LOAN_AMT', 'NET_DISBURSED_AMT', 'CURRENT_ROI',\n",
       "       'ORIGNAL_ROI', 'CURRENT_TENOR', 'ORIGNAL_TENOR', 'DUEDAY', 'CITY',\n",
       "       'PRE_EMI_DUEAMT', 'PRE_EMI_RECEIVED_AMT', 'PRE_EMI_OS_AMOUNT',\n",
       "       'EMI_DUEAMT', 'EMI_RECEIVED_AMT', 'EMI_OS_AMOUNT', 'EXCESS_AVAILABLE',\n",
       "       'EXCESS_ADJUSTED_AMT', 'BALANCE_EXCESS', 'NET_RECEIVABLE',\n",
       "       'OUTSTANDING_PRINCIPAL', 'PAID_PRINCIPAL', 'PAID_INTEREST',\n",
       "       'MONTHOPENING', 'LAST_RECEIPT_AMOUNT', 'NET_LTV', 'COMPLETED_TENURE',\n",
       "       'BALANCE_TENURE', 'DPD', 'FOIR', 'NPA_IN_LAST_MONTH',\n",
       "       'NPA_IN_CURRENT_MONTH', 'MOB', 'RANK', 'PAYMENTTIMES', 'PRODUCT_HL',\n",
       "       'PRODUCT_LAP', 'PRODUCT_STHL', 'PRODUCT_STLAP', 'INTEREST_START_YEAR',\n",
       "       'INTEREST_START_MONTH', 'INTEREST_START_DAY', 'AUTHORIZATION_YEAR',\n",
       "       'AUTHORIZATION_MONTH', 'AUTHORIZATION_DAY', 'LAST_RECEIPT_YEAR',\n",
       "       'LAST_RECEIPT_MONTH', 'LAST_RECEIPT_DAY'],\n",
       "      dtype='object')"
      ]
     },
     "execution_count": 118,
     "metadata": {},
     "output_type": "execute_result"
    }
   ],
   "source": [
    "test_wc.columns"
   ]
  },
  {
   "cell_type": "code",
   "execution_count": 119,
   "metadata": {},
   "outputs": [],
   "source": [
    "#Log Transoformation\n",
    "ltrain_wc=train_wc.copy()\n",
    "ltest_wc=test_wc.copy()"
   ]
  },
  {
   "cell_type": "code",
   "execution_count": 120,
   "metadata": {},
   "outputs": [],
   "source": [
    "ltrain_wc['LOAN_AMT']=np.log(train_wc['LOAN_AMT'])\n",
    "ltest_wc['LOAN_AMT']=np.log(test_wc['LOAN_AMT'])\n",
    "ltrain_wc['NET_DISBURSED_AMT']=np.log(train_wc['NET_DISBURSED_AMT'])\n",
    "ltest_wc['NET_DISBURSED_AMT']=np.log(test_wc['NET_DISBURSED_AMT'])\n",
    "ltrain_wc['PRE_EMI_DUEAMT']=np.log(train_wc['PRE_EMI_DUEAMT'])\n",
    "ltest_wc['PRE_EMI_DUEAMT']=np.log(test_wc['PRE_EMI_DUEAMT'])\n",
    "ltrain_wc['PRE_EMI_RECEIVED_AMT']=np.log(train_wc['PRE_EMI_RECEIVED_AMT'])\n",
    "ltest_wc['PRE_EMI_RECEIVED_AMT']=np.log(test_wc['PRE_EMI_RECEIVED_AMT'])\n",
    "ltrain_wc['PRE_EMI_OS_AMOUNT']=np.log(train_wc['PRE_EMI_OS_AMOUNT'])\n",
    "ltest_wc['PRE_EMI_OS_AMOUNT']=np.log(test_wc['PRE_EMI_OS_AMOUNT'])\n",
    "ltrain_wc['PRE_EMI_OS_AMOUNT']=np.log(train_wc['PRE_EMI_OS_AMOUNT'])\n",
    "ltest_wc['PRE_EMI_OS_AMOUNT']=np.log(test_wc['PRE_EMI_OS_AMOUNT'])\n",
    "ltrain_wc['EMI_DUEAMT']=np.log(train_wc['EMI_DUEAMT'])\n",
    "ltest_wc['EMI_DUEAMT']=np.log(test_wc['EMI_DUEAMT'])\n",
    "ltrain_wc['EMI_DUEAMT']=np.log(train_wc['EMI_DUEAMT'])\n",
    "ltest_wc['EMI_DUEAMT']=np.log(test_wc['EMI_DUEAMT'])"
   ]
  },
  {
   "cell_type": "markdown",
   "metadata": {},
   "source": [
    "# Training the model"
   ]
  },
  {
   "cell_type": "code",
   "execution_count": 121,
   "metadata": {},
   "outputs": [],
   "source": [
    "from sklearn.linear_model import LogisticRegression\n",
    "from sklearn import tree\n",
    "from sklearn import svm\n",
    "from sklearn.naive_bayes import GaussianNB\n",
    "from sklearn.neighbors import KNeighborsClassifier\n",
    "from sklearn.model_selection import train_test_split\n",
    "from sklearn.ensemble import RandomForestClassifier"
   ]
  },
  {
   "cell_type": "code",
   "execution_count": 122,
   "metadata": {},
   "outputs": [],
   "source": [
    "X_train, X_test, y_train, y_test = train_test_split(train_wc.iloc[:,0:47], train_wc.iloc[:,47:], test_size=0.33, random_state=28)"
   ]
  },
  {
   "cell_type": "code",
   "execution_count": 123,
   "metadata": {},
   "outputs": [
    {
     "name": "stdout",
     "output_type": "stream",
     "text": [
      "(13408, 47)\n",
      "(6604, 47)\n",
      "(13408, 1)\n",
      "(6604, 1)\n"
     ]
    }
   ],
   "source": [
    "print(X_train.shape)\n",
    "print(X_test.shape)\n",
    "print(y_train.shape)\n",
    "print(y_test.shape)"
   ]
  },
  {
   "cell_type": "code",
   "execution_count": 124,
   "metadata": {},
   "outputs": [],
   "source": [
    "model1=LogisticRegression()\n",
    "model2=tree.DecisionTreeClassifier(criterion='gini')\n",
    "model3 =svm.SVC(kernel='rbf')\n",
    "#model4 =GaussianNB()\n",
    "model5=KNeighborsClassifier(n_neighbors=6)\n",
    "model6= RandomForestClassifier()"
   ]
  },
  {
   "cell_type": "code",
   "execution_count": 125,
   "metadata": {},
   "outputs": [
    {
     "name": "stderr",
     "output_type": "stream",
     "text": [
      "D:\\Users\\Vikas\\Anaconda3\\lib\\site-packages\\sklearn\\utils\\validation.py:761: DataConversionWarning: A column-vector y was passed when a 1d array was expected. Please change the shape of y to (n_samples, ), for example using ravel().\n",
      "  y = column_or_1d(y, warn=True)\n",
      "D:\\Users\\Vikas\\Anaconda3\\lib\\site-packages\\sklearn\\utils\\validation.py:761: DataConversionWarning: A column-vector y was passed when a 1d array was expected. Please change the shape of y to (n_samples, ), for example using ravel().\n",
      "  y = column_or_1d(y, warn=True)\n",
      "D:\\Users\\Vikas\\Anaconda3\\lib\\site-packages\\ipykernel_launcher.py:5: DataConversionWarning: A column-vector y was passed when a 1d array was expected. Please change the shape of y to (n_samples, ), for example using ravel().\n",
      "  \"\"\"\n",
      "D:\\Users\\Vikas\\Anaconda3\\lib\\site-packages\\ipykernel_launcher.py:6: DataConversionWarning: A column-vector y was passed when a 1d array was expected. Please change the shape of y to (n_samples,), for example using ravel().\n",
      "  \n"
     ]
    },
    {
     "data": {
      "text/plain": [
       "RandomForestClassifier(bootstrap=True, class_weight=None, criterion='gini',\n",
       "            max_depth=None, max_features='auto', max_leaf_nodes=None,\n",
       "            min_impurity_decrease=0.0, min_impurity_split=None,\n",
       "            min_samples_leaf=1, min_samples_split=2,\n",
       "            min_weight_fraction_leaf=0.0, n_estimators=10, n_jobs=None,\n",
       "            oob_score=False, random_state=None, verbose=0,\n",
       "            warm_start=False)"
      ]
     },
     "execution_count": 125,
     "metadata": {},
     "output_type": "execute_result"
    }
   ],
   "source": [
    "model1.fit(X_train,y_train)\n",
    "model2.fit(X_train,y_train)\n",
    "model3.fit(X_train,y_train)\n",
    "#model4.fit(X_train,y_train)\n",
    "model5.fit(X_train,y_train)\n",
    "model6.fit(X_train,y_train)"
   ]
  },
  {
   "cell_type": "code",
   "execution_count": 126,
   "metadata": {},
   "outputs": [
    {
     "name": "stdout",
     "output_type": "stream",
     "text": [
      "Model1 0.9109630526953362\n",
      "Model2 0.985160508782556\n",
      "Model3 0.9127801332525742\n",
      "Model5 0.9092973955178679\n",
      "Model6 0.9839491217443973\n"
     ]
    }
   ],
   "source": [
    "from sklearn.metrics import accuracy_score\n",
    "from scipy import stats\n",
    "pred1=model1.predict(X_test)\n",
    "pred2=model2.predict(X_test)\n",
    "pred3=model3.predict(X_test)\n",
    "#pred4=model4.predict(X_test)\n",
    "pred5=model5.predict(X_test)\n",
    "pred6=model6.predict(X_test)\n",
    "\n",
    "print(\"Model1\",accuracy_score(y_test, pred1))\n",
    "print(\"Model2\",accuracy_score(y_test, pred2))\n",
    "print(\"Model3\",accuracy_score(y_test, pred3))\n",
    "#print(\"Model4\",accuracy_score(y_test, pred4))\n",
    "print(\"Model5\",accuracy_score(y_test, pred5))\n",
    "print(\"Model6\",accuracy_score(y_test, pred6))"
   ]
  },
  {
   "cell_type": "markdown",
   "metadata": {},
   "source": [
    "# Boosting"
   ]
  },
  {
   "cell_type": "code",
   "execution_count": 127,
   "metadata": {},
   "outputs": [],
   "source": [
    "from xgboost import XGBClassifier\n",
    "import xgboost as xgb\n",
    "from sklearn import metrics"
   ]
  },
  {
   "cell_type": "code",
   "execution_count": 128,
   "metadata": {},
   "outputs": [
    {
     "data": {
      "text/plain": [
       "Index(['AGREEMENTID', 'LOAN_AMT', 'NET_DISBURSED_AMT', 'CURRENT_ROI',\n",
       "       'ORIGNAL_ROI', 'CURRENT_TENOR', 'ORIGNAL_TENOR', 'DUEDAY', 'CITY',\n",
       "       'PRE_EMI_DUEAMT', 'PRE_EMI_RECEIVED_AMT', 'PRE_EMI_OS_AMOUNT',\n",
       "       'EMI_DUEAMT', 'EMI_RECEIVED_AMT', 'EMI_OS_AMOUNT', 'EXCESS_AVAILABLE',\n",
       "       'EXCESS_ADJUSTED_AMT', 'BALANCE_EXCESS', 'NET_RECEIVABLE',\n",
       "       'OUTSTANDING_PRINCIPAL', 'PAID_PRINCIPAL', 'PAID_INTEREST',\n",
       "       'MONTHOPENING', 'LAST_RECEIPT_AMOUNT', 'NET_LTV', 'COMPLETED_TENURE',\n",
       "       'BALANCE_TENURE', 'DPD', 'FOIR', 'NPA_IN_LAST_MONTH',\n",
       "       'NPA_IN_CURRENT_MONTH', 'MOB', 'RANK', 'PAYMENTTIMES', 'PRODUCT_HL',\n",
       "       'PRODUCT_LAP', 'PRODUCT_STHL', 'PRODUCT_STLAP', 'INTEREST_START_YEAR',\n",
       "       'INTEREST_START_MONTH', 'INTEREST_START_DAY', 'AUTHORIZATION_YEAR',\n",
       "       'AUTHORIZATION_MONTH', 'AUTHORIZATION_DAY', 'LAST_RECEIPT_YEAR',\n",
       "       'LAST_RECEIPT_MONTH', 'LAST_RECEIPT_DAY'],\n",
       "      dtype='object')"
      ]
     },
     "execution_count": 128,
     "metadata": {},
     "output_type": "execute_result"
    }
   ],
   "source": [
    "X_train.columns"
   ]
  },
  {
   "cell_type": "code",
   "execution_count": 129,
   "metadata": {},
   "outputs": [
    {
     "name": "stderr",
     "output_type": "stream",
     "text": [
      "D:\\Users\\Vikas\\Anaconda3\\lib\\site-packages\\sklearn\\preprocessing\\label.py:219: DataConversionWarning: A column-vector y was passed when a 1d array was expected. Please change the shape of y to (n_samples, ), for example using ravel().\n",
      "  y = column_or_1d(y, warn=True)\n",
      "D:\\Users\\Vikas\\Anaconda3\\lib\\site-packages\\sklearn\\preprocessing\\label.py:252: DataConversionWarning: A column-vector y was passed when a 1d array was expected. Please change the shape of y to (n_samples, ), for example using ravel().\n",
      "  y = column_or_1d(y, warn=True)\n"
     ]
    },
    {
     "name": "stdout",
     "output_type": "stream",
     "text": [
      "Modeldef 0.987886129618413\n"
     ]
    }
   ],
   "source": [
    "model_def=XGBClassifier()\n",
    "model_def.fit(X_train ,y_train)\n",
    "pred_def=model_def.predict(X_test)\n",
    "print(\"Modeldef\",accuracy_score(y_test, pred_def))"
   ]
  },
  {
   "cell_type": "code",
   "execution_count": 130,
   "metadata": {},
   "outputs": [
    {
     "name": "stderr",
     "output_type": "stream",
     "text": [
      "D:\\Users\\Vikas\\Anaconda3\\lib\\site-packages\\sklearn\\preprocessing\\label.py:219: DataConversionWarning: A column-vector y was passed when a 1d array was expected. Please change the shape of y to (n_samples, ), for example using ravel().\n",
      "  y = column_or_1d(y, warn=True)\n",
      "D:\\Users\\Vikas\\Anaconda3\\lib\\site-packages\\sklearn\\preprocessing\\label.py:252: DataConversionWarning: A column-vector y was passed when a 1d array was expected. Please change the shape of y to (n_samples, ), for example using ravel().\n",
      "  y = column_or_1d(y, warn=True)\n"
     ]
    },
    {
     "name": "stdout",
     "output_type": "stream",
     "text": [
      "Model7 0.9912174439733494\n"
     ]
    }
   ],
   "source": [
    "model7 = XGBClassifier(learning_rate =0.1,n_estimators=1000,max_depth=5,min_child_weight=1,gamma=0,subsample=0.8,colsample_bytree=0.8,objective= 'binary:logistic',nthread=4,scale_pos_weight=1,seed=27)\n",
    "model7.fit(X_train,y_train)\n",
    "pred7=model7.predict(X_test)\n",
    "print(\"Model7\",accuracy_score(y_test, pred7))"
   ]
  },
  {
   "cell_type": "markdown",
   "metadata": {},
   "source": [
    "# Tuning Xgboost"
   ]
  },
  {
   "cell_type": "code",
   "execution_count": 131,
   "metadata": {},
   "outputs": [],
   "source": [
    "def modelfit(alg, dtrain, predictors,useTrainCV=True, cv_folds=5, early_stopping_rounds=50):\n",
    "    \n",
    "    if useTrainCV:\n",
    "        xgb_param = alg.get_xgb_params()\n",
    "        xgtrain = xgb.DMatrix(dtrain[predictors].values, label=dtrain['TARGET'].values)\n",
    "        cvresult = xgb.cv(xgb_param, xgtrain, num_boost_round=alg.get_params()['n_estimators'], nfold=cv_folds,\n",
    "            metrics='auc', early_stopping_rounds=early_stopping_rounds)\n",
    "        alg.set_params(n_estimators=cvresult.shape[0])\n",
    "    \n",
    "    #Fit the algorithm on the data\n",
    "    alg.fit(dtrain[predictors], dtrain['TARGET'],eval_metric='auc')\n",
    "        \n",
    "    #Predict training set:\n",
    "    dtrain_predictions = alg.predict(dtrain[predictors])\n",
    "    dtrain_predprob = alg.predict_proba(dtrain[predictors])[:,1]\n",
    "        \n",
    "    #Print model report:\n",
    "    print(\"\\nModel Report\")\n",
    "    print(\"Accuracy : %.4g\" % metrics.accuracy_score(dtrain['TARGET'].values, dtrain_predictions))\n",
    "    print(\"AUC Score (Train): %f\" % metrics.roc_auc_score(dtrain['TARGET'], dtrain_predprob))"
   ]
  },
  {
   "cell_type": "code",
   "execution_count": 132,
   "metadata": {},
   "outputs": [
    {
     "name": "stdout",
     "output_type": "stream",
     "text": [
      "\n",
      "Model Report\n",
      "Accuracy : 0.9994\n",
      "AUC Score (Train): 0.999994\n"
     ]
    }
   ],
   "source": [
    "predictors =[x for x in train_wc.columns if x not in ['TARGET', 'AGREEMENTID']]\n",
    "xgb1 = XGBClassifier(learning_rate =0.1,n_estimators=1000,max_depth=5,min_child_weight=1,gamma=0,subsample=0.8,colsample_bytree=0.8,objective= 'binary:logistic',nthread=4,scale_pos_weight=1,seed=27)\n",
    "modelfit(xgb1, train_wc, predictors)"
   ]
  },
  {
   "cell_type": "code",
   "execution_count": 133,
   "metadata": {},
   "outputs": [
    {
     "data": {
      "text/plain": [
       "({'mean_fit_time': array([4.77980795, 3.51001782, 3.0135447 , 4.59890742, 4.46606264,\n",
       "         4.30229983, 6.07795444, 5.51286435, 5.23101749, 6.46771207,\n",
       "         6.22735443, 5.33374267]),\n",
       "  'std_fit_time': array([0.45483734, 0.23055595, 0.14023331, 0.41863067, 0.36918233,\n",
       "         0.38140261, 0.34617388, 0.23662606, 0.49014302, 0.54635889,\n",
       "         0.47859928, 0.64350495]),\n",
       "  'mean_score_time': array([0.03291197, 0.02253952, 0.02234011, 0.02553196, 0.0235374 ,\n",
       "         0.02373676, 0.02533236, 0.02493372, 0.02633004, 0.02533259,\n",
       "         0.026928  , 0.02593107]),\n",
       "  'std_score_time': array([0.0088757 , 0.00135273, 0.00149285, 0.0020539 , 0.00135293,\n",
       "         0.00171591, 0.00205367, 0.00166892, 0.00499084, 0.0033735 ,\n",
       "         0.00089202, 0.00492654]),\n",
       "  'param_max_depth': masked_array(data=[3, 3, 3, 5, 5, 5, 7, 7, 7, 9, 9, 9],\n",
       "               mask=[False, False, False, False, False, False, False, False,\n",
       "                     False, False, False, False],\n",
       "         fill_value='?',\n",
       "              dtype=object),\n",
       "  'param_min_child_weight': masked_array(data=[1, 3, 5, 1, 3, 5, 1, 3, 5, 1, 3, 5],\n",
       "               mask=[False, False, False, False, False, False, False, False,\n",
       "                     False, False, False, False],\n",
       "         fill_value='?',\n",
       "              dtype=object),\n",
       "  'params': [{'max_depth': 3, 'min_child_weight': 1},\n",
       "   {'max_depth': 3, 'min_child_weight': 3},\n",
       "   {'max_depth': 3, 'min_child_weight': 5},\n",
       "   {'max_depth': 5, 'min_child_weight': 1},\n",
       "   {'max_depth': 5, 'min_child_weight': 3},\n",
       "   {'max_depth': 5, 'min_child_weight': 5},\n",
       "   {'max_depth': 7, 'min_child_weight': 1},\n",
       "   {'max_depth': 7, 'min_child_weight': 3},\n",
       "   {'max_depth': 7, 'min_child_weight': 5},\n",
       "   {'max_depth': 9, 'min_child_weight': 1},\n",
       "   {'max_depth': 9, 'min_child_weight': 3},\n",
       "   {'max_depth': 9, 'min_child_weight': 5}],\n",
       "  'split0_test_score': array([0.98773387, 0.98795288, 0.9868204 , 0.98951801, 0.98734555,\n",
       "         0.98629716, 0.9871147 , 0.98642673, 0.98589202, 0.98780955,\n",
       "         0.98340272, 0.98435632]),\n",
       "  'split1_test_score': array([0.99076132, 0.99014597, 0.98983103, 0.98889234, 0.98736581,\n",
       "         0.9873681 , 0.98733561, 0.98665338, 0.98585227, 0.98821125,\n",
       "         0.98784356, 0.98618938]),\n",
       "  'split2_test_score': array([0.99925144, 0.99903199, 0.9992025 , 0.99876743, 0.99848834,\n",
       "         0.99847535, 0.99886989, 0.99872996, 0.99853193, 0.99898611,\n",
       "         0.99849599, 0.99868026]),\n",
       "  'split3_test_score': array([0.99901287, 0.99898   , 0.99913215, 0.99866268, 0.99863821,\n",
       "         0.99863515, 0.99881713, 0.99853957, 0.99864509, 0.99881713,\n",
       "         0.99876743, 0.99873302]),\n",
       "  'split4_test_score': array([0.99490762, 0.99369264, 0.99561337, 0.99335468, 0.98481844,\n",
       "         0.98999952, 0.99469659, 0.9870152 , 0.98230055, 0.99389144,\n",
       "         0.98940158, 0.98465482]),\n",
       "  'mean_test_score': array([0.99433343, 0.99396069, 0.99411989, 0.99383903, 0.99133127,\n",
       "         0.99215506, 0.99336678, 0.99147297, 0.99024437, 0.9935431 ,\n",
       "         0.99158226, 0.99052276]),\n",
       "  'std_test_score': array([0.00453272, 0.00450842, 0.00499726, 0.00426456, 0.00597734,\n",
       "         0.00536309, 0.00523875, 0.00585091, 0.00693676, 0.00487576,\n",
       "         0.00608382, 0.00671102]),\n",
       "  'rank_test_score': array([ 1,  3,  2,  4, 10,  7,  6,  9, 12,  5,  8, 11]),\n",
       "  'split0_train_score': array([0.99981493, 0.99977565, 0.99971768, 1.        , 0.99998963,\n",
       "         0.99996483, 1.        , 0.99999885, 0.99998633, 1.        ,\n",
       "         0.99999914, 0.99998958]),\n",
       "  'split1_train_score': array([0.99919727, 0.9990036 , 0.99891352, 0.99998953, 0.99994438,\n",
       "         0.99983872, 1.        , 0.99999102, 0.99994533, 1.        ,\n",
       "         0.99999517, 0.99995852]),\n",
       "  'split2_train_score': array([0.99874715, 0.99862076, 0.99845439, 0.99996536, 0.99990324,\n",
       "         0.9998008 , 1.        , 0.99999116, 0.99995293, 1.        ,\n",
       "         0.9999956 , 0.99996837]),\n",
       "  'split3_train_score': array([0.99893718, 0.99857891, 0.99844249, 0.99997171, 0.99988786,\n",
       "         0.99978388, 1.        , 0.9999902 , 0.99993884, 1.        ,\n",
       "         0.99999298, 0.99995336]),\n",
       "  'split4_train_score': array([0.99961999, 0.99942303, 0.99937725, 0.99999885, 0.99997778,\n",
       "         0.99993449, 1.        , 0.99999785, 0.99998093, 1.        ,\n",
       "         0.99999847, 0.99998476]),\n",
       "  'mean_train_score': array([0.9992633 , 0.99908039, 0.99898107, 0.99998509, 0.99994058,\n",
       "         0.99986454, 1.        , 0.99999382, 0.99996087, 1.        ,\n",
       "         0.99999627, 0.99997092]),\n",
       "  'std_train_score': array([4.02155259e-04, 4.62476056e-04, 5.04298958e-04, 1.41406982e-05,\n",
       "         3.99460702e-05, 7.23696700e-05, 7.02166694e-17, 3.73034608e-06,\n",
       "         1.91870776e-05, 0.00000000e+00, 2.26168899e-06, 1.41999139e-05])},\n",
       " {'max_depth': 3, 'min_child_weight': 1},\n",
       " 0.9943334253771727)"
      ]
     },
     "execution_count": 133,
     "metadata": {},
     "output_type": "execute_result"
    }
   ],
   "source": [
    "from sklearn.model_selection import GridSearchCV\n",
    "param_test1 = {\n",
    " 'max_depth':range(3,10,2),\n",
    " 'min_child_weight':range(1,6,2)\n",
    "}\n",
    "gsearch1 = GridSearchCV(estimator = XGBClassifier( learning_rate =0.1, n_estimators=140, max_depth=5,\n",
    " min_child_weight=1, gamma=0, subsample=0.8, colsample_bytree=0.8,\n",
    " objective= 'binary:logistic', nthread=4, scale_pos_weight=1, seed=27), \n",
    " param_grid = param_test1, scoring='roc_auc',n_jobs=4,iid=False, cv=5)\n",
    "gsearch1.fit(train_wc[predictors],train_wc['TARGET'])\n",
    "gsearch1.cv_results_, gsearch1.best_params_, gsearch1.best_score_"
   ]
  },
  {
   "cell_type": "code",
   "execution_count": 134,
   "metadata": {},
   "outputs": [
    {
     "data": {
      "text/plain": [
       "({'mean_fit_time': array([3.31094947, 3.49366145, 3.27424793, 4.94458356, 4.86260266,\n",
       "         4.60229855, 6.14437642, 5.67024422, 5.54078999, 6.9234941 ,\n",
       "         6.32190213, 5.45900898]),\n",
       "  'std_fit_time': array([0.11237646, 0.35092599, 0.08875493, 0.13287771, 0.27128971,\n",
       "         0.21119908, 0.2377202 , 0.51580053, 0.35126466, 0.70846919,\n",
       "         0.65342248, 0.95796212]),\n",
       "  'mean_score_time': array([0.02313838, 0.02254028, 0.02194157, 0.0263298 , 0.02553167,\n",
       "         0.02453437, 0.02652926, 0.0259306 , 0.02732692, 0.0261301 ,\n",
       "         0.02652941, 0.02333746]),\n",
       "  'std_score_time': array([0.00132333, 0.00241043, 0.00109249, 0.00371052, 0.00162056,\n",
       "         0.00162048, 0.00264624, 0.00260093, 0.00079758, 0.00305142,\n",
       "         0.00232636, 0.00729072]),\n",
       "  'param_max_depth': masked_array(data=[3, 3, 3, 5, 5, 5, 7, 7, 7, 9, 9, 9],\n",
       "               mask=[False, False, False, False, False, False, False, False,\n",
       "                     False, False, False, False],\n",
       "         fill_value='?',\n",
       "              dtype=object),\n",
       "  'param_min_child_weight': masked_array(data=[1, 3, 5, 1, 3, 5, 1, 3, 5, 1, 3, 5],\n",
       "               mask=[False, False, False, False, False, False, False, False,\n",
       "                     False, False, False, False],\n",
       "         fill_value='?',\n",
       "              dtype=object),\n",
       "  'params': [{'max_depth': 3, 'min_child_weight': 1},\n",
       "   {'max_depth': 3, 'min_child_weight': 3},\n",
       "   {'max_depth': 3, 'min_child_weight': 5},\n",
       "   {'max_depth': 5, 'min_child_weight': 1},\n",
       "   {'max_depth': 5, 'min_child_weight': 3},\n",
       "   {'max_depth': 5, 'min_child_weight': 5},\n",
       "   {'max_depth': 7, 'min_child_weight': 1},\n",
       "   {'max_depth': 7, 'min_child_weight': 3},\n",
       "   {'max_depth': 7, 'min_child_weight': 5},\n",
       "   {'max_depth': 9, 'min_child_weight': 1},\n",
       "   {'max_depth': 9, 'min_child_weight': 3},\n",
       "   {'max_depth': 9, 'min_child_weight': 5}],\n",
       "  'split0_test_score': array([0.98773387, 0.98795288, 0.9868204 , 0.98951801, 0.98734555,\n",
       "         0.98629716, 0.9871147 , 0.98642673, 0.98589202, 0.98780955,\n",
       "         0.98340272, 0.98435632]),\n",
       "  'split1_test_score': array([0.99076132, 0.99014597, 0.98983103, 0.98889234, 0.98736581,\n",
       "         0.9873681 , 0.98733561, 0.98665338, 0.98585227, 0.98821125,\n",
       "         0.98784356, 0.98618938]),\n",
       "  'split2_test_score': array([0.99925144, 0.99903199, 0.9992025 , 0.99876743, 0.99848834,\n",
       "         0.99847535, 0.99886989, 0.99872996, 0.99853193, 0.99898611,\n",
       "         0.99849599, 0.99868026]),\n",
       "  'split3_test_score': array([0.99901287, 0.99898   , 0.99913215, 0.99866268, 0.99863821,\n",
       "         0.99863515, 0.99881713, 0.99853957, 0.99864509, 0.99881713,\n",
       "         0.99876743, 0.99873302]),\n",
       "  'split4_test_score': array([0.99490762, 0.99369264, 0.99561337, 0.99335468, 0.98481844,\n",
       "         0.98999952, 0.99469659, 0.9870152 , 0.98230055, 0.99389144,\n",
       "         0.98940158, 0.98465482]),\n",
       "  'mean_test_score': array([0.99433343, 0.99396069, 0.99411989, 0.99383903, 0.99133127,\n",
       "         0.99215506, 0.99336678, 0.99147297, 0.99024437, 0.9935431 ,\n",
       "         0.99158226, 0.99052276]),\n",
       "  'std_test_score': array([0.00453272, 0.00450842, 0.00499726, 0.00426456, 0.00597734,\n",
       "         0.00536309, 0.00523875, 0.00585091, 0.00693676, 0.00487576,\n",
       "         0.00608382, 0.00671102]),\n",
       "  'rank_test_score': array([ 1,  3,  2,  4, 10,  7,  6,  9, 12,  5,  8, 11]),\n",
       "  'split0_train_score': array([0.99981493, 0.99977565, 0.99971768, 1.        , 0.99998963,\n",
       "         0.99996483, 1.        , 0.99999885, 0.99998633, 1.        ,\n",
       "         0.99999914, 0.99998958]),\n",
       "  'split1_train_score': array([0.99919727, 0.9990036 , 0.99891352, 0.99998953, 0.99994438,\n",
       "         0.99983872, 1.        , 0.99999102, 0.99994533, 1.        ,\n",
       "         0.99999517, 0.99995852]),\n",
       "  'split2_train_score': array([0.99874715, 0.99862076, 0.99845439, 0.99996536, 0.99990324,\n",
       "         0.9998008 , 1.        , 0.99999116, 0.99995293, 1.        ,\n",
       "         0.9999956 , 0.99996837]),\n",
       "  'split3_train_score': array([0.99893718, 0.99857891, 0.99844249, 0.99997171, 0.99988786,\n",
       "         0.99978388, 1.        , 0.9999902 , 0.99993884, 1.        ,\n",
       "         0.99999298, 0.99995336]),\n",
       "  'split4_train_score': array([0.99961999, 0.99942303, 0.99937725, 0.99999885, 0.99997778,\n",
       "         0.99993449, 1.        , 0.99999785, 0.99998093, 1.        ,\n",
       "         0.99999847, 0.99998476]),\n",
       "  'mean_train_score': array([0.9992633 , 0.99908039, 0.99898107, 0.99998509, 0.99994058,\n",
       "         0.99986454, 1.        , 0.99999382, 0.99996087, 1.        ,\n",
       "         0.99999627, 0.99997092]),\n",
       "  'std_train_score': array([4.02155259e-04, 4.62476056e-04, 5.04298958e-04, 1.41406982e-05,\n",
       "         3.99460702e-05, 7.23696700e-05, 7.02166694e-17, 3.73034608e-06,\n",
       "         1.91870776e-05, 0.00000000e+00, 2.26168899e-06, 1.41999139e-05])},\n",
       " {'max_depth': 3, 'min_child_weight': 1},\n",
       " 0.9943334253771727)"
      ]
     },
     "execution_count": 134,
     "metadata": {},
     "output_type": "execute_result"
    }
   ],
   "source": [
    "from sklearn.model_selection import GridSearchCV\n",
    "param_test2 = {\n",
    " 'max_depth':range(1,5,1)\n",
    "}\n",
    "gsearch2 = GridSearchCV(estimator = XGBClassifier( learning_rate =0.1, n_estimators=140,\n",
    " min_child_weight=1, gamma=0, subsample=0.8, colsample_bytree=0.8,\n",
    " objective= 'binary:logistic', nthread=4, scale_pos_weight=1, seed=27), \n",
    " param_grid = param_test1, scoring='roc_auc',n_jobs=4,iid=False, cv=5)\n",
    "gsearch2.fit(train_wc[predictors],train_wc['TARGET'])\n",
    "gsearch2.cv_results_, gsearch2.best_params_, gsearch2.best_score_"
   ]
  },
  {
   "cell_type": "code",
   "execution_count": 135,
   "metadata": {},
   "outputs": [
    {
     "data": {
      "text/plain": [
       "({'mean_fit_time': array([4.02563767, 4.01865778, 4.05815263, 4.08647699, 3.73421831]),\n",
       "  'std_fit_time': array([0.31670271, 0.24217827, 0.07119545, 0.46582145, 0.89244684]),\n",
       "  'mean_score_time': array([0.02393565, 0.02373676, 0.02353745, 0.02273951, 0.01954794]),\n",
       "  'std_score_time': array([0.00178401, 0.00203415, 0.00101728, 0.00171588, 0.00457467]),\n",
       "  'param_gamma': masked_array(data=[0.0, 0.1, 0.2, 0.3, 0.4],\n",
       "               mask=[False, False, False, False, False],\n",
       "         fill_value='?',\n",
       "              dtype=object),\n",
       "  'params': [{'gamma': 0.0},\n",
       "   {'gamma': 0.1},\n",
       "   {'gamma': 0.2},\n",
       "   {'gamma': 0.3},\n",
       "   {'gamma': 0.4}],\n",
       "  'split0_test_score': array([0.98416063, 0.98474541, 0.9851601 , 0.98392978, 0.98494415]),\n",
       "  'split1_test_score': array([0.98754162, 0.98801479, 0.98745066, 0.9877526 , 0.98750264]),\n",
       "  'split2_test_score': array([0.99847458, 0.99879572, 0.99861374, 0.99852505, 0.99840194]),\n",
       "  'split3_test_score': array([0.99888824, 0.99897388, 0.99877584, 0.99888365, 0.99887983]),\n",
       "  'split4_test_score': array([0.99335009, 0.99242566, 0.99262676, 0.99262905, 0.99262905]),\n",
       "  'mean_test_score': array([0.99248303, 0.99259109, 0.99252542, 0.99234403, 0.99247152]),\n",
       "  'std_test_score': array([0.00585418, 0.00568792, 0.00558832, 0.00588105, 0.00561449]),\n",
       "  'rank_test_score': array([3, 1, 2, 5, 4]),\n",
       "  'split0_train_score': array([0.99989717, 0.99989267, 0.99988121, 0.99988684, 0.99988804]),\n",
       "  'split1_train_score': array([0.99948874, 0.99952453, 0.99943809, 0.99946929, 0.99944779]),\n",
       "  'split2_train_score': array([0.99939001, 0.99936392, 0.99938213, 0.99935102, 0.99930548]),\n",
       "  'split3_train_score': array([0.99924676, 0.99936507, 0.99923558, 0.99924036, 0.99931189]),\n",
       "  'split4_train_score': array([0.99975932, 0.99976247, 0.99973013, 0.99973041, 0.99973041]),\n",
       "  'mean_train_score': array([0.9995564 , 0.99958173, 0.99953343, 0.99953559, 0.99953672]),\n",
       "  'std_train_score': array([0.00023893, 0.00021308, 0.00023678, 0.00023957, 0.00023361])},\n",
       " {'gamma': 0.1},\n",
       " 0.9925910918698451)"
      ]
     },
     "execution_count": 135,
     "metadata": {},
     "output_type": "execute_result"
    }
   ],
   "source": [
    "param_test3 = {\n",
    " 'gamma':[i/10.0 for i in range(0,5)]\n",
    "}\n",
    "gsearch3 = GridSearchCV(estimator = XGBClassifier( learning_rate =0.1, n_estimators=140, max_depth=4,\n",
    " min_child_weight=6, gamma=0, subsample=0.8, colsample_bytree=0.8,\n",
    " objective= 'binary:logistic', nthread=4, scale_pos_weight=1,seed=27), \n",
    " param_grid = param_test3, scoring='roc_auc',n_jobs=4,iid=False, cv=5)\n",
    "gsearch3.fit(train_wc[predictors],train_wc['TARGET'])\n",
    "gsearch3.cv_results_, gsearch3.best_params_, gsearch3.best_score_"
   ]
  },
  {
   "cell_type": "code",
   "execution_count": 136,
   "metadata": {},
   "outputs": [
    {
     "name": "stderr",
     "output_type": "stream",
     "text": [
      "D:\\Users\\Vikas\\Anaconda3\\lib\\site-packages\\sklearn\\preprocessing\\label.py:219: DataConversionWarning: A column-vector y was passed when a 1d array was expected. Please change the shape of y to (n_samples, ), for example using ravel().\n",
      "  y = column_or_1d(y, warn=True)\n",
      "D:\\Users\\Vikas\\Anaconda3\\lib\\site-packages\\sklearn\\preprocessing\\label.py:252: DataConversionWarning: A column-vector y was passed when a 1d array was expected. Please change the shape of y to (n_samples, ), for example using ravel().\n",
      "  y = column_or_1d(y, warn=True)\n"
     ]
    },
    {
     "name": "stdout",
     "output_type": "stream",
     "text": [
      "Model9 0.9915202907328892\n"
     ]
    }
   ],
   "source": [
    "model9 = XGBClassifier(learning_rate =0.1,n_estimators=1000,max_depth=3,min_child_weight=1,gamma=0.1,subsample=0.8,colsample_bytree=0.8,objective= 'binary:logistic',nthread=4,scale_pos_weight=1,seed=27)\n",
    "model9.fit(X_train,y_train)\n",
    "pred9=model9.predict(X_test)\n",
    "print(\"Model9\",accuracy_score(y_test, pred9))"
   ]
  },
  {
   "cell_type": "code",
   "execution_count": 137,
   "metadata": {},
   "outputs": [
    {
     "data": {
      "text/plain": [
       "({'mean_fit_time': array([4.97789311, 4.93620605, 4.85881262, 5.17676291, 5.37124314,\n",
       "         5.30182858, 5.26692195, 5.60581636, 4.80915475]),\n",
       "  'std_fit_time': array([0.36668325, 0.20476762, 0.11087897, 0.34889446, 0.27525651,\n",
       "         0.23725729, 0.19546803, 0.14220261, 1.1797856 ]),\n",
       "  'mean_score_time': array([0.0269279 , 0.0271275 , 0.02533216, 0.02573133, 0.02593079,\n",
       "         0.02553172, 0.02493343, 0.02593064, 0.02293954]),\n",
       "  'std_score_time': array([0.00244316, 0.00146569, 0.00119696, 0.00171568, 0.0006309 ,\n",
       "         0.00079772, 0.00141067, 0.00166892, 0.00560486]),\n",
       "  'param_colsample_bytree': masked_array(data=[0.75, 0.75, 0.75, 0.8, 0.8, 0.8, 0.85, 0.85, 0.85],\n",
       "               mask=[False, False, False, False, False, False, False, False,\n",
       "                     False],\n",
       "         fill_value='?',\n",
       "              dtype=object),\n",
       "  'param_subsample': masked_array(data=[0.75, 0.8, 0.85, 0.75, 0.8, 0.85, 0.75, 0.8, 0.85],\n",
       "               mask=[False, False, False, False, False, False, False, False,\n",
       "                     False],\n",
       "         fill_value='?',\n",
       "              dtype=object),\n",
       "  'params': [{'colsample_bytree': 0.75, 'subsample': 0.75},\n",
       "   {'colsample_bytree': 0.75, 'subsample': 0.8},\n",
       "   {'colsample_bytree': 0.75, 'subsample': 0.85},\n",
       "   {'colsample_bytree': 0.8, 'subsample': 0.75},\n",
       "   {'colsample_bytree': 0.8, 'subsample': 0.8},\n",
       "   {'colsample_bytree': 0.8, 'subsample': 0.85},\n",
       "   {'colsample_bytree': 0.85, 'subsample': 0.75},\n",
       "   {'colsample_bytree': 0.85, 'subsample': 0.8},\n",
       "   {'colsample_bytree': 0.85, 'subsample': 0.85}],\n",
       "  'split0_test_score': array([0.98528814, 0.98589432, 0.98545249, 0.98663465, 0.98508633,\n",
       "         0.98552854, 0.9868934 , 0.98697825, 0.98581023]),\n",
       "  'split1_test_score': array([0.9884314 , 0.98856517, 0.98827928, 0.98750646, 0.98785962,\n",
       "         0.98802014, 0.98836184, 0.9878191 , 0.98845204]),\n",
       "  'split2_test_score': array([0.99822684, 0.9981695 , 0.99827119, 0.99798905, 0.99824214,\n",
       "         0.99822914, 0.99836218, 0.99808692, 0.99856175]),\n",
       "  'split3_test_score': array([0.99861298, 0.99857245, 0.99835836, 0.99868103, 0.99878808,\n",
       "         0.99877508, 0.99870091, 0.9987529 , 0.99861145]),\n",
       "  'split4_test_score': array([0.99497644, 0.9931077 , 0.99419041, 0.99407648, 0.99272386,\n",
       "         0.9911518 , 0.99381268, 0.99437698, 0.99137813]),\n",
       "  'mean_test_score': array([0.99310716, 0.99286183, 0.99291034, 0.99297753, 0.99254   ,\n",
       "         0.99234094, 0.9932262 , 0.99320283, 0.99256272]),\n",
       "  'std_test_score': array([0.00534826, 0.00505669, 0.00523688, 0.00507972, 0.00545985,\n",
       "         0.00533968, 0.00490838, 0.00497526, 0.00522441]),\n",
       "  'rank_test_score': array([3, 6, 5, 4, 8, 9, 1, 2, 7]),\n",
       "  'split0_train_score': array([0.99993195, 0.99994146, 0.99994228, 0.99993176, 0.99994557,\n",
       "         0.9999472 , 0.99994098, 0.99994395, 0.99994863]),\n",
       "  'split1_train_score': array([0.99968724, 0.99970421, 0.99975218, 0.99971276, 0.9997075 ,\n",
       "         0.99973536, 0.9997033 , 0.99971678, 0.99974721]),\n",
       "  'split2_train_score': array([0.99960967, 0.99964503, 0.99967374, 0.99963227, 0.9996499 ,\n",
       "         0.99968258, 0.99956795, 0.99967178, 0.99966524]),\n",
       "  'split3_train_score': array([0.9995594 , 0.99949002, 0.99961014, 0.99948863, 0.99952834,\n",
       "         0.9996435 , 0.99951176, 0.99959815, 0.9996552 ]),\n",
       "  'split4_train_score': array([0.9998771 , 0.99989268, 0.99988905, 0.99984949, 0.99987357,\n",
       "         0.99988408, 0.99984375, 0.9998826 , 0.99988876]),\n",
       "  'mean_train_score': array([0.99973307, 0.99973468, 0.99977348, 0.99972298, 0.99974098,\n",
       "         0.99977854, 0.99971355, 0.99976265, 0.99978101]),\n",
       "  'std_train_score': array([0.00014683, 0.00016526, 0.00012564, 0.00015674, 0.00015104,\n",
       "         0.00011738, 0.00016168, 0.00013014, 0.00011839])},\n",
       " {'colsample_bytree': 0.85, 'subsample': 0.75},\n",
       " 0.9932262022514922)"
      ]
     },
     "execution_count": 137,
     "metadata": {},
     "output_type": "execute_result"
    }
   ],
   "source": [
    "param_test4 = {\n",
    " 'subsample':[i/100.0 for i in range(75,90,5)],\n",
    " 'colsample_bytree':[i/100.0 for i in range(75,90,5)]\n",
    "}\n",
    "gsearch4 = GridSearchCV(estimator = XGBClassifier( learning_rate =0.1, n_estimators=177, max_depth=4,\n",
    " min_child_weight=6, gamma=0, subsample=0.8, colsample_bytree=0.8,\n",
    " objective= 'binary:logistic', nthread=4, scale_pos_weight=1,seed=27), \n",
    " param_grid = param_test4, scoring='roc_auc',n_jobs=4,iid=False, cv=5)\n",
    "gsearch4.fit(train_wc[predictors],train_wc['TARGET'])\n",
    "gsearch4.cv_results_, gsearch4.best_params_, gsearch4.best_score_"
   ]
  },
  {
   "cell_type": "code",
   "execution_count": 138,
   "metadata": {},
   "outputs": [
    {
     "data": {
      "text/plain": [
       "({'mean_fit_time': array([5.49550991, 5.05309353, 5.26951528, 5.25515342, 3.30975318]),\n",
       "  'std_fit_time': array([0.28545055, 0.19131632, 0.03840768, 0.50284569, 0.59808587]),\n",
       "  'mean_score_time': array([0.02672873, 0.02573152, 0.02593083, 0.02573137, 0.01894956]),\n",
       "  'std_score_time': array([0.00159581, 0.00193373, 0.0014105 , 0.00171585, 0.0049666 ]),\n",
       "  'param_reg_alpha': masked_array(data=[1e-05, 0.01, 0.1, 1, 100],\n",
       "               mask=[False, False, False, False, False],\n",
       "         fill_value='?',\n",
       "              dtype=object),\n",
       "  'params': [{'reg_alpha': 1e-05},\n",
       "   {'reg_alpha': 0.01},\n",
       "   {'reg_alpha': 0.1},\n",
       "   {'reg_alpha': 1},\n",
       "   {'reg_alpha': 100}],\n",
       "  'split0_test_score': array([0.98508633, 0.98486618, 0.9845436 , 0.98643246, 0.72342715]),\n",
       "  'split1_test_score': array([0.98785962, 0.98727943, 0.98763259, 0.9883626 , 0.98285043]),\n",
       "  'split2_test_score': array([0.99824214, 0.99819779, 0.99828725, 0.9985411 , 0.99800893]),\n",
       "  'split3_test_score': array([0.99878808, 0.99852963, 0.99878119, 0.9987529 , 0.9928095 ]),\n",
       "  'split4_test_score': array([0.99272425, 0.99106846, 0.99164804, 0.99227809, 0.98245882]),\n",
       "  'mean_test_score': array([0.99254008, 0.9919883 , 0.99217853, 0.99287343, 0.93591097]),\n",
       "  'std_test_score': array([0.00545985, 0.0055694 , 0.00565952, 0.00507698, 0.1064077 ]),\n",
       "  'rank_test_score': array([2, 4, 3, 1, 5]),\n",
       "  'split0_train_score': array([0.99994557, 0.99994414, 0.99994175, 0.99991919, 0.99539854]),\n",
       "  'split1_train_score': array([0.9997075 , 0.99970593, 0.99965341, 0.99957662, 0.99291046]),\n",
       "  'split2_train_score': array([0.9996499 , 0.99962878, 0.99966232, 0.99954736, 0.99105611]),\n",
       "  'split3_train_score': array([0.99952834, 0.99951759, 0.99954564, 0.9993892 , 0.99067075]),\n",
       "  'split4_train_score': array([0.99987357, 0.99985665, 0.99986511, 0.99981236, 0.99618308]),\n",
       "  'mean_train_score': array([0.99974098, 0.99973062, 0.99973365, 0.99964895, 0.99324379]),\n",
       "  'std_train_score': array([0.00015104, 0.00015352, 0.0001466 , 0.00019118, 0.0022271 ])},\n",
       " {'reg_alpha': 1},\n",
       " 0.9928734312567998)"
      ]
     },
     "execution_count": 138,
     "metadata": {},
     "output_type": "execute_result"
    }
   ],
   "source": [
    "param_test5 = {\n",
    " 'reg_alpha':[1e-5, 1e-2, 0.1, 1, 100]\n",
    "}\n",
    "gsearch5 = GridSearchCV(estimator = XGBClassifier( learning_rate =0.1, n_estimators=177, max_depth=4,\n",
    " min_child_weight=6, gamma=0, subsample=0.8, colsample_bytree=0.8,\n",
    " objective= 'binary:logistic', nthread=4, scale_pos_weight=1,seed=27), \n",
    " param_grid = param_test5, scoring='roc_auc',n_jobs=4,iid=False, cv=5)\n",
    "gsearch5.fit(train_wc[predictors],train_wc['TARGET'])\n",
    "gsearch5.cv_results_, gsearch5.best_params_, gsearch5.best_score_"
   ]
  },
  {
   "cell_type": "code",
   "execution_count": 139,
   "metadata": {},
   "outputs": [
    {
     "data": {
      "text/plain": [
       "({'mean_fit_time': array([5.23021898, 5.28088474, 5.47795758, 5.08181696, 5.36406193,\n",
       "         4.56021075]),\n",
       "  'std_fit_time': array([0.56189202, 0.33296898, 0.48923809, 0.25433831, 0.19702825,\n",
       "         0.7961955 ]),\n",
       "  'mean_score_time': array([0.02632971, 0.02832422, 0.02652931, 0.02712736, 0.02692852,\n",
       "         0.02513294]),\n",
       "  'std_score_time': array([0.0018498 , 0.00396972, 0.00162056, 0.0007462 , 0.00178417,\n",
       "         0.00263117]),\n",
       "  'param_reg_alpha': masked_array(data=[0.5, 0.6, 0.7, 0.8, 0.9, 1],\n",
       "               mask=[False, False, False, False, False, False],\n",
       "         fill_value='?',\n",
       "              dtype=object),\n",
       "  'params': [{'reg_alpha': 0.5},\n",
       "   {'reg_alpha': 0.6},\n",
       "   {'reg_alpha': 0.7},\n",
       "   {'reg_alpha': 0.8},\n",
       "   {'reg_alpha': 0.9},\n",
       "   {'reg_alpha': 1}],\n",
       "  'split0_test_score': array([0.98733905, 0.98555301, 0.98661936, 0.98456959, 0.98639844,\n",
       "         0.98643246]),\n",
       "  'split1_test_score': array([0.98849102, 0.98845586, 0.98835878, 0.98818067, 0.98862403,\n",
       "         0.9883626 ]),\n",
       "  'split2_test_score': array([0.99805939, 0.99857704, 0.99854798, 0.99845394, 0.99852581,\n",
       "         0.9985411 ]),\n",
       "  'split3_test_score': array([0.99884466, 0.99886683, 0.99838665, 0.99865197, 0.99879725,\n",
       "         0.9987529 ]),\n",
       "  'split4_test_score': array([0.9918629 , 0.99083143, 0.99216493, 0.99178567, 0.99143854,\n",
       "         0.99227809]),\n",
       "  'mean_test_score': array([0.9929194 , 0.99245683, 0.99281554, 0.99232837, 0.99275681,\n",
       "         0.99287343]),\n",
       "  'std_test_score': array([0.00476225, 0.00538252, 0.0049513 , 0.00557148, 0.00507966,\n",
       "         0.00507698]),\n",
       "  'rank_test_score': array([1, 5, 3, 6, 4, 2]),\n",
       "  'split0_train_score': array([0.99993836, 0.99992359, 0.99992369, 0.99991972, 0.9999202 ,\n",
       "         0.99991919]),\n",
       "  'split1_train_score': array([0.99963845, 0.99960185, 0.99960897, 0.99960204, 0.99962522,\n",
       "         0.99957662]),\n",
       "  'split2_train_score': array([0.99961196, 0.99959237, 0.99953173, 0.99953446, 0.99953938,\n",
       "         0.99954736]),\n",
       "  'split3_train_score': array([0.99946154, 0.99950569, 0.99943765, 0.99945208, 0.99943015,\n",
       "         0.9993892 ]),\n",
       "  'split4_train_score': array([0.99986616, 0.99982598, 0.99984323, 0.99983033, 0.99982798,\n",
       "         0.99981236]),\n",
       "  'mean_train_score': array([0.99970329, 0.9996899 , 0.99966905, 0.99966773, 0.99966859,\n",
       "         0.99964895]),\n",
       "  'std_train_score': array([0.0001748 , 0.00015769, 0.00018503, 0.00017805, 0.00018119,\n",
       "         0.00019118])},\n",
       " {'reg_alpha': 0.5},\n",
       " 0.9929194046357906)"
      ]
     },
     "execution_count": 139,
     "metadata": {},
     "output_type": "execute_result"
    }
   ],
   "source": [
    "param_test6 = {\n",
    " 'reg_alpha':[0.5,0.6,0.7,0.8,0.9,1]\n",
    "}\n",
    "gsearch6 = GridSearchCV(estimator = XGBClassifier( learning_rate =0.1, n_estimators=177, max_depth=4,\n",
    " min_child_weight=6, gamma=0, subsample=0.8, colsample_bytree=0.8,\n",
    " objective= 'binary:logistic', nthread=4, scale_pos_weight=1,seed=27), \n",
    " param_grid = param_test6, scoring='roc_auc',n_jobs=4,iid=False, cv=5)\n",
    "gsearch6.fit(train_wc[predictors],train_wc['TARGET'])\n",
    "gsearch6.cv_results_, gsearch6.best_params_, gsearch6.best_score_"
   ]
  },
  {
   "cell_type": "code",
   "execution_count": 140,
   "metadata": {},
   "outputs": [
    {
     "data": {
      "text/plain": [
       "({'mean_fit_time': array([5.26033907, 5.07503467, 5.20488791, 5.38001928, 5.35747995,\n",
       "         4.74592104]),\n",
       "  'std_fit_time': array([0.40088449, 0.33992076, 0.32680489, 0.22248288, 0.25600888,\n",
       "         0.93785833]),\n",
       "  'mean_score_time': array([0.02632947, 0.02533216, 0.02732668, 0.02712731, 0.02712774,\n",
       "         0.02433558]),\n",
       "  'std_score_time': array([0.00162007, 0.00135291, 0.0016203 , 0.00171584, 0.00212958,\n",
       "         0.00552023]),\n",
       "  'param_reg_alpha': masked_array(data=[0.4, 0.42, 0.44, 0.46, 0.48, 0.5],\n",
       "               mask=[False, False, False, False, False, False],\n",
       "         fill_value='?',\n",
       "              dtype=object),\n",
       "  'params': [{'reg_alpha': 0.4},\n",
       "   {'reg_alpha': 0.42},\n",
       "   {'reg_alpha': 0.44},\n",
       "   {'reg_alpha': 0.46},\n",
       "   {'reg_alpha': 0.48},\n",
       "   {'reg_alpha': 0.5}],\n",
       "  'split0_test_score': array([0.98629754, 0.98602274, 0.98662127, 0.98619129, 0.98658802,\n",
       "         0.98733905]),\n",
       "  'split1_test_score': array([0.98791848, 0.9876494 , 0.98776407, 0.98821736, 0.98788867,\n",
       "         0.98849102]),\n",
       "  'split2_test_score': array([0.99844476, 0.99861298, 0.99838359, 0.99837136, 0.99855257,\n",
       "         0.99805939]),\n",
       "  'split3_test_score': array([0.99858239, 0.99866344, 0.99890124, 0.99879878, 0.99888748,\n",
       "         0.99884466]),\n",
       "  'split4_test_score': array([0.99279497, 0.99389144, 0.99383945, 0.9929953 , 0.99213511,\n",
       "         0.9918629 ]),\n",
       "  'mean_test_score': array([0.99280763, 0.992968  , 0.99310192, 0.99291482, 0.99281037,\n",
       "         0.9929194 ]),\n",
       "  'std_test_score': array([0.0051266 , 0.00532317, 0.00514905, 0.00513173, 0.00516335,\n",
       "         0.00476225]),\n",
       "  'rank_test_score': array([6, 2, 1, 4, 5, 3]),\n",
       "  'split0_train_score': array([0.9999384 , 0.99992942, 0.9999364 , 0.99993759, 0.99992799,\n",
       "         0.99993836]),\n",
       "  'split1_train_score': array([0.99962464, 0.99962584, 0.99966741, 0.99964008, 0.99964777,\n",
       "         0.99963845]),\n",
       "  'split2_train_score': array([0.99956695, 0.9995917 , 0.99957694, 0.99961707, 0.99960021,\n",
       "         0.99961196]),\n",
       "  'split3_train_score': array([0.9994614 , 0.99945375, 0.99952543, 0.9994785 , 0.99949532,\n",
       "         0.99946154]),\n",
       "  'split4_train_score': array([0.99987022, 0.99985689, 0.99986516, 0.99988164, 0.99986989,\n",
       "         0.99986616]),\n",
       "  'mean_train_score': array([0.99969232, 0.99969152, 0.99971427, 0.99971098, 0.99970824,\n",
       "         0.99970329]),\n",
       "  'std_train_score': array([0.00018212, 0.00017593, 0.00016052, 0.00017226, 0.00016437,\n",
       "         0.0001748 ])},\n",
       " {'reg_alpha': 0.44},\n",
       " 0.9931019225888402)"
      ]
     },
     "execution_count": 140,
     "metadata": {},
     "output_type": "execute_result"
    }
   ],
   "source": [
    "param_test7 = {\n",
    " 'reg_alpha':[0.40,0.42,0.44,0.46,0.48,0.50]\n",
    "}\n",
    "gsearch7 = GridSearchCV(estimator = XGBClassifier( learning_rate =0.1, n_estimators=177, max_depth=4,\n",
    " min_child_weight=6, gamma=0, subsample=0.8, colsample_bytree=0.8,\n",
    " objective= 'binary:logistic', nthread=4, scale_pos_weight=1,seed=27), \n",
    " param_grid = param_test7, scoring='roc_auc',n_jobs=4,iid=False, cv=5)\n",
    "gsearch7.fit(train_wc[predictors],train_wc['TARGET'])\n",
    "gsearch7.cv_results_, gsearch7.best_params_, gsearch7.best_score_"
   ]
  },
  {
   "cell_type": "code",
   "execution_count": 141,
   "metadata": {},
   "outputs": [
    {
     "data": {
      "text/plain": [
       "({'mean_fit_time': array([5.47317038, 5.30043221, 5.19790659, 5.41213384, 5.32616329,\n",
       "         4.72536931]),\n",
       "  'std_fit_time': array([0.73485068, 0.25290861, 0.15960806, 0.3609297 , 0.21377934,\n",
       "         0.76340931]),\n",
       "  'mean_score_time': array([0.02772603, 0.02553191, 0.02553167, 0.02712741, 0.0253325 ,\n",
       "         0.02773304]),\n",
       "  'std_score_time': array([0.00469475, 0.00241027, 0.00184974, 0.00182817, 0.00101696,\n",
       "         0.00276725]),\n",
       "  'param_reg_alpha': masked_array(data=[0.4, 0.41, 0.42, 0.43, 0.44, 0.45],\n",
       "               mask=[False, False, False, False, False, False],\n",
       "         fill_value='?',\n",
       "              dtype=object),\n",
       "  'params': [{'reg_alpha': 0.4},\n",
       "   {'reg_alpha': 0.41},\n",
       "   {'reg_alpha': 0.42},\n",
       "   {'reg_alpha': 0.43},\n",
       "   {'reg_alpha': 0.44},\n",
       "   {'reg_alpha': 0.45}],\n",
       "  'split0_test_score': array([0.98629754, 0.9865112 , 0.98602274, 0.98593903, 0.98662127,\n",
       "         0.9858989 ]),\n",
       "  'split1_test_score': array([0.98791848, 0.9872114 , 0.9876494 , 0.98834502, 0.98776407,\n",
       "         0.98776942]),\n",
       "  'split2_test_score': array([0.99844476, 0.99849828, 0.99861298, 0.99823449, 0.99838359,\n",
       "         0.99851511]),\n",
       "  'split3_test_score': array([0.99858239, 0.99861068, 0.99866344, 0.99873379, 0.99890124,\n",
       "         0.99873685]),\n",
       "  'split4_test_score': array([0.99279497, 0.99292419, 0.99389144, 0.99391897, 0.99383945,\n",
       "         0.99251053]),\n",
       "  'mean_test_score': array([0.99280763, 0.99275115, 0.992968  , 0.99303426, 0.99310192,\n",
       "         0.99268616]),\n",
       "  'std_test_score': array([0.0051266 , 0.00523487, 0.00532317, 0.00515055, 0.00514905,\n",
       "         0.00530772]),\n",
       "  'rank_test_score': array([4, 5, 3, 2, 1, 6]),\n",
       "  'split0_train_score': array([0.9999384 , 0.99993783, 0.99992942, 0.99992799, 0.9999364 ,\n",
       "         0.99993348]),\n",
       "  'split1_train_score': array([0.99962464, 0.99963444, 0.99962584, 0.99963712, 0.99966741,\n",
       "         0.99964108]),\n",
       "  'split2_train_score': array([0.99956695, 0.99958587, 0.9995917 , 0.99955639, 0.99957694,\n",
       "         0.99954927]),\n",
       "  'split3_train_score': array([0.9994614 , 0.99945996, 0.99945375, 0.99946407, 0.99952543,\n",
       "         0.9994894 ]),\n",
       "  'split4_train_score': array([0.99987022, 0.99986545, 0.99985689, 0.99986855, 0.99986516,\n",
       "         0.99987978]),\n",
       "  'mean_train_score': array([0.99969232, 0.99969671, 0.99969152, 0.99969082, 0.99971427,\n",
       "         0.9996986 ]),\n",
       "  'std_train_score': array([0.00018212, 0.00017823, 0.00017593, 0.000179  , 0.00016052,\n",
       "         0.00017741])},\n",
       " {'reg_alpha': 0.44},\n",
       " 0.9931019225888402)"
      ]
     },
     "execution_count": 141,
     "metadata": {},
     "output_type": "execute_result"
    }
   ],
   "source": [
    "param_test8 = {\n",
    " 'reg_alpha':[0.40,0.41,0.42,0.43,0.44,0.45]\n",
    "}\n",
    "gsearch8 = GridSearchCV(estimator = XGBClassifier( learning_rate =0.1, n_estimators=177, max_depth=4,\n",
    " min_child_weight=6, gamma=0, subsample=0.8, colsample_bytree=0.8,\n",
    " objective= 'binary:logistic', nthread=4, scale_pos_weight=1,seed=27), \n",
    " param_grid = param_test8, scoring='roc_auc',n_jobs=4,iid=False, cv=5)\n",
    "gsearch8.fit(train_wc[predictors],train_wc['TARGET'])\n",
    "gsearch8.cv_results_, gsearch8.best_params_, gsearch8.best_score_"
   ]
  },
  {
   "cell_type": "code",
   "execution_count": 142,
   "metadata": {},
   "outputs": [
    {
     "data": {
      "text/plain": [
       "({'mean_fit_time': array([6.851685  , 5.31198606, 4.9818831 , 5.41771941, 5.44205413,\n",
       "         4.25762014]),\n",
       "  'std_fit_time': array([0.44053611, 0.52200252, 0.41843743, 0.35082436, 0.34233053,\n",
       "         0.74131715]),\n",
       "  'mean_score_time': array([0.03271251, 0.03191481, 0.02792544, 0.02812476, 0.02433486,\n",
       "         0.02333751]),\n",
       "  'std_score_time': array([0.001163  , 0.00302532, 0.0018922 , 0.0024754 , 0.00079765,\n",
       "         0.00079798]),\n",
       "  'param_nthread': masked_array(data=[1, 2, 3, 4, 5, 6],\n",
       "               mask=[False, False, False, False, False, False],\n",
       "         fill_value='?',\n",
       "              dtype=object),\n",
       "  'params': [{'nthread': 1},\n",
       "   {'nthread': 2},\n",
       "   {'nthread': 3},\n",
       "   {'nthread': 4},\n",
       "   {'nthread': 5},\n",
       "   {'nthread': 6}],\n",
       "  'split0_test_score': array([0.98508633, 0.98508633, 0.98508633, 0.98508633, 0.98508633,\n",
       "         0.98508633]),\n",
       "  'split1_test_score': array([0.98785962, 0.98785962, 0.98785962, 0.98785962, 0.98785962,\n",
       "         0.98785962]),\n",
       "  'split2_test_score': array([0.99824214, 0.99824214, 0.99824214, 0.99824214, 0.99824214,\n",
       "         0.99824214]),\n",
       "  'split3_test_score': array([0.99878808, 0.99878808, 0.99878808, 0.99878808, 0.99878808,\n",
       "         0.99878808]),\n",
       "  'split4_test_score': array([0.99272386, 0.99272386, 0.99272386, 0.99272386, 0.99272386,\n",
       "         0.99272386]),\n",
       "  'mean_test_score': array([0.99254, 0.99254, 0.99254, 0.99254, 0.99254, 0.99254]),\n",
       "  'std_test_score': array([0.00545985, 0.00545985, 0.00545985, 0.00545985, 0.00545985,\n",
       "         0.00545985]),\n",
       "  'rank_test_score': array([1, 1, 1, 1, 1, 1]),\n",
       "  'split0_train_score': array([0.99994557, 0.99994557, 0.99994557, 0.99994557, 0.99994557,\n",
       "         0.99994557]),\n",
       "  'split1_train_score': array([0.9997075, 0.9997075, 0.9997075, 0.9997075, 0.9997075, 0.9997075]),\n",
       "  'split2_train_score': array([0.9996499, 0.9996499, 0.9996499, 0.9996499, 0.9996499, 0.9996499]),\n",
       "  'split3_train_score': array([0.99952834, 0.99952834, 0.99952834, 0.99952834, 0.99952834,\n",
       "         0.99952834]),\n",
       "  'split4_train_score': array([0.99987357, 0.99987357, 0.99987357, 0.99987357, 0.99987357,\n",
       "         0.99987357]),\n",
       "  'mean_train_score': array([0.99974098, 0.99974098, 0.99974098, 0.99974098, 0.99974098,\n",
       "         0.99974098]),\n",
       "  'std_train_score': array([0.00015104, 0.00015104, 0.00015104, 0.00015104, 0.00015104,\n",
       "         0.00015104])},\n",
       " {'nthread': 1},\n",
       " 0.9925400049706428)"
      ]
     },
     "execution_count": 142,
     "metadata": {},
     "output_type": "execute_result"
    }
   ],
   "source": [
    "param_test9 = {\n",
    " 'nthread':[1,2,3,4,5,6]\n",
    "}\n",
    "gsearch9 = GridSearchCV(estimator = XGBClassifier( learning_rate =0.1, n_estimators=177, max_depth=4,\n",
    " min_child_weight=6, gamma=0, subsample=0.8, colsample_bytree=0.8,\n",
    " objective= 'binary:logistic', nthread=4, scale_pos_weight=1,seed=27), \n",
    " param_grid = param_test9, scoring='roc_auc',n_jobs=4,iid=False, cv=5)\n",
    "gsearch9.fit(train_wc[predictors],train_wc['TARGET'])\n",
    "gsearch9.cv_results_, gsearch9.best_params_, gsearch9.best_score_"
   ]
  },
  {
   "cell_type": "code",
   "execution_count": 143,
   "metadata": {},
   "outputs": [
    {
     "name": "stderr",
     "output_type": "stream",
     "text": [
      "D:\\Users\\Vikas\\Anaconda3\\lib\\site-packages\\sklearn\\preprocessing\\label.py:219: DataConversionWarning: A column-vector y was passed when a 1d array was expected. Please change the shape of y to (n_samples, ), for example using ravel().\n",
      "  y = column_or_1d(y, warn=True)\n",
      "D:\\Users\\Vikas\\Anaconda3\\lib\\site-packages\\sklearn\\preprocessing\\label.py:252: DataConversionWarning: A column-vector y was passed when a 1d array was expected. Please change the shape of y to (n_samples, ), for example using ravel().\n",
      "  y = column_or_1d(y, warn=True)\n"
     ]
    },
    {
     "name": "stdout",
     "output_type": "stream",
     "text": [
      "Model10 0.9900060569351908\n"
     ]
    }
   ],
   "source": [
    "model10 = XGBClassifier(learning_rate =0.1,n_estimators=1000,max_depth=3,min_child_weight=1,gamma=0.1,subsample=0.75,colsample_bytree=0.85,reg_alpha=0.44,objective= 'binary:logistic',nthread=1,scale_pos_weight=1,seed=27)\n",
    "model10.fit(X_train,y_train)\n",
    "pred10=model10.predict(X_test)\n",
    "print(\"Model10\",accuracy_score(y_test, pred10))"
   ]
  },
  {
   "cell_type": "code",
   "execution_count": 144,
   "metadata": {},
   "outputs": [
    {
     "name": "stderr",
     "output_type": "stream",
     "text": [
      "D:\\Users\\Vikas\\Anaconda3\\lib\\site-packages\\sklearn\\preprocessing\\label.py:219: DataConversionWarning: A column-vector y was passed when a 1d array was expected. Please change the shape of y to (n_samples, ), for example using ravel().\n",
      "  y = column_or_1d(y, warn=True)\n",
      "D:\\Users\\Vikas\\Anaconda3\\lib\\site-packages\\sklearn\\preprocessing\\label.py:252: DataConversionWarning: A column-vector y was passed when a 1d array was expected. Please change the shape of y to (n_samples, ), for example using ravel().\n",
      "  y = column_or_1d(y, warn=True)\n"
     ]
    },
    {
     "name": "stdout",
     "output_type": "stream",
     "text": [
      "Model11 0.9921259842519685\n"
     ]
    }
   ],
   "source": [
    "model11 = XGBClassifier(learning_rate =0.01,n_estimators=5000,max_depth=3,min_child_weight=1,gamma=0.3,subsample=0.85,colsample_bytree=0.85,reg_alpha=0.44,objective= 'binary:logistic',nthread=4,scale_pos_weight=1,seed=27)\n",
    "model11.fit(X_train,y_train)\n",
    "pred11=model11.predict(X_test)\n",
    "print(\"Model11\",accuracy_score(y_test, pred11))"
   ]
  },
  {
   "cell_type": "code",
   "execution_count": 145,
   "metadata": {},
   "outputs": [
    {
     "name": "stderr",
     "output_type": "stream",
     "text": [
      "D:\\Users\\Vikas\\Anaconda3\\lib\\site-packages\\sklearn\\preprocessing\\label.py:219: DataConversionWarning: A column-vector y was passed when a 1d array was expected. Please change the shape of y to (n_samples, ), for example using ravel().\n",
      "  y = column_or_1d(y, warn=True)\n",
      "D:\\Users\\Vikas\\Anaconda3\\lib\\site-packages\\sklearn\\preprocessing\\label.py:252: DataConversionWarning: A column-vector y was passed when a 1d array was expected. Please change the shape of y to (n_samples, ), for example using ravel().\n",
      "  y = column_or_1d(y, warn=True)\n"
     ]
    },
    {
     "name": "stdout",
     "output_type": "stream",
     "text": [
      "Model12 0.9919745608721987\n"
     ]
    }
   ],
   "source": [
    "model12 = XGBClassifier(learning_rate =0.02,n_estimators=5000,max_depth=3,min_child_weight=1,gamma=0.3,subsample=0.85,colsample_bytree=0.85,reg_alpha=0.44,objective= 'binary:logistic',nthread=4,scale_pos_weight=1,seed=27)\n",
    "model12.fit(X_train,y_train)\n",
    "pred12=model12.predict(X_test)\n",
    "print(\"Model12\",accuracy_score(y_test, pred12))"
   ]
  },
  {
   "cell_type": "code",
   "execution_count": 146,
   "metadata": {},
   "outputs": [
    {
     "name": "stderr",
     "output_type": "stream",
     "text": [
      "D:\\Users\\Vikas\\Anaconda3\\lib\\site-packages\\sklearn\\preprocessing\\label.py:219: DataConversionWarning: A column-vector y was passed when a 1d array was expected. Please change the shape of y to (n_samples, ), for example using ravel().\n",
      "  y = column_or_1d(y, warn=True)\n",
      "D:\\Users\\Vikas\\Anaconda3\\lib\\site-packages\\sklearn\\preprocessing\\label.py:252: DataConversionWarning: A column-vector y was passed when a 1d array was expected. Please change the shape of y to (n_samples, ), for example using ravel().\n",
      "  y = column_or_1d(y, warn=True)\n"
     ]
    },
    {
     "name": "stdout",
     "output_type": "stream",
     "text": [
      "Model13 0.9918231374924288\n"
     ]
    }
   ],
   "source": [
    "model13 = XGBClassifier(learning_rate =0.025,n_estimators=5000,max_depth=3,min_child_weight=1,gamma=0.3,subsample=0.85,colsample_bytree=0.85,reg_alpha=0.44,objective= 'binary:logistic',nthread=4,scale_pos_weight=1,seed=27)\n",
    "model13.fit(X_train,y_train)\n",
    "pred13=model13.predict(X_test)\n",
    "print(\"Model13\",accuracy_score(y_test, pred13))"
   ]
  },
  {
   "cell_type": "code",
   "execution_count": 147,
   "metadata": {},
   "outputs": [
    {
     "name": "stderr",
     "output_type": "stream",
     "text": [
      "D:\\Users\\Vikas\\Anaconda3\\lib\\site-packages\\sklearn\\preprocessing\\label.py:219: DataConversionWarning: A column-vector y was passed when a 1d array was expected. Please change the shape of y to (n_samples, ), for example using ravel().\n",
      "  y = column_or_1d(y, warn=True)\n",
      "D:\\Users\\Vikas\\Anaconda3\\lib\\site-packages\\sklearn\\preprocessing\\label.py:252: DataConversionWarning: A column-vector y was passed when a 1d array was expected. Please change the shape of y to (n_samples, ), for example using ravel().\n",
      "  y = column_or_1d(y, warn=True)\n"
     ]
    },
    {
     "name": "stdout",
     "output_type": "stream",
     "text": [
      "Model14 0.991671714112659\n"
     ]
    }
   ],
   "source": [
    "model14 = XGBClassifier(learning_rate =0.025,n_estimators=3600,max_depth=3,min_child_weight=1,gamma=0.3,subsample=0.85,colsample_bytree=0.85,reg_alpha=0.44,objective= 'binary:logistic',nthread=4,scale_pos_weight=1,seed=27)\n",
    "model14.fit(X_train,y_train)\n",
    "pred14=model14.predict(X_test)\n",
    "print(\"Model14\",accuracy_score(y_test, pred14))"
   ]
  },
  {
   "cell_type": "code",
   "execution_count": 148,
   "metadata": {},
   "outputs": [],
   "source": [
    "lX_train, lX_test, ly_train, ly_test = train_test_split(ltrain_wc.iloc[:,0:47], ltrain_wc.iloc[:,47:], test_size=0.33, random_state=28)"
   ]
  },
  {
   "cell_type": "code",
   "execution_count": 149,
   "metadata": {},
   "outputs": [
    {
     "name": "stderr",
     "output_type": "stream",
     "text": [
      "D:\\Users\\Vikas\\Anaconda3\\lib\\site-packages\\sklearn\\preprocessing\\label.py:219: DataConversionWarning: A column-vector y was passed when a 1d array was expected. Please change the shape of y to (n_samples, ), for example using ravel().\n",
      "  y = column_or_1d(y, warn=True)\n",
      "D:\\Users\\Vikas\\Anaconda3\\lib\\site-packages\\sklearn\\preprocessing\\label.py:252: DataConversionWarning: A column-vector y was passed when a 1d array was expected. Please change the shape of y to (n_samples, ), for example using ravel().\n",
      "  y = column_or_1d(y, warn=True)\n"
     ]
    },
    {
     "name": "stdout",
     "output_type": "stream",
     "text": [
      "Model16 0.9921259842519685\n"
     ]
    }
   ],
   "source": [
    "model16 = XGBClassifier(learning_rate =0.01,n_estimators=5000,max_depth=3,min_child_weight=1,gamma=0.3,subsample=0.85,colsample_bytree=0.85,reg_alpha=0.44,objective= 'binary:logistic',nthread=4,scale_pos_weight=1,seed=27)\n",
    "model16.fit(lX_train,ly_train)\n",
    "pred16=model16.predict(lX_test)\n",
    "print(\"Model16\",accuracy_score(ly_test, pred16))"
   ]
  },
  {
   "cell_type": "markdown",
   "metadata": {},
   "source": [
    "# Using Customer Data"
   ]
  },
  {
   "cell_type": "code",
   "execution_count": 150,
   "metadata": {},
   "outputs": [
    {
     "data": {
      "text/plain": [
       "(5652, 54)"
      ]
     },
     "execution_count": 150,
     "metadata": {},
     "output_type": "execute_result"
    }
   ],
   "source": [
    "train_c.shape"
   ]
  },
  {
   "cell_type": "code",
   "execution_count": 151,
   "metadata": {},
   "outputs": [],
   "source": [
    "#Coverting to datetime format\n",
    "train_c['INTEREST_START_DATE']=pd.to_datetime(train_c['INTEREST_START_DATE'])\n",
    "train_c['AUTHORIZATIONDATE']=pd.to_datetime(train_c['AUTHORIZATIONDATE'])\n",
    "train_c['LAST_RECEIPT_DATE']=pd.to_datetime(train_c['LAST_RECEIPT_DATE'])\n",
    "\n",
    "test_c['INTEREST_START_DATE']=pd.to_datetime(test_c['INTEREST_START_DATE'])\n",
    "test_c['AUTHORIZATIONDATE']=pd.to_datetime(test_c['AUTHORIZATIONDATE'])\n",
    "test_c['LAST_RECEIPT_DATE']=pd.to_datetime(test_c['LAST_RECEIPT_DATE'])"
   ]
  },
  {
   "cell_type": "code",
   "execution_count": 152,
   "metadata": {},
   "outputs": [],
   "source": [
    "#Stripping date into year month and day\n",
    "train_c['INTEREST_START_YEAR'] = train_c['INTEREST_START_DATE'].dt.year\n",
    "train_c['INTEREST_START_MONTH'] = train_c['INTEREST_START_DATE'].dt.month\n",
    "train_c['INTEREST_START_DAY'] = train_c['INTEREST_START_DATE'].dt.day\n",
    "train_c['AUTHORIZATION_YEAR'] = train_c['AUTHORIZATIONDATE'].dt.year\n",
    "train_c['AUTHORIZATION_MONTH'] = train_c['AUTHORIZATIONDATE'].dt.month\n",
    "train_c['AUTHORIZATION_DAY'] = train_c['AUTHORIZATIONDATE'].dt.day\n",
    "train_c['LAST_RECEIPT_YEAR'] = train_c['LAST_RECEIPT_DATE'].dt.year\n",
    "train_c['LAST_RECEIPT_MONTH'] = train_c['LAST_RECEIPT_DATE'].dt.month\n",
    "train_c['LAST_RECEIPT_DAY'] = train_c['LAST_RECEIPT_DATE'].dt.day\n",
    "\n",
    "test_c['INTEREST_START_YEAR'] = test_c['INTEREST_START_DATE'].dt.year\n",
    "test_c['INTEREST_START_MONTH'] = test_c['INTEREST_START_DATE'].dt.month\n",
    "test_c['INTEREST_START_DAY'] = test_c['INTEREST_START_DATE'].dt.day\n",
    "test_c['AUTHORIZATION_YEAR'] = test_c['AUTHORIZATIONDATE'].dt.year\n",
    "test_c['AUTHORIZATION_MONTH'] = test_c['AUTHORIZATIONDATE'].dt.month\n",
    "test_c['AUTHORIZATION_DAY'] = test_c['AUTHORIZATIONDATE'].dt.day\n",
    "test_c['LAST_RECEIPT_YEAR'] = test_c['LAST_RECEIPT_DATE'].dt.year\n",
    "test_c['LAST_RECEIPT_MONTH'] = test_c['LAST_RECEIPT_DATE'].dt.month\n",
    "test_c['LAST_RECEIPT_DAY'] = test_c['LAST_RECEIPT_DATE'].dt.day"
   ]
  },
  {
   "cell_type": "code",
   "execution_count": 153,
   "metadata": {},
   "outputs": [],
   "source": [
    "train_c['TARGET']=train_c['FORECLOSURE']"
   ]
  },
  {
   "cell_type": "code",
   "execution_count": 154,
   "metadata": {},
   "outputs": [],
   "source": [
    "del train_c['FORECLOSURE']"
   ]
  },
  {
   "cell_type": "code",
   "execution_count": 155,
   "metadata": {},
   "outputs": [],
   "source": [
    "del train_c['INTEREST_START_DATE']\n",
    "del train_c['AUTHORIZATIONDATE']\n",
    "del train_c['LAST_RECEIPT_DATE']"
   ]
  },
  {
   "cell_type": "code",
   "execution_count": 156,
   "metadata": {},
   "outputs": [],
   "source": [
    "del test_c['INTEREST_START_DATE']\n",
    "del test_c['AUTHORIZATIONDATE']\n",
    "del test_c['LAST_RECEIPT_DATE']"
   ]
  },
  {
   "cell_type": "code",
   "execution_count": 157,
   "metadata": {},
   "outputs": [],
   "source": [
    "train_c['AGE']=train_c['AGE'].astype('float64')"
   ]
  },
  {
   "cell_type": "code",
   "execution_count": 158,
   "metadata": {},
   "outputs": [],
   "source": [
    "train_c.index=np.arange(0,train_c.shape[0])"
   ]
  },
  {
   "cell_type": "code",
   "execution_count": 159,
   "metadata": {},
   "outputs": [
    {
     "data": {
      "text/html": [
       "<div>\n",
       "<style scoped>\n",
       "    .dataframe tbody tr th:only-of-type {\n",
       "        vertical-align: middle;\n",
       "    }\n",
       "\n",
       "    .dataframe tbody tr th {\n",
       "        vertical-align: top;\n",
       "    }\n",
       "\n",
       "    .dataframe thead th {\n",
       "        text-align: right;\n",
       "    }\n",
       "</style>\n",
       "<table border=\"1\" class=\"dataframe\">\n",
       "  <thead>\n",
       "    <tr style=\"text-align: right;\">\n",
       "      <th></th>\n",
       "      <th>AGREEMENTID</th>\n",
       "      <th>CUSTOMERID</th>\n",
       "      <th>LOAN_AMT</th>\n",
       "      <th>NET_DISBURSED_AMT</th>\n",
       "      <th>CURRENT_ROI</th>\n",
       "      <th>ORIGNAL_ROI</th>\n",
       "      <th>CURRENT_TENOR</th>\n",
       "      <th>ORIGNAL_TENOR</th>\n",
       "      <th>DUEDAY</th>\n",
       "      <th>CITY</th>\n",
       "      <th>...</th>\n",
       "      <th>INTEREST_START_YEAR</th>\n",
       "      <th>INTEREST_START_MONTH</th>\n",
       "      <th>INTEREST_START_DAY</th>\n",
       "      <th>AUTHORIZATION_YEAR</th>\n",
       "      <th>AUTHORIZATION_MONTH</th>\n",
       "      <th>AUTHORIZATION_DAY</th>\n",
       "      <th>LAST_RECEIPT_YEAR</th>\n",
       "      <th>LAST_RECEIPT_MONTH</th>\n",
       "      <th>LAST_RECEIPT_DAY</th>\n",
       "      <th>TARGET</th>\n",
       "    </tr>\n",
       "  </thead>\n",
       "  <tbody>\n",
       "    <tr>\n",
       "      <th>5647</th>\n",
       "      <td>11253348</td>\n",
       "      <td>12033889.0</td>\n",
       "      <td>5044353.89</td>\n",
       "      <td>4744094.73</td>\n",
       "      <td>13.4</td>\n",
       "      <td>13.4</td>\n",
       "      <td>228.0</td>\n",
       "      <td>228</td>\n",
       "      <td>5</td>\n",
       "      <td>264</td>\n",
       "      <td>...</td>\n",
       "      <td>2015</td>\n",
       "      <td>7</td>\n",
       "      <td>7</td>\n",
       "      <td>2015</td>\n",
       "      <td>7</td>\n",
       "      <td>7</td>\n",
       "      <td>2015</td>\n",
       "      <td>7</td>\n",
       "      <td>13</td>\n",
       "      <td>0.0</td>\n",
       "    </tr>\n",
       "    <tr>\n",
       "      <th>5648</th>\n",
       "      <td>11253349</td>\n",
       "      <td>12033890.0</td>\n",
       "      <td>9251146.86</td>\n",
       "      <td>9251146.86</td>\n",
       "      <td>13.4</td>\n",
       "      <td>13.4</td>\n",
       "      <td>240.0</td>\n",
       "      <td>240</td>\n",
       "      <td>5</td>\n",
       "      <td>225</td>\n",
       "      <td>...</td>\n",
       "      <td>2015</td>\n",
       "      <td>6</td>\n",
       "      <td>30</td>\n",
       "      <td>2015</td>\n",
       "      <td>6</td>\n",
       "      <td>30</td>\n",
       "      <td>2015</td>\n",
       "      <td>5</td>\n",
       "      <td>7</td>\n",
       "      <td>0.0</td>\n",
       "    </tr>\n",
       "    <tr>\n",
       "      <th>5649</th>\n",
       "      <td>11253350</td>\n",
       "      <td>12033891.0</td>\n",
       "      <td>2299950.64</td>\n",
       "      <td>2299950.64</td>\n",
       "      <td>13.1</td>\n",
       "      <td>13.1</td>\n",
       "      <td>240.0</td>\n",
       "      <td>240</td>\n",
       "      <td>5</td>\n",
       "      <td>106</td>\n",
       "      <td>...</td>\n",
       "      <td>2015</td>\n",
       "      <td>6</td>\n",
       "      <td>29</td>\n",
       "      <td>2015</td>\n",
       "      <td>6</td>\n",
       "      <td>29</td>\n",
       "      <td>2015</td>\n",
       "      <td>6</td>\n",
       "      <td>27</td>\n",
       "      <td>0.0</td>\n",
       "    </tr>\n",
       "    <tr>\n",
       "      <th>5650</th>\n",
       "      <td>11253351</td>\n",
       "      <td>12033892.0</td>\n",
       "      <td>21018141.20</td>\n",
       "      <td>21018141.20</td>\n",
       "      <td>15.6</td>\n",
       "      <td>15.6</td>\n",
       "      <td>96.0</td>\n",
       "      <td>96</td>\n",
       "      <td>5</td>\n",
       "      <td>2</td>\n",
       "      <td>...</td>\n",
       "      <td>2015</td>\n",
       "      <td>7</td>\n",
       "      <td>31</td>\n",
       "      <td>2015</td>\n",
       "      <td>7</td>\n",
       "      <td>31</td>\n",
       "      <td>2015</td>\n",
       "      <td>2</td>\n",
       "      <td>7</td>\n",
       "      <td>0.0</td>\n",
       "    </tr>\n",
       "    <tr>\n",
       "      <th>5651</th>\n",
       "      <td>11253354</td>\n",
       "      <td>12033895.0</td>\n",
       "      <td>11259718.50</td>\n",
       "      <td>11259718.50</td>\n",
       "      <td>14.5</td>\n",
       "      <td>14.5</td>\n",
       "      <td>120.0</td>\n",
       "      <td>120</td>\n",
       "      <td>5</td>\n",
       "      <td>85</td>\n",
       "      <td>...</td>\n",
       "      <td>2015</td>\n",
       "      <td>8</td>\n",
       "      <td>31</td>\n",
       "      <td>2015</td>\n",
       "      <td>8</td>\n",
       "      <td>31</td>\n",
       "      <td>2015</td>\n",
       "      <td>8</td>\n",
       "      <td>21</td>\n",
       "      <td>0.0</td>\n",
       "    </tr>\n",
       "  </tbody>\n",
       "</table>\n",
       "<p>5 rows × 60 columns</p>\n",
       "</div>"
      ],
      "text/plain": [
       "      AGREEMENTID  CUSTOMERID     LOAN_AMT  NET_DISBURSED_AMT  CURRENT_ROI  \\\n",
       "5647     11253348  12033889.0   5044353.89         4744094.73         13.4   \n",
       "5648     11253349  12033890.0   9251146.86         9251146.86         13.4   \n",
       "5649     11253350  12033891.0   2299950.64         2299950.64         13.1   \n",
       "5650     11253351  12033892.0  21018141.20        21018141.20         15.6   \n",
       "5651     11253354  12033895.0  11259718.50        11259718.50         14.5   \n",
       "\n",
       "      ORIGNAL_ROI  CURRENT_TENOR  ORIGNAL_TENOR  DUEDAY  CITY   ...    \\\n",
       "5647         13.4          228.0            228       5   264   ...     \n",
       "5648         13.4          240.0            240       5   225   ...     \n",
       "5649         13.1          240.0            240       5   106   ...     \n",
       "5650         15.6           96.0             96       5     2   ...     \n",
       "5651         14.5          120.0            120       5    85   ...     \n",
       "\n",
       "      INTEREST_START_YEAR  INTEREST_START_MONTH  INTEREST_START_DAY  \\\n",
       "5647                 2015                     7                   7   \n",
       "5648                 2015                     6                  30   \n",
       "5649                 2015                     6                  29   \n",
       "5650                 2015                     7                  31   \n",
       "5651                 2015                     8                  31   \n",
       "\n",
       "      AUTHORIZATION_YEAR  AUTHORIZATION_MONTH  AUTHORIZATION_DAY  \\\n",
       "5647                2015                    7                  7   \n",
       "5648                2015                    6                 30   \n",
       "5649                2015                    6                 29   \n",
       "5650                2015                    7                 31   \n",
       "5651                2015                    8                 31   \n",
       "\n",
       "      LAST_RECEIPT_YEAR  LAST_RECEIPT_MONTH  LAST_RECEIPT_DAY  TARGET  \n",
       "5647               2015                   7                13     0.0  \n",
       "5648               2015                   5                 7     0.0  \n",
       "5649               2015                   6                27     0.0  \n",
       "5650               2015                   2                 7     0.0  \n",
       "5651               2015                   8                21     0.0  \n",
       "\n",
       "[5 rows x 60 columns]"
      ]
     },
     "execution_count": 159,
     "metadata": {},
     "output_type": "execute_result"
    }
   ],
   "source": [
    "train_c.tail()"
   ]
  },
  {
   "cell_type": "code",
   "execution_count": 160,
   "metadata": {},
   "outputs": [],
   "source": [
    "test_c.index=np.arange(0,test_c.shape[0])"
   ]
  },
  {
   "cell_type": "code",
   "execution_count": 161,
   "metadata": {},
   "outputs": [
    {
     "data": {
      "text/html": [
       "<div>\n",
       "<style scoped>\n",
       "    .dataframe tbody tr th:only-of-type {\n",
       "        vertical-align: middle;\n",
       "    }\n",
       "\n",
       "    .dataframe tbody tr th {\n",
       "        vertical-align: top;\n",
       "    }\n",
       "\n",
       "    .dataframe thead th {\n",
       "        text-align: right;\n",
       "    }\n",
       "</style>\n",
       "<table border=\"1\" class=\"dataframe\">\n",
       "  <thead>\n",
       "    <tr style=\"text-align: right;\">\n",
       "      <th></th>\n",
       "      <th>AGREEMENTID</th>\n",
       "      <th>CUSTOMERID</th>\n",
       "      <th>LOAN_AMT</th>\n",
       "      <th>NET_DISBURSED_AMT</th>\n",
       "      <th>CURRENT_ROI</th>\n",
       "      <th>ORIGNAL_ROI</th>\n",
       "      <th>CURRENT_TENOR</th>\n",
       "      <th>ORIGNAL_TENOR</th>\n",
       "      <th>DUEDAY</th>\n",
       "      <th>CITY</th>\n",
       "      <th>...</th>\n",
       "      <th>PRODUCT_STLAP</th>\n",
       "      <th>INTEREST_START_YEAR</th>\n",
       "      <th>INTEREST_START_MONTH</th>\n",
       "      <th>INTEREST_START_DAY</th>\n",
       "      <th>AUTHORIZATION_YEAR</th>\n",
       "      <th>AUTHORIZATION_MONTH</th>\n",
       "      <th>AUTHORIZATION_DAY</th>\n",
       "      <th>LAST_RECEIPT_YEAR</th>\n",
       "      <th>LAST_RECEIPT_MONTH</th>\n",
       "      <th>LAST_RECEIPT_DAY</th>\n",
       "    </tr>\n",
       "  </thead>\n",
       "  <tbody>\n",
       "    <tr>\n",
       "      <th>0</th>\n",
       "      <td>11220003</td>\n",
       "      <td>12001002.0</td>\n",
       "      <td>4053498.66</td>\n",
       "      <td>4053498.66</td>\n",
       "      <td>16.5</td>\n",
       "      <td>12.5</td>\n",
       "      <td>311.0</td>\n",
       "      <td>180</td>\n",
       "      <td>5</td>\n",
       "      <td>176</td>\n",
       "      <td>...</td>\n",
       "      <td>0</td>\n",
       "      <td>2010</td>\n",
       "      <td>6</td>\n",
       "      <td>9</td>\n",
       "      <td>2010</td>\n",
       "      <td>6</td>\n",
       "      <td>9</td>\n",
       "      <td>2017</td>\n",
       "      <td>5</td>\n",
       "      <td>12</td>\n",
       "    </tr>\n",
       "    <tr>\n",
       "      <th>1</th>\n",
       "      <td>11220004</td>\n",
       "      <td>12001003.0</td>\n",
       "      <td>13257031.92</td>\n",
       "      <td>13257031.92</td>\n",
       "      <td>15.6</td>\n",
       "      <td>10.9</td>\n",
       "      <td>198.0</td>\n",
       "      <td>180</td>\n",
       "      <td>5</td>\n",
       "      <td>176</td>\n",
       "      <td>...</td>\n",
       "      <td>0</td>\n",
       "      <td>2010</td>\n",
       "      <td>9</td>\n",
       "      <td>29</td>\n",
       "      <td>2010</td>\n",
       "      <td>9</td>\n",
       "      <td>29</td>\n",
       "      <td>2013</td>\n",
       "      <td>5</td>\n",
       "      <td>11</td>\n",
       "    </tr>\n",
       "    <tr>\n",
       "      <th>2</th>\n",
       "      <td>11220005</td>\n",
       "      <td>12001004.0</td>\n",
       "      <td>13211403.04</td>\n",
       "      <td>13211403.04</td>\n",
       "      <td>16.5</td>\n",
       "      <td>11.9</td>\n",
       "      <td>142.0</td>\n",
       "      <td>180</td>\n",
       "      <td>5</td>\n",
       "      <td>176</td>\n",
       "      <td>...</td>\n",
       "      <td>0</td>\n",
       "      <td>2010</td>\n",
       "      <td>6</td>\n",
       "      <td>9</td>\n",
       "      <td>2010</td>\n",
       "      <td>6</td>\n",
       "      <td>9</td>\n",
       "      <td>2014</td>\n",
       "      <td>5</td>\n",
       "      <td>7</td>\n",
       "    </tr>\n",
       "    <tr>\n",
       "      <th>3</th>\n",
       "      <td>11220007</td>\n",
       "      <td>12001006.0</td>\n",
       "      <td>6155312.78</td>\n",
       "      <td>6155312.78</td>\n",
       "      <td>16.5</td>\n",
       "      <td>12.5</td>\n",
       "      <td>262.0</td>\n",
       "      <td>180</td>\n",
       "      <td>5</td>\n",
       "      <td>176</td>\n",
       "      <td>...</td>\n",
       "      <td>0</td>\n",
       "      <td>2010</td>\n",
       "      <td>11</td>\n",
       "      <td>10</td>\n",
       "      <td>2010</td>\n",
       "      <td>11</td>\n",
       "      <td>10</td>\n",
       "      <td>2014</td>\n",
       "      <td>5</td>\n",
       "      <td>8</td>\n",
       "    </tr>\n",
       "    <tr>\n",
       "      <th>4</th>\n",
       "      <td>11220009</td>\n",
       "      <td>12001008.0</td>\n",
       "      <td>9499284.03</td>\n",
       "      <td>9499284.03</td>\n",
       "      <td>18.9</td>\n",
       "      <td>13.6</td>\n",
       "      <td>52.0</td>\n",
       "      <td>180</td>\n",
       "      <td>5</td>\n",
       "      <td>176</td>\n",
       "      <td>...</td>\n",
       "      <td>0</td>\n",
       "      <td>2010</td>\n",
       "      <td>10</td>\n",
       "      <td>11</td>\n",
       "      <td>2010</td>\n",
       "      <td>5</td>\n",
       "      <td>11</td>\n",
       "      <td>2014</td>\n",
       "      <td>11</td>\n",
       "      <td>6</td>\n",
       "    </tr>\n",
       "  </tbody>\n",
       "</table>\n",
       "<p>5 rows × 59 columns</p>\n",
       "</div>"
      ],
      "text/plain": [
       "   AGREEMENTID  CUSTOMERID     LOAN_AMT  NET_DISBURSED_AMT  CURRENT_ROI  \\\n",
       "0     11220003  12001002.0   4053498.66         4053498.66         16.5   \n",
       "1     11220004  12001003.0  13257031.92        13257031.92         15.6   \n",
       "2     11220005  12001004.0  13211403.04        13211403.04         16.5   \n",
       "3     11220007  12001006.0   6155312.78         6155312.78         16.5   \n",
       "4     11220009  12001008.0   9499284.03         9499284.03         18.9   \n",
       "\n",
       "   ORIGNAL_ROI  CURRENT_TENOR  ORIGNAL_TENOR  DUEDAY  CITY        ...         \\\n",
       "0         12.5          311.0            180       5   176        ...          \n",
       "1         10.9          198.0            180       5   176        ...          \n",
       "2         11.9          142.0            180       5   176        ...          \n",
       "3         12.5          262.0            180       5   176        ...          \n",
       "4         13.6           52.0            180       5   176        ...          \n",
       "\n",
       "   PRODUCT_STLAP  INTEREST_START_YEAR  INTEREST_START_MONTH  \\\n",
       "0              0                 2010                     6   \n",
       "1              0                 2010                     9   \n",
       "2              0                 2010                     6   \n",
       "3              0                 2010                    11   \n",
       "4              0                 2010                    10   \n",
       "\n",
       "   INTEREST_START_DAY  AUTHORIZATION_YEAR  AUTHORIZATION_MONTH  \\\n",
       "0                   9                2010                    6   \n",
       "1                  29                2010                    9   \n",
       "2                   9                2010                    6   \n",
       "3                  10                2010                   11   \n",
       "4                  11                2010                    5   \n",
       "\n",
       "   AUTHORIZATION_DAY  LAST_RECEIPT_YEAR  LAST_RECEIPT_MONTH  LAST_RECEIPT_DAY  \n",
       "0                  9               2017                   5                12  \n",
       "1                 29               2013                   5                11  \n",
       "2                  9               2014                   5                 7  \n",
       "3                 10               2014                   5                 8  \n",
       "4                 11               2014                  11                 6  \n",
       "\n",
       "[5 rows x 59 columns]"
      ]
     },
     "execution_count": 161,
     "metadata": {},
     "output_type": "execute_result"
    }
   ],
   "source": [
    "test_c.head()"
   ]
  },
  {
   "cell_type": "code",
   "execution_count": 162,
   "metadata": {},
   "outputs": [],
   "source": [
    "a=train_c.append(test_c)"
   ]
  },
  {
   "cell_type": "code",
   "execution_count": 163,
   "metadata": {},
   "outputs": [],
   "source": [
    "del a['TARGET']"
   ]
  },
  {
   "cell_type": "code",
   "execution_count": 164,
   "metadata": {},
   "outputs": [],
   "source": [
    "a['AGE']=a['AGE'].astype('float64')"
   ]
  },
  {
   "cell_type": "code",
   "execution_count": 165,
   "metadata": {},
   "outputs": [],
   "source": [
    "a=pd.get_dummies(a)"
   ]
  },
  {
   "cell_type": "code",
   "execution_count": 166,
   "metadata": {},
   "outputs": [
    {
     "data": {
      "text/plain": [
       "(9447, 68)"
      ]
     },
     "execution_count": 166,
     "metadata": {},
     "output_type": "execute_result"
    }
   ],
   "source": [
    "a.shape"
   ]
  },
  {
   "cell_type": "code",
   "execution_count": 167,
   "metadata": {},
   "outputs": [],
   "source": [
    "ctrain=a.iloc[0:5992,:]\n",
    "ctest=a.iloc[5992:,:]"
   ]
  },
  {
   "cell_type": "code",
   "execution_count": 168,
   "metadata": {},
   "outputs": [],
   "source": [
    "ctrain['TARGET']=train_c['TARGET']"
   ]
  },
  {
   "cell_type": "code",
   "execution_count": 169,
   "metadata": {},
   "outputs": [
    {
     "name": "stdout",
     "output_type": "stream",
     "text": [
      "(5992, 69)\n"
     ]
    },
    {
     "data": {
      "text/plain": [
       "(3455, 68)"
      ]
     },
     "execution_count": 169,
     "metadata": {},
     "output_type": "execute_result"
    }
   ],
   "source": [
    "print(ctrain.shape);ctest.shape"
   ]
  },
  {
   "cell_type": "code",
   "execution_count": 170,
   "metadata": {},
   "outputs": [],
   "source": [
    "X_trainc, X_testc, y_trainc, y_testc = train_test_split(ctrain.iloc[:,0:68],ctrain.iloc[:,68:], test_size=0.33, random_state=28)"
   ]
  },
  {
   "cell_type": "code",
   "execution_count": 171,
   "metadata": {},
   "outputs": [
    {
     "data": {
      "text/html": [
       "<div>\n",
       "<style scoped>\n",
       "    .dataframe tbody tr th:only-of-type {\n",
       "        vertical-align: middle;\n",
       "    }\n",
       "\n",
       "    .dataframe tbody tr th {\n",
       "        vertical-align: top;\n",
       "    }\n",
       "\n",
       "    .dataframe thead th {\n",
       "        text-align: right;\n",
       "    }\n",
       "</style>\n",
       "<table border=\"1\" class=\"dataframe\">\n",
       "  <thead>\n",
       "    <tr style=\"text-align: right;\">\n",
       "      <th></th>\n",
       "      <th>TARGET</th>\n",
       "    </tr>\n",
       "  </thead>\n",
       "  <tbody>\n",
       "    <tr>\n",
       "      <th>4033</th>\n",
       "      <td>0.0</td>\n",
       "    </tr>\n",
       "    <tr>\n",
       "      <th>4480</th>\n",
       "      <td>0.0</td>\n",
       "    </tr>\n",
       "    <tr>\n",
       "      <th>4085</th>\n",
       "      <td>0.0</td>\n",
       "    </tr>\n",
       "    <tr>\n",
       "      <th>905</th>\n",
       "      <td>0.0</td>\n",
       "    </tr>\n",
       "    <tr>\n",
       "      <th>1664</th>\n",
       "      <td>1.0</td>\n",
       "    </tr>\n",
       "  </tbody>\n",
       "</table>\n",
       "</div>"
      ],
      "text/plain": [
       "      TARGET\n",
       "4033     0.0\n",
       "4480     0.0\n",
       "4085     0.0\n",
       "905      0.0\n",
       "1664     1.0"
      ]
     },
     "execution_count": 171,
     "metadata": {},
     "output_type": "execute_result"
    }
   ],
   "source": [
    "y_trainc.head()"
   ]
  },
  {
   "cell_type": "code",
   "execution_count": 172,
   "metadata": {},
   "outputs": [
    {
     "name": "stderr",
     "output_type": "stream",
     "text": [
      "D:\\Users\\Vikas\\Anaconda3\\lib\\site-packages\\sklearn\\preprocessing\\label.py:219: DataConversionWarning: A column-vector y was passed when a 1d array was expected. Please change the shape of y to (n_samples, ), for example using ravel().\n",
      "  y = column_or_1d(y, warn=True)\n",
      "D:\\Users\\Vikas\\Anaconda3\\lib\\site-packages\\sklearn\\preprocessing\\label.py:252: DataConversionWarning: A column-vector y was passed when a 1d array was expected. Please change the shape of y to (n_samples, ), for example using ravel().\n",
      "  y = column_or_1d(y, warn=True)\n"
     ]
    },
    {
     "name": "stdout",
     "output_type": "stream",
     "text": [
      "Model17 0.962082912032356\n"
     ]
    }
   ],
   "source": [
    "model17 = XGBClassifier(learning_rate =0.01,n_estimators=5000,max_depth=3,min_child_weight=1,gamma=0.3,subsample=0.85,colsample_bytree=0.85,reg_alpha=0.44,objective= 'binary:logistic',nthread=4,scale_pos_weight=1,seed=27)\n",
    "model17.fit(X_trainc,y_trainc)\n",
    "pred17=model17.predict(X_testc)\n",
    "print(\"Model17\",accuracy_score(y_testc, pred17))"
   ]
  },
  {
   "cell_type": "code",
   "execution_count": 173,
   "metadata": {},
   "outputs": [
    {
     "data": {
      "text/html": [
       "<div>\n",
       "<style scoped>\n",
       "    .dataframe tbody tr th:only-of-type {\n",
       "        vertical-align: middle;\n",
       "    }\n",
       "\n",
       "    .dataframe tbody tr th {\n",
       "        vertical-align: top;\n",
       "    }\n",
       "\n",
       "    .dataframe thead th {\n",
       "        text-align: right;\n",
       "    }\n",
       "</style>\n",
       "<table border=\"1\" class=\"dataframe\">\n",
       "  <thead>\n",
       "    <tr style=\"text-align: right;\">\n",
       "      <th></th>\n",
       "      <th>AGE</th>\n",
       "      <th>AGREEMENTID</th>\n",
       "      <th>AUTHORIZATION_DAY</th>\n",
       "      <th>AUTHORIZATION_MONTH</th>\n",
       "      <th>AUTHORIZATION_YEAR</th>\n",
       "      <th>BALANCE_EXCESS</th>\n",
       "      <th>BALANCE_TENURE</th>\n",
       "      <th>BRANCH_PINCODE</th>\n",
       "      <th>CITY</th>\n",
       "      <th>COMPLETED_TENURE</th>\n",
       "      <th>...</th>\n",
       "      <th>QUALIFICATION_DOCTRATE</th>\n",
       "      <th>QUALIFICATION_ENG</th>\n",
       "      <th>QUALIFICATION_GRAD</th>\n",
       "      <th>QUALIFICATION_MAT</th>\n",
       "      <th>QUALIFICATION_OTHERS</th>\n",
       "      <th>QUALIFICATION_POSTGRAD</th>\n",
       "      <th>QUALIFICATION_PRF</th>\n",
       "      <th>QUALIFICATION_UG</th>\n",
       "      <th>SEX_F</th>\n",
       "      <th>SEX_M</th>\n",
       "    </tr>\n",
       "  </thead>\n",
       "  <tbody>\n",
       "    <tr>\n",
       "      <th>340</th>\n",
       "      <td>38.0</td>\n",
       "      <td>11221405</td>\n",
       "      <td>11</td>\n",
       "      <td>12</td>\n",
       "      <td>2012</td>\n",
       "      <td>0.0</td>\n",
       "      <td>228.0</td>\n",
       "      <td>400070.0</td>\n",
       "      <td>176</td>\n",
       "      <td>31</td>\n",
       "      <td>...</td>\n",
       "      <td>0</td>\n",
       "      <td>0</td>\n",
       "      <td>0</td>\n",
       "      <td>0</td>\n",
       "      <td>0</td>\n",
       "      <td>1</td>\n",
       "      <td>0</td>\n",
       "      <td>0</td>\n",
       "      <td>0</td>\n",
       "      <td>1</td>\n",
       "    </tr>\n",
       "    <tr>\n",
       "      <th>341</th>\n",
       "      <td>34.0</td>\n",
       "      <td>11221408</td>\n",
       "      <td>30</td>\n",
       "      <td>11</td>\n",
       "      <td>2012</td>\n",
       "      <td>0.0</td>\n",
       "      <td>152.0</td>\n",
       "      <td>411005.0</td>\n",
       "      <td>225</td>\n",
       "      <td>53</td>\n",
       "      <td>...</td>\n",
       "      <td>0</td>\n",
       "      <td>0</td>\n",
       "      <td>1</td>\n",
       "      <td>0</td>\n",
       "      <td>0</td>\n",
       "      <td>0</td>\n",
       "      <td>0</td>\n",
       "      <td>0</td>\n",
       "      <td>0</td>\n",
       "      <td>1</td>\n",
       "    </tr>\n",
       "    <tr>\n",
       "      <th>342</th>\n",
       "      <td>35.0</td>\n",
       "      <td>11221409</td>\n",
       "      <td>29</td>\n",
       "      <td>11</td>\n",
       "      <td>2012</td>\n",
       "      <td>0.0</td>\n",
       "      <td>163.0</td>\n",
       "      <td>411005.0</td>\n",
       "      <td>225</td>\n",
       "      <td>41</td>\n",
       "      <td>...</td>\n",
       "      <td>0</td>\n",
       "      <td>1</td>\n",
       "      <td>0</td>\n",
       "      <td>0</td>\n",
       "      <td>0</td>\n",
       "      <td>0</td>\n",
       "      <td>0</td>\n",
       "      <td>0</td>\n",
       "      <td>0</td>\n",
       "      <td>1</td>\n",
       "    </tr>\n",
       "    <tr>\n",
       "      <th>343</th>\n",
       "      <td>38.0</td>\n",
       "      <td>11221410</td>\n",
       "      <td>27</td>\n",
       "      <td>12</td>\n",
       "      <td>2012</td>\n",
       "      <td>0.0</td>\n",
       "      <td>284.0</td>\n",
       "      <td>411005.0</td>\n",
       "      <td>225</td>\n",
       "      <td>16</td>\n",
       "      <td>...</td>\n",
       "      <td>0</td>\n",
       "      <td>0</td>\n",
       "      <td>0</td>\n",
       "      <td>0</td>\n",
       "      <td>0</td>\n",
       "      <td>1</td>\n",
       "      <td>0</td>\n",
       "      <td>0</td>\n",
       "      <td>1</td>\n",
       "      <td>0</td>\n",
       "    </tr>\n",
       "    <tr>\n",
       "      <th>344</th>\n",
       "      <td>43.0</td>\n",
       "      <td>11221411</td>\n",
       "      <td>29</td>\n",
       "      <td>11</td>\n",
       "      <td>2012</td>\n",
       "      <td>0.0</td>\n",
       "      <td>176.0</td>\n",
       "      <td>400070.0</td>\n",
       "      <td>176</td>\n",
       "      <td>27</td>\n",
       "      <td>...</td>\n",
       "      <td>0</td>\n",
       "      <td>0</td>\n",
       "      <td>1</td>\n",
       "      <td>0</td>\n",
       "      <td>0</td>\n",
       "      <td>0</td>\n",
       "      <td>0</td>\n",
       "      <td>0</td>\n",
       "      <td>0</td>\n",
       "      <td>1</td>\n",
       "    </tr>\n",
       "  </tbody>\n",
       "</table>\n",
       "<p>5 rows × 68 columns</p>\n",
       "</div>"
      ],
      "text/plain": [
       "      AGE  AGREEMENTID  AUTHORIZATION_DAY  AUTHORIZATION_MONTH  \\\n",
       "340  38.0     11221405                 11                   12   \n",
       "341  34.0     11221408                 30                   11   \n",
       "342  35.0     11221409                 29                   11   \n",
       "343  38.0     11221410                 27                   12   \n",
       "344  43.0     11221411                 29                   11   \n",
       "\n",
       "     AUTHORIZATION_YEAR  BALANCE_EXCESS  BALANCE_TENURE  BRANCH_PINCODE  CITY  \\\n",
       "340                2012             0.0           228.0        400070.0   176   \n",
       "341                2012             0.0           152.0        411005.0   225   \n",
       "342                2012             0.0           163.0        411005.0   225   \n",
       "343                2012             0.0           284.0        411005.0   225   \n",
       "344                2012             0.0           176.0        400070.0   176   \n",
       "\n",
       "     COMPLETED_TENURE  ...    QUALIFICATION_DOCTRATE  QUALIFICATION_ENG  \\\n",
       "340                31  ...                         0                  0   \n",
       "341                53  ...                         0                  0   \n",
       "342                41  ...                         0                  1   \n",
       "343                16  ...                         0                  0   \n",
       "344                27  ...                         0                  0   \n",
       "\n",
       "     QUALIFICATION_GRAD  QUALIFICATION_MAT  QUALIFICATION_OTHERS  \\\n",
       "340                   0                  0                     0   \n",
       "341                   1                  0                     0   \n",
       "342                   0                  0                     0   \n",
       "343                   0                  0                     0   \n",
       "344                   1                  0                     0   \n",
       "\n",
       "     QUALIFICATION_POSTGRAD  QUALIFICATION_PRF  QUALIFICATION_UG  SEX_F  SEX_M  \n",
       "340                       1                  0                 0      0      1  \n",
       "341                       0                  0                 0      0      1  \n",
       "342                       0                  0                 0      0      1  \n",
       "343                       1                  0                 0      1      0  \n",
       "344                       0                  0                 0      0      1  \n",
       "\n",
       "[5 rows x 68 columns]"
      ]
     },
     "execution_count": 173,
     "metadata": {},
     "output_type": "execute_result"
    }
   ],
   "source": [
    "ctest.head()"
   ]
  },
  {
   "cell_type": "code",
   "execution_count": 174,
   "metadata": {},
   "outputs": [],
   "source": [
    "testpred17=model17.predict_proba(ctest)"
   ]
  },
  {
   "cell_type": "code",
   "execution_count": 175,
   "metadata": {},
   "outputs": [],
   "source": [
    "predc=pd.DataFrame({'AGREEMENTID':ctest['AGREEMENTID'],'FORECLOSURE':testpred17[:,1]})"
   ]
  },
  {
   "cell_type": "code",
   "execution_count": 176,
   "metadata": {},
   "outputs": [
    {
     "data": {
      "text/html": [
       "<div>\n",
       "<style scoped>\n",
       "    .dataframe tbody tr th:only-of-type {\n",
       "        vertical-align: middle;\n",
       "    }\n",
       "\n",
       "    .dataframe tbody tr th {\n",
       "        vertical-align: top;\n",
       "    }\n",
       "\n",
       "    .dataframe thead th {\n",
       "        text-align: right;\n",
       "    }\n",
       "</style>\n",
       "<table border=\"1\" class=\"dataframe\">\n",
       "  <thead>\n",
       "    <tr style=\"text-align: right;\">\n",
       "      <th></th>\n",
       "      <th>AGREEMENTID</th>\n",
       "      <th>FORECLOSURE</th>\n",
       "    </tr>\n",
       "  </thead>\n",
       "  <tbody>\n",
       "    <tr>\n",
       "      <th>340</th>\n",
       "      <td>11221405</td>\n",
       "      <td>0.984801</td>\n",
       "    </tr>\n",
       "    <tr>\n",
       "      <th>341</th>\n",
       "      <td>11221408</td>\n",
       "      <td>0.002292</td>\n",
       "    </tr>\n",
       "    <tr>\n",
       "      <th>342</th>\n",
       "      <td>11221409</td>\n",
       "      <td>0.002046</td>\n",
       "    </tr>\n",
       "    <tr>\n",
       "      <th>343</th>\n",
       "      <td>11221410</td>\n",
       "      <td>0.903840</td>\n",
       "    </tr>\n",
       "    <tr>\n",
       "      <th>344</th>\n",
       "      <td>11221411</td>\n",
       "      <td>0.026642</td>\n",
       "    </tr>\n",
       "  </tbody>\n",
       "</table>\n",
       "</div>"
      ],
      "text/plain": [
       "     AGREEMENTID  FORECLOSURE\n",
       "340     11221405     0.984801\n",
       "341     11221408     0.002292\n",
       "342     11221409     0.002046\n",
       "343     11221410     0.903840\n",
       "344     11221411     0.026642"
      ]
     },
     "execution_count": 176,
     "metadata": {},
     "output_type": "execute_result"
    }
   ],
   "source": [
    "predc.head()"
   ]
  },
  {
   "cell_type": "code",
   "execution_count": 177,
   "metadata": {},
   "outputs": [],
   "source": [
    "testpred11=model11.predict_proba(test_wc)"
   ]
  },
  {
   "cell_type": "code",
   "execution_count": 178,
   "metadata": {},
   "outputs": [],
   "source": [
    "predcwc=pd.DataFrame({'AGREEMENTID':test_wc['AGREEMENTID'],'FORECLOSURE':testpred11[:,1]})"
   ]
  },
  {
   "cell_type": "code",
   "execution_count": 179,
   "metadata": {},
   "outputs": [
    {
     "data": {
      "text/html": [
       "<div>\n",
       "<style scoped>\n",
       "    .dataframe tbody tr th:only-of-type {\n",
       "        vertical-align: middle;\n",
       "    }\n",
       "\n",
       "    .dataframe tbody tr th {\n",
       "        vertical-align: top;\n",
       "    }\n",
       "\n",
       "    .dataframe thead th {\n",
       "        text-align: right;\n",
       "    }\n",
       "</style>\n",
       "<table border=\"1\" class=\"dataframe\">\n",
       "  <thead>\n",
       "    <tr style=\"text-align: right;\">\n",
       "      <th></th>\n",
       "      <th>AGREEMENTID</th>\n",
       "      <th>FORECLOSURE</th>\n",
       "    </tr>\n",
       "  </thead>\n",
       "  <tbody>\n",
       "    <tr>\n",
       "      <th>2</th>\n",
       "      <td>11220003</td>\n",
       "      <td>0.775795</td>\n",
       "    </tr>\n",
       "    <tr>\n",
       "      <th>3</th>\n",
       "      <td>11220004</td>\n",
       "      <td>0.948791</td>\n",
       "    </tr>\n",
       "    <tr>\n",
       "      <th>4</th>\n",
       "      <td>11220005</td>\n",
       "      <td>0.987926</td>\n",
       "    </tr>\n",
       "    <tr>\n",
       "      <th>6</th>\n",
       "      <td>11220007</td>\n",
       "      <td>0.519748</td>\n",
       "    </tr>\n",
       "    <tr>\n",
       "      <th>8</th>\n",
       "      <td>11220009</td>\n",
       "      <td>0.000736</td>\n",
       "    </tr>\n",
       "  </tbody>\n",
       "</table>\n",
       "</div>"
      ],
      "text/plain": [
       "   AGREEMENTID  FORECLOSURE\n",
       "2     11220003     0.775795\n",
       "3     11220004     0.948791\n",
       "4     11220005     0.987926\n",
       "6     11220007     0.519748\n",
       "8     11220009     0.000736"
      ]
     },
     "execution_count": 179,
     "metadata": {},
     "output_type": "execute_result"
    }
   ],
   "source": [
    "predcwc.head()"
   ]
  },
  {
   "cell_type": "code",
   "execution_count": 180,
   "metadata": {},
   "outputs": [],
   "source": [
    "fpred=pd.merge(predcwc,predc,how='left',on='AGREEMENTID')"
   ]
  },
  {
   "cell_type": "code",
   "execution_count": 181,
   "metadata": {},
   "outputs": [
    {
     "data": {
      "text/html": [
       "<div>\n",
       "<style scoped>\n",
       "    .dataframe tbody tr th:only-of-type {\n",
       "        vertical-align: middle;\n",
       "    }\n",
       "\n",
       "    .dataframe tbody tr th {\n",
       "        vertical-align: top;\n",
       "    }\n",
       "\n",
       "    .dataframe thead th {\n",
       "        text-align: right;\n",
       "    }\n",
       "</style>\n",
       "<table border=\"1\" class=\"dataframe\">\n",
       "  <thead>\n",
       "    <tr style=\"text-align: right;\">\n",
       "      <th></th>\n",
       "      <th>AGREEMENTID</th>\n",
       "      <th>FORECLOSURE_x</th>\n",
       "      <th>FORECLOSURE_y</th>\n",
       "    </tr>\n",
       "  </thead>\n",
       "  <tbody>\n",
       "    <tr>\n",
       "      <th>0</th>\n",
       "      <td>11220003</td>\n",
       "      <td>0.775795</td>\n",
       "      <td>NaN</td>\n",
       "    </tr>\n",
       "    <tr>\n",
       "      <th>1</th>\n",
       "      <td>11220004</td>\n",
       "      <td>0.948791</td>\n",
       "      <td>NaN</td>\n",
       "    </tr>\n",
       "    <tr>\n",
       "      <th>2</th>\n",
       "      <td>11220005</td>\n",
       "      <td>0.987926</td>\n",
       "      <td>NaN</td>\n",
       "    </tr>\n",
       "    <tr>\n",
       "      <th>3</th>\n",
       "      <td>11220007</td>\n",
       "      <td>0.519748</td>\n",
       "      <td>NaN</td>\n",
       "    </tr>\n",
       "    <tr>\n",
       "      <th>4</th>\n",
       "      <td>11220009</td>\n",
       "      <td>0.000736</td>\n",
       "      <td>NaN</td>\n",
       "    </tr>\n",
       "  </tbody>\n",
       "</table>\n",
       "</div>"
      ],
      "text/plain": [
       "   AGREEMENTID  FORECLOSURE_x  FORECLOSURE_y\n",
       "0     11220003       0.775795            NaN\n",
       "1     11220004       0.948791            NaN\n",
       "2     11220005       0.987926            NaN\n",
       "3     11220007       0.519748            NaN\n",
       "4     11220009       0.000736            NaN"
      ]
     },
     "execution_count": 181,
     "metadata": {},
     "output_type": "execute_result"
    }
   ],
   "source": [
    "fpred.head()"
   ]
  },
  {
   "cell_type": "code",
   "execution_count": 182,
   "metadata": {},
   "outputs": [],
   "source": [
    "fpred['FORECLOSURE']=(fpred['FORECLOSURE_x']+fpred['FORECLOSURE_y'])/2"
   ]
  },
  {
   "cell_type": "code",
   "execution_count": 183,
   "metadata": {},
   "outputs": [
    {
     "data": {
      "text/plain": [
       "(13342, 4)"
      ]
     },
     "execution_count": 183,
     "metadata": {},
     "output_type": "execute_result"
    }
   ],
   "source": [
    "fpred.shape"
   ]
  },
  {
   "cell_type": "code",
   "execution_count": 184,
   "metadata": {},
   "outputs": [
    {
     "data": {
      "text/html": [
       "<div>\n",
       "<style scoped>\n",
       "    .dataframe tbody tr th:only-of-type {\n",
       "        vertical-align: middle;\n",
       "    }\n",
       "\n",
       "    .dataframe tbody tr th {\n",
       "        vertical-align: top;\n",
       "    }\n",
       "\n",
       "    .dataframe thead th {\n",
       "        text-align: right;\n",
       "    }\n",
       "</style>\n",
       "<table border=\"1\" class=\"dataframe\">\n",
       "  <thead>\n",
       "    <tr style=\"text-align: right;\">\n",
       "      <th></th>\n",
       "      <th>AGREEMENTID</th>\n",
       "      <th>FORECLOSURE_x</th>\n",
       "      <th>FORECLOSURE_y</th>\n",
       "      <th>FORECLOSURE</th>\n",
       "    </tr>\n",
       "  </thead>\n",
       "  <tbody>\n",
       "    <tr>\n",
       "      <th>0</th>\n",
       "      <td>11220003</td>\n",
       "      <td>0.775795</td>\n",
       "      <td>NaN</td>\n",
       "      <td>NaN</td>\n",
       "    </tr>\n",
       "    <tr>\n",
       "      <th>1</th>\n",
       "      <td>11220004</td>\n",
       "      <td>0.948791</td>\n",
       "      <td>NaN</td>\n",
       "      <td>NaN</td>\n",
       "    </tr>\n",
       "    <tr>\n",
       "      <th>2</th>\n",
       "      <td>11220005</td>\n",
       "      <td>0.987926</td>\n",
       "      <td>NaN</td>\n",
       "      <td>NaN</td>\n",
       "    </tr>\n",
       "    <tr>\n",
       "      <th>3</th>\n",
       "      <td>11220007</td>\n",
       "      <td>0.519748</td>\n",
       "      <td>NaN</td>\n",
       "      <td>NaN</td>\n",
       "    </tr>\n",
       "    <tr>\n",
       "      <th>4</th>\n",
       "      <td>11220009</td>\n",
       "      <td>0.000736</td>\n",
       "      <td>NaN</td>\n",
       "      <td>NaN</td>\n",
       "    </tr>\n",
       "  </tbody>\n",
       "</table>\n",
       "</div>"
      ],
      "text/plain": [
       "   AGREEMENTID  FORECLOSURE_x  FORECLOSURE_y  FORECLOSURE\n",
       "0     11220003       0.775795            NaN          NaN\n",
       "1     11220004       0.948791            NaN          NaN\n",
       "2     11220005       0.987926            NaN          NaN\n",
       "3     11220007       0.519748            NaN          NaN\n",
       "4     11220009       0.000736            NaN          NaN"
      ]
     },
     "execution_count": 184,
     "metadata": {},
     "output_type": "execute_result"
    }
   ],
   "source": [
    "fpred.head()"
   ]
  },
  {
   "cell_type": "code",
   "execution_count": 185,
   "metadata": {},
   "outputs": [],
   "source": [
    "fpred.loc[fpred['FORECLOSURE'].isnull(),'FORECLOSURE']=fpred.loc[fpred['FORECLOSURE'].isnull(),'FORECLOSURE_x']"
   ]
  },
  {
   "cell_type": "code",
   "execution_count": 186,
   "metadata": {},
   "outputs": [
    {
     "name": "stdout",
     "output_type": "stream",
     "text": [
      "<class 'pandas.core.frame.DataFrame'>\n",
      "Int64Index: 13342 entries, 0 to 13341\n",
      "Data columns (total 4 columns):\n",
      "AGREEMENTID      13342 non-null int64\n",
      "FORECLOSURE_x    13342 non-null float32\n",
      "FORECLOSURE_y    3455 non-null float32\n",
      "FORECLOSURE      13342 non-null float32\n",
      "dtypes: float32(3), int64(1)\n",
      "memory usage: 364.8 KB\n"
     ]
    }
   ],
   "source": [
    "fpred.info()"
   ]
  },
  {
   "cell_type": "markdown",
   "metadata": {},
   "source": [
    "# Prediction on Test Data Set"
   ]
  },
  {
   "cell_type": "code",
   "execution_count": 187,
   "metadata": {},
   "outputs": [],
   "source": [
    "#Using Ensemble Model\n",
    "testpred9=model9.predict_proba(test_wc)\n",
    "testpred11=model11.predict_proba(test_wc)\n",
    "testpred12=model12.predict_proba(test_wc)\n",
    "testpred13=model13.predict_proba(test_wc)\n",
    "testpred16=model16.predict_proba(test_wc)\n",
    "testpred17=model17.predict_proba(ctest)"
   ]
  },
  {
   "cell_type": "code",
   "execution_count": 188,
   "metadata": {},
   "outputs": [],
   "source": [
    "final_pred=((testpred11[:,1]+testpred12[:,1]+testpred13[:,1]+testpred16[:,1]))/4"
   ]
  },
  {
   "cell_type": "code",
   "execution_count": 189,
   "metadata": {},
   "outputs": [],
   "source": [
    "pd.DataFrame(final_pred).to_csv(\"submission16.csv\")"
   ]
  },
  {
   "cell_type": "code",
   "execution_count": 190,
   "metadata": {},
   "outputs": [],
   "source": [
    "pd.DataFrame(testpred11[:,1]).to_csv(\"submission17.csv\")"
   ]
  },
  {
   "cell_type": "code",
   "execution_count": 191,
   "metadata": {},
   "outputs": [],
   "source": [
    "pd.DataFrame(ctest.loc[:,'AGREEMENTID']).to_csv(\"custagree.csv\")"
   ]
  },
  {
   "cell_type": "code",
   "execution_count": 192,
   "metadata": {},
   "outputs": [],
   "source": [
    "pd.DataFrame(testpred17[:,1]).to_csv(\"submission18.csv\")"
   ]
  },
  {
   "cell_type": "code",
   "execution_count": 193,
   "metadata": {},
   "outputs": [],
   "source": [
    "pd.DataFrame(fpred.loc[:,['AGREEMENTID','FORECLOSURE']]).to_csv(\"submission19.csv\")"
   ]
  },
  {
   "cell_type": "code",
   "execution_count": 194,
   "metadata": {},
   "outputs": [
    {
     "data": {
      "text/plain": [
       "array([[1424,   42],\n",
       "       [  33,  479]], dtype=int64)"
      ]
     },
     "execution_count": 194,
     "metadata": {},
     "output_type": "execute_result"
    }
   ],
   "source": [
    "from sklearn.metrics import confusion_matrix\n",
    "confusion_matrix(y_testc, pred17)"
   ]
  },
  {
   "cell_type": "markdown",
   "metadata": {},
   "source": [
    "# Checking imbalance of data"
   ]
  },
  {
   "cell_type": "code",
   "execution_count": 195,
   "metadata": {},
   "outputs": [
    {
     "data": {
      "text/plain": [
       "0.0    18217\n",
       "1.0     1795\n",
       "Name: TARGET, dtype: int64"
      ]
     },
     "execution_count": 195,
     "metadata": {},
     "output_type": "execute_result"
    }
   ],
   "source": [
    "train_wc['TARGET'].value_counts()"
   ]
  },
  {
   "cell_type": "code",
   "execution_count": 196,
   "metadata": {},
   "outputs": [],
   "source": [
    "ostrainwc=train_wc.copy()\n",
    "ostestwc=test_wc.copy()"
   ]
  },
  {
   "cell_type": "code",
   "execution_count": 197,
   "metadata": {},
   "outputs": [
    {
     "name": "stdout",
     "output_type": "stream",
     "text": [
      "(20012, 48)\n"
     ]
    },
    {
     "data": {
      "text/plain": [
       "(13342, 47)"
      ]
     },
     "execution_count": 197,
     "metadata": {},
     "output_type": "execute_result"
    }
   ],
   "source": [
    "print(ostrainwc.shape);ostestwc.shape"
   ]
  },
  {
   "cell_type": "code",
   "execution_count": 198,
   "metadata": {},
   "outputs": [],
   "source": [
    "ostrainwx=ostrainwc.iloc[:,0:47]\n",
    "ostrainwy=ostrainwc.iloc[:,47:]"
   ]
  },
  {
   "cell_type": "code",
   "execution_count": 199,
   "metadata": {},
   "outputs": [],
   "source": [
    "def makeOverSamplesSMOTE(X,y):\n",
    "    from imblearn.over_sampling import SMOTE\n",
    "    sm = SMOTE()\n",
    "    X, y = sm.fit_sample(X, y)\n",
    "    return X,y"
   ]
  },
  {
   "cell_type": "code",
   "execution_count": 200,
   "metadata": {},
   "outputs": [
    {
     "name": "stderr",
     "output_type": "stream",
     "text": [
      "D:\\Users\\Vikas\\Anaconda3\\lib\\site-packages\\sklearn\\utils\\validation.py:761: DataConversionWarning: A column-vector y was passed when a 1d array was expected. Please change the shape of y to (n_samples, ), for example using ravel().\n",
      "  y = column_or_1d(y, warn=True)\n",
      "D:\\Users\\Vikas\\Anaconda3\\lib\\site-packages\\sklearn\\utils\\validation.py:761: DataConversionWarning: A column-vector y was passed when a 1d array was expected. Please change the shape of y to (n_samples, ), for example using ravel().\n",
      "  y = column_or_1d(y, warn=True)\n"
     ]
    }
   ],
   "source": [
    "ostrainwx,ostrainwy=makeOverSamplesSMOTE(ostrainwx,ostrainwy)"
   ]
  },
  {
   "cell_type": "code",
   "execution_count": 201,
   "metadata": {},
   "outputs": [
    {
     "name": "stdout",
     "output_type": "stream",
     "text": [
      "(36434, 47)\n"
     ]
    },
    {
     "data": {
      "text/plain": [
       "(36434,)"
      ]
     },
     "execution_count": 201,
     "metadata": {},
     "output_type": "execute_result"
    }
   ],
   "source": [
    "print(ostrainwx.shape);ostrainwy.shape"
   ]
  },
  {
   "cell_type": "code",
   "execution_count": 202,
   "metadata": {},
   "outputs": [],
   "source": [
    "X_ostrainwc, X_ostestwc, y_ostrainwc, y_ostestwc = train_test_split(ostrainwx,ostrainwy, test_size=0.33, random_state=28)"
   ]
  },
  {
   "cell_type": "code",
   "execution_count": 203,
   "metadata": {},
   "outputs": [
    {
     "name": "stdout",
     "output_type": "stream",
     "text": [
      "(24410, 47)\n",
      "(24410,)\n",
      "(12024, 47)\n",
      "(12024,)\n"
     ]
    }
   ],
   "source": [
    "print(X_ostrainwc.shape)\n",
    "print(y_ostrainwc.shape)\n",
    "print(X_ostestwc.shape)\n",
    "print(y_ostestwc.shape)"
   ]
  },
  {
   "cell_type": "code",
   "execution_count": 204,
   "metadata": {},
   "outputs": [
    {
     "name": "stderr",
     "output_type": "stream",
     "text": [
      "D:\\Users\\Vikas\\Anaconda3\\lib\\site-packages\\xgboost\\sklearn.py:229: DeprecationWarning: The seed parameter is deprecated as of version .6.Please use random_state instead.seed is deprecated.\n",
      "  'seed is deprecated.', DeprecationWarning)\n",
      "D:\\Users\\Vikas\\Anaconda3\\lib\\site-packages\\xgboost\\sklearn.py:236: DeprecationWarning: The nthread parameter is deprecated as of version .6.Please use n_jobs instead.nthread is deprecated.\n",
      "  'nthread is deprecated.', DeprecationWarning)\n"
     ]
    },
    {
     "name": "stdout",
     "output_type": "stream",
     "text": [
      "Model18 0.9947604790419161\n"
     ]
    }
   ],
   "source": [
    "model18 = XGBClassifier(learning_rate =0.1,n_estimators=1000,max_depth=3,min_child_weight=1,gamma=0.3,subsample=0.85,colsample_bytree=0.85,reg_alpha=0.44,objective= 'binary:logistic',nthread=4,scale_pos_weight=1,seed=27)\n",
    "model18.fit(X_ostrainwc,y_ostrainwc)\n",
    "pred18=model18.predict(X_ostestwc)\n",
    "print(\"Model18\",accuracy_score(y_ostestwc, pred18))"
   ]
  },
  {
   "cell_type": "code",
   "execution_count": 205,
   "metadata": {},
   "outputs": [],
   "source": [
    "ostestwc=ostestwc.as_matrix()"
   ]
  },
  {
   "cell_type": "code",
   "execution_count": 206,
   "metadata": {},
   "outputs": [],
   "source": [
    "testpred18=model18.predict_proba(ostestwc)"
   ]
  },
  {
   "cell_type": "code",
   "execution_count": 207,
   "metadata": {},
   "outputs": [
    {
     "data": {
      "text/plain": [
       "array([[5943,   36],\n",
       "       [  27, 6018]], dtype=int64)"
      ]
     },
     "execution_count": 207,
     "metadata": {},
     "output_type": "execute_result"
    }
   ],
   "source": [
    "confusion_matrix(y_ostestwc, pred18)"
   ]
  },
  {
   "cell_type": "code",
   "execution_count": 208,
   "metadata": {},
   "outputs": [],
   "source": [
    "pd.DataFrame(testpred18[:,1]).to_csv(\"submission23.csv\")"
   ]
  },
  {
   "cell_type": "markdown",
   "metadata": {},
   "source": [
    "# Email Data"
   ]
  },
  {
   "cell_type": "code",
   "execution_count": 209,
   "metadata": {},
   "outputs": [
    {
     "name": "stderr",
     "output_type": "stream",
     "text": [
      "D:\\Users\\Vikas\\Anaconda3\\lib\\site-packages\\pandas\\io\\parsers.py:1848: DeprecationWarning: invalid escape sequence '\\m'\n",
      "  data = self._reader.read(nrows)\n",
      "D:\\Users\\Vikas\\Anaconda3\\lib\\site-packages\\pandas\\io\\parsers.py:1848: DeprecationWarning: invalid escape sequence '\\c'\n",
      "  data = self._reader.read(nrows)\n",
      "D:\\Users\\Vikas\\Anaconda3\\lib\\site-packages\\pandas\\io\\parsers.py:1848: DeprecationWarning: invalid escape sequence '\\c'\n",
      "  data = self._reader.read(nrows)\n",
      "D:\\Users\\Vikas\\Anaconda3\\lib\\site-packages\\pandas\\io\\parsers.py:1848: DeprecationWarning: invalid escape sequence '\\m'\n",
      "  data = self._reader.read(nrows)\n",
      "D:\\Users\\Vikas\\Anaconda3\\lib\\site-packages\\pandas\\io\\parsers.py:1848: DeprecationWarning: invalid escape sequence '\\c'\n",
      "  data = self._reader.read(nrows)\n",
      "D:\\Users\\Vikas\\Anaconda3\\lib\\site-packages\\pandas\\io\\parsers.py:1848: DeprecationWarning: invalid escape sequence '\\c'\n",
      "  data = self._reader.read(nrows)\n",
      "D:\\Users\\Vikas\\Anaconda3\\lib\\site-packages\\pandas\\io\\parsers.py:1848: DeprecationWarning: invalid escape sequence '\\&'\n",
      "  data = self._reader.read(nrows)\n",
      "D:\\Users\\Vikas\\Anaconda3\\lib\\site-packages\\pandas\\io\\parsers.py:1848: DeprecationWarning: invalid escape sequence '\\ '\n",
      "  data = self._reader.read(nrows)\n",
      "D:\\Users\\Vikas\\Anaconda3\\lib\\site-packages\\pandas\\io\\parsers.py:1848: DeprecationWarning: invalid escape sequence '\\c'\n",
      "  data = self._reader.read(nrows)\n",
      "D:\\Users\\Vikas\\Anaconda3\\lib\\site-packages\\pandas\\io\\parsers.py:1848: DeprecationWarning: invalid escape sequence '\\m'\n",
      "  data = self._reader.read(nrows)\n",
      "D:\\Users\\Vikas\\Anaconda3\\lib\\site-packages\\pandas\\io\\parsers.py:1848: DeprecationWarning: invalid escape sequence '\\s'\n",
      "  data = self._reader.read(nrows)\n",
      "D:\\Users\\Vikas\\Anaconda3\\lib\\site-packages\\pandas\\io\\parsers.py:1848: DeprecationWarning: invalid escape sequence '\\c'\n",
      "  data = self._reader.read(nrows)\n",
      "D:\\Users\\Vikas\\Anaconda3\\lib\\site-packages\\pandas\\io\\parsers.py:1848: DeprecationWarning: invalid escape sequence '\\c'\n",
      "  data = self._reader.read(nrows)\n",
      "D:\\Users\\Vikas\\Anaconda3\\lib\\site-packages\\pandas\\io\\parsers.py:1848: DeprecationWarning: invalid escape sequence '\\c'\n",
      "  data = self._reader.read(nrows)\n",
      "D:\\Users\\Vikas\\Anaconda3\\lib\\site-packages\\pandas\\io\\parsers.py:1848: DeprecationWarning: invalid escape sequence '\\c'\n",
      "  data = self._reader.read(nrows)\n"
     ]
    }
   ],
   "source": [
    "emaildata=pd.read_csv('C:/Users/Vikas/Machine Learning/DSL/93fe009c-2-Foreclosure-Prediction-Dataset_/RF_Final_Data.csv',encoding = 'unicode_escape')"
   ]
  },
  {
   "cell_type": "code",
   "execution_count": 210,
   "metadata": {},
   "outputs": [
    {
     "data": {
      "text/html": [
       "<div>\n",
       "<style scoped>\n",
       "    .dataframe tbody tr th:only-of-type {\n",
       "        vertical-align: middle;\n",
       "    }\n",
       "\n",
       "    .dataframe tbody tr th {\n",
       "        vertical-align: top;\n",
       "    }\n",
       "\n",
       "    .dataframe thead th {\n",
       "        text-align: right;\n",
       "    }\n",
       "</style>\n",
       "<table border=\"1\" class=\"dataframe\">\n",
       "  <thead>\n",
       "    <tr style=\"text-align: right;\">\n",
       "      <th></th>\n",
       "      <th>TicketId</th>\n",
       "      <th>Type</th>\n",
       "      <th>SubType</th>\n",
       "      <th>Status</th>\n",
       "      <th>Date</th>\n",
       "      <th>Preprocessed_EmailBody</th>\n",
       "      <th>Preprocessed_Subject</th>\n",
       "      <th>Masked_CustomerID</th>\n",
       "      <th>Masked_AgreementID</th>\n",
       "    </tr>\n",
       "  </thead>\n",
       "  <tbody>\n",
       "    <tr>\n",
       "      <th>0</th>\n",
       "      <td>571910</td>\n",
       "      <td>REQUEST</td>\n",
       "      <td>PROVISIONAL IT CERTIFICATE</td>\n",
       "      <td>Close</td>\n",
       "      <td>2019-01-23 16:34:00</td>\n",
       "      <td>hi team, can you please provide me itcertifica...</td>\n",
       "      <td>loan account number - loannumber</td>\n",
       "      <td>12020736</td>\n",
       "      <td>0</td>\n",
       "    </tr>\n",
       "    <tr>\n",
       "      <th>1</th>\n",
       "      <td>572747</td>\n",
       "      <td>REQUEST</td>\n",
       "      <td>SOA</td>\n",
       "      <td>Close</td>\n",
       "      <td>2019-01-24 16:05:00</td>\n",
       "      <td>hi team can you please arrange the certificate...</td>\n",
       "      <td>certificate of interest and principal for home...</td>\n",
       "      <td>12019080</td>\n",
       "      <td>0</td>\n",
       "    </tr>\n",
       "    <tr>\n",
       "      <th>2</th>\n",
       "      <td>4622</td>\n",
       "      <td>General</td>\n",
       "      <td>Others</td>\n",
       "      <td>Close</td>\n",
       "      <td>2016-02-12 13:40:00</td>\n",
       "      <td>NaN</td>\n",
       "      <td>re: repaysch : loan number loannumber</td>\n",
       "      <td>12004815</td>\n",
       "      <td>0</td>\n",
       "    </tr>\n",
       "    <tr>\n",
       "      <th>3</th>\n",
       "      <td>4674</td>\n",
       "      <td>REQUEST</td>\n",
       "      <td>SOA</td>\n",
       "      <td>Close</td>\n",
       "      <td>2016-02-12 15:41:00</td>\n",
       "      <td>dear sir, you for your promptreply, please not...</td>\n",
       "      <td>re: finalit : loan number loannumber</td>\n",
       "      <td>12005158</td>\n",
       "      <td>11230237</td>\n",
       "    </tr>\n",
       "    <tr>\n",
       "      <th>4</th>\n",
       "      <td>4681</td>\n",
       "      <td>QUERY</td>\n",
       "      <td>CHANGEOFROI</td>\n",
       "      <td>Close</td>\n",
       "      <td>2016-02-12 15:55:00</td>\n",
       "      <td>dear sachin, for your mail. this seems a great...</td>\n",
       "      <td>re: fw: repaysch : loan number loannumber</td>\n",
       "      <td>12001022</td>\n",
       "      <td>0</td>\n",
       "    </tr>\n",
       "  </tbody>\n",
       "</table>\n",
       "</div>"
      ],
      "text/plain": [
       "   TicketId     Type                     SubType Status                 Date  \\\n",
       "0    571910  REQUEST  PROVISIONAL IT CERTIFICATE  Close  2019-01-23 16:34:00   \n",
       "1    572747  REQUEST                         SOA  Close  2019-01-24 16:05:00   \n",
       "2      4622  General                      Others  Close  2016-02-12 13:40:00   \n",
       "3      4674  REQUEST                         SOA  Close  2016-02-12 15:41:00   \n",
       "4      4681    QUERY                 CHANGEOFROI  Close  2016-02-12 15:55:00   \n",
       "\n",
       "                              Preprocessed_EmailBody  \\\n",
       "0  hi team, can you please provide me itcertifica...   \n",
       "1  hi team can you please arrange the certificate...   \n",
       "2                                                NaN   \n",
       "3  dear sir, you for your promptreply, please not...   \n",
       "4  dear sachin, for your mail. this seems a great...   \n",
       "\n",
       "                                Preprocessed_Subject  Masked_CustomerID  \\\n",
       "0                   loan account number - loannumber           12020736   \n",
       "1  certificate of interest and principal for home...           12019080   \n",
       "2              re: repaysch : loan number loannumber           12004815   \n",
       "3               re: finalit : loan number loannumber           12005158   \n",
       "4          re: fw: repaysch : loan number loannumber           12001022   \n",
       "\n",
       "   Masked_AgreementID  \n",
       "0                   0  \n",
       "1                   0  \n",
       "2                   0  \n",
       "3            11230237  \n",
       "4                   0  "
      ]
     },
     "execution_count": 210,
     "metadata": {},
     "output_type": "execute_result"
    }
   ],
   "source": [
    "emaildata.head()"
   ]
  },
  {
   "cell_type": "code",
   "execution_count": 211,
   "metadata": {},
   "outputs": [],
   "source": [
    "emaildata['Type']=emaildata['Type'].replace('Request','REQUEST')"
   ]
  },
  {
   "cell_type": "code",
   "execution_count": 212,
   "metadata": {},
   "outputs": [],
   "source": [
    "emaildata['Date'].value_counts().head()#dtype is int converting to datetime\n",
    "emaildata['Date']=pd.to_datetime(emaildata['Date'])"
   ]
  },
  {
   "cell_type": "code",
   "execution_count": 213,
   "metadata": {},
   "outputs": [],
   "source": [
    "#Deleting rows where both email and subject is null\n",
    "edindex=emaildata[(emaildata['Preprocessed_EmailBody'].isnull())&(emaildata['Preprocessed_Subject'].isnull())].index\n",
    "for i in edindex:\n",
    "    emaildata=emaildata.drop([i])"
   ]
  },
  {
   "cell_type": "code",
   "execution_count": 214,
   "metadata": {},
   "outputs": [],
   "source": [
    "#Copying Email Subjects to NA Email Content\n",
    "emaildata.loc[emaildata['Preprocessed_EmailBody'].isnull(),'Preprocessed_EmailBody']=emaildata.loc[emaildata['Preprocessed_EmailBody'].isnull(),'Preprocessed_Subject']"
   ]
  },
  {
   "cell_type": "code",
   "execution_count": 215,
   "metadata": {},
   "outputs": [],
   "source": [
    "#Assuming the subject content will be mentioned in email content dropping preprocessed subject\n",
    "del emaildata['Preprocessed_Subject']"
   ]
  },
  {
   "cell_type": "code",
   "execution_count": 216,
   "metadata": {},
   "outputs": [],
   "source": [
    "#Sorting data based on date\n",
    "emaildata=emaildata.sort_values('Date')"
   ]
  },
  {
   "cell_type": "code",
   "execution_count": 217,
   "metadata": {},
   "outputs": [],
   "source": [
    "#Masked Agreement ID is mostly 0 so no information \n",
    "del emaildata['Masked_AgreementID']"
   ]
  },
  {
   "cell_type": "code",
   "execution_count": 218,
   "metadata": {},
   "outputs": [],
   "source": [
    "#Sorting data based on date\n",
    "emaildata=emaildata.sort_values('Date')"
   ]
  },
  {
   "cell_type": "code",
   "execution_count": 219,
   "metadata": {},
   "outputs": [
    {
     "data": {
      "text/plain": [
       "2705"
      ]
     },
     "execution_count": 219,
     "metadata": {},
     "output_type": "execute_result"
    }
   ],
   "source": [
    "emaildata['Masked_CustomerID'].nunique()"
   ]
  },
  {
   "cell_type": "markdown",
   "metadata": {},
   "source": [
    "# Text Preprocessing\n"
   ]
  },
  {
   "cell_type": "code",
   "execution_count": 220,
   "metadata": {},
   "outputs": [
    {
     "name": "stderr",
     "output_type": "stream",
     "text": [
      "<input>:2: DeprecationWarning: invalid escape sequence \\w\n",
      "<input>:2: DeprecationWarning: invalid escape sequence \\w\n",
      "<input>:2: DeprecationWarning: invalid escape sequence \\w\n",
      "<ipython-input-220-a6a9cba961c6>:2: DeprecationWarning: invalid escape sequence \\w\n",
      "  emaildata['Preprocessed_EmailBody'] = emaildata['Preprocessed_EmailBody'].str.replace('[^\\w\\s]','')\n"
     ]
    }
   ],
   "source": [
    "emaildata['Preprocessed_EmailBody'] = emaildata['Preprocessed_EmailBody'].apply(lambda x: \" \".join(x.lower() for x in x.split()))\n",
    "emaildata['Preprocessed_EmailBody'] = emaildata['Preprocessed_EmailBody'].str.replace('[^\\w\\s]','')"
   ]
  },
  {
   "cell_type": "code",
   "execution_count": 221,
   "metadata": {},
   "outputs": [],
   "source": [
    "from nltk.corpus import stopwords\n",
    "stop = stopwords.words('english')\n",
    "emaildata['Preprocessed_EmailBody'] = emaildata['Preprocessed_EmailBody'].apply(lambda x: \" \".join(x for x in x.split() if x not in stop))"
   ]
  },
  {
   "cell_type": "code",
   "execution_count": 222,
   "metadata": {},
   "outputs": [],
   "source": [
    "from textblob import TextBlob\n",
    "from textblob import Word\n",
    "emaildata['Preprocessed_EmailBody'] = emaildata['Preprocessed_EmailBody'].apply(lambda x: \" \".join([Word(word).lemmatize() for word in x.split()]))"
   ]
  },
  {
   "cell_type": "code",
   "execution_count": 223,
   "metadata": {},
   "outputs": [],
   "source": [
    "emaildata['Sentiment'] = emaildata['Preprocessed_EmailBody'].apply(lambda x: TextBlob(x).sentiment[0] )\n",
    "emaildata['Subjectivity'] = emaildata['Preprocessed_EmailBody'].apply(lambda x: TextBlob(x).sentiment[1] )"
   ]
  },
  {
   "cell_type": "code",
   "execution_count": 224,
   "metadata": {},
   "outputs": [
    {
     "data": {
      "text/html": [
       "<div>\n",
       "<style scoped>\n",
       "    .dataframe tbody tr th:only-of-type {\n",
       "        vertical-align: middle;\n",
       "    }\n",
       "\n",
       "    .dataframe tbody tr th {\n",
       "        vertical-align: top;\n",
       "    }\n",
       "\n",
       "    .dataframe thead th {\n",
       "        text-align: right;\n",
       "    }\n",
       "</style>\n",
       "<table border=\"1\" class=\"dataframe\">\n",
       "  <thead>\n",
       "    <tr style=\"text-align: right;\">\n",
       "      <th></th>\n",
       "      <th>Preprocessed_EmailBody</th>\n",
       "      <th>Sentiment</th>\n",
       "      <th>Subjectivity</th>\n",
       "    </tr>\n",
       "  </thead>\n",
       "  <tbody>\n",
       "    <tr>\n",
       "      <th>2</th>\n",
       "      <td>repaysch loan number loannumber</td>\n",
       "      <td>0.000000</td>\n",
       "      <td>0.000000</td>\n",
       "    </tr>\n",
       "    <tr>\n",
       "      <th>3</th>\n",
       "      <td>dear sir promptreply please note attach letter...</td>\n",
       "      <td>0.300000</td>\n",
       "      <td>0.450000</td>\n",
       "    </tr>\n",
       "    <tr>\n",
       "      <th>4</th>\n",
       "      <td>dear sachin mail seems great offer roi 9999 ch...</td>\n",
       "      <td>0.700000</td>\n",
       "      <td>0.825000</td>\n",
       "    </tr>\n",
       "    <tr>\n",
       "      <th>5</th>\n",
       "      <td>sir madam already send tds certificate 9 st 9 ...</td>\n",
       "      <td>0.000000</td>\n",
       "      <td>0.000000</td>\n",
       "    </tr>\n",
       "    <tr>\n",
       "      <th>6</th>\n",
       "      <td>sent samsung mobile</td>\n",
       "      <td>0.000000</td>\n",
       "      <td>0.000000</td>\n",
       "    </tr>\n",
       "    <tr>\n",
       "      <th>7</th>\n",
       "      <td>loannumber pls send statement account remainin...</td>\n",
       "      <td>0.000000</td>\n",
       "      <td>0.000000</td>\n",
       "    </tr>\n",
       "    <tr>\n",
       "      <th>8</th>\n",
       "      <td>dear sir home loan account loannumber account ...</td>\n",
       "      <td>0.300000</td>\n",
       "      <td>0.450000</td>\n",
       "    </tr>\n",
       "    <tr>\n",
       "      <th>9</th>\n",
       "      <td>edelweiss housing finance limited ref home loa...</td>\n",
       "      <td>0.264286</td>\n",
       "      <td>0.521429</td>\n",
       "    </tr>\n",
       "    <tr>\n",
       "      <th>10</th>\n",
       "      <td>hi sachin waiting reply vikas bafna tribal zon...</td>\n",
       "      <td>0.700000</td>\n",
       "      <td>0.825000</td>\n",
       "    </tr>\n",
       "    <tr>\n",
       "      <th>11</th>\n",
       "      <td>hi team pls send revised foreclosure document ...</td>\n",
       "      <td>0.000000</td>\n",
       "      <td>0.000000</td>\n",
       "    </tr>\n",
       "  </tbody>\n",
       "</table>\n",
       "</div>"
      ],
      "text/plain": [
       "                               Preprocessed_EmailBody  Sentiment  Subjectivity\n",
       "2                     repaysch loan number loannumber   0.000000      0.000000\n",
       "3   dear sir promptreply please note attach letter...   0.300000      0.450000\n",
       "4   dear sachin mail seems great offer roi 9999 ch...   0.700000      0.825000\n",
       "5   sir madam already send tds certificate 9 st 9 ...   0.000000      0.000000\n",
       "6                                 sent samsung mobile   0.000000      0.000000\n",
       "7   loannumber pls send statement account remainin...   0.000000      0.000000\n",
       "8   dear sir home loan account loannumber account ...   0.300000      0.450000\n",
       "9   edelweiss housing finance limited ref home loa...   0.264286      0.521429\n",
       "10  hi sachin waiting reply vikas bafna tribal zon...   0.700000      0.825000\n",
       "11  hi team pls send revised foreclosure document ...   0.000000      0.000000"
      ]
     },
     "execution_count": 224,
     "metadata": {},
     "output_type": "execute_result"
    }
   ],
   "source": [
    "emaildata.loc[:,['Preprocessed_EmailBody','Sentiment','Subjectivity']].head(10)"
   ]
  },
  {
   "cell_type": "code",
   "execution_count": 225,
   "metadata": {},
   "outputs": [],
   "source": [
    "edatasent=emaildata.groupby('Masked_CustomerID')['Sentiment'].mean().reset_index()"
   ]
  },
  {
   "cell_type": "code",
   "execution_count": 226,
   "metadata": {},
   "outputs": [],
   "source": [
    "edatasubj=emaildata.groupby('Masked_CustomerID')['Subjectivity'].mean().reset_index()"
   ]
  },
  {
   "cell_type": "code",
   "execution_count": 227,
   "metadata": {},
   "outputs": [],
   "source": [
    "edatainfo=pd.merge(edatasent,edatasubj,how='inner',on='Masked_CustomerID')"
   ]
  },
  {
   "cell_type": "code",
   "execution_count": 228,
   "metadata": {},
   "outputs": [
    {
     "data": {
      "text/plain": [
       "(2705, 3)"
      ]
     },
     "execution_count": 228,
     "metadata": {},
     "output_type": "execute_result"
    }
   ],
   "source": [
    "edatainfo.shape"
   ]
  },
  {
   "cell_type": "code",
   "execution_count": 229,
   "metadata": {},
   "outputs": [],
   "source": [
    "textmergetrain=pd.merge(edatainfo,ctrain,how='left',left_on='Masked_CustomerID',right_on='CUSTOMERID')"
   ]
  },
  {
   "cell_type": "code",
   "execution_count": 230,
   "metadata": {},
   "outputs": [],
   "source": [
    "textmergetest=pd.merge(edatainfo,ctest,how='left',left_on='Masked_CustomerID',right_on='CUSTOMERID')"
   ]
  },
  {
   "cell_type": "code",
   "execution_count": 231,
   "metadata": {},
   "outputs": [],
   "source": [
    "textmergetrain=textmergetrain.dropna()\n",
    "textmergetest=textmergetest.dropna()"
   ]
  },
  {
   "cell_type": "code",
   "execution_count": 232,
   "metadata": {},
   "outputs": [
    {
     "data": {
      "text/plain": [
       "(1103, 72)"
      ]
     },
     "execution_count": 232,
     "metadata": {},
     "output_type": "execute_result"
    }
   ],
   "source": [
    "textmergetrain.shape"
   ]
  },
  {
   "cell_type": "code",
   "execution_count": 233,
   "metadata": {},
   "outputs": [],
   "source": [
    "X_trainxc, X_testxc, y_trainxc, y_testxc = train_test_split(textmergetrain.iloc[:,0:71],textmergetrain.iloc[:,71:], test_size=0.1, random_state=28)"
   ]
  },
  {
   "cell_type": "code",
   "execution_count": 234,
   "metadata": {},
   "outputs": [],
   "source": [
    "modelx1=LogisticRegression()\n",
    "modelx2=tree.DecisionTreeClassifier(criterion='gini')\n",
    "modelx3 =svm.SVC(kernel='rbf')\n",
    "modelx5=KNeighborsClassifier(n_neighbors=6)\n",
    "modelx6= RandomForestClassifier()\n",
    "modelx7=XGBClassifier()"
   ]
  },
  {
   "cell_type": "code",
   "execution_count": 235,
   "metadata": {},
   "outputs": [
    {
     "name": "stderr",
     "output_type": "stream",
     "text": [
      "D:\\Users\\Vikas\\Anaconda3\\lib\\site-packages\\sklearn\\utils\\validation.py:761: DataConversionWarning: A column-vector y was passed when a 1d array was expected. Please change the shape of y to (n_samples, ), for example using ravel().\n",
      "  y = column_or_1d(y, warn=True)\n",
      "D:\\Users\\Vikas\\Anaconda3\\lib\\site-packages\\sklearn\\svm\\base.py:931: ConvergenceWarning: Liblinear failed to converge, increase the number of iterations.\n",
      "  \"the number of iterations.\", ConvergenceWarning)\n",
      "D:\\Users\\Vikas\\Anaconda3\\lib\\site-packages\\sklearn\\utils\\validation.py:761: DataConversionWarning: A column-vector y was passed when a 1d array was expected. Please change the shape of y to (n_samples, ), for example using ravel().\n",
      "  y = column_or_1d(y, warn=True)\n",
      "D:\\Users\\Vikas\\Anaconda3\\lib\\site-packages\\ipykernel_launcher.py:4: DataConversionWarning: A column-vector y was passed when a 1d array was expected. Please change the shape of y to (n_samples, ), for example using ravel().\n",
      "  after removing the cwd from sys.path.\n",
      "D:\\Users\\Vikas\\Anaconda3\\lib\\site-packages\\ipykernel_launcher.py:5: DataConversionWarning: A column-vector y was passed when a 1d array was expected. Please change the shape of y to (n_samples,), for example using ravel().\n",
      "  \"\"\"\n",
      "D:\\Users\\Vikas\\Anaconda3\\lib\\site-packages\\sklearn\\preprocessing\\label.py:219: DataConversionWarning: A column-vector y was passed when a 1d array was expected. Please change the shape of y to (n_samples, ), for example using ravel().\n",
      "  y = column_or_1d(y, warn=True)\n",
      "D:\\Users\\Vikas\\Anaconda3\\lib\\site-packages\\sklearn\\preprocessing\\label.py:252: DataConversionWarning: A column-vector y was passed when a 1d array was expected. Please change the shape of y to (n_samples, ), for example using ravel().\n",
      "  y = column_or_1d(y, warn=True)\n"
     ]
    },
    {
     "data": {
      "text/plain": [
       "XGBClassifier(base_score=0.5, booster='gbtree', colsample_bylevel=1,\n",
       "       colsample_bytree=1, gamma=0, learning_rate=0.1, max_delta_step=0,\n",
       "       max_depth=3, min_child_weight=1, missing=None, n_estimators=100,\n",
       "       n_jobs=1, nthread=None, objective='binary:logistic', random_state=0,\n",
       "       reg_alpha=0, reg_lambda=1, scale_pos_weight=1, seed=None,\n",
       "       silent=True, subsample=1)"
      ]
     },
     "execution_count": 235,
     "metadata": {},
     "output_type": "execute_result"
    }
   ],
   "source": [
    "modelx1.fit(X_trainxc,y_trainxc)\n",
    "modelx2.fit(X_trainxc,y_trainxc)\n",
    "modelx3.fit(X_trainxc,y_trainxc)\n",
    "modelx5.fit(X_trainxc,y_trainxc)\n",
    "modelx6.fit(X_trainxc,y_trainxc)\n",
    "modelx7.fit(X_trainxc,y_trainxc)"
   ]
  },
  {
   "cell_type": "code",
   "execution_count": 236,
   "metadata": {},
   "outputs": [
    {
     "name": "stdout",
     "output_type": "stream",
     "text": [
      "Modelx1 0.6756756756756757\n",
      "Modelx2 0.8558558558558559\n",
      "Modelx3 0.6756756756756757\n",
      "Modelx5 0.6036036036036037\n",
      "Modelx6 0.9099099099099099\n",
      "Modelx7 0.8828828828828829\n"
     ]
    }
   ],
   "source": [
    "predx1=modelx1.predict(X_testxc)\n",
    "predx2=modelx2.predict(X_testxc)\n",
    "predx3=modelx3.predict(X_testxc)\n",
    "predx5=modelx5.predict(X_testxc)\n",
    "predx6=modelx6.predict(X_testxc)\n",
    "predx7=modelx7.predict(X_testxc)\n",
    "\n",
    "print(\"Modelx1\",accuracy_score(y_testxc, predx1))\n",
    "print(\"Modelx2\",accuracy_score(y_testxc, predx2))\n",
    "print(\"Modelx3\",accuracy_score(y_testxc, predx3))\n",
    "print(\"Modelx5\",accuracy_score(y_testxc, predx5))\n",
    "print(\"Modelx6\",accuracy_score(y_testxc, predx6))\n",
    "print(\"Modelx7\",accuracy_score(y_testxc, predx7))\n",
    "\n",
    "##Very few training dataset accuracy is low"
   ]
  },
  {
   "cell_type": "code",
   "execution_count": 253,
   "metadata": {},
   "outputs": [
    {
     "data": {
      "text/plain": [
       "<Figure size 3600x3600 with 0 Axes>"
      ]
     },
     "metadata": {},
     "output_type": "display_data"
    },
    {
     "data": {
      "image/png": "[encoded data removed]",
      "text/plain": [
       "<Figure size 432x288 with 1 Axes>"
      ]
     },
     "metadata": {},
     "output_type": "display_data"
    }
   ],
   "source": [
    "import matplotlib.pyplot as plt\n",
    "from xgboost import plot_importance\n",
    "from matplotlib.pyplot import figure\n",
    "plt.figure(figsize=(50,50))\n",
    "plot_importance(model11,max_num_features=10)\n",
    "plt.show()"
   ]
  },
  {
   "cell_type": "code",
   "execution_count": 298,
   "metadata": {},
   "outputs": [],
   "source": [
    "last=train_wc.copy()"
   ]
  },
  {
   "cell_type": "code",
   "execution_count": 303,
   "metadata": {},
   "outputs": [
    {
     "data": {
      "text/html": [
       "<div>\n",
       "<style scoped>\n",
       "    .dataframe tbody tr th:only-of-type {\n",
       "        vertical-align: middle;\n",
       "    }\n",
       "\n",
       "    .dataframe tbody tr th {\n",
       "        vertical-align: top;\n",
       "    }\n",
       "\n",
       "    .dataframe thead th {\n",
       "        text-align: right;\n",
       "    }\n",
       "</style>\n",
       "<table border=\"1\" class=\"dataframe\">\n",
       "  <thead>\n",
       "    <tr style=\"text-align: right;\">\n",
       "      <th></th>\n",
       "      <th>TARGET</th>\n",
       "    </tr>\n",
       "  </thead>\n",
       "  <tbody>\n",
       "    <tr>\n",
       "      <th>0</th>\n",
       "      <td>1.0</td>\n",
       "    </tr>\n",
       "    <tr>\n",
       "      <th>1</th>\n",
       "      <td>1.0</td>\n",
       "    </tr>\n",
       "    <tr>\n",
       "      <th>5</th>\n",
       "      <td>1.0</td>\n",
       "    </tr>\n",
       "    <tr>\n",
       "      <th>7</th>\n",
       "      <td>1.0</td>\n",
       "    </tr>\n",
       "    <tr>\n",
       "      <th>9</th>\n",
       "      <td>1.0</td>\n",
       "    </tr>\n",
       "  </tbody>\n",
       "</table>\n",
       "</div>"
      ],
      "text/plain": [
       "   TARGET\n",
       "0     1.0\n",
       "1     1.0\n",
       "5     1.0\n",
       "7     1.0\n",
       "9     1.0"
      ]
     },
     "execution_count": 303,
     "metadata": {},
     "output_type": "execute_result"
    }
   ],
   "source": [
    "last.iloc[:,47:].head()"
   ]
  },
  {
   "cell_type": "code",
   "execution_count": 304,
   "metadata": {},
   "outputs": [],
   "source": [
    "last['LRD_NETLTV']=last['LAST_RECEIPT_DAY']*last['NET_LTV']\n",
    "last['LRD_LRM']=last['LAST_RECEIPT_DAY']*last['LAST_RECEIPT_MONTH']\n",
    "last['LRD_FOIR']=last['LAST_RECEIPT_DAY']*last['FOIR']\n",
    "last['LTV_LRM']=last['NET_LTV']*last['LAST_RECEIPT_MONTH']\n",
    "last['LTV_LRM']=last['NET_LTV']*last['FOIR']\n",
    "last['FOIR_LRM']=last['LAST_RECEIPT_MONTH']*last['FOIR']"
   ]
  },
  {
   "cell_type": "code",
   "execution_count": 305,
   "metadata": {},
   "outputs": [],
   "source": [
    "last['FORECLOSURE']=last['TARGET']\n",
    "del last['TARGET']"
   ]
  },
  {
   "cell_type": "code",
   "execution_count": 307,
   "metadata": {},
   "outputs": [
    {
     "data": {
      "text/html": [
       "<div>\n",
       "<style scoped>\n",
       "    .dataframe tbody tr th:only-of-type {\n",
       "        vertical-align: middle;\n",
       "    }\n",
       "\n",
       "    .dataframe tbody tr th {\n",
       "        vertical-align: top;\n",
       "    }\n",
       "\n",
       "    .dataframe thead th {\n",
       "        text-align: right;\n",
       "    }\n",
       "</style>\n",
       "<table border=\"1\" class=\"dataframe\">\n",
       "  <thead>\n",
       "    <tr style=\"text-align: right;\">\n",
       "      <th></th>\n",
       "      <th>LOAN_AMT</th>\n",
       "      <th>NET_DISBURSED_AMT</th>\n",
       "      <th>CURRENT_ROI</th>\n",
       "      <th>ORIGNAL_ROI</th>\n",
       "      <th>CURRENT_TENOR</th>\n",
       "      <th>ORIGNAL_TENOR</th>\n",
       "      <th>DUEDAY</th>\n",
       "      <th>CITY</th>\n",
       "      <th>PRE_EMI_DUEAMT</th>\n",
       "      <th>PRE_EMI_RECEIVED_AMT</th>\n",
       "      <th>...</th>\n",
       "      <th>AUTHORIZATION_MONTH</th>\n",
       "      <th>AUTHORIZATION_DAY</th>\n",
       "      <th>LAST_RECEIPT_YEAR</th>\n",
       "      <th>LAST_RECEIPT_MONTH</th>\n",
       "      <th>LAST_RECEIPT_DAY</th>\n",
       "      <th>LRD_NETLTV</th>\n",
       "      <th>LRD_LRM</th>\n",
       "      <th>LRD_FOIR</th>\n",
       "      <th>LTV_LRM</th>\n",
       "      <th>FOIR_LRM</th>\n",
       "    </tr>\n",
       "  </thead>\n",
       "  <tbody>\n",
       "    <tr>\n",
       "      <th>0</th>\n",
       "      <td>11710107.24</td>\n",
       "      <td>11710107.24</td>\n",
       "      <td>13.4</td>\n",
       "      <td>10.6</td>\n",
       "      <td>45.0</td>\n",
       "      <td>120</td>\n",
       "      <td>1</td>\n",
       "      <td>176</td>\n",
       "      <td>7994.273589</td>\n",
       "      <td>7994.273589</td>\n",
       "      <td>...</td>\n",
       "      <td>8</td>\n",
       "      <td>29</td>\n",
       "      <td>2014</td>\n",
       "      <td>5</td>\n",
       "      <td>5</td>\n",
       "      <td>200.30</td>\n",
       "      <td>25</td>\n",
       "      <td>3.00</td>\n",
       "      <td>24.0360</td>\n",
       "      <td>3.00</td>\n",
       "    </tr>\n",
       "    <tr>\n",
       "      <th>1</th>\n",
       "      <td>19290253.32</td>\n",
       "      <td>19290253.32</td>\n",
       "      <td>13.7</td>\n",
       "      <td>10.6</td>\n",
       "      <td>137.0</td>\n",
       "      <td>180</td>\n",
       "      <td>1</td>\n",
       "      <td>176</td>\n",
       "      <td>100504.575900</td>\n",
       "      <td>100504.575900</td>\n",
       "      <td>...</td>\n",
       "      <td>9</td>\n",
       "      <td>15</td>\n",
       "      <td>2013</td>\n",
       "      <td>1</td>\n",
       "      <td>11</td>\n",
       "      <td>927.41</td>\n",
       "      <td>11</td>\n",
       "      <td>6.60</td>\n",
       "      <td>50.5860</td>\n",
       "      <td>0.60</td>\n",
       "    </tr>\n",
       "    <tr>\n",
       "      <th>5</th>\n",
       "      <td>3933395.00</td>\n",
       "      <td>3933395.00</td>\n",
       "      <td>15.6</td>\n",
       "      <td>11.5</td>\n",
       "      <td>312.0</td>\n",
       "      <td>180</td>\n",
       "      <td>5</td>\n",
       "      <td>176</td>\n",
       "      <td>5947.630536</td>\n",
       "      <td>5947.630536</td>\n",
       "      <td>...</td>\n",
       "      <td>2</td>\n",
       "      <td>11</td>\n",
       "      <td>2017</td>\n",
       "      <td>5</td>\n",
       "      <td>8</td>\n",
       "      <td>407.12</td>\n",
       "      <td>40</td>\n",
       "      <td>5.76</td>\n",
       "      <td>36.6408</td>\n",
       "      <td>3.60</td>\n",
       "    </tr>\n",
       "    <tr>\n",
       "      <th>7</th>\n",
       "      <td>10022587.71</td>\n",
       "      <td>10022587.71</td>\n",
       "      <td>11.2</td>\n",
       "      <td>10.6</td>\n",
       "      <td>91.0</td>\n",
       "      <td>180</td>\n",
       "      <td>1</td>\n",
       "      <td>264</td>\n",
       "      <td>60322.180780</td>\n",
       "      <td>60322.180780</td>\n",
       "      <td>...</td>\n",
       "      <td>6</td>\n",
       "      <td>10</td>\n",
       "      <td>2018</td>\n",
       "      <td>2</td>\n",
       "      <td>5</td>\n",
       "      <td>423.15</td>\n",
       "      <td>10</td>\n",
       "      <td>3.00</td>\n",
       "      <td>50.7780</td>\n",
       "      <td>1.20</td>\n",
       "    </tr>\n",
       "    <tr>\n",
       "      <th>9</th>\n",
       "      <td>7755937.31</td>\n",
       "      <td>7755937.31</td>\n",
       "      <td>15.0</td>\n",
       "      <td>10.9</td>\n",
       "      <td>304.0</td>\n",
       "      <td>180</td>\n",
       "      <td>5</td>\n",
       "      <td>176</td>\n",
       "      <td>27732.787460</td>\n",
       "      <td>27732.787460</td>\n",
       "      <td>...</td>\n",
       "      <td>10</td>\n",
       "      <td>26</td>\n",
       "      <td>2018</td>\n",
       "      <td>5</td>\n",
       "      <td>4</td>\n",
       "      <td>123.76</td>\n",
       "      <td>20</td>\n",
       "      <td>3.32</td>\n",
       "      <td>25.6802</td>\n",
       "      <td>4.15</td>\n",
       "    </tr>\n",
       "  </tbody>\n",
       "</table>\n",
       "<p>5 rows × 51 columns</p>\n",
       "</div>"
      ],
      "text/plain": [
       "      LOAN_AMT  NET_DISBURSED_AMT  CURRENT_ROI  ORIGNAL_ROI  CURRENT_TENOR  \\\n",
       "0  11710107.24        11710107.24         13.4         10.6           45.0   \n",
       "1  19290253.32        19290253.32         13.7         10.6          137.0   \n",
       "5   3933395.00         3933395.00         15.6         11.5          312.0   \n",
       "7  10022587.71        10022587.71         11.2         10.6           91.0   \n",
       "9   7755937.31         7755937.31         15.0         10.9          304.0   \n",
       "\n",
       "   ORIGNAL_TENOR  DUEDAY  CITY  PRE_EMI_DUEAMT  PRE_EMI_RECEIVED_AMT  \\\n",
       "0            120       1   176     7994.273589           7994.273589   \n",
       "1            180       1   176   100504.575900         100504.575900   \n",
       "5            180       5   176     5947.630536           5947.630536   \n",
       "7            180       1   264    60322.180780          60322.180780   \n",
       "9            180       5   176    27732.787460          27732.787460   \n",
       "\n",
       "     ...     AUTHORIZATION_MONTH  AUTHORIZATION_DAY  LAST_RECEIPT_YEAR  \\\n",
       "0    ...                       8                 29               2014   \n",
       "1    ...                       9                 15               2013   \n",
       "5    ...                       2                 11               2017   \n",
       "7    ...                       6                 10               2018   \n",
       "9    ...                      10                 26               2018   \n",
       "\n",
       "   LAST_RECEIPT_MONTH  LAST_RECEIPT_DAY  LRD_NETLTV  LRD_LRM  LRD_FOIR  \\\n",
       "0                   5                 5      200.30       25      3.00   \n",
       "1                   1                11      927.41       11      6.60   \n",
       "5                   5                 8      407.12       40      5.76   \n",
       "7                   2                 5      423.15       10      3.00   \n",
       "9                   5                 4      123.76       20      3.32   \n",
       "\n",
       "   LTV_LRM  FOIR_LRM  \n",
       "0  24.0360      3.00  \n",
       "1  50.5860      0.60  \n",
       "5  36.6408      3.60  \n",
       "7  50.7780      1.20  \n",
       "9  25.6802      4.15  \n",
       "\n",
       "[5 rows x 51 columns]"
      ]
     },
     "execution_count": 307,
     "metadata": {},
     "output_type": "execute_result"
    }
   ],
   "source": [
    "last.iloc[:,1:52].head()"
   ]
  },
  {
   "cell_type": "code",
   "execution_count": 308,
   "metadata": {},
   "outputs": [
    {
     "name": "stderr",
     "output_type": "stream",
     "text": [
      "D:\\Users\\Vikas\\Anaconda3\\lib\\site-packages\\sklearn\\preprocessing\\data.py:645: DataConversionWarning: Data with input dtype uint8, int32, int64, float64 were all converted to float64 by StandardScaler.\n",
      "  return self.partial_fit(X, y)\n",
      "D:\\Users\\Vikas\\Anaconda3\\lib\\site-packages\\sklearn\\base.py:464: DataConversionWarning: Data with input dtype uint8, int32, int64, float64 were all converted to float64 by StandardScaler.\n",
      "  return self.fit(X, **fit_params).transform(X)\n"
     ]
    }
   ],
   "source": [
    "from sklearn.preprocessing import StandardScaler\n",
    "scaler = StandardScaler()\n",
    "last=scaler.fit_transform(last.iloc[:,1:52])"
   ]
  },
  {
   "cell_type": "code",
   "execution_count": 311,
   "metadata": {},
   "outputs": [
    {
     "data": {
      "text/plain": [
       "(20012, 51)"
      ]
     },
     "execution_count": 311,
     "metadata": {},
     "output_type": "execute_result"
    }
   ],
   "source": [
    "pd.DataFrame(last).shape"
   ]
  },
  {
   "cell_type": "code",
   "execution_count": 313,
   "metadata": {},
   "outputs": [],
   "source": [
    "X_trainl, X_testl, y_trainl, y_testl = train_test_split(last,train_wc.iloc[:,47:], test_size=0.33, random_state=28)"
   ]
  },
  {
   "cell_type": "code",
   "execution_count": 314,
   "metadata": {},
   "outputs": [
    {
     "data": {
      "text/html": [
       "<div>\n",
       "<style scoped>\n",
       "    .dataframe tbody tr th:only-of-type {\n",
       "        vertical-align: middle;\n",
       "    }\n",
       "\n",
       "    .dataframe tbody tr th {\n",
       "        vertical-align: top;\n",
       "    }\n",
       "\n",
       "    .dataframe thead th {\n",
       "        text-align: right;\n",
       "    }\n",
       "</style>\n",
       "<table border=\"1\" class=\"dataframe\">\n",
       "  <thead>\n",
       "    <tr style=\"text-align: right;\">\n",
       "      <th></th>\n",
       "      <th>TARGET</th>\n",
       "    </tr>\n",
       "  </thead>\n",
       "  <tbody>\n",
       "    <tr>\n",
       "      <th>21110</th>\n",
       "      <td>0.0</td>\n",
       "    </tr>\n",
       "    <tr>\n",
       "      <th>3663</th>\n",
       "      <td>0.0</td>\n",
       "    </tr>\n",
       "    <tr>\n",
       "      <th>11338</th>\n",
       "      <td>1.0</td>\n",
       "    </tr>\n",
       "    <tr>\n",
       "      <th>8923</th>\n",
       "      <td>0.0</td>\n",
       "    </tr>\n",
       "    <tr>\n",
       "      <th>13738</th>\n",
       "      <td>0.0</td>\n",
       "    </tr>\n",
       "  </tbody>\n",
       "</table>\n",
       "</div>"
      ],
      "text/plain": [
       "       TARGET\n",
       "21110     0.0\n",
       "3663      0.0\n",
       "11338     1.0\n",
       "8923      0.0\n",
       "13738     0.0"
      ]
     },
     "execution_count": 314,
     "metadata": {},
     "output_type": "execute_result"
    }
   ],
   "source": [
    "y_trainl.head()"
   ]
  },
  {
   "cell_type": "code",
   "execution_count": 315,
   "metadata": {},
   "outputs": [
    {
     "name": "stderr",
     "output_type": "stream",
     "text": [
      "D:\\Users\\Vikas\\Anaconda3\\lib\\site-packages\\xgboost\\sklearn.py:229: DeprecationWarning: The seed parameter is deprecated as of version .6.Please use random_state instead.seed is deprecated.\n",
      "  'seed is deprecated.', DeprecationWarning)\n",
      "D:\\Users\\Vikas\\Anaconda3\\lib\\site-packages\\xgboost\\sklearn.py:236: DeprecationWarning: The nthread parameter is deprecated as of version .6.Please use n_jobs instead.nthread is deprecated.\n",
      "  'nthread is deprecated.', DeprecationWarning)\n",
      "D:\\Users\\Vikas\\Anaconda3\\lib\\site-packages\\sklearn\\preprocessing\\label.py:219: DataConversionWarning: A column-vector y was passed when a 1d array was expected. Please change the shape of y to (n_samples, ), for example using ravel().\n",
      "  y = column_or_1d(y, warn=True)\n",
      "D:\\Users\\Vikas\\Anaconda3\\lib\\site-packages\\sklearn\\preprocessing\\label.py:252: DataConversionWarning: A column-vector y was passed when a 1d array was expected. Please change the shape of y to (n_samples, ), for example using ravel().\n",
      "  y = column_or_1d(y, warn=True)\n"
     ]
    },
    {
     "name": "stdout",
     "output_type": "stream",
     "text": [
      "Last Model 0.9913688673531194\n"
     ]
    }
   ],
   "source": [
    "lastmodel = XGBClassifier(learning_rate =0.01,n_estimators=5000,max_depth=3,min_child_weight=1,gamma=0.3,subsample=0.85,colsample_bytree=0.85,reg_alpha=0.44,objective= 'binary:logistic',nthread=4,scale_pos_weight=1,seed=27)\n",
    "lastmodel.fit(X_trainl,y_trainl)\n",
    "lastpred=lastmodel.predict(X_testl)\n",
    "print(\"Last Model\",accuracy_score(y_testl, lastpred))"
   ]
  },
  {
   "cell_type": "code",
   "execution_count": 317,
   "metadata": {},
   "outputs": [],
   "source": [
    "lasttest=test_wc.copy()"
   ]
  },
  {
   "cell_type": "code",
   "execution_count": 318,
   "metadata": {},
   "outputs": [],
   "source": [
    "lasttest['LRD_NETLTV']=lasttest['LAST_RECEIPT_DAY']*lasttest['NET_LTV']\n",
    "lasttest['LRD_LRM']=lasttest['LAST_RECEIPT_DAY']*lasttest['LAST_RECEIPT_MONTH']\n",
    "lasttest['LRD_FOIR']=lasttest['LAST_RECEIPT_DAY']*lasttest['FOIR']\n",
    "lasttest['LTV_LRM']=lasttest['NET_LTV']*lasttest['LAST_RECEIPT_MONTH']\n",
    "lasttest['LTV_LRM']=lasttest['NET_LTV']*lasttest['FOIR']\n",
    "lasttest['FOIR_LRM']=lasttest['LAST_RECEIPT_MONTH']*lasttest['FOIR']"
   ]
  },
  {
   "cell_type": "code",
   "execution_count": 319,
   "metadata": {},
   "outputs": [
    {
     "data": {
      "text/plain": [
       "(13342, 52)"
      ]
     },
     "execution_count": 319,
     "metadata": {},
     "output_type": "execute_result"
    }
   ],
   "source": [
    "lasttest.shape"
   ]
  },
  {
   "cell_type": "code",
   "execution_count": 320,
   "metadata": {},
   "outputs": [
    {
     "name": "stderr",
     "output_type": "stream",
     "text": [
      "D:\\Users\\Vikas\\Anaconda3\\lib\\site-packages\\sklearn\\preprocessing\\data.py:645: DataConversionWarning: Data with input dtype uint8, int32, int64, float64 were all converted to float64 by StandardScaler.\n",
      "  return self.partial_fit(X, y)\n",
      "D:\\Users\\Vikas\\Anaconda3\\lib\\site-packages\\sklearn\\base.py:464: DataConversionWarning: Data with input dtype uint8, int32, int64, float64 were all converted to float64 by StandardScaler.\n",
      "  return self.fit(X, **fit_params).transform(X)\n"
     ]
    }
   ],
   "source": [
    "from sklearn.preprocessing import StandardScaler\n",
    "scalertest = StandardScaler()\n",
    "lasttest=scalertest.fit_transform(lasttest.iloc[:,1:52])"
   ]
  },
  {
   "cell_type": "code",
   "execution_count": 321,
   "metadata": {},
   "outputs": [],
   "source": [
    "lastpred=lastmodel.predict_proba(lasttest)"
   ]
  },
  {
   "cell_type": "code",
   "execution_count": 323,
   "metadata": {},
   "outputs": [],
   "source": [
    "pd.DataFrame(lastpred[:,1]).to_csv(\"submission24.csv\")"
   ]
  },
  {
   "cell_type": "code",
   "execution_count": 316,
   "metadata": {},
   "outputs": [
    {
     "data": {
      "image/png": "[encoded data removed]",
      "text/plain": [
       "<Figure size 432x288 with 1 Axes>"
      ]
     },
     "metadata": {},
     "output_type": "display_data"
    }
   ],
   "source": [
    "plot_importance(lastmodel,max_num_features=10)\n",
    "plt.show()"
   ]
  },
  {
   "cell_type": "code",
   "execution_count": null,
   "metadata": {},
   "outputs": [],
   "source": [
    "\n"
   ]
  },
  {
   "cell_type": "markdown",
   "metadata": {},
   "source": [
    "# Ensembling"
   ]
  },
  {
   "cell_type": "code",
   "execution_count": 237,
   "metadata": {},
   "outputs": [],
   "source": [
    "#Stacking\n",
    "def Stacking(model,train,y,test,n_fold):\n",
    "    folds=StratifiedKFold(n_splits=n_fold,random_state=1)\n",
    "    test_pred=np.empty((test.shape[0],1),float)\n",
    "    train_pred=np.empty((0,1),float)\n",
    "    for train_indices,val_indices in folds.split(train,y.values):\n",
    "        x_train,x_val=train.iloc[train_indices],train.iloc[val_indices]\n",
    "        y_train,y_val=y.iloc[train_indices],y.iloc[val_indices]\n",
    "        model.fit(X=x_train,y=y_train)\n",
    "        train_pred=np.append(train_pred,model.predict(x_val))\n",
    "        test_pred=np.append(test_pred,model.predict(test))\n",
    "    return test_pred.reshape(-1,1),train_pred"
   ]
  },
  {
   "cell_type": "code",
   "execution_count": 238,
   "metadata": {},
   "outputs": [],
   "source": [
    "from sklearn.model_selection import StratifiedKFold\n",
    "model1 = tree.DecisionTreeClassifier(random_state=1)\n",
    "\n",
    "test_pred1 ,train_pred1=Stacking(model=model1,n_fold=10, train=X_train,test=X_test,y=y_train)\n",
    "\n",
    "train_pred1=pd.DataFrame(train_pred1)\n",
    "test_pred1=pd.DataFrame(test_pred1)"
   ]
  },
  {
   "cell_type": "code",
   "execution_count": 239,
   "metadata": {},
   "outputs": [
    {
     "name": "stderr",
     "output_type": "stream",
     "text": [
      "D:\\Users\\Vikas\\Anaconda3\\lib\\site-packages\\ipykernel_launcher.py:9: DataConversionWarning: A column-vector y was passed when a 1d array was expected. Please change the shape of y to (n_samples, ), for example using ravel().\n",
      "  if __name__ == '__main__':\n",
      "D:\\Users\\Vikas\\Anaconda3\\lib\\site-packages\\ipykernel_launcher.py:9: DataConversionWarning: A column-vector y was passed when a 1d array was expected. Please change the shape of y to (n_samples, ), for example using ravel().\n",
      "  if __name__ == '__main__':\n",
      "D:\\Users\\Vikas\\Anaconda3\\lib\\site-packages\\ipykernel_launcher.py:9: DataConversionWarning: A column-vector y was passed when a 1d array was expected. Please change the shape of y to (n_samples, ), for example using ravel().\n",
      "  if __name__ == '__main__':\n",
      "D:\\Users\\Vikas\\Anaconda3\\lib\\site-packages\\ipykernel_launcher.py:9: DataConversionWarning: A column-vector y was passed when a 1d array was expected. Please change the shape of y to (n_samples, ), for example using ravel().\n",
      "  if __name__ == '__main__':\n",
      "D:\\Users\\Vikas\\Anaconda3\\lib\\site-packages\\ipykernel_launcher.py:9: DataConversionWarning: A column-vector y was passed when a 1d array was expected. Please change the shape of y to (n_samples, ), for example using ravel().\n",
      "  if __name__ == '__main__':\n",
      "D:\\Users\\Vikas\\Anaconda3\\lib\\site-packages\\ipykernel_launcher.py:9: DataConversionWarning: A column-vector y was passed when a 1d array was expected. Please change the shape of y to (n_samples, ), for example using ravel().\n",
      "  if __name__ == '__main__':\n",
      "D:\\Users\\Vikas\\Anaconda3\\lib\\site-packages\\ipykernel_launcher.py:9: DataConversionWarning: A column-vector y was passed when a 1d array was expected. Please change the shape of y to (n_samples, ), for example using ravel().\n",
      "  if __name__ == '__main__':\n",
      "D:\\Users\\Vikas\\Anaconda3\\lib\\site-packages\\ipykernel_launcher.py:9: DataConversionWarning: A column-vector y was passed when a 1d array was expected. Please change the shape of y to (n_samples, ), for example using ravel().\n",
      "  if __name__ == '__main__':\n",
      "D:\\Users\\Vikas\\Anaconda3\\lib\\site-packages\\ipykernel_launcher.py:9: DataConversionWarning: A column-vector y was passed when a 1d array was expected. Please change the shape of y to (n_samples, ), for example using ravel().\n",
      "  if __name__ == '__main__':\n",
      "D:\\Users\\Vikas\\Anaconda3\\lib\\site-packages\\ipykernel_launcher.py:9: DataConversionWarning: A column-vector y was passed when a 1d array was expected. Please change the shape of y to (n_samples, ), for example using ravel().\n",
      "  if __name__ == '__main__':\n"
     ]
    }
   ],
   "source": [
    "model2 = KNeighborsClassifier()\n",
    "\n",
    "test_pred2 ,train_pred2=Stacking(model=model2,n_fold=10,train=X_train,test=X_test,y=y_train)\n",
    "\n",
    "train_pred2=pd.DataFrame(train_pred2)\n",
    "test_pred2=pd.DataFrame(test_pred2)"
   ]
  },
  {
   "cell_type": "code",
   "execution_count": 240,
   "metadata": {},
   "outputs": [
    {
     "name": "stdout",
     "output_type": "stream",
     "text": [
      "(13408, 1)\n",
      "(13408, 1)\n",
      "(72644, 1)\n",
      "(72644, 1)\n"
     ]
    }
   ],
   "source": [
    "print(train_pred1.shape)\n",
    "print(train_pred2.shape)\n",
    "print(test_pred1.shape)\n",
    "print(test_pred2.shape)"
   ]
  },
  {
   "cell_type": "code",
   "execution_count": 241,
   "metadata": {},
   "outputs": [
    {
     "name": "stderr",
     "output_type": "stream",
     "text": [
      "D:\\Users\\Vikas\\Anaconda3\\lib\\site-packages\\sklearn\\utils\\validation.py:761: DataConversionWarning: A column-vector y was passed when a 1d array was expected. Please change the shape of y to (n_samples, ), for example using ravel().\n",
      "  y = column_or_1d(y, warn=True)\n"
     ]
    },
    {
     "ename": "ValueError",
     "evalue": "Found input variables with inconsistent numbers of samples: [6604, 72644]",
     "output_type": "error",
     "traceback": [
      "\u001b[1;31m---------------------------------------------------------------------------\u001b[0m",
      "\u001b[1;31mValueError\u001b[0m                                Traceback (most recent call last)",
      "\u001b[1;32m<ipython-input-241-38e47929adcf>\u001b[0m in \u001b[0;36m<module>\u001b[1;34m()\u001b[0m\n\u001b[0;32m      4\u001b[0m \u001b[0mmodel\u001b[0m \u001b[1;33m=\u001b[0m \u001b[0mLogisticRegression\u001b[0m\u001b[1;33m(\u001b[0m\u001b[0mrandom_state\u001b[0m\u001b[1;33m=\u001b[0m\u001b[1;36m1\u001b[0m\u001b[1;33m)\u001b[0m\u001b[1;33m\u001b[0m\u001b[0m\n\u001b[0;32m      5\u001b[0m \u001b[0mmodel\u001b[0m\u001b[1;33m.\u001b[0m\u001b[0mfit\u001b[0m\u001b[1;33m(\u001b[0m\u001b[0mdf\u001b[0m\u001b[1;33m,\u001b[0m\u001b[0my_train\u001b[0m\u001b[1;33m)\u001b[0m\u001b[1;33m\u001b[0m\u001b[0m\n\u001b[1;32m----> 6\u001b[1;33m \u001b[0mmodel\u001b[0m\u001b[1;33m.\u001b[0m\u001b[0mscore\u001b[0m\u001b[1;33m(\u001b[0m\u001b[0mdf_test\u001b[0m\u001b[1;33m,\u001b[0m \u001b[0my_test\u001b[0m\u001b[1;33m)\u001b[0m\u001b[1;33m\u001b[0m\u001b[0m\n\u001b[0m",
      "\u001b[1;32mD:\\Users\\Vikas\\Anaconda3\\lib\\site-packages\\sklearn\\base.py\u001b[0m in \u001b[0;36mscore\u001b[1;34m(self, X, y, sample_weight)\u001b[0m\n\u001b[0;32m    288\u001b[0m         \"\"\"\n\u001b[0;32m    289\u001b[0m         \u001b[1;32mfrom\u001b[0m \u001b[1;33m.\u001b[0m\u001b[0mmetrics\u001b[0m \u001b[1;32mimport\u001b[0m \u001b[0maccuracy_score\u001b[0m\u001b[1;33m\u001b[0m\u001b[0m\n\u001b[1;32m--> 290\u001b[1;33m         \u001b[1;32mreturn\u001b[0m \u001b[0maccuracy_score\u001b[0m\u001b[1;33m(\u001b[0m\u001b[0my\u001b[0m\u001b[1;33m,\u001b[0m \u001b[0mself\u001b[0m\u001b[1;33m.\u001b[0m\u001b[0mpredict\u001b[0m\u001b[1;33m(\u001b[0m\u001b[0mX\u001b[0m\u001b[1;33m)\u001b[0m\u001b[1;33m,\u001b[0m \u001b[0msample_weight\u001b[0m\u001b[1;33m=\u001b[0m\u001b[0msample_weight\u001b[0m\u001b[1;33m)\u001b[0m\u001b[1;33m\u001b[0m\u001b[0m\n\u001b[0m\u001b[0;32m    291\u001b[0m \u001b[1;33m\u001b[0m\u001b[0m\n\u001b[0;32m    292\u001b[0m \u001b[1;33m\u001b[0m\u001b[0m\n",
      "\u001b[1;32mD:\\Users\\Vikas\\Anaconda3\\lib\\site-packages\\sklearn\\metrics\\classification.py\u001b[0m in \u001b[0;36maccuracy_score\u001b[1;34m(y_true, y_pred, normalize, sample_weight)\u001b[0m\n\u001b[0;32m    174\u001b[0m \u001b[1;33m\u001b[0m\u001b[0m\n\u001b[0;32m    175\u001b[0m     \u001b[1;31m# Compute accuracy for each possible representation\u001b[0m\u001b[1;33m\u001b[0m\u001b[1;33m\u001b[0m\u001b[0m\n\u001b[1;32m--> 176\u001b[1;33m     \u001b[0my_type\u001b[0m\u001b[1;33m,\u001b[0m \u001b[0my_true\u001b[0m\u001b[1;33m,\u001b[0m \u001b[0my_pred\u001b[0m \u001b[1;33m=\u001b[0m \u001b[0m_check_targets\u001b[0m\u001b[1;33m(\u001b[0m\u001b[0my_true\u001b[0m\u001b[1;33m,\u001b[0m \u001b[0my_pred\u001b[0m\u001b[1;33m)\u001b[0m\u001b[1;33m\u001b[0m\u001b[0m\n\u001b[0m\u001b[0;32m    177\u001b[0m     \u001b[0mcheck_consistent_length\u001b[0m\u001b[1;33m(\u001b[0m\u001b[0my_true\u001b[0m\u001b[1;33m,\u001b[0m \u001b[0my_pred\u001b[0m\u001b[1;33m,\u001b[0m \u001b[0msample_weight\u001b[0m\u001b[1;33m)\u001b[0m\u001b[1;33m\u001b[0m\u001b[0m\n\u001b[0;32m    178\u001b[0m     \u001b[1;32mif\u001b[0m \u001b[0my_type\u001b[0m\u001b[1;33m.\u001b[0m\u001b[0mstartswith\u001b[0m\u001b[1;33m(\u001b[0m\u001b[1;34m'multilabel'\u001b[0m\u001b[1;33m)\u001b[0m\u001b[1;33m:\u001b[0m\u001b[1;33m\u001b[0m\u001b[0m\n",
      "\u001b[1;32mD:\\Users\\Vikas\\Anaconda3\\lib\\site-packages\\sklearn\\metrics\\classification.py\u001b[0m in \u001b[0;36m_check_targets\u001b[1;34m(y_true, y_pred)\u001b[0m\n\u001b[0;32m     69\u001b[0m     \u001b[0my_pred\u001b[0m \u001b[1;33m:\u001b[0m \u001b[0marray\u001b[0m \u001b[1;32mor\u001b[0m \u001b[0mindicator\u001b[0m \u001b[0mmatrix\u001b[0m\u001b[1;33m\u001b[0m\u001b[0m\n\u001b[0;32m     70\u001b[0m     \"\"\"\n\u001b[1;32m---> 71\u001b[1;33m     \u001b[0mcheck_consistent_length\u001b[0m\u001b[1;33m(\u001b[0m\u001b[0my_true\u001b[0m\u001b[1;33m,\u001b[0m \u001b[0my_pred\u001b[0m\u001b[1;33m)\u001b[0m\u001b[1;33m\u001b[0m\u001b[0m\n\u001b[0m\u001b[0;32m     72\u001b[0m     \u001b[0mtype_true\u001b[0m \u001b[1;33m=\u001b[0m \u001b[0mtype_of_target\u001b[0m\u001b[1;33m(\u001b[0m\u001b[0my_true\u001b[0m\u001b[1;33m)\u001b[0m\u001b[1;33m\u001b[0m\u001b[0m\n\u001b[0;32m     73\u001b[0m     \u001b[0mtype_pred\u001b[0m \u001b[1;33m=\u001b[0m \u001b[0mtype_of_target\u001b[0m\u001b[1;33m(\u001b[0m\u001b[0my_pred\u001b[0m\u001b[1;33m)\u001b[0m\u001b[1;33m\u001b[0m\u001b[0m\n",
      "\u001b[1;32mD:\\Users\\Vikas\\Anaconda3\\lib\\site-packages\\sklearn\\utils\\validation.py\u001b[0m in \u001b[0;36mcheck_consistent_length\u001b[1;34m(*arrays)\u001b[0m\n\u001b[0;32m    233\u001b[0m     \u001b[1;32mif\u001b[0m \u001b[0mlen\u001b[0m\u001b[1;33m(\u001b[0m\u001b[0muniques\u001b[0m\u001b[1;33m)\u001b[0m \u001b[1;33m>\u001b[0m \u001b[1;36m1\u001b[0m\u001b[1;33m:\u001b[0m\u001b[1;33m\u001b[0m\u001b[0m\n\u001b[0;32m    234\u001b[0m         raise ValueError(\"Found input variables with inconsistent numbers of\"\n\u001b[1;32m--> 235\u001b[1;33m                          \" samples: %r\" % [int(l) for l in lengths])\n\u001b[0m\u001b[0;32m    236\u001b[0m \u001b[1;33m\u001b[0m\u001b[0m\n\u001b[0;32m    237\u001b[0m \u001b[1;33m\u001b[0m\u001b[0m\n",
      "\u001b[1;31mValueError\u001b[0m: Found input variables with inconsistent numbers of samples: [6604, 72644]"
     ]
    }
   ],
   "source": [
    "df = pd.concat([train_pred1, train_pred2], axis=1)\n",
    "df_test = pd.concat([test_pred1, test_pred2], axis=1)\n",
    "\n",
    "model = LogisticRegression(random_state=1)\n",
    "model.fit(df,y_train)\n",
    "model.score(df_test, y_test)"
   ]
  }
 ],
 "metadata": {
  "kernelspec": {
   "display_name": "Python 3",
   "language": "python",
   "name": "python3"
  },
  "language_info": {
   "codemirror_mode": {
    "name": "ipython",
    "version": 3
   },
   "file_extension": ".py",
   "mimetype": "text/x-python",
   "name": "python",
   "nbconvert_exporter": "python",
   "pygments_lexer": "ipython3",
   "version": "3.6.8"
  }
 },
 "nbformat": 4,
 "nbformat_minor": 2
}
